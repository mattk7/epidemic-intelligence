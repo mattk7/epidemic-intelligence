{
 "cells": [
  {
   "cell_type": "code",
   "execution_count": 5,
   "id": "ca69a436-f283-49ce-a1a9-bac24398bf08",
   "metadata": {},
   "outputs": [],
   "source": [
    "from google.cloud import bigquery\n",
    "import pandas as pd\n",
    "from google.oauth2 import service_account\n",
    "from tqdm.notebook import tqdm"
   ]
  },
  {
   "cell_type": "code",
   "execution_count": 6,
   "id": "981971d6-44a4-4d69-a1e5-10c1cbc92f6f",
   "metadata": {},
   "outputs": [],
   "source": [
    "credentials = service_account.Credentials.from_service_account_file('C:\\\\Users\\\\elija\\\\Documents\\\\24f-coop\\\\credentials.json')\n",
    "project = 'net-data-viz-handbook'\n",
    "# Initialize a GCS client\n",
    "client = bigquery.Client(credentials=credentials, project=project)"
   ]
  },
  {
   "cell_type": "code",
   "execution_count": 7,
   "id": "e533ce7f-46e0-404a-bec1-6bc4c2b8c66d",
   "metadata": {},
   "outputs": [],
   "source": [
    "def execute(client, query):\n",
    "    # Execute query\n",
    "    query_job = client.query(query)\n",
    "\n",
    "    # Convert result to a Pandas DataFrame\n",
    "    result_df = query_job.result().to_dataframe()\n",
    "\n",
    "    return result_df"
   ]
  },
  {
   "cell_type": "markdown",
   "id": "2fc0e602-4334-4f6c-b45a-7864df59a451",
   "metadata": {},
   "source": [
    "## Simplifying a multi-run table"
   ]
  },
  {
   "cell_type": "code",
   "execution_count": 8,
   "id": "a6d190d8-2300-4a7b-a0d7-98c87283cc0a",
   "metadata": {},
   "outputs": [],
   "source": [
    "table_name = 'importation_data.h1n1_proper' # str, name of bigquery table\n",
    "destination = 'importation_data.h1n1_proper_simple' # str, name of place where simplified table will be stored\n",
    "\n",
    "method = 'mbd' # mbd, directional, or ftvariance\n",
    "\n",
    "source_column = 'source_basin' # str, name of col holding source ids\n",
    "target_column = 'target_basin' # str, name of col holding target ids\n",
    "value_column = 'importations' # str, name of col holding values\n",
    "compartment_column = 'compartment' # str, name of col holding compartment information"
   ]
  },
  {
   "cell_type": "code",
   "execution_count": 9,
   "id": "d693c43d-7253-4712-893d-fa4172ae1a54",
   "metadata": {},
   "outputs": [],
   "source": [
    "directional = f\"\"\"WITH run_direction AS (\n",
    "    SELECT\n",
    "        run_id,\n",
    "        date,\n",
    "        {value_column},\n",
    "        CASE\n",
    "            WHEN {value_column} > LAG({value_column}) OVER(PARTITION BY run_id, {source_column}, {target_column}, {compartment_column} ORDER BY date) THEN 1\n",
    "            WHEN {value_column} < LAG({value_column}) OVER(PARTITION BY run_id, {source_column}, {target_column}, {compartment_column} ORDER BY date) THEN -1\n",
    "            ELSE 0\n",
    "        END AS direction\n",
    "    FROM\n",
    "        `{table_name}`\n",
    "), median_run_id AS (\n",
    "    SELECT\n",
    "        run_id,\n",
    "        VARIANCE(direction) AS direction_variance\n",
    "    FROM run_direction\n",
    "    WHERE previous_value IS NOT NULL\n",
    "    GROUP BY run_id\n",
    "    ORDER BY direction_variance ASC\n",
    "    LIMIT 1\n",
    "    )\n",
    "        \"\"\""
   ]
  },
  {
   "cell_type": "code",
   "execution_count": 62,
   "id": "eddbc5c5-9375-4693-8bd2-8729370bdc9f",
   "metadata": {},
   "outputs": [],
   "source": [
    "mbd = f\"\"\"\n",
    "WITH cume_dist AS (\n",
    "    SELECT \n",
    "        run_id, \n",
    "        date,\n",
    "        CUME_DIST() OVER(PARTITION BY date, {source_column}, {target_column}, {compartment_column} ORDER BY {value_column} ASC) AS rank_asc,\n",
    "        CUME_DIST() OVER(PARTITION BY date, {source_column}, {target_column}, {compartment_column} ORDER BY {value_column} DESC) AS  rank_desc\n",
    "    FROM `{table_name}`\n",
    "), median_run_id AS (\n",
    "    SELECT\n",
    "        run_id,\n",
    "        SUM(rank_asc) * SUM(rank_desc) as mbd\n",
    "    FROM cume_dist\n",
    "    GROUP BY run_id\n",
    "    ORDER BY mbd DESC\n",
    "    LIMIT 1\n",
    ")\n",
    "\"\"\""
   ]
  },
  {
   "cell_type": "code",
   "execution_count": 61,
   "id": "f659a632-4acb-4747-b5d3-270c987c88f2",
   "metadata": {},
   "outputs": [
    {
     "data": {
      "text/plain": [
       "'\\nWITH cume_dist AS (\\n    SELECT DISTINCT \\n        run_id, \\n        date,\\n        CUME_DIST() OVER(PARTITION BY date ORDER BY importations ASC) AS rank_asc,\\n        CUME_DIST() OVER(PARTITION BY date ORDER BY importations DESC) AS  rank_desc\\n    FROM `importation_data.h1n1_proper_simple_agg`\\n), median_run_id AS (\\n    SELECT\\n        run_id,\\n        SUM(rank_asc) * SUM(rank_desc) as mbd\\n    FROM cume_dist\\n    GROUP BY run_id\\n    ORDER BY mbd DESC\\n    LIMIT 1\\n)\\n'"
      ]
     },
     "execution_count": 61,
     "metadata": {},
     "output_type": "execute_result"
    }
   ],
   "source": [
    "mbd"
   ]
  },
  {
   "cell_type": "code",
   "execution_count": 11,
   "id": "b8758bcd-7cab-4bf8-9ab4-5ae7ad1efd18",
   "metadata": {},
   "outputs": [],
   "source": [
    "ftvariance = f\"\"\"WITH run_variability AS (\n",
    "    SELECT\n",
    "        run_id,\n",
    "        VARIANCE({value_column}) AS run_variance\n",
    "    FROM\n",
    "        `{table_name}`\n",
    "    GROUP BY\n",
    "        run_id\n",
    "), median_run_id AS (\n",
    "    SELECT\n",
    "        run_id,\n",
    "        run_variance\n",
    "    FROM\n",
    "        run_variability\n",
    "    ORDER BY\n",
    "        run_variance ASC\n",
    "    LIMIT 1 )\n",
    "        \"\"\""
   ]
  },
  {
   "cell_type": "code",
   "execution_count": 12,
   "id": "5d694f69-64d4-4202-ad4a-e00e69130a32",
   "metadata": {},
   "outputs": [],
   "source": [
    "medians = {'ftvariance': ftvariance, 'mbd': mbd, 'directional':directional}"
   ]
  },
  {
   "cell_type": "code",
   "execution_count": 13,
   "id": "9d40a795-e6ce-4daa-89c0-69daca1342f3",
   "metadata": {},
   "outputs": [],
   "source": [
    "cent_query = f\"\"\"\n",
    "CREATE OR REPLACE TABLE `{destination}` AS\n",
    "{medians[method]}\n",
    "SELECT \n",
    "    run_id,\n",
    "    {source_column},\n",
    "    {target_column}, \n",
    "    compartment, \n",
    "    {value_column}, \n",
    "    date\n",
    "FROM\n",
    "    `{table_name}`\n",
    "WHERE\n",
    "    run_id = (SELECT run_id FROM median_run_id);\n",
    "\"\"\""
   ]
  },
  {
   "cell_type": "code",
   "execution_count": 14,
   "id": "7d57bd3c-241b-4edb-b07d-ff036e5ec994",
   "metadata": {},
   "outputs": [
    {
     "data": {
      "text/plain": [
       "'\\nCREATE OR REPLACE TABLE `importation_data.h1n1_proper_simple` AS\\n\\nWITH cume_dist AS (\\n    SELECT DISTINCT \\n        run_id, \\n        date,\\n        CUME_DIST() OVER(PARTITION BY date ORDER BY importations ASC) AS rank_asc,\\n        CUME_DIST() OVER(PARTITION BY date ORDER BY importations DESC) AS  rank_desc\\n    FROM `importation_data.h1n1_proper`\\n), median_run_id AS (\\n    SELECT\\n        run_id,\\n        SUM(rank_asc) * SUM(rank_desc) as mbd\\n    FROM cume_dist\\n    GROUP BY run_id\\n    ORDER BY mbd DESC\\n    LIMIT 1\\n)\\n\\nSELECT \\n    run_id,\\n    source_basin,\\n    target_basin, \\n    compartment, \\n    importations, \\n    date\\nFROM\\n    `importation_data.h1n1_proper`\\nWHERE\\n    run_id = (SELECT run_id FROM median_run_id);\\n'"
      ]
     },
     "execution_count": 14,
     "metadata": {},
     "output_type": "execute_result"
    }
   ],
   "source": [
    "cent_query"
   ]
  },
  {
   "cell_type": "code",
   "execution_count": 15,
   "id": "7b0d970f-cbde-456e-9191-300de858918f",
   "metadata": {},
   "outputs": [
    {
     "data": {
      "text/html": [
       "<div>\n",
       "<style scoped>\n",
       "    .dataframe tbody tr th:only-of-type {\n",
       "        vertical-align: middle;\n",
       "    }\n",
       "\n",
       "    .dataframe tbody tr th {\n",
       "        vertical-align: top;\n",
       "    }\n",
       "\n",
       "    .dataframe thead th {\n",
       "        text-align: right;\n",
       "    }\n",
       "</style>\n",
       "<table border=\"1\" class=\"dataframe\">\n",
       "  <thead>\n",
       "    <tr style=\"text-align: right;\">\n",
       "      <th></th>\n",
       "    </tr>\n",
       "  </thead>\n",
       "  <tbody>\n",
       "  </tbody>\n",
       "</table>\n",
       "</div>"
      ],
      "text/plain": [
       "Empty DataFrame\n",
       "Columns: []\n",
       "Index: []"
      ]
     },
     "execution_count": 15,
     "metadata": {},
     "output_type": "execute_result"
    }
   ],
   "source": [
    "# create and save simplified table\n",
    "execute(client, cent_query)"
   ]
  },
  {
   "cell_type": "code",
   "execution_count": null,
   "id": "ad36a6d6-df23-4fd1-84ee-02098fcf30cd",
   "metadata": {},
   "outputs": [],
   "source": []
  },
  {
   "cell_type": "code",
   "execution_count": 16,
   "id": "62bbac88-c406-4114-8e68-0249cc8d39ff",
   "metadata": {},
   "outputs": [],
   "source": [
    "mean_query = f\"\"\"\n",
    "CREATE OR REPLACE TABLE `{destination}` AS \n",
    "SELECT \n",
    "    {source_column},\n",
    "    {target_column}, \n",
    "    {compartment_column}, \n",
    "    AVG({value_column}) AS {value_column}, \n",
    "    date\n",
    "FROM\n",
    "    `{table_name}`\n",
    "GROUP BY run_id, \n",
    "    {source_column},\n",
    "    {target_column}, \n",
    "    {compartment_column},\n",
    "    date\n",
    "\"\"\""
   ]
  },
  {
   "cell_type": "code",
   "execution_count": 20,
   "id": "8daf5c71-f54b-489d-a83b-0c75f1f63036",
   "metadata": {},
   "outputs": [],
   "source": [
    "median_query = f\"\"\"\n",
    "CREATE OR REPLACE TABLE `{destination}` AS\n",
    "SELECT \n",
    "    {source_column},\n",
    "    {target_column}, \n",
    "    {compartment_column}, \n",
    "    PERCENTILE_CONT({value_column}, 0.5) OVER (PARTITION BY {source_column}, {target_column}, {compartment_column}, date) AS {value_column}, \n",
    "    date\n",
    "FROM\n",
    "    `{table_name}`\n",
    "\"\"\""
   ]
  },
  {
   "cell_type": "code",
   "execution_count": 22,
   "id": "5841adce-75c3-4ca1-8491-9e2eac0841d8",
   "metadata": {
    "scrolled": true
   },
   "outputs": [],
   "source": [
    "df = execute(client, median_query)"
   ]
  },
  {
   "cell_type": "markdown",
   "id": "ba75d30c-a812-4be7-b20e-2d9ab4da1c22",
   "metadata": {},
   "source": [
    "## Aggregating a single run table by compartment, date"
   ]
  },
  {
   "cell_type": "code",
   "execution_count": null,
   "id": "4ae5f1fd-6e30-4b4b-843a-c181b7624aef",
   "metadata": {},
   "outputs": [],
   "source": [
    "def build_geographic_filter(geo_level: str, geo_values, alias: str = \"g_target\") -> str:\n",
    "    \"\"\"Builds a geographic filter based on the provided level and values.\"\"\"\n",
    "    if geo_values is not None:  # Only filter if geo_values is provided\n",
    "        if isinstance(geo_values, list):\n",
    "            if isinstance(geo_values[0], int):\n",
    "                values = ', '.join(str(val) for val in geo_values)  # For INT64\n",
    "                return f\"{alias}.{geo_level} IN ({values})\"\n",
    "            elif isinstance(geo_values[0], str):\n",
    "                values = ', '.join(f\"'{val}'\" for val in geo_values)  # For STRING\n",
    "                return f\"{alias}.{geo_level} IN ({values})\"\n",
    "        else:\n",
    "            if isinstance(geo_values, int):\n",
    "                return f\"{alias}.{geo_level} = {geo_values}\"\n",
    "            elif isinstance(geo_values, str):\n",
    "                return f\"{alias}.{geo_level} = '{geo_values}'\"\n",
    "    return \"\"  # Return empty string if no filtering is needed\n",
    "\n",
    "def build_categorical_filter(categories, category_col: str = 'compartment', alias: str = \"t\") -> str:\n",
    "    if categories is not None:  # Only filter if geo_values is provided\n",
    "        if isinstance(categories, list):\n",
    "            if isinstance(categories[0], int):\n",
    "                values = ', '.join(str(val) for val in categories)  # For INT64\n",
    "                return f\"{alias}.{category_col} IN ({values})\"\n",
    "            elif isinstance(categories[0], str):\n",
    "                values = ', '.join(f\"'{val}'\" for val in categories)  # For STRING\n",
    "                return f\"{alias}.{category_col} IN ({values})\"\n",
    "        else:\n",
    "            if isinstance(categories, int):\n",
    "                return f\"{alias}.{category_col} = {categories}\"\n",
    "            elif isinstance(categories, str):\n",
    "                return f\"{alias}.{category_col} = '{categories}'\"\n",
    "    return \"\"  # Return empty string if no filtering is needed"
   ]
  },
  {
   "cell_type": "code",
   "execution_count": null,
   "id": "0d17de3e-92c2-4b67-802b-d74f2d6c23f0",
   "metadata": {},
   "outputs": [],
   "source": [
    "table_name = 'importation_data.h1n1_proper_simple' # str, more than likely `destination` from last query\n",
    "destination = 'importation_data.h1n1_proper_simple_agg' # str\n",
    "\n",
    "# all ported over from above\n",
    "source_column = 'source_basin' # str, name of col holding source ids\n",
    "target_column = 'target_basin' # str, name of col holding target ids\n",
    "value_column = 'importations' # str, name of col holding values\n",
    "\n",
    "# date information\n",
    "date = 'iso'\n",
    "\n",
    "# compartment information\n",
    "compartments = ['Infectious_Asymp', 'Infectious_SympT'] # list, or None to include all\n",
    "new_compartment = 'Infectious' # str, or None"
   ]
  },
  {
   "cell_type": "code",
   "execution_count": null,
   "id": "42bc2632-ec0d-4d74-8302-be24ada9cc2a",
   "metadata": {},
   "outputs": [],
   "source": [
    "cat_filter = build_categorical_filter(compartments, category_col=compartment_column, alias=f'`{table_name}`') if compartments is not None else \"TRUE\"\n",
    "where_clauses = [cat_filter]\n",
    "where_clause = \" AND \".join(where_clauses)\n",
    "\n",
    "agg_query = f\"\"\"\n",
    "CREATE OR REPLACE TABLE `{destination}` AS\n",
    "SELECT\n",
    "    run_id, \n",
    "    {source_column},\n",
    "    {target_column}, \n",
    "    {f\"'{new_compartment}' AS compartment,\" if isinstance(new_compartment, str) else ''}\n",
    "    SUM({value_column}) as {value_column}, \n",
    "    {\"CAST(EXTRACT(ISOYEAR FROM date) AS STRING) || 'W' || LPAD(CAST(EXTRACT(ISOWEEK FROM date) AS STRING), 2, '0')\" if date=='iso' else 't.date'} AS date\n",
    "FROM\n",
    "    `{table_name}`\n",
    "WHERE\n",
    "    {where_clause}\n",
    "GROUP BY\n",
    "    run_id, \n",
    "    {source_column},\n",
    "    {target_column}, \n",
    "    {'compartment, ' if isinstance(new_compartment, str) else ''}\n",
    "    date\n",
    "\"\"\""
   ]
  },
  {
   "cell_type": "code",
   "execution_count": null,
   "id": "30c21116-088d-41a1-b373-409e5b6ff37b",
   "metadata": {},
   "outputs": [],
   "source": [
    "execute(client, agg_query)"
   ]
  },
  {
   "cell_type": "markdown",
   "id": "6b2909ec-7454-4f5b-acc5-2b2017fc8fe8",
   "metadata": {},
   "source": [
    "## Testing with `epidemic-intelligence`"
   ]
  },
  {
   "cell_type": "code",
   "execution_count": 23,
   "id": "a56dfc5e-ce3e-4124-8c03-a7249a223ed4",
   "metadata": {},
   "outputs": [],
   "source": [
    "import epidemic_intelligence as ei"
   ]
  },
  {
   "cell_type": "markdown",
   "id": "a7aa3e7a-5edc-40b4-85bf-4139ffb05200",
   "metadata": {},
   "source": [
    "#### Area Plot"
   ]
  },
  {
   "cell_type": "code",
   "execution_count": 24,
   "id": "524c3ba5-9aa4-4d3f-ade7-7df42c3ffa7a",
   "metadata": {},
   "outputs": [],
   "source": [
    "table_name = 'importation_data.h1n1_proper_simple_agg'\n",
    "value_column = 'importations' # str, name of col holding values\n",
    "\n",
    "source_column = 'source_basin' # str, name of col holding source ids\n",
    "target_column = 'target_basin' # str, name of col holding target ids\n",
    "output_resolution = 'country_name'\n",
    "\n",
    "reference_table_name = 'reference.gleam-geo-map'\n",
    "reference_column = 'basin_id'\n",
    "\n",
    "source_geo_level = 'continent_label'\n",
    "source_values = 'North America'\n",
    "target_geo_level = 'continent_label'\n",
    "target_values = 'Europe'\n",
    "domestic = False\n",
    "\n",
    "cutoff = 0.05"
   ]
  },
  {
   "cell_type": "code",
   "execution_count": 25,
   "id": "035c01a0-2b20-4a13-902a-53cef7d2098b",
   "metadata": {},
   "outputs": [],
   "source": [
    "ap_fig = ei.area_plot(client, \n",
    "            table_name=table_name, \n",
    "            reference_table=reference_table_name,\n",
    "            source_col=source_column, \n",
    "            source_geo_level=source_geo_level,\n",
    "            source_values=source_values,\n",
    "            target_col=target_column,\n",
    "            target_geo_level=target_geo_level,\n",
    "            target_values=target_values,\n",
    "            output_resolution=output_resolution,\n",
    "            value=value_column,\n",
    "            cutoff=cutoff, \n",
    "            domestic=domestic)"
   ]
  },
  {
   "cell_type": "code",
   "execution_count": 43,
   "id": "76ed32bb-eb2e-4a15-b69d-a1c4aa652e29",
   "metadata": {},
   "outputs": [
    {
     "data": {
      "application/vnd.plotly.v1+json": {
       "config": {
        "plotlyServerURL": "https://plot.ly"
       },
       "data": [
        {
         "fillpattern": {
          "shape": ""
         },
         "hovertemplate": "source=Mexico<br>date=%{x}<br>importations=%{y}<extra></extra>",
         "legendgroup": "Mexico",
         "line": {
          "color": "#428299",
          "width": 0.4
         },
         "marker": {
          "symbol": "circle"
         },
         "mode": "lines",
         "name": "Mexico",
         "orientation": "v",
         "showlegend": true,
         "stackgroup": "1",
         "type": "scatter",
         "x": [
          "2009W13",
          "2009W15",
          "2009W16",
          "2009W17",
          "2009W18",
          "2009W19",
          "2009W20",
          "2009W21",
          "2009W22",
          "2009W23",
          "2009W24",
          "2009W25",
          "2009W26",
          "2009W27",
          "2009W28",
          "2009W29",
          "2009W30",
          "2009W31",
          "2009W32",
          "2009W33",
          "2009W34",
          "2009W35",
          "2009W36",
          "2009W37",
          "2009W38",
          "2009W39",
          "2009W40",
          "2009W41",
          "2009W42",
          "2009W43",
          "2009W44",
          "2009W45",
          "2009W46",
          "2009W47",
          "2009W48",
          "2009W49",
          "2009W50",
          "2009W51",
          "2009W52",
          "2009W53",
          "2010W01",
          "2010W02",
          "2010W03",
          "2010W04",
          "2010W05"
         ],
         "xaxis": "x",
         "y": [
          1,
          3,
          15,
          30,
          109,
          269,
          591,
          852,
          885,
          936,
          692,
          398,
          223,
          133,
          66,
          33,
          29,
          16,
          15,
          10,
          10,
          8,
          7,
          11,
          12,
          11,
          12,
          12,
          12,
          18,
          36,
          14,
          22,
          12,
          27,
          23,
          23,
          12,
          13,
          12,
          11,
          6,
          4,
          9,
          2
         ],
         "yaxis": "y"
        },
        {
         "fillpattern": {
          "shape": ""
         },
         "hovertemplate": "source=United States of America<br>date=%{x}<br>importations=%{y}<extra></extra>",
         "legendgroup": "United States of America",
         "line": {
          "color": "#F48A64",
          "width": 0.4
         },
         "marker": {
          "symbol": "circle"
         },
         "mode": "lines",
         "name": "United States of America",
         "orientation": "v",
         "showlegend": true,
         "stackgroup": "1",
         "type": "scatter",
         "x": [
          "2009W16",
          "2009W18",
          "2009W19",
          "2009W20",
          "2009W21",
          "2009W22",
          "2009W23",
          "2009W24",
          "2009W25",
          "2009W26",
          "2009W27",
          "2009W28",
          "2009W29",
          "2009W30",
          "2009W31",
          "2009W32",
          "2009W33",
          "2009W34",
          "2009W35",
          "2009W36",
          "2009W37",
          "2009W38",
          "2009W39",
          "2009W40",
          "2009W41",
          "2009W42",
          "2009W43",
          "2009W44",
          "2009W45",
          "2009W46",
          "2009W47",
          "2009W48",
          "2009W49",
          "2009W50",
          "2009W51",
          "2009W52",
          "2009W53",
          "2010W01",
          "2010W02",
          "2010W03",
          "2010W04",
          "2010W05",
          "2010W06",
          "2010W07"
         ],
         "xaxis": "x",
         "y": [
          1,
          3,
          5,
          19,
          42,
          61,
          137,
          204,
          382,
          471,
          595,
          674,
          786,
          872,
          995,
          1103,
          1222,
          1386,
          1539,
          1532,
          1718,
          2021,
          2269,
          2719,
          3185,
          3677,
          4104,
          4210,
          4316,
          4049,
          3557,
          2984,
          1677,
          1331,
          985,
          739,
          562,
          416,
          280,
          186,
          148,
          94,
          81,
          22
         ],
         "yaxis": "y"
        },
        {
         "fillpattern": {
          "shape": ""
         },
         "hovertemplate": "source=Canada<br>date=%{x}<br>importations=%{y}<extra></extra>",
         "legendgroup": "Canada",
         "line": {
          "color": "#77C6B1",
          "width": 0.4
         },
         "marker": {
          "symbol": "circle"
         },
         "mode": "lines",
         "name": "Canada",
         "orientation": "v",
         "showlegend": true,
         "stackgroup": "1",
         "type": "scatter",
         "x": [
          "2009W19",
          "2009W20",
          "2009W21",
          "2009W22",
          "2009W23",
          "2009W24",
          "2009W25",
          "2009W26",
          "2009W27",
          "2009W28",
          "2009W29",
          "2009W30",
          "2009W31",
          "2009W32",
          "2009W33",
          "2009W34",
          "2009W35",
          "2009W36",
          "2009W37",
          "2009W38",
          "2009W39",
          "2009W40",
          "2009W41",
          "2009W42",
          "2009W43",
          "2009W44",
          "2009W45",
          "2009W46",
          "2009W47",
          "2009W48",
          "2009W49",
          "2009W50",
          "2009W51",
          "2009W52",
          "2009W53",
          "2010W01",
          "2010W02",
          "2010W03",
          "2010W04",
          "2010W05",
          "2010W06",
          "2010W07"
         ],
         "xaxis": "x",
         "y": [
          1,
          4,
          12,
          19,
          45,
          69,
          109,
          144,
          207,
          251,
          318,
          399,
          484,
          551,
          552,
          590,
          651,
          471,
          465,
          509,
          482,
          543,
          499,
          537,
          560,
          515,
          547,
          508,
          406,
          349,
          166,
          128,
          115,
          94,
          70,
          46,
          53,
          28,
          30,
          23,
          10,
          4
         ],
         "yaxis": "y"
        },
        {
         "fillpattern": {
          "shape": ""
         },
         "hovertemplate": "source=Other<br>date=%{x}<br>importations=%{y}<extra></extra>",
         "legendgroup": "Other",
         "line": {
          "color": "#F2D65F",
          "width": 0.4
         },
         "marker": {
          "symbol": "circle"
         },
         "mode": "lines",
         "name": "Other",
         "orientation": "v",
         "showlegend": true,
         "stackgroup": "1",
         "type": "scatter",
         "x": [
          "2009W20",
          "2009W21",
          "2009W22",
          "2009W23",
          "2009W24",
          "2009W25",
          "2009W26",
          "2009W27",
          "2009W28",
          "2009W29",
          "2009W30",
          "2009W31",
          "2009W32",
          "2009W33",
          "2009W34",
          "2009W35",
          "2009W36",
          "2009W37",
          "2009W38",
          "2009W39",
          "2009W40",
          "2009W41",
          "2009W42",
          "2009W43",
          "2009W44",
          "2009W45",
          "2009W46",
          "2009W47",
          "2009W48",
          "2009W49",
          "2009W50",
          "2009W51",
          "2009W52",
          "2009W53",
          "2010W01",
          "2010W02",
          "2010W03",
          "2010W04",
          "2010W05",
          "2010W06"
         ],
         "xaxis": "x",
         "y": [
          3,
          10,
          44,
          120,
          338,
          803,
          1326,
          1799,
          1843,
          1619,
          1179,
          950,
          914,
          864,
          572,
          368,
          147,
          75,
          40,
          43,
          47,
          52,
          47,
          56,
          61,
          64,
          56,
          56,
          32,
          47,
          35,
          27,
          24,
          13,
          15,
          8,
          3,
          2,
          3,
          5
         ],
         "yaxis": "y"
        }
       ],
       "layout": {
        "font": {
         "family": "PT Sans Narrow"
        },
        "height": 400,
        "legend": {
         "title": {
          "text": "Source"
         },
         "tracegroupgap": 0,
         "traceorder": "reversed"
        },
        "margin": {
         "t": 60
        },
        "template": {
         "data": {
          "bar": [
           {
            "error_x": {
             "color": "#2a3f5f"
            },
            "error_y": {
             "color": "#2a3f5f"
            },
            "marker": {
             "line": {
              "color": "white",
              "width": 0.5
             },
             "pattern": {
              "fillmode": "overlay",
              "size": 10,
              "solidity": 0.2
             }
            },
            "type": "bar"
           }
          ],
          "barpolar": [
           {
            "marker": {
             "line": {
              "color": "white",
              "width": 0.5
             },
             "pattern": {
              "fillmode": "overlay",
              "size": 10,
              "solidity": 0.2
             }
            },
            "type": "barpolar"
           }
          ],
          "carpet": [
           {
            "aaxis": {
             "endlinecolor": "#2a3f5f",
             "gridcolor": "#C8D4E3",
             "linecolor": "#C8D4E3",
             "minorgridcolor": "#C8D4E3",
             "startlinecolor": "#2a3f5f"
            },
            "baxis": {
             "endlinecolor": "#2a3f5f",
             "gridcolor": "#C8D4E3",
             "linecolor": "#C8D4E3",
             "minorgridcolor": "#C8D4E3",
             "startlinecolor": "#2a3f5f"
            },
            "type": "carpet"
           }
          ],
          "choropleth": [
           {
            "colorbar": {
             "outlinewidth": 0,
             "ticks": ""
            },
            "type": "choropleth"
           }
          ],
          "contour": [
           {
            "colorbar": {
             "outlinewidth": 0,
             "ticks": ""
            },
            "colorscale": [
             [
              0,
              "#0d0887"
             ],
             [
              0.1111111111111111,
              "#46039f"
             ],
             [
              0.2222222222222222,
              "#7201a8"
             ],
             [
              0.3333333333333333,
              "#9c179e"
             ],
             [
              0.4444444444444444,
              "#bd3786"
             ],
             [
              0.5555555555555556,
              "#d8576b"
             ],
             [
              0.6666666666666666,
              "#ed7953"
             ],
             [
              0.7777777777777778,
              "#fb9f3a"
             ],
             [
              0.8888888888888888,
              "#fdca26"
             ],
             [
              1,
              "#f0f921"
             ]
            ],
            "type": "contour"
           }
          ],
          "contourcarpet": [
           {
            "colorbar": {
             "outlinewidth": 0,
             "ticks": ""
            },
            "type": "contourcarpet"
           }
          ],
          "heatmap": [
           {
            "colorbar": {
             "outlinewidth": 0,
             "ticks": ""
            },
            "colorscale": [
             [
              0,
              "#0d0887"
             ],
             [
              0.1111111111111111,
              "#46039f"
             ],
             [
              0.2222222222222222,
              "#7201a8"
             ],
             [
              0.3333333333333333,
              "#9c179e"
             ],
             [
              0.4444444444444444,
              "#bd3786"
             ],
             [
              0.5555555555555556,
              "#d8576b"
             ],
             [
              0.6666666666666666,
              "#ed7953"
             ],
             [
              0.7777777777777778,
              "#fb9f3a"
             ],
             [
              0.8888888888888888,
              "#fdca26"
             ],
             [
              1,
              "#f0f921"
             ]
            ],
            "type": "heatmap"
           }
          ],
          "heatmapgl": [
           {
            "colorbar": {
             "outlinewidth": 0,
             "ticks": ""
            },
            "colorscale": [
             [
              0,
              "#0d0887"
             ],
             [
              0.1111111111111111,
              "#46039f"
             ],
             [
              0.2222222222222222,
              "#7201a8"
             ],
             [
              0.3333333333333333,
              "#9c179e"
             ],
             [
              0.4444444444444444,
              "#bd3786"
             ],
             [
              0.5555555555555556,
              "#d8576b"
             ],
             [
              0.6666666666666666,
              "#ed7953"
             ],
             [
              0.7777777777777778,
              "#fb9f3a"
             ],
             [
              0.8888888888888888,
              "#fdca26"
             ],
             [
              1,
              "#f0f921"
             ]
            ],
            "type": "heatmapgl"
           }
          ],
          "histogram": [
           {
            "marker": {
             "pattern": {
              "fillmode": "overlay",
              "size": 10,
              "solidity": 0.2
             }
            },
            "type": "histogram"
           }
          ],
          "histogram2d": [
           {
            "colorbar": {
             "outlinewidth": 0,
             "ticks": ""
            },
            "colorscale": [
             [
              0,
              "#0d0887"
             ],
             [
              0.1111111111111111,
              "#46039f"
             ],
             [
              0.2222222222222222,
              "#7201a8"
             ],
             [
              0.3333333333333333,
              "#9c179e"
             ],
             [
              0.4444444444444444,
              "#bd3786"
             ],
             [
              0.5555555555555556,
              "#d8576b"
             ],
             [
              0.6666666666666666,
              "#ed7953"
             ],
             [
              0.7777777777777778,
              "#fb9f3a"
             ],
             [
              0.8888888888888888,
              "#fdca26"
             ],
             [
              1,
              "#f0f921"
             ]
            ],
            "type": "histogram2d"
           }
          ],
          "histogram2dcontour": [
           {
            "colorbar": {
             "outlinewidth": 0,
             "ticks": ""
            },
            "colorscale": [
             [
              0,
              "#0d0887"
             ],
             [
              0.1111111111111111,
              "#46039f"
             ],
             [
              0.2222222222222222,
              "#7201a8"
             ],
             [
              0.3333333333333333,
              "#9c179e"
             ],
             [
              0.4444444444444444,
              "#bd3786"
             ],
             [
              0.5555555555555556,
              "#d8576b"
             ],
             [
              0.6666666666666666,
              "#ed7953"
             ],
             [
              0.7777777777777778,
              "#fb9f3a"
             ],
             [
              0.8888888888888888,
              "#fdca26"
             ],
             [
              1,
              "#f0f921"
             ]
            ],
            "type": "histogram2dcontour"
           }
          ],
          "mesh3d": [
           {
            "colorbar": {
             "outlinewidth": 0,
             "ticks": ""
            },
            "type": "mesh3d"
           }
          ],
          "parcoords": [
           {
            "line": {
             "colorbar": {
              "outlinewidth": 0,
              "ticks": ""
             }
            },
            "type": "parcoords"
           }
          ],
          "pie": [
           {
            "automargin": true,
            "type": "pie"
           }
          ],
          "scatter": [
           {
            "fillpattern": {
             "fillmode": "overlay",
             "size": 10,
             "solidity": 0.2
            },
            "type": "scatter"
           }
          ],
          "scatter3d": [
           {
            "line": {
             "colorbar": {
              "outlinewidth": 0,
              "ticks": ""
             }
            },
            "marker": {
             "colorbar": {
              "outlinewidth": 0,
              "ticks": ""
             }
            },
            "type": "scatter3d"
           }
          ],
          "scattercarpet": [
           {
            "marker": {
             "colorbar": {
              "outlinewidth": 0,
              "ticks": ""
             }
            },
            "type": "scattercarpet"
           }
          ],
          "scattergeo": [
           {
            "marker": {
             "colorbar": {
              "outlinewidth": 0,
              "ticks": ""
             }
            },
            "type": "scattergeo"
           }
          ],
          "scattergl": [
           {
            "marker": {
             "colorbar": {
              "outlinewidth": 0,
              "ticks": ""
             }
            },
            "type": "scattergl"
           }
          ],
          "scattermapbox": [
           {
            "marker": {
             "colorbar": {
              "outlinewidth": 0,
              "ticks": ""
             }
            },
            "type": "scattermapbox"
           }
          ],
          "scatterpolar": [
           {
            "marker": {
             "colorbar": {
              "outlinewidth": 0,
              "ticks": ""
             }
            },
            "type": "scatterpolar"
           }
          ],
          "scatterpolargl": [
           {
            "marker": {
             "colorbar": {
              "outlinewidth": 0,
              "ticks": ""
             }
            },
            "type": "scatterpolargl"
           }
          ],
          "scatterternary": [
           {
            "marker": {
             "colorbar": {
              "outlinewidth": 0,
              "ticks": ""
             }
            },
            "type": "scatterternary"
           }
          ],
          "surface": [
           {
            "colorbar": {
             "outlinewidth": 0,
             "ticks": ""
            },
            "colorscale": [
             [
              0,
              "#0d0887"
             ],
             [
              0.1111111111111111,
              "#46039f"
             ],
             [
              0.2222222222222222,
              "#7201a8"
             ],
             [
              0.3333333333333333,
              "#9c179e"
             ],
             [
              0.4444444444444444,
              "#bd3786"
             ],
             [
              0.5555555555555556,
              "#d8576b"
             ],
             [
              0.6666666666666666,
              "#ed7953"
             ],
             [
              0.7777777777777778,
              "#fb9f3a"
             ],
             [
              0.8888888888888888,
              "#fdca26"
             ],
             [
              1,
              "#f0f921"
             ]
            ],
            "type": "surface"
           }
          ],
          "table": [
           {
            "cells": {
             "fill": {
              "color": "#EBF0F8"
             },
             "line": {
              "color": "white"
             }
            },
            "header": {
             "fill": {
              "color": "#C8D4E3"
             },
             "line": {
              "color": "white"
             }
            },
            "type": "table"
           }
          ]
         },
         "layout": {
          "annotationdefaults": {
           "arrowcolor": "#2a3f5f",
           "arrowhead": 0,
           "arrowwidth": 1
          },
          "autotypenumbers": "strict",
          "coloraxis": {
           "colorbar": {
            "outlinewidth": 0,
            "ticks": ""
           }
          },
          "colorscale": {
           "diverging": [
            [
             0,
             "#003f5c"
            ],
            [
             0.16666666666666666,
             "#577187"
            ],
            [
             0.3333333333333333,
             "#9ca8b4"
            ],
            [
             0.5,
             "#e2e2e2"
            ],
            [
             0.6666666666666666,
             "#d0a2af"
            ],
            [
             0.8333333333333334,
             "#b8637e"
            ],
            [
             1,
             "#9a1050"
            ]
           ],
           "sequential": [
            [
             0,
             "#003f5c"
            ],
            [
             0.14285714285714285,
             "#2f4b7c"
            ],
            [
             0.2857142857142857,
             "#665191"
            ],
            [
             0.42857142857142855,
             "#a05195"
            ],
            [
             0.5714285714285714,
             "#d45087"
            ],
            [
             0.7142857142857143,
             "#f95d6a"
            ],
            [
             0.8571428571428571,
             "#ff7c43"
            ],
            [
             1,
             "#ffa600"
            ]
           ],
           "sequentialminus": [
            [
             0,
             "#0d0887"
            ],
            [
             0.1111111111111111,
             "#46039f"
            ],
            [
             0.2222222222222222,
             "#7201a8"
            ],
            [
             0.3333333333333333,
             "#9c179e"
            ],
            [
             0.4444444444444444,
             "#bd3786"
            ],
            [
             0.5555555555555556,
             "#d8576b"
            ],
            [
             0.6666666666666666,
             "#ed7953"
            ],
            [
             0.7777777777777778,
             "#fb9f3a"
            ],
            [
             0.8888888888888888,
             "#fdca26"
            ],
            [
             1,
             "#f0f921"
            ]
           ]
          },
          "colorway": [
           "#428299",
           "#F48A64",
           "#77C6B1",
           "#F2D65F",
           "#80A4CE",
           "#CC9EB1",
           "#BFD88F",
           "#8E8E8E"
          ],
          "font": {
           "color": "black",
           "family": "../fonts/Barlow-Regular.ttf, Barlow, Droid Sans, PT Sans Narrow, Arial Narrow, Arial",
           "size": 14
          },
          "geo": {
           "bgcolor": "white",
           "lakecolor": "white",
           "landcolor": "white",
           "showlakes": true,
           "showland": true,
           "subunitcolor": "#C8D4E3"
          },
          "hoverlabel": {
           "align": "left"
          },
          "hovermode": "closest",
          "mapbox": {
           "style": "light"
          },
          "paper_bgcolor": "white",
          "plot_bgcolor": "white",
          "polar": {
           "angularaxis": {
            "gridcolor": "#EBF0F8",
            "linecolor": "#EBF0F8",
            "ticks": ""
           },
           "bgcolor": "white",
           "radialaxis": {
            "gridcolor": "#EBF0F8",
            "linecolor": "#EBF0F8",
            "ticks": ""
           }
          },
          "scene": {
           "xaxis": {
            "backgroundcolor": "white",
            "gridcolor": "#DFE8F3",
            "gridwidth": 2,
            "linecolor": "#EBF0F8",
            "showbackground": true,
            "ticks": "",
            "zerolinecolor": "#EBF0F8"
           },
           "yaxis": {
            "backgroundcolor": "white",
            "gridcolor": "#DFE8F3",
            "gridwidth": 2,
            "linecolor": "#EBF0F8",
            "showbackground": true,
            "ticks": "",
            "zerolinecolor": "#EBF0F8"
           },
           "zaxis": {
            "backgroundcolor": "white",
            "gridcolor": "#DFE8F3",
            "gridwidth": 2,
            "linecolor": "#EBF0F8",
            "showbackground": true,
            "ticks": "",
            "zerolinecolor": "#EBF0F8"
           }
          },
          "shapedefaults": {
           "line": {
            "color": "#428299"
           }
          },
          "ternary": {
           "aaxis": {
            "gridcolor": "#DFE8F3",
            "linecolor": "#A2B1C6",
            "ticks": ""
           },
           "baxis": {
            "gridcolor": "#DFE8F3",
            "linecolor": "#A2B1C6",
            "ticks": ""
           },
           "bgcolor": "white",
           "caxis": {
            "gridcolor": "#DFE8F3",
            "linecolor": "#A2B1C6",
            "ticks": ""
           }
          },
          "title": {
           "automargin": true,
           "font": {
            "color": "black",
            "size": 28,
            "weight": 400
           },
           "subtitle": {
            "font": {
             "color": "#373737",
             "size": 14,
             "weight": 200
            }
           },
           "x": 0.5,
           "y": 0.95,
           "yref": "container"
          },
          "xaxis": {
           "automargin": true,
           "gridcolor": "#EBF0F8",
           "linecolor": "#EBF0F8",
           "ticks": "",
           "title": {
            "standoff": 15
           },
           "zerolinecolor": "#EBF0F8",
           "zerolinewidth": 2
          },
          "yaxis": {
           "automargin": true,
           "gridcolor": "#EBF0F8",
           "linecolor": "#EBF0F8",
           "ticks": "",
           "title": {
            "standoff": 15
           },
           "zerolinecolor": "#EBF0F8",
           "zerolinewidth": 2
          }
         }
        },
        "title": {
         "text": "Area Plot"
        },
        "width": 1000,
        "xaxis": {
         "anchor": "y",
         "autorange": true,
         "domain": [
          0,
          1
         ],
         "range": [
          0,
          46
         ],
         "title": {
          "text": "Date"
         },
         "type": "category"
        },
        "yaxis": {
         "anchor": "x",
         "autorange": true,
         "domain": [
          0,
          1
         ],
         "range": [
          0,
          5201.0526315789475
         ],
         "title": {
          "text": "Exportations"
         },
         "type": "linear"
        }
       }
      },
      "image/png": "[encoded data removed]",
      "text/html": [
       "<div>                            <div id=\"fb606718-9a86-44ca-991b-42798c8a8de0\" class=\"plotly-graph-div\" style=\"height:400px; width:1000px;\"></div>            <script type=\"text/javascript\">                require([\"plotly\"], function(Plotly) {                    window.PLOTLYENV=window.PLOTLYENV || {};                                    if (document.getElementById(\"fb606718-9a86-44ca-991b-42798c8a8de0\")) {                    Plotly.newPlot(                        \"fb606718-9a86-44ca-991b-42798c8a8de0\",                        [{\"fillpattern\":{\"shape\":\"\"},\"hovertemplate\":\"source=Mexico\\u003cbr\\u003edate=%{x}\\u003cbr\\u003eimportations=%{y}\\u003cextra\\u003e\\u003c\\u002fextra\\u003e\",\"legendgroup\":\"Mexico\",\"line\":{\"color\":\"#428299\",\"width\":0.4},\"marker\":{\"symbol\":\"circle\"},\"mode\":\"lines\",\"name\":\"Mexico\",\"orientation\":\"v\",\"showlegend\":true,\"stackgroup\":\"1\",\"x\":[\"2009W13\",\"2009W15\",\"2009W16\",\"2009W17\",\"2009W18\",\"2009W19\",\"2009W20\",\"2009W21\",\"2009W22\",\"2009W23\",\"2009W24\",\"2009W25\",\"2009W26\",\"2009W27\",\"2009W28\",\"2009W29\",\"2009W30\",\"2009W31\",\"2009W32\",\"2009W33\",\"2009W34\",\"2009W35\",\"2009W36\",\"2009W37\",\"2009W38\",\"2009W39\",\"2009W40\",\"2009W41\",\"2009W42\",\"2009W43\",\"2009W44\",\"2009W45\",\"2009W46\",\"2009W47\",\"2009W48\",\"2009W49\",\"2009W50\",\"2009W51\",\"2009W52\",\"2009W53\",\"2010W01\",\"2010W02\",\"2010W03\",\"2010W04\",\"2010W05\"],\"xaxis\":\"x\",\"y\":[1,3,15,30,109,269,591,852,885,936,692,398,223,133,66,33,29,16,15,10,10,8,7,11,12,11,12,12,12,18,36,14,22,12,27,23,23,12,13,12,11,6,4,9,2],\"yaxis\":\"y\",\"type\":\"scatter\"},{\"fillpattern\":{\"shape\":\"\"},\"hovertemplate\":\"source=United States of America\\u003cbr\\u003edate=%{x}\\u003cbr\\u003eimportations=%{y}\\u003cextra\\u003e\\u003c\\u002fextra\\u003e\",\"legendgroup\":\"United States of America\",\"line\":{\"color\":\"#F48A64\",\"width\":0.4},\"marker\":{\"symbol\":\"circle\"},\"mode\":\"lines\",\"name\":\"United States of America\",\"orientation\":\"v\",\"showlegend\":true,\"stackgroup\":\"1\",\"x\":[\"2009W16\",\"2009W18\",\"2009W19\",\"2009W20\",\"2009W21\",\"2009W22\",\"2009W23\",\"2009W24\",\"2009W25\",\"2009W26\",\"2009W27\",\"2009W28\",\"2009W29\",\"2009W30\",\"2009W31\",\"2009W32\",\"2009W33\",\"2009W34\",\"2009W35\",\"2009W36\",\"2009W37\",\"2009W38\",\"2009W39\",\"2009W40\",\"2009W41\",\"2009W42\",\"2009W43\",\"2009W44\",\"2009W45\",\"2009W46\",\"2009W47\",\"2009W48\",\"2009W49\",\"2009W50\",\"2009W51\",\"2009W52\",\"2009W53\",\"2010W01\",\"2010W02\",\"2010W03\",\"2010W04\",\"2010W05\",\"2010W06\",\"2010W07\"],\"xaxis\":\"x\",\"y\":[1,3,5,19,42,61,137,204,382,471,595,674,786,872,995,1103,1222,1386,1539,1532,1718,2021,2269,2719,3185,3677,4104,4210,4316,4049,3557,2984,1677,1331,985,739,562,416,280,186,148,94,81,22],\"yaxis\":\"y\",\"type\":\"scatter\"},{\"fillpattern\":{\"shape\":\"\"},\"hovertemplate\":\"source=Canada\\u003cbr\\u003edate=%{x}\\u003cbr\\u003eimportations=%{y}\\u003cextra\\u003e\\u003c\\u002fextra\\u003e\",\"legendgroup\":\"Canada\",\"line\":{\"color\":\"#77C6B1\",\"width\":0.4},\"marker\":{\"symbol\":\"circle\"},\"mode\":\"lines\",\"name\":\"Canada\",\"orientation\":\"v\",\"showlegend\":true,\"stackgroup\":\"1\",\"x\":[\"2009W19\",\"2009W20\",\"2009W21\",\"2009W22\",\"2009W23\",\"2009W24\",\"2009W25\",\"2009W26\",\"2009W27\",\"2009W28\",\"2009W29\",\"2009W30\",\"2009W31\",\"2009W32\",\"2009W33\",\"2009W34\",\"2009W35\",\"2009W36\",\"2009W37\",\"2009W38\",\"2009W39\",\"2009W40\",\"2009W41\",\"2009W42\",\"2009W43\",\"2009W44\",\"2009W45\",\"2009W46\",\"2009W47\",\"2009W48\",\"2009W49\",\"2009W50\",\"2009W51\",\"2009W52\",\"2009W53\",\"2010W01\",\"2010W02\",\"2010W03\",\"2010W04\",\"2010W05\",\"2010W06\",\"2010W07\"],\"xaxis\":\"x\",\"y\":[1,4,12,19,45,69,109,144,207,251,318,399,484,551,552,590,651,471,465,509,482,543,499,537,560,515,547,508,406,349,166,128,115,94,70,46,53,28,30,23,10,4],\"yaxis\":\"y\",\"type\":\"scatter\"},{\"fillpattern\":{\"shape\":\"\"},\"hovertemplate\":\"source=Other\\u003cbr\\u003edate=%{x}\\u003cbr\\u003eimportations=%{y}\\u003cextra\\u003e\\u003c\\u002fextra\\u003e\",\"legendgroup\":\"Other\",\"line\":{\"color\":\"#F2D65F\",\"width\":0.4},\"marker\":{\"symbol\":\"circle\"},\"mode\":\"lines\",\"name\":\"Other\",\"orientation\":\"v\",\"showlegend\":true,\"stackgroup\":\"1\",\"x\":[\"2009W20\",\"2009W21\",\"2009W22\",\"2009W23\",\"2009W24\",\"2009W25\",\"2009W26\",\"2009W27\",\"2009W28\",\"2009W29\",\"2009W30\",\"2009W31\",\"2009W32\",\"2009W33\",\"2009W34\",\"2009W35\",\"2009W36\",\"2009W37\",\"2009W38\",\"2009W39\",\"2009W40\",\"2009W41\",\"2009W42\",\"2009W43\",\"2009W44\",\"2009W45\",\"2009W46\",\"2009W47\",\"2009W48\",\"2009W49\",\"2009W50\",\"2009W51\",\"2009W52\",\"2009W53\",\"2010W01\",\"2010W02\",\"2010W03\",\"2010W04\",\"2010W05\",\"2010W06\"],\"xaxis\":\"x\",\"y\":[3,10,44,120,338,803,1326,1799,1843,1619,1179,950,914,864,572,368,147,75,40,43,47,52,47,56,61,64,56,56,32,47,35,27,24,13,15,8,3,2,3,5],\"yaxis\":\"y\",\"type\":\"scatter\"}],                        {\"template\":{\"data\":{\"barpolar\":[{\"marker\":{\"line\":{\"color\":\"white\",\"width\":0.5},\"pattern\":{\"fillmode\":\"overlay\",\"size\":10,\"solidity\":0.2}},\"type\":\"barpolar\"}],\"bar\":[{\"error_x\":{\"color\":\"#2a3f5f\"},\"error_y\":{\"color\":\"#2a3f5f\"},\"marker\":{\"line\":{\"color\":\"white\",\"width\":0.5},\"pattern\":{\"fillmode\":\"overlay\",\"size\":10,\"solidity\":0.2}},\"type\":\"bar\"}],\"carpet\":[{\"aaxis\":{\"endlinecolor\":\"#2a3f5f\",\"gridcolor\":\"#C8D4E3\",\"linecolor\":\"#C8D4E3\",\"minorgridcolor\":\"#C8D4E3\",\"startlinecolor\":\"#2a3f5f\"},\"baxis\":{\"endlinecolor\":\"#2a3f5f\",\"gridcolor\":\"#C8D4E3\",\"linecolor\":\"#C8D4E3\",\"minorgridcolor\":\"#C8D4E3\",\"startlinecolor\":\"#2a3f5f\"},\"type\":\"carpet\"}],\"choropleth\":[{\"colorbar\":{\"outlinewidth\":0,\"ticks\":\"\"},\"type\":\"choropleth\"}],\"contourcarpet\":[{\"colorbar\":{\"outlinewidth\":0,\"ticks\":\"\"},\"type\":\"contourcarpet\"}],\"contour\":[{\"colorbar\":{\"outlinewidth\":0,\"ticks\":\"\"},\"colorscale\":[[0.0,\"#0d0887\"],[0.1111111111111111,\"#46039f\"],[0.2222222222222222,\"#7201a8\"],[0.3333333333333333,\"#9c179e\"],[0.4444444444444444,\"#bd3786\"],[0.5555555555555556,\"#d8576b\"],[0.6666666666666666,\"#ed7953\"],[0.7777777777777778,\"#fb9f3a\"],[0.8888888888888888,\"#fdca26\"],[1.0,\"#f0f921\"]],\"type\":\"contour\"}],\"heatmapgl\":[{\"colorbar\":{\"outlinewidth\":0,\"ticks\":\"\"},\"colorscale\":[[0.0,\"#0d0887\"],[0.1111111111111111,\"#46039f\"],[0.2222222222222222,\"#7201a8\"],[0.3333333333333333,\"#9c179e\"],[0.4444444444444444,\"#bd3786\"],[0.5555555555555556,\"#d8576b\"],[0.6666666666666666,\"#ed7953\"],[0.7777777777777778,\"#fb9f3a\"],[0.8888888888888888,\"#fdca26\"],[1.0,\"#f0f921\"]],\"type\":\"heatmapgl\"}],\"heatmap\":[{\"colorbar\":{\"outlinewidth\":0,\"ticks\":\"\"},\"colorscale\":[[0.0,\"#0d0887\"],[0.1111111111111111,\"#46039f\"],[0.2222222222222222,\"#7201a8\"],[0.3333333333333333,\"#9c179e\"],[0.4444444444444444,\"#bd3786\"],[0.5555555555555556,\"#d8576b\"],[0.6666666666666666,\"#ed7953\"],[0.7777777777777778,\"#fb9f3a\"],[0.8888888888888888,\"#fdca26\"],[1.0,\"#f0f921\"]],\"type\":\"heatmap\"}],\"histogram2dcontour\":[{\"colorbar\":{\"outlinewidth\":0,\"ticks\":\"\"},\"colorscale\":[[0.0,\"#0d0887\"],[0.1111111111111111,\"#46039f\"],[0.2222222222222222,\"#7201a8\"],[0.3333333333333333,\"#9c179e\"],[0.4444444444444444,\"#bd3786\"],[0.5555555555555556,\"#d8576b\"],[0.6666666666666666,\"#ed7953\"],[0.7777777777777778,\"#fb9f3a\"],[0.8888888888888888,\"#fdca26\"],[1.0,\"#f0f921\"]],\"type\":\"histogram2dcontour\"}],\"histogram2d\":[{\"colorbar\":{\"outlinewidth\":0,\"ticks\":\"\"},\"colorscale\":[[0.0,\"#0d0887\"],[0.1111111111111111,\"#46039f\"],[0.2222222222222222,\"#7201a8\"],[0.3333333333333333,\"#9c179e\"],[0.4444444444444444,\"#bd3786\"],[0.5555555555555556,\"#d8576b\"],[0.6666666666666666,\"#ed7953\"],[0.7777777777777778,\"#fb9f3a\"],[0.8888888888888888,\"#fdca26\"],[1.0,\"#f0f921\"]],\"type\":\"histogram2d\"}],\"histogram\":[{\"marker\":{\"pattern\":{\"fillmode\":\"overlay\",\"size\":10,\"solidity\":0.2}},\"type\":\"histogram\"}],\"mesh3d\":[{\"colorbar\":{\"outlinewidth\":0,\"ticks\":\"\"},\"type\":\"mesh3d\"}],\"parcoords\":[{\"line\":{\"colorbar\":{\"outlinewidth\":0,\"ticks\":\"\"}},\"type\":\"parcoords\"}],\"pie\":[{\"automargin\":true,\"type\":\"pie\"}],\"scatter3d\":[{\"line\":{\"colorbar\":{\"outlinewidth\":0,\"ticks\":\"\"}},\"marker\":{\"colorbar\":{\"outlinewidth\":0,\"ticks\":\"\"}},\"type\":\"scatter3d\"}],\"scattercarpet\":[{\"marker\":{\"colorbar\":{\"outlinewidth\":0,\"ticks\":\"\"}},\"type\":\"scattercarpet\"}],\"scattergeo\":[{\"marker\":{\"colorbar\":{\"outlinewidth\":0,\"ticks\":\"\"}},\"type\":\"scattergeo\"}],\"scattergl\":[{\"marker\":{\"colorbar\":{\"outlinewidth\":0,\"ticks\":\"\"}},\"type\":\"scattergl\"}],\"scattermapbox\":[{\"marker\":{\"colorbar\":{\"outlinewidth\":0,\"ticks\":\"\"}},\"type\":\"scattermapbox\"}],\"scatterpolargl\":[{\"marker\":{\"colorbar\":{\"outlinewidth\":0,\"ticks\":\"\"}},\"type\":\"scatterpolargl\"}],\"scatterpolar\":[{\"marker\":{\"colorbar\":{\"outlinewidth\":0,\"ticks\":\"\"}},\"type\":\"scatterpolar\"}],\"scatter\":[{\"fillpattern\":{\"fillmode\":\"overlay\",\"size\":10,\"solidity\":0.2},\"type\":\"scatter\"}],\"scatterternary\":[{\"marker\":{\"colorbar\":{\"outlinewidth\":0,\"ticks\":\"\"}},\"type\":\"scatterternary\"}],\"surface\":[{\"colorbar\":{\"outlinewidth\":0,\"ticks\":\"\"},\"colorscale\":[[0.0,\"#0d0887\"],[0.1111111111111111,\"#46039f\"],[0.2222222222222222,\"#7201a8\"],[0.3333333333333333,\"#9c179e\"],[0.4444444444444444,\"#bd3786\"],[0.5555555555555556,\"#d8576b\"],[0.6666666666666666,\"#ed7953\"],[0.7777777777777778,\"#fb9f3a\"],[0.8888888888888888,\"#fdca26\"],[1.0,\"#f0f921\"]],\"type\":\"surface\"}],\"table\":[{\"cells\":{\"fill\":{\"color\":\"#EBF0F8\"},\"line\":{\"color\":\"white\"}},\"header\":{\"fill\":{\"color\":\"#C8D4E3\"},\"line\":{\"color\":\"white\"}},\"type\":\"table\"}]},\"layout\":{\"annotationdefaults\":{\"arrowcolor\":\"#2a3f5f\",\"arrowhead\":0,\"arrowwidth\":1},\"autotypenumbers\":\"strict\",\"coloraxis\":{\"colorbar\":{\"outlinewidth\":0,\"ticks\":\"\"}},\"colorscale\":{\"diverging\":[[0.0,\"#003f5c\"],[0.16666666666666666,\"#577187\"],[0.3333333333333333,\"#9ca8b4\"],[0.5,\"#e2e2e2\"],[0.6666666666666666,\"#d0a2af\"],[0.8333333333333334,\"#b8637e\"],[1.0,\"#9a1050\"]],\"sequential\":[[0.0,\"#003f5c\"],[0.14285714285714285,\"#2f4b7c\"],[0.2857142857142857,\"#665191\"],[0.42857142857142855,\"#a05195\"],[0.5714285714285714,\"#d45087\"],[0.7142857142857143,\"#f95d6a\"],[0.8571428571428571,\"#ff7c43\"],[1.0,\"#ffa600\"]],\"sequentialminus\":[[0.0,\"#0d0887\"],[0.1111111111111111,\"#46039f\"],[0.2222222222222222,\"#7201a8\"],[0.3333333333333333,\"#9c179e\"],[0.4444444444444444,\"#bd3786\"],[0.5555555555555556,\"#d8576b\"],[0.6666666666666666,\"#ed7953\"],[0.7777777777777778,\"#fb9f3a\"],[0.8888888888888888,\"#fdca26\"],[1.0,\"#f0f921\"]]},\"colorway\":[\"#428299\",\"#F48A64\",\"#77C6B1\",\"#F2D65F\",\"#80A4CE\",\"#CC9EB1\",\"#BFD88F\",\"#8E8E8E\"],\"font\":{\"color\":\"black\",\"family\":\"..\\u002ffonts\\u002fBarlow-Regular.ttf, Barlow, Droid Sans, PT Sans Narrow, Arial Narrow, Arial\",\"size\":14},\"geo\":{\"bgcolor\":\"white\",\"lakecolor\":\"white\",\"landcolor\":\"white\",\"showlakes\":true,\"showland\":true,\"subunitcolor\":\"#C8D4E3\"},\"hoverlabel\":{\"align\":\"left\"},\"hovermode\":\"closest\",\"mapbox\":{\"style\":\"light\"},\"paper_bgcolor\":\"white\",\"plot_bgcolor\":\"white\",\"polar\":{\"angularaxis\":{\"gridcolor\":\"#EBF0F8\",\"linecolor\":\"#EBF0F8\",\"ticks\":\"\"},\"bgcolor\":\"white\",\"radialaxis\":{\"gridcolor\":\"#EBF0F8\",\"linecolor\":\"#EBF0F8\",\"ticks\":\"\"}},\"scene\":{\"xaxis\":{\"backgroundcolor\":\"white\",\"gridcolor\":\"#DFE8F3\",\"gridwidth\":2,\"linecolor\":\"#EBF0F8\",\"showbackground\":true,\"ticks\":\"\",\"zerolinecolor\":\"#EBF0F8\"},\"yaxis\":{\"backgroundcolor\":\"white\",\"gridcolor\":\"#DFE8F3\",\"gridwidth\":2,\"linecolor\":\"#EBF0F8\",\"showbackground\":true,\"ticks\":\"\",\"zerolinecolor\":\"#EBF0F8\"},\"zaxis\":{\"backgroundcolor\":\"white\",\"gridcolor\":\"#DFE8F3\",\"gridwidth\":2,\"linecolor\":\"#EBF0F8\",\"showbackground\":true,\"ticks\":\"\",\"zerolinecolor\":\"#EBF0F8\"}},\"shapedefaults\":{\"line\":{\"color\":\"#428299\"}},\"ternary\":{\"aaxis\":{\"gridcolor\":\"#DFE8F3\",\"linecolor\":\"#A2B1C6\",\"ticks\":\"\"},\"baxis\":{\"gridcolor\":\"#DFE8F3\",\"linecolor\":\"#A2B1C6\",\"ticks\":\"\"},\"bgcolor\":\"white\",\"caxis\":{\"gridcolor\":\"#DFE8F3\",\"linecolor\":\"#A2B1C6\",\"ticks\":\"\"}},\"title\":{\"automargin\":true,\"font\":{\"color\":\"black\",\"size\":28,\"weight\":400},\"subtitle\":{\"font\":{\"color\":\"#373737\",\"size\":14,\"weight\":200}},\"x\":0.5,\"y\":0.95,\"yref\":\"container\"},\"xaxis\":{\"automargin\":true,\"gridcolor\":\"#EBF0F8\",\"linecolor\":\"#EBF0F8\",\"ticks\":\"\",\"title\":{\"standoff\":15},\"zerolinecolor\":\"#EBF0F8\",\"zerolinewidth\":2},\"yaxis\":{\"automargin\":true,\"gridcolor\":\"#EBF0F8\",\"linecolor\":\"#EBF0F8\",\"ticks\":\"\",\"title\":{\"standoff\":15},\"zerolinecolor\":\"#EBF0F8\",\"zerolinewidth\":2}}},\"xaxis\":{\"anchor\":\"y\",\"domain\":[0.0,1.0],\"title\":{\"text\":\"Date\"}},\"yaxis\":{\"anchor\":\"x\",\"domain\":[0.0,1.0],\"title\":{\"text\":\"Exportations\"}},\"legend\":{\"title\":{\"text\":\"Source\"},\"tracegroupgap\":0,\"traceorder\":\"reversed\"},\"margin\":{\"t\":60},\"title\":{\"text\":\"Area Plot\"},\"font\":{\"family\":\"PT Sans Narrow\"},\"width\":1000,\"height\":400},                        {\"responsive\": true}                    ).then(function(){\n",
       "                            \n",
       "var gd = document.getElementById('fb606718-9a86-44ca-991b-42798c8a8de0');\n",
       "var x = new MutationObserver(function (mutations, observer) {{\n",
       "        var display = window.getComputedStyle(gd).display;\n",
       "        if (!display || display === 'none') {{\n",
       "            console.log([gd, 'removed!']);\n",
       "            Plotly.purge(gd);\n",
       "            observer.disconnect();\n",
       "        }}\n",
       "}});\n",
       "\n",
       "// Listen for the removal of the full notebook cells\n",
       "var notebookContainer = gd.closest('#notebook-container');\n",
       "if (notebookContainer) {{\n",
       "    x.observe(notebookContainer, {childList: true});\n",
       "}}\n",
       "\n",
       "// Listen for the clearing of the current output cell\n",
       "var outputEl = gd.closest('.output');\n",
       "if (outputEl) {{\n",
       "    x.observe(outputEl, {childList: true});\n",
       "}}\n",
       "\n",
       "                        })                };                });            </script>        </div>"
      ]
     },
     "metadata": {},
     "output_type": "display_data"
    }
   ],
   "source": [
    "ap_fig.layout.font.family = 'PT Sans Narrow'\n",
    "ap_fig.update_layout(width=1000, height=400)\n",
    "ap_fig"
   ]
  },
  {
   "cell_type": "code",
   "execution_count": 27,
   "id": "5087aae5-a8fe-4a15-90c8-19f5894cf1cc",
   "metadata": {},
   "outputs": [],
   "source": [
    "date_range = ['2009W19', '2010W04']\n",
    "cutoff = 0\n",
    "n = 10"
   ]
  },
  {
   "cell_type": "markdown",
   "id": "044e0a18-8e54-4b70-9219-2c1bdc00d2fa",
   "metadata": {},
   "source": [
    "#### Relative Risk"
   ]
  },
  {
   "cell_type": "code",
   "execution_count": 28,
   "id": "fc79b519-c63b-4dc3-a84b-e0ffe667e73f",
   "metadata": {},
   "outputs": [],
   "source": [
    "rr_fig = ei.relative_risk(client, \n",
    "            table_name=table_name, \n",
    "            reference_table=reference_table_name,\n",
    "            source_col=source_column, \n",
    "            source_geo_level=source_geo_level,\n",
    "            source_values=source_values,\n",
    "            target_col=target_column,\n",
    "            target_geo_level=target_geo_level,\n",
    "            target_values=target_values,\n",
    "            target_resolution=output_resolution,\n",
    "            value=value_column,\n",
    "            date_range=date_range,\n",
    "            cutoff=cutoff, \n",
    "            n=n,\n",
    "            domestic=domestic)"
   ]
  },
  {
   "cell_type": "code",
   "execution_count": 45,
   "id": "ab06579f-06a1-427b-a6e9-3e08aa881e7c",
   "metadata": {
    "scrolled": true
   },
   "outputs": [
    {
     "data": {
      "application/vnd.plotly.v1+json": {
       "config": {
        "plotlyServerURL": "https://plot.ly"
       },
       "data": [
        {
         "alignmentgroup": "True",
         "hovertemplate": "Relative Risk of Importation=%{x}<br>Target=%{y}<extra></extra>",
         "legendgroup": "",
         "marker": {
          "color": "#428299",
          "pattern": {
           "shape": ""
          }
         },
         "name": "",
         "offsetgroup": "",
         "orientation": "h",
         "showlegend": false,
         "textposition": "auto",
         "type": "bar",
         "x": [
          0.23822150400582665,
          0.19131236343772762,
          0.1407388018936635,
          0.10771349235251275,
          0.08867443554260743,
          0.0883330298616169,
          0.05041423889293518,
          0.041776675163874726,
          0.028143208302986163,
          0.02467225054624909
         ],
         "xaxis": "x",
         "y": [
          "United Kingdom",
          "Other",
          "France",
          "Germany",
          "Italy",
          "Spain",
          "Netherlands",
          "Ireland",
          "Switzerland",
          "Iceland"
         ],
         "yaxis": "y"
        }
       ],
       "layout": {
        "barmode": "relative",
        "font": {
         "family": "PT Sans Narrow"
        },
        "height": 500,
        "legend": {
         "tracegroupgap": 0
        },
        "margin": {
         "t": 60
        },
        "showlegend": false,
        "template": {
         "data": {
          "bar": [
           {
            "error_x": {
             "color": "#2a3f5f"
            },
            "error_y": {
             "color": "#2a3f5f"
            },
            "marker": {
             "line": {
              "color": "white",
              "width": 0.5
             },
             "pattern": {
              "fillmode": "overlay",
              "size": 10,
              "solidity": 0.2
             }
            },
            "type": "bar"
           }
          ],
          "barpolar": [
           {
            "marker": {
             "line": {
              "color": "white",
              "width": 0.5
             },
             "pattern": {
              "fillmode": "overlay",
              "size": 10,
              "solidity": 0.2
             }
            },
            "type": "barpolar"
           }
          ],
          "carpet": [
           {
            "aaxis": {
             "endlinecolor": "#2a3f5f",
             "gridcolor": "#C8D4E3",
             "linecolor": "#C8D4E3",
             "minorgridcolor": "#C8D4E3",
             "startlinecolor": "#2a3f5f"
            },
            "baxis": {
             "endlinecolor": "#2a3f5f",
             "gridcolor": "#C8D4E3",
             "linecolor": "#C8D4E3",
             "minorgridcolor": "#C8D4E3",
             "startlinecolor": "#2a3f5f"
            },
            "type": "carpet"
           }
          ],
          "choropleth": [
           {
            "colorbar": {
             "outlinewidth": 0,
             "ticks": ""
            },
            "type": "choropleth"
           }
          ],
          "contour": [
           {
            "colorbar": {
             "outlinewidth": 0,
             "ticks": ""
            },
            "colorscale": [
             [
              0,
              "#0d0887"
             ],
             [
              0.1111111111111111,
              "#46039f"
             ],
             [
              0.2222222222222222,
              "#7201a8"
             ],
             [
              0.3333333333333333,
              "#9c179e"
             ],
             [
              0.4444444444444444,
              "#bd3786"
             ],
             [
              0.5555555555555556,
              "#d8576b"
             ],
             [
              0.6666666666666666,
              "#ed7953"
             ],
             [
              0.7777777777777778,
              "#fb9f3a"
             ],
             [
              0.8888888888888888,
              "#fdca26"
             ],
             [
              1,
              "#f0f921"
             ]
            ],
            "type": "contour"
           }
          ],
          "contourcarpet": [
           {
            "colorbar": {
             "outlinewidth": 0,
             "ticks": ""
            },
            "type": "contourcarpet"
           }
          ],
          "heatmap": [
           {
            "colorbar": {
             "outlinewidth": 0,
             "ticks": ""
            },
            "colorscale": [
             [
              0,
              "#0d0887"
             ],
             [
              0.1111111111111111,
              "#46039f"
             ],
             [
              0.2222222222222222,
              "#7201a8"
             ],
             [
              0.3333333333333333,
              "#9c179e"
             ],
             [
              0.4444444444444444,
              "#bd3786"
             ],
             [
              0.5555555555555556,
              "#d8576b"
             ],
             [
              0.6666666666666666,
              "#ed7953"
             ],
             [
              0.7777777777777778,
              "#fb9f3a"
             ],
             [
              0.8888888888888888,
              "#fdca26"
             ],
             [
              1,
              "#f0f921"
             ]
            ],
            "type": "heatmap"
           }
          ],
          "heatmapgl": [
           {
            "colorbar": {
             "outlinewidth": 0,
             "ticks": ""
            },
            "colorscale": [
             [
              0,
              "#0d0887"
             ],
             [
              0.1111111111111111,
              "#46039f"
             ],
             [
              0.2222222222222222,
              "#7201a8"
             ],
             [
              0.3333333333333333,
              "#9c179e"
             ],
             [
              0.4444444444444444,
              "#bd3786"
             ],
             [
              0.5555555555555556,
              "#d8576b"
             ],
             [
              0.6666666666666666,
              "#ed7953"
             ],
             [
              0.7777777777777778,
              "#fb9f3a"
             ],
             [
              0.8888888888888888,
              "#fdca26"
             ],
             [
              1,
              "#f0f921"
             ]
            ],
            "type": "heatmapgl"
           }
          ],
          "histogram": [
           {
            "marker": {
             "pattern": {
              "fillmode": "overlay",
              "size": 10,
              "solidity": 0.2
             }
            },
            "type": "histogram"
           }
          ],
          "histogram2d": [
           {
            "colorbar": {
             "outlinewidth": 0,
             "ticks": ""
            },
            "colorscale": [
             [
              0,
              "#0d0887"
             ],
             [
              0.1111111111111111,
              "#46039f"
             ],
             [
              0.2222222222222222,
              "#7201a8"
             ],
             [
              0.3333333333333333,
              "#9c179e"
             ],
             [
              0.4444444444444444,
              "#bd3786"
             ],
             [
              0.5555555555555556,
              "#d8576b"
             ],
             [
              0.6666666666666666,
              "#ed7953"
             ],
             [
              0.7777777777777778,
              "#fb9f3a"
             ],
             [
              0.8888888888888888,
              "#fdca26"
             ],
             [
              1,
              "#f0f921"
             ]
            ],
            "type": "histogram2d"
           }
          ],
          "histogram2dcontour": [
           {
            "colorbar": {
             "outlinewidth": 0,
             "ticks": ""
            },
            "colorscale": [
             [
              0,
              "#0d0887"
             ],
             [
              0.1111111111111111,
              "#46039f"
             ],
             [
              0.2222222222222222,
              "#7201a8"
             ],
             [
              0.3333333333333333,
              "#9c179e"
             ],
             [
              0.4444444444444444,
              "#bd3786"
             ],
             [
              0.5555555555555556,
              "#d8576b"
             ],
             [
              0.6666666666666666,
              "#ed7953"
             ],
             [
              0.7777777777777778,
              "#fb9f3a"
             ],
             [
              0.8888888888888888,
              "#fdca26"
             ],
             [
              1,
              "#f0f921"
             ]
            ],
            "type": "histogram2dcontour"
           }
          ],
          "mesh3d": [
           {
            "colorbar": {
             "outlinewidth": 0,
             "ticks": ""
            },
            "type": "mesh3d"
           }
          ],
          "parcoords": [
           {
            "line": {
             "colorbar": {
              "outlinewidth": 0,
              "ticks": ""
             }
            },
            "type": "parcoords"
           }
          ],
          "pie": [
           {
            "automargin": true,
            "type": "pie"
           }
          ],
          "scatter": [
           {
            "fillpattern": {
             "fillmode": "overlay",
             "size": 10,
             "solidity": 0.2
            },
            "type": "scatter"
           }
          ],
          "scatter3d": [
           {
            "line": {
             "colorbar": {
              "outlinewidth": 0,
              "ticks": ""
             }
            },
            "marker": {
             "colorbar": {
              "outlinewidth": 0,
              "ticks": ""
             }
            },
            "type": "scatter3d"
           }
          ],
          "scattercarpet": [
           {
            "marker": {
             "colorbar": {
              "outlinewidth": 0,
              "ticks": ""
             }
            },
            "type": "scattercarpet"
           }
          ],
          "scattergeo": [
           {
            "marker": {
             "colorbar": {
              "outlinewidth": 0,
              "ticks": ""
             }
            },
            "type": "scattergeo"
           }
          ],
          "scattergl": [
           {
            "marker": {
             "colorbar": {
              "outlinewidth": 0,
              "ticks": ""
             }
            },
            "type": "scattergl"
           }
          ],
          "scattermapbox": [
           {
            "marker": {
             "colorbar": {
              "outlinewidth": 0,
              "ticks": ""
             }
            },
            "type": "scattermapbox"
           }
          ],
          "scatterpolar": [
           {
            "marker": {
             "colorbar": {
              "outlinewidth": 0,
              "ticks": ""
             }
            },
            "type": "scatterpolar"
           }
          ],
          "scatterpolargl": [
           {
            "marker": {
             "colorbar": {
              "outlinewidth": 0,
              "ticks": ""
             }
            },
            "type": "scatterpolargl"
           }
          ],
          "scatterternary": [
           {
            "marker": {
             "colorbar": {
              "outlinewidth": 0,
              "ticks": ""
             }
            },
            "type": "scatterternary"
           }
          ],
          "surface": [
           {
            "colorbar": {
             "outlinewidth": 0,
             "ticks": ""
            },
            "colorscale": [
             [
              0,
              "#0d0887"
             ],
             [
              0.1111111111111111,
              "#46039f"
             ],
             [
              0.2222222222222222,
              "#7201a8"
             ],
             [
              0.3333333333333333,
              "#9c179e"
             ],
             [
              0.4444444444444444,
              "#bd3786"
             ],
             [
              0.5555555555555556,
              "#d8576b"
             ],
             [
              0.6666666666666666,
              "#ed7953"
             ],
             [
              0.7777777777777778,
              "#fb9f3a"
             ],
             [
              0.8888888888888888,
              "#fdca26"
             ],
             [
              1,
              "#f0f921"
             ]
            ],
            "type": "surface"
           }
          ],
          "table": [
           {
            "cells": {
             "fill": {
              "color": "#EBF0F8"
             },
             "line": {
              "color": "white"
             }
            },
            "header": {
             "fill": {
              "color": "#C8D4E3"
             },
             "line": {
              "color": "white"
             }
            },
            "type": "table"
           }
          ]
         },
         "layout": {
          "annotationdefaults": {
           "arrowcolor": "#2a3f5f",
           "arrowhead": 0,
           "arrowwidth": 1
          },
          "autotypenumbers": "strict",
          "coloraxis": {
           "colorbar": {
            "outlinewidth": 0,
            "ticks": ""
           }
          },
          "colorscale": {
           "diverging": [
            [
             0,
             "#003f5c"
            ],
            [
             0.16666666666666666,
             "#577187"
            ],
            [
             0.3333333333333333,
             "#9ca8b4"
            ],
            [
             0.5,
             "#e2e2e2"
            ],
            [
             0.6666666666666666,
             "#d0a2af"
            ],
            [
             0.8333333333333334,
             "#b8637e"
            ],
            [
             1,
             "#9a1050"
            ]
           ],
           "sequential": [
            [
             0,
             "#003f5c"
            ],
            [
             0.14285714285714285,
             "#2f4b7c"
            ],
            [
             0.2857142857142857,
             "#665191"
            ],
            [
             0.42857142857142855,
             "#a05195"
            ],
            [
             0.5714285714285714,
             "#d45087"
            ],
            [
             0.7142857142857143,
             "#f95d6a"
            ],
            [
             0.8571428571428571,
             "#ff7c43"
            ],
            [
             1,
             "#ffa600"
            ]
           ],
           "sequentialminus": [
            [
             0,
             "#0d0887"
            ],
            [
             0.1111111111111111,
             "#46039f"
            ],
            [
             0.2222222222222222,
             "#7201a8"
            ],
            [
             0.3333333333333333,
             "#9c179e"
            ],
            [
             0.4444444444444444,
             "#bd3786"
            ],
            [
             0.5555555555555556,
             "#d8576b"
            ],
            [
             0.6666666666666666,
             "#ed7953"
            ],
            [
             0.7777777777777778,
             "#fb9f3a"
            ],
            [
             0.8888888888888888,
             "#fdca26"
            ],
            [
             1,
             "#f0f921"
            ]
           ]
          },
          "colorway": [
           "#428299",
           "#F48A64",
           "#77C6B1",
           "#F2D65F",
           "#80A4CE",
           "#CC9EB1",
           "#BFD88F",
           "#8E8E8E"
          ],
          "font": {
           "color": "black",
           "family": "../fonts/Barlow-Regular.ttf, Barlow, Droid Sans, PT Sans Narrow, Arial Narrow, Arial",
           "size": 14
          },
          "geo": {
           "bgcolor": "white",
           "lakecolor": "white",
           "landcolor": "white",
           "showlakes": true,
           "showland": true,
           "subunitcolor": "#C8D4E3"
          },
          "hoverlabel": {
           "align": "left"
          },
          "hovermode": "closest",
          "mapbox": {
           "style": "light"
          },
          "paper_bgcolor": "white",
          "plot_bgcolor": "white",
          "polar": {
           "angularaxis": {
            "gridcolor": "#EBF0F8",
            "linecolor": "#EBF0F8",
            "ticks": ""
           },
           "bgcolor": "white",
           "radialaxis": {
            "gridcolor": "#EBF0F8",
            "linecolor": "#EBF0F8",
            "ticks": ""
           }
          },
          "scene": {
           "xaxis": {
            "backgroundcolor": "white",
            "gridcolor": "#DFE8F3",
            "gridwidth": 2,
            "linecolor": "#EBF0F8",
            "showbackground": true,
            "ticks": "",
            "zerolinecolor": "#EBF0F8"
           },
           "yaxis": {
            "backgroundcolor": "white",
            "gridcolor": "#DFE8F3",
            "gridwidth": 2,
            "linecolor": "#EBF0F8",
            "showbackground": true,
            "ticks": "",
            "zerolinecolor": "#EBF0F8"
           },
           "zaxis": {
            "backgroundcolor": "white",
            "gridcolor": "#DFE8F3",
            "gridwidth": 2,
            "linecolor": "#EBF0F8",
            "showbackground": true,
            "ticks": "",
            "zerolinecolor": "#EBF0F8"
           }
          },
          "shapedefaults": {
           "line": {
            "color": "#428299"
           }
          },
          "ternary": {
           "aaxis": {
            "gridcolor": "#DFE8F3",
            "linecolor": "#A2B1C6",
            "ticks": ""
           },
           "baxis": {
            "gridcolor": "#DFE8F3",
            "linecolor": "#A2B1C6",
            "ticks": ""
           },
           "bgcolor": "white",
           "caxis": {
            "gridcolor": "#DFE8F3",
            "linecolor": "#A2B1C6",
            "ticks": ""
           }
          },
          "title": {
           "automargin": true,
           "font": {
            "color": "black",
            "size": 28,
            "weight": 400
           },
           "subtitle": {
            "font": {
             "color": "#373737",
             "size": 14,
             "weight": 200
            }
           },
           "x": 0.5,
           "y": 0.95,
           "yref": "container"
          },
          "xaxis": {
           "automargin": true,
           "gridcolor": "#EBF0F8",
           "linecolor": "#EBF0F8",
           "ticks": "",
           "title": {
            "standoff": 15
           },
           "zerolinecolor": "#EBF0F8",
           "zerolinewidth": 2
          },
          "yaxis": {
           "automargin": true,
           "gridcolor": "#EBF0F8",
           "linecolor": "#EBF0F8",
           "ticks": "",
           "title": {
            "standoff": 15
           },
           "zerolinecolor": "#EBF0F8",
           "zerolinewidth": 2
          }
         }
        },
        "title": {
         "text": "Relative Risk of Importation"
        },
        "width": 800,
        "xaxis": {
         "anchor": "y",
         "autorange": true,
         "domain": [
          0,
          1
         ],
         "range": [
          0,
          0.25075947790087016
         ],
         "title": {
          "text": "Relative Risk of Importation"
         },
         "type": "linear"
        },
        "yaxis": {
         "anchor": "x",
         "autorange": true,
         "categoryarray": [
          "Other",
          "Iceland",
          "Switzerland",
          "Ireland",
          "Netherlands",
          "Spain",
          "Italy",
          "Germany",
          "France",
          "United Kingdom"
         ],
         "categoryorder": "array",
         "domain": [
          0,
          1
         ],
         "range": [
          -0.5,
          9.5
         ],
         "title": {
          "text": "Target"
         },
         "type": "category"
        }
       }
      },
      "image/png": "[encoded data removed]",
      "text/html": [
       "<div>                            <div id=\"09a21020-4342-43e2-922f-ba1a8fbd5c3e\" class=\"plotly-graph-div\" style=\"height:500px; width:800px;\"></div>            <script type=\"text/javascript\">                require([\"plotly\"], function(Plotly) {                    window.PLOTLYENV=window.PLOTLYENV || {};                                    if (document.getElementById(\"09a21020-4342-43e2-922f-ba1a8fbd5c3e\")) {                    Plotly.newPlot(                        \"09a21020-4342-43e2-922f-ba1a8fbd5c3e\",                        [{\"alignmentgroup\":\"True\",\"hovertemplate\":\"Relative Risk of Importation=%{x}\\u003cbr\\u003eTarget=%{y}\\u003cextra\\u003e\\u003c\\u002fextra\\u003e\",\"legendgroup\":\"\",\"marker\":{\"color\":\"#428299\",\"pattern\":{\"shape\":\"\"}},\"name\":\"\",\"offsetgroup\":\"\",\"orientation\":\"h\",\"showlegend\":false,\"textposition\":\"auto\",\"x\":[0.23822150400582665,0.19131236343772762,0.1407388018936635,0.10771349235251275,0.08867443554260743,0.0883330298616169,0.05041423889293518,0.041776675163874726,0.028143208302986163,0.02467225054624909],\"xaxis\":\"x\",\"y\":[\"United Kingdom\",\"Other\",\"France\",\"Germany\",\"Italy\",\"Spain\",\"Netherlands\",\"Ireland\",\"Switzerland\",\"Iceland\"],\"yaxis\":\"y\",\"type\":\"bar\"}],                        {\"template\":{\"data\":{\"barpolar\":[{\"marker\":{\"line\":{\"color\":\"white\",\"width\":0.5},\"pattern\":{\"fillmode\":\"overlay\",\"size\":10,\"solidity\":0.2}},\"type\":\"barpolar\"}],\"bar\":[{\"error_x\":{\"color\":\"#2a3f5f\"},\"error_y\":{\"color\":\"#2a3f5f\"},\"marker\":{\"line\":{\"color\":\"white\",\"width\":0.5},\"pattern\":{\"fillmode\":\"overlay\",\"size\":10,\"solidity\":0.2}},\"type\":\"bar\"}],\"carpet\":[{\"aaxis\":{\"endlinecolor\":\"#2a3f5f\",\"gridcolor\":\"#C8D4E3\",\"linecolor\":\"#C8D4E3\",\"minorgridcolor\":\"#C8D4E3\",\"startlinecolor\":\"#2a3f5f\"},\"baxis\":{\"endlinecolor\":\"#2a3f5f\",\"gridcolor\":\"#C8D4E3\",\"linecolor\":\"#C8D4E3\",\"minorgridcolor\":\"#C8D4E3\",\"startlinecolor\":\"#2a3f5f\"},\"type\":\"carpet\"}],\"choropleth\":[{\"colorbar\":{\"outlinewidth\":0,\"ticks\":\"\"},\"type\":\"choropleth\"}],\"contourcarpet\":[{\"colorbar\":{\"outlinewidth\":0,\"ticks\":\"\"},\"type\":\"contourcarpet\"}],\"contour\":[{\"colorbar\":{\"outlinewidth\":0,\"ticks\":\"\"},\"colorscale\":[[0.0,\"#0d0887\"],[0.1111111111111111,\"#46039f\"],[0.2222222222222222,\"#7201a8\"],[0.3333333333333333,\"#9c179e\"],[0.4444444444444444,\"#bd3786\"],[0.5555555555555556,\"#d8576b\"],[0.6666666666666666,\"#ed7953\"],[0.7777777777777778,\"#fb9f3a\"],[0.8888888888888888,\"#fdca26\"],[1.0,\"#f0f921\"]],\"type\":\"contour\"}],\"heatmapgl\":[{\"colorbar\":{\"outlinewidth\":0,\"ticks\":\"\"},\"colorscale\":[[0.0,\"#0d0887\"],[0.1111111111111111,\"#46039f\"],[0.2222222222222222,\"#7201a8\"],[0.3333333333333333,\"#9c179e\"],[0.4444444444444444,\"#bd3786\"],[0.5555555555555556,\"#d8576b\"],[0.6666666666666666,\"#ed7953\"],[0.7777777777777778,\"#fb9f3a\"],[0.8888888888888888,\"#fdca26\"],[1.0,\"#f0f921\"]],\"type\":\"heatmapgl\"}],\"heatmap\":[{\"colorbar\":{\"outlinewidth\":0,\"ticks\":\"\"},\"colorscale\":[[0.0,\"#0d0887\"],[0.1111111111111111,\"#46039f\"],[0.2222222222222222,\"#7201a8\"],[0.3333333333333333,\"#9c179e\"],[0.4444444444444444,\"#bd3786\"],[0.5555555555555556,\"#d8576b\"],[0.6666666666666666,\"#ed7953\"],[0.7777777777777778,\"#fb9f3a\"],[0.8888888888888888,\"#fdca26\"],[1.0,\"#f0f921\"]],\"type\":\"heatmap\"}],\"histogram2dcontour\":[{\"colorbar\":{\"outlinewidth\":0,\"ticks\":\"\"},\"colorscale\":[[0.0,\"#0d0887\"],[0.1111111111111111,\"#46039f\"],[0.2222222222222222,\"#7201a8\"],[0.3333333333333333,\"#9c179e\"],[0.4444444444444444,\"#bd3786\"],[0.5555555555555556,\"#d8576b\"],[0.6666666666666666,\"#ed7953\"],[0.7777777777777778,\"#fb9f3a\"],[0.8888888888888888,\"#fdca26\"],[1.0,\"#f0f921\"]],\"type\":\"histogram2dcontour\"}],\"histogram2d\":[{\"colorbar\":{\"outlinewidth\":0,\"ticks\":\"\"},\"colorscale\":[[0.0,\"#0d0887\"],[0.1111111111111111,\"#46039f\"],[0.2222222222222222,\"#7201a8\"],[0.3333333333333333,\"#9c179e\"],[0.4444444444444444,\"#bd3786\"],[0.5555555555555556,\"#d8576b\"],[0.6666666666666666,\"#ed7953\"],[0.7777777777777778,\"#fb9f3a\"],[0.8888888888888888,\"#fdca26\"],[1.0,\"#f0f921\"]],\"type\":\"histogram2d\"}],\"histogram\":[{\"marker\":{\"pattern\":{\"fillmode\":\"overlay\",\"size\":10,\"solidity\":0.2}},\"type\":\"histogram\"}],\"mesh3d\":[{\"colorbar\":{\"outlinewidth\":0,\"ticks\":\"\"},\"type\":\"mesh3d\"}],\"parcoords\":[{\"line\":{\"colorbar\":{\"outlinewidth\":0,\"ticks\":\"\"}},\"type\":\"parcoords\"}],\"pie\":[{\"automargin\":true,\"type\":\"pie\"}],\"scatter3d\":[{\"line\":{\"colorbar\":{\"outlinewidth\":0,\"ticks\":\"\"}},\"marker\":{\"colorbar\":{\"outlinewidth\":0,\"ticks\":\"\"}},\"type\":\"scatter3d\"}],\"scattercarpet\":[{\"marker\":{\"colorbar\":{\"outlinewidth\":0,\"ticks\":\"\"}},\"type\":\"scattercarpet\"}],\"scattergeo\":[{\"marker\":{\"colorbar\":{\"outlinewidth\":0,\"ticks\":\"\"}},\"type\":\"scattergeo\"}],\"scattergl\":[{\"marker\":{\"colorbar\":{\"outlinewidth\":0,\"ticks\":\"\"}},\"type\":\"scattergl\"}],\"scattermapbox\":[{\"marker\":{\"colorbar\":{\"outlinewidth\":0,\"ticks\":\"\"}},\"type\":\"scattermapbox\"}],\"scatterpolargl\":[{\"marker\":{\"colorbar\":{\"outlinewidth\":0,\"ticks\":\"\"}},\"type\":\"scatterpolargl\"}],\"scatterpolar\":[{\"marker\":{\"colorbar\":{\"outlinewidth\":0,\"ticks\":\"\"}},\"type\":\"scatterpolar\"}],\"scatter\":[{\"fillpattern\":{\"fillmode\":\"overlay\",\"size\":10,\"solidity\":0.2},\"type\":\"scatter\"}],\"scatterternary\":[{\"marker\":{\"colorbar\":{\"outlinewidth\":0,\"ticks\":\"\"}},\"type\":\"scatterternary\"}],\"surface\":[{\"colorbar\":{\"outlinewidth\":0,\"ticks\":\"\"},\"colorscale\":[[0.0,\"#0d0887\"],[0.1111111111111111,\"#46039f\"],[0.2222222222222222,\"#7201a8\"],[0.3333333333333333,\"#9c179e\"],[0.4444444444444444,\"#bd3786\"],[0.5555555555555556,\"#d8576b\"],[0.6666666666666666,\"#ed7953\"],[0.7777777777777778,\"#fb9f3a\"],[0.8888888888888888,\"#fdca26\"],[1.0,\"#f0f921\"]],\"type\":\"surface\"}],\"table\":[{\"cells\":{\"fill\":{\"color\":\"#EBF0F8\"},\"line\":{\"color\":\"white\"}},\"header\":{\"fill\":{\"color\":\"#C8D4E3\"},\"line\":{\"color\":\"white\"}},\"type\":\"table\"}]},\"layout\":{\"annotationdefaults\":{\"arrowcolor\":\"#2a3f5f\",\"arrowhead\":0,\"arrowwidth\":1},\"autotypenumbers\":\"strict\",\"coloraxis\":{\"colorbar\":{\"outlinewidth\":0,\"ticks\":\"\"}},\"colorscale\":{\"diverging\":[[0.0,\"#003f5c\"],[0.16666666666666666,\"#577187\"],[0.3333333333333333,\"#9ca8b4\"],[0.5,\"#e2e2e2\"],[0.6666666666666666,\"#d0a2af\"],[0.8333333333333334,\"#b8637e\"],[1.0,\"#9a1050\"]],\"sequential\":[[0.0,\"#003f5c\"],[0.14285714285714285,\"#2f4b7c\"],[0.2857142857142857,\"#665191\"],[0.42857142857142855,\"#a05195\"],[0.5714285714285714,\"#d45087\"],[0.7142857142857143,\"#f95d6a\"],[0.8571428571428571,\"#ff7c43\"],[1.0,\"#ffa600\"]],\"sequentialminus\":[[0.0,\"#0d0887\"],[0.1111111111111111,\"#46039f\"],[0.2222222222222222,\"#7201a8\"],[0.3333333333333333,\"#9c179e\"],[0.4444444444444444,\"#bd3786\"],[0.5555555555555556,\"#d8576b\"],[0.6666666666666666,\"#ed7953\"],[0.7777777777777778,\"#fb9f3a\"],[0.8888888888888888,\"#fdca26\"],[1.0,\"#f0f921\"]]},\"colorway\":[\"#428299\",\"#F48A64\",\"#77C6B1\",\"#F2D65F\",\"#80A4CE\",\"#CC9EB1\",\"#BFD88F\",\"#8E8E8E\"],\"font\":{\"color\":\"black\",\"family\":\"..\\u002ffonts\\u002fBarlow-Regular.ttf, Barlow, Droid Sans, PT Sans Narrow, Arial Narrow, Arial\",\"size\":14},\"geo\":{\"bgcolor\":\"white\",\"lakecolor\":\"white\",\"landcolor\":\"white\",\"showlakes\":true,\"showland\":true,\"subunitcolor\":\"#C8D4E3\"},\"hoverlabel\":{\"align\":\"left\"},\"hovermode\":\"closest\",\"mapbox\":{\"style\":\"light\"},\"paper_bgcolor\":\"white\",\"plot_bgcolor\":\"white\",\"polar\":{\"angularaxis\":{\"gridcolor\":\"#EBF0F8\",\"linecolor\":\"#EBF0F8\",\"ticks\":\"\"},\"bgcolor\":\"white\",\"radialaxis\":{\"gridcolor\":\"#EBF0F8\",\"linecolor\":\"#EBF0F8\",\"ticks\":\"\"}},\"scene\":{\"xaxis\":{\"backgroundcolor\":\"white\",\"gridcolor\":\"#DFE8F3\",\"gridwidth\":2,\"linecolor\":\"#EBF0F8\",\"showbackground\":true,\"ticks\":\"\",\"zerolinecolor\":\"#EBF0F8\"},\"yaxis\":{\"backgroundcolor\":\"white\",\"gridcolor\":\"#DFE8F3\",\"gridwidth\":2,\"linecolor\":\"#EBF0F8\",\"showbackground\":true,\"ticks\":\"\",\"zerolinecolor\":\"#EBF0F8\"},\"zaxis\":{\"backgroundcolor\":\"white\",\"gridcolor\":\"#DFE8F3\",\"gridwidth\":2,\"linecolor\":\"#EBF0F8\",\"showbackground\":true,\"ticks\":\"\",\"zerolinecolor\":\"#EBF0F8\"}},\"shapedefaults\":{\"line\":{\"color\":\"#428299\"}},\"ternary\":{\"aaxis\":{\"gridcolor\":\"#DFE8F3\",\"linecolor\":\"#A2B1C6\",\"ticks\":\"\"},\"baxis\":{\"gridcolor\":\"#DFE8F3\",\"linecolor\":\"#A2B1C6\",\"ticks\":\"\"},\"bgcolor\":\"white\",\"caxis\":{\"gridcolor\":\"#DFE8F3\",\"linecolor\":\"#A2B1C6\",\"ticks\":\"\"}},\"title\":{\"automargin\":true,\"font\":{\"color\":\"black\",\"size\":28,\"weight\":400},\"subtitle\":{\"font\":{\"color\":\"#373737\",\"size\":14,\"weight\":200}},\"x\":0.5,\"y\":0.95,\"yref\":\"container\"},\"xaxis\":{\"automargin\":true,\"gridcolor\":\"#EBF0F8\",\"linecolor\":\"#EBF0F8\",\"ticks\":\"\",\"title\":{\"standoff\":15},\"zerolinecolor\":\"#EBF0F8\",\"zerolinewidth\":2},\"yaxis\":{\"automargin\":true,\"gridcolor\":\"#EBF0F8\",\"linecolor\":\"#EBF0F8\",\"ticks\":\"\",\"title\":{\"standoff\":15},\"zerolinecolor\":\"#EBF0F8\",\"zerolinewidth\":2}}},\"xaxis\":{\"anchor\":\"y\",\"domain\":[0.0,1.0],\"title\":{\"text\":\"Relative Risk of Importation\"}},\"yaxis\":{\"anchor\":\"x\",\"domain\":[0.0,1.0],\"title\":{\"text\":\"Target\"},\"categoryorder\":\"array\",\"categoryarray\":[\"Other\",\"Iceland\",\"Switzerland\",\"Ireland\",\"Netherlands\",\"Spain\",\"Italy\",\"Germany\",\"France\",\"United Kingdom\"]},\"legend\":{\"tracegroupgap\":0},\"margin\":{\"t\":60},\"barmode\":\"relative\",\"title\":{\"text\":\"Relative Risk of Importation\"},\"showlegend\":false,\"font\":{\"family\":\"PT Sans Narrow\"},\"width\":800,\"height\":500},                        {\"responsive\": true}                    ).then(function(){\n",
       "                            \n",
       "var gd = document.getElementById('09a21020-4342-43e2-922f-ba1a8fbd5c3e');\n",
       "var x = new MutationObserver(function (mutations, observer) {{\n",
       "        var display = window.getComputedStyle(gd).display;\n",
       "        if (!display || display === 'none') {{\n",
       "            console.log([gd, 'removed!']);\n",
       "            Plotly.purge(gd);\n",
       "            observer.disconnect();\n",
       "        }}\n",
       "}});\n",
       "\n",
       "// Listen for the removal of the full notebook cells\n",
       "var notebookContainer = gd.closest('#notebook-container');\n",
       "if (notebookContainer) {{\n",
       "    x.observe(notebookContainer, {childList: true});\n",
       "}}\n",
       "\n",
       "// Listen for the clearing of the current output cell\n",
       "var outputEl = gd.closest('.output');\n",
       "if (outputEl) {{\n",
       "    x.observe(outputEl, {childList: true});\n",
       "}}\n",
       "\n",
       "                        })                };                });            </script>        </div>"
      ]
     },
     "metadata": {},
     "output_type": "display_data"
    }
   ],
   "source": [
    "rr_fig.layout.font.family = 'PT Sans Narrow'\n",
    "rr_fig.update_layout(width=800, height=500)\n",
    "rr_fig"
   ]
  },
  {
   "cell_type": "markdown",
   "id": "4e2b0d38-f870-4db0-a4f9-5825161018a6",
   "metadata": {},
   "source": [
    "#### Sankey"
   ]
  },
  {
   "cell_type": "code",
   "execution_count": 30,
   "id": "9926ef8d-d965-45eb-a3b0-2d16ab2bf70e",
   "metadata": {},
   "outputs": [],
   "source": [
    "n_sources = 4"
   ]
  },
  {
   "cell_type": "code",
   "execution_count": 31,
   "id": "a72bc865-f2a4-40b4-8569-8567676fedf2",
   "metadata": {},
   "outputs": [],
   "source": [
    "s_fig = ei.sankey(client, \n",
    "                  table_name=table_name,\n",
    "                  reference_table=reference_table_name,\n",
    "                  source_geo_level=source_geo_level,\n",
    "                  target_geo_level=target_geo_level,\n",
    "                  source_values=source_values,\n",
    "                  target_values=target_values,\n",
    "                  date_range=date_range,\n",
    "                  value=value_column,\n",
    "                  cutoff=0.05,\n",
    "                  source_resolution=output_resolution,\n",
    "                  target_resolution=output_resolution,\n",
    "                  n_sources=n_sources,\n",
    "                  n_targets=n\n",
    "\n",
    "                 )"
   ]
  },
  {
   "cell_type": "code",
   "execution_count": 32,
   "id": "a6b46ac5-60ca-4d92-b1c0-a2ad9ea67069",
   "metadata": {},
   "outputs": [
    {
     "data": {
      "application/vnd.plotly.v1+json": {
       "config": {
        "plotlyServerURL": "https://plot.ly"
       },
       "data": [
        {
         "link": {
          "color": "rgba(221, 219, 215, .6)",
          "source": [
           8,
           8,
           8,
           8,
           8,
           8,
           2,
           2,
           9,
           8,
           9,
           2,
           2,
           10,
           2,
           2,
           9,
           9,
           9,
           10,
           10,
           10,
           10,
           10,
           2,
           9,
           10,
           9
          ],
          "target": [
           5,
           3,
           0,
           6,
           7,
           1,
           7,
           1,
           4,
           4,
           7,
           6,
           5,
           4,
           4,
           3,
           5,
           6,
           1,
           1,
           3,
           7,
           5,
           6,
           0,
           0,
           0,
           3
          ],
          "value": [
           0.016341951930080117,
           0.007385742898761836,
           0.015625,
           0.0031067916970138384,
           0.006054260742898762,
           0.008341678805535324,
           0.07632693008011654,
           0.21515386016023308,
           0.010913601602330663,
           0.005564912600145667,
           0.010321831755280408,
           0.02779042243262928,
           0.16102967953386743,
           0.011505371449380918,
           0.060690549890750185,
           0.06641478514202476,
           0.03267252367079388,
           0.006327385287691187,
           0.042038419519300804,
           0.02037053896576839,
           0.044644482884195195,
           0.015010469774217043,
           0.028177348871085216,
           0.013189639475600874,
           0.0430626365622724,
           0.006611890021849963,
           0.023033503277494538,
           0.02229379096868172
          ]
         },
         "node": {
          "label": [
           "Spain",
           "Other",
           "United States of America",
           "France",
           "Italy",
           "United Kingdom",
           "Netherlands",
           "Germany",
           "Mexico",
           "Canada",
           "Other"
          ],
          "line": {
           "color": "black",
           "width": 0
          },
          "pad": 15,
          "thickness": 20
         },
         "type": "sankey",
         "valueformat": ".1%"
        }
       ],
       "layout": {
        "font": {
         "family": "PT Sans Narrow"
        },
        "height": 1000,
        "template": {
         "data": {
          "bar": [
           {
            "error_x": {
             "color": "#2a3f5f"
            },
            "error_y": {
             "color": "#2a3f5f"
            },
            "marker": {
             "line": {
              "color": "white",
              "width": 0.5
             },
             "pattern": {
              "fillmode": "overlay",
              "size": 10,
              "solidity": 0.2
             }
            },
            "type": "bar"
           }
          ],
          "barpolar": [
           {
            "marker": {
             "line": {
              "color": "white",
              "width": 0.5
             },
             "pattern": {
              "fillmode": "overlay",
              "size": 10,
              "solidity": 0.2
             }
            },
            "type": "barpolar"
           }
          ],
          "carpet": [
           {
            "aaxis": {
             "endlinecolor": "#2a3f5f",
             "gridcolor": "#C8D4E3",
             "linecolor": "#C8D4E3",
             "minorgridcolor": "#C8D4E3",
             "startlinecolor": "#2a3f5f"
            },
            "baxis": {
             "endlinecolor": "#2a3f5f",
             "gridcolor": "#C8D4E3",
             "linecolor": "#C8D4E3",
             "minorgridcolor": "#C8D4E3",
             "startlinecolor": "#2a3f5f"
            },
            "type": "carpet"
           }
          ],
          "choropleth": [
           {
            "colorbar": {
             "outlinewidth": 0,
             "ticks": ""
            },
            "type": "choropleth"
           }
          ],
          "contour": [
           {
            "colorbar": {
             "outlinewidth": 0,
             "ticks": ""
            },
            "colorscale": [
             [
              0,
              "#0d0887"
             ],
             [
              0.1111111111111111,
              "#46039f"
             ],
             [
              0.2222222222222222,
              "#7201a8"
             ],
             [
              0.3333333333333333,
              "#9c179e"
             ],
             [
              0.4444444444444444,
              "#bd3786"
             ],
             [
              0.5555555555555556,
              "#d8576b"
             ],
             [
              0.6666666666666666,
              "#ed7953"
             ],
             [
              0.7777777777777778,
              "#fb9f3a"
             ],
             [
              0.8888888888888888,
              "#fdca26"
             ],
             [
              1,
              "#f0f921"
             ]
            ],
            "type": "contour"
           }
          ],
          "contourcarpet": [
           {
            "colorbar": {
             "outlinewidth": 0,
             "ticks": ""
            },
            "type": "contourcarpet"
           }
          ],
          "heatmap": [
           {
            "colorbar": {
             "outlinewidth": 0,
             "ticks": ""
            },
            "colorscale": [
             [
              0,
              "#0d0887"
             ],
             [
              0.1111111111111111,
              "#46039f"
             ],
             [
              0.2222222222222222,
              "#7201a8"
             ],
             [
              0.3333333333333333,
              "#9c179e"
             ],
             [
              0.4444444444444444,
              "#bd3786"
             ],
             [
              0.5555555555555556,
              "#d8576b"
             ],
             [
              0.6666666666666666,
              "#ed7953"
             ],
             [
              0.7777777777777778,
              "#fb9f3a"
             ],
             [
              0.8888888888888888,
              "#fdca26"
             ],
             [
              1,
              "#f0f921"
             ]
            ],
            "type": "heatmap"
           }
          ],
          "heatmapgl": [
           {
            "colorbar": {
             "outlinewidth": 0,
             "ticks": ""
            },
            "colorscale": [
             [
              0,
              "#0d0887"
             ],
             [
              0.1111111111111111,
              "#46039f"
             ],
             [
              0.2222222222222222,
              "#7201a8"
             ],
             [
              0.3333333333333333,
              "#9c179e"
             ],
             [
              0.4444444444444444,
              "#bd3786"
             ],
             [
              0.5555555555555556,
              "#d8576b"
             ],
             [
              0.6666666666666666,
              "#ed7953"
             ],
             [
              0.7777777777777778,
              "#fb9f3a"
             ],
             [
              0.8888888888888888,
              "#fdca26"
             ],
             [
              1,
              "#f0f921"
             ]
            ],
            "type": "heatmapgl"
           }
          ],
          "histogram": [
           {
            "marker": {
             "pattern": {
              "fillmode": "overlay",
              "size": 10,
              "solidity": 0.2
             }
            },
            "type": "histogram"
           }
          ],
          "histogram2d": [
           {
            "colorbar": {
             "outlinewidth": 0,
             "ticks": ""
            },
            "colorscale": [
             [
              0,
              "#0d0887"
             ],
             [
              0.1111111111111111,
              "#46039f"
             ],
             [
              0.2222222222222222,
              "#7201a8"
             ],
             [
              0.3333333333333333,
              "#9c179e"
             ],
             [
              0.4444444444444444,
              "#bd3786"
             ],
             [
              0.5555555555555556,
              "#d8576b"
             ],
             [
              0.6666666666666666,
              "#ed7953"
             ],
             [
              0.7777777777777778,
              "#fb9f3a"
             ],
             [
              0.8888888888888888,
              "#fdca26"
             ],
             [
              1,
              "#f0f921"
             ]
            ],
            "type": "histogram2d"
           }
          ],
          "histogram2dcontour": [
           {
            "colorbar": {
             "outlinewidth": 0,
             "ticks": ""
            },
            "colorscale": [
             [
              0,
              "#0d0887"
             ],
             [
              0.1111111111111111,
              "#46039f"
             ],
             [
              0.2222222222222222,
              "#7201a8"
             ],
             [
              0.3333333333333333,
              "#9c179e"
             ],
             [
              0.4444444444444444,
              "#bd3786"
             ],
             [
              0.5555555555555556,
              "#d8576b"
             ],
             [
              0.6666666666666666,
              "#ed7953"
             ],
             [
              0.7777777777777778,
              "#fb9f3a"
             ],
             [
              0.8888888888888888,
              "#fdca26"
             ],
             [
              1,
              "#f0f921"
             ]
            ],
            "type": "histogram2dcontour"
           }
          ],
          "mesh3d": [
           {
            "colorbar": {
             "outlinewidth": 0,
             "ticks": ""
            },
            "type": "mesh3d"
           }
          ],
          "parcoords": [
           {
            "line": {
             "colorbar": {
              "outlinewidth": 0,
              "ticks": ""
             }
            },
            "type": "parcoords"
           }
          ],
          "pie": [
           {
            "automargin": true,
            "type": "pie"
           }
          ],
          "scatter": [
           {
            "fillpattern": {
             "fillmode": "overlay",
             "size": 10,
             "solidity": 0.2
            },
            "type": "scatter"
           }
          ],
          "scatter3d": [
           {
            "line": {
             "colorbar": {
              "outlinewidth": 0,
              "ticks": ""
             }
            },
            "marker": {
             "colorbar": {
              "outlinewidth": 0,
              "ticks": ""
             }
            },
            "type": "scatter3d"
           }
          ],
          "scattercarpet": [
           {
            "marker": {
             "colorbar": {
              "outlinewidth": 0,
              "ticks": ""
             }
            },
            "type": "scattercarpet"
           }
          ],
          "scattergeo": [
           {
            "marker": {
             "colorbar": {
              "outlinewidth": 0,
              "ticks": ""
             }
            },
            "type": "scattergeo"
           }
          ],
          "scattergl": [
           {
            "marker": {
             "colorbar": {
              "outlinewidth": 0,
              "ticks": ""
             }
            },
            "type": "scattergl"
           }
          ],
          "scattermapbox": [
           {
            "marker": {
             "colorbar": {
              "outlinewidth": 0,
              "ticks": ""
             }
            },
            "type": "scattermapbox"
           }
          ],
          "scatterpolar": [
           {
            "marker": {
             "colorbar": {
              "outlinewidth": 0,
              "ticks": ""
             }
            },
            "type": "scatterpolar"
           }
          ],
          "scatterpolargl": [
           {
            "marker": {
             "colorbar": {
              "outlinewidth": 0,
              "ticks": ""
             }
            },
            "type": "scatterpolargl"
           }
          ],
          "scatterternary": [
           {
            "marker": {
             "colorbar": {
              "outlinewidth": 0,
              "ticks": ""
             }
            },
            "type": "scatterternary"
           }
          ],
          "surface": [
           {
            "colorbar": {
             "outlinewidth": 0,
             "ticks": ""
            },
            "colorscale": [
             [
              0,
              "#0d0887"
             ],
             [
              0.1111111111111111,
              "#46039f"
             ],
             [
              0.2222222222222222,
              "#7201a8"
             ],
             [
              0.3333333333333333,
              "#9c179e"
             ],
             [
              0.4444444444444444,
              "#bd3786"
             ],
             [
              0.5555555555555556,
              "#d8576b"
             ],
             [
              0.6666666666666666,
              "#ed7953"
             ],
             [
              0.7777777777777778,
              "#fb9f3a"
             ],
             [
              0.8888888888888888,
              "#fdca26"
             ],
             [
              1,
              "#f0f921"
             ]
            ],
            "type": "surface"
           }
          ],
          "table": [
           {
            "cells": {
             "fill": {
              "color": "#EBF0F8"
             },
             "line": {
              "color": "white"
             }
            },
            "header": {
             "fill": {
              "color": "#C8D4E3"
             },
             "line": {
              "color": "white"
             }
            },
            "type": "table"
           }
          ]
         },
         "layout": {
          "annotationdefaults": {
           "arrowcolor": "#2a3f5f",
           "arrowhead": 0,
           "arrowwidth": 1
          },
          "autotypenumbers": "strict",
          "coloraxis": {
           "colorbar": {
            "outlinewidth": 0,
            "ticks": ""
           }
          },
          "colorscale": {
           "diverging": [
            [
             0,
             "#003f5c"
            ],
            [
             0.16666666666666666,
             "#577187"
            ],
            [
             0.3333333333333333,
             "#9ca8b4"
            ],
            [
             0.5,
             "#e2e2e2"
            ],
            [
             0.6666666666666666,
             "#d0a2af"
            ],
            [
             0.8333333333333334,
             "#b8637e"
            ],
            [
             1,
             "#9a1050"
            ]
           ],
           "sequential": [
            [
             0,
             "#003f5c"
            ],
            [
             0.14285714285714285,
             "#2f4b7c"
            ],
            [
             0.2857142857142857,
             "#665191"
            ],
            [
             0.42857142857142855,
             "#a05195"
            ],
            [
             0.5714285714285714,
             "#d45087"
            ],
            [
             0.7142857142857143,
             "#f95d6a"
            ],
            [
             0.8571428571428571,
             "#ff7c43"
            ],
            [
             1,
             "#ffa600"
            ]
           ],
           "sequentialminus": [
            [
             0,
             "#0d0887"
            ],
            [
             0.1111111111111111,
             "#46039f"
            ],
            [
             0.2222222222222222,
             "#7201a8"
            ],
            [
             0.3333333333333333,
             "#9c179e"
            ],
            [
             0.4444444444444444,
             "#bd3786"
            ],
            [
             0.5555555555555556,
             "#d8576b"
            ],
            [
             0.6666666666666666,
             "#ed7953"
            ],
            [
             0.7777777777777778,
             "#fb9f3a"
            ],
            [
             0.8888888888888888,
             "#fdca26"
            ],
            [
             1,
             "#f0f921"
            ]
           ]
          },
          "colorway": [
           "#428299",
           "#F48A64",
           "#77C6B1",
           "#F2D65F",
           "#80A4CE",
           "#CC9EB1",
           "#BFD88F",
           "#8E8E8E"
          ],
          "font": {
           "color": "black",
           "family": "../fonts/Barlow-Regular.ttf, Barlow, Droid Sans, PT Sans Narrow, Arial Narrow, Arial",
           "size": 14
          },
          "geo": {
           "bgcolor": "white",
           "lakecolor": "white",
           "landcolor": "white",
           "showlakes": true,
           "showland": true,
           "subunitcolor": "#C8D4E3"
          },
          "hoverlabel": {
           "align": "left"
          },
          "hovermode": "closest",
          "mapbox": {
           "style": "light"
          },
          "paper_bgcolor": "white",
          "plot_bgcolor": "white",
          "polar": {
           "angularaxis": {
            "gridcolor": "#EBF0F8",
            "linecolor": "#EBF0F8",
            "ticks": ""
           },
           "bgcolor": "white",
           "radialaxis": {
            "gridcolor": "#EBF0F8",
            "linecolor": "#EBF0F8",
            "ticks": ""
           }
          },
          "scene": {
           "xaxis": {
            "backgroundcolor": "white",
            "gridcolor": "#DFE8F3",
            "gridwidth": 2,
            "linecolor": "#EBF0F8",
            "showbackground": true,
            "ticks": "",
            "zerolinecolor": "#EBF0F8"
           },
           "yaxis": {
            "backgroundcolor": "white",
            "gridcolor": "#DFE8F3",
            "gridwidth": 2,
            "linecolor": "#EBF0F8",
            "showbackground": true,
            "ticks": "",
            "zerolinecolor": "#EBF0F8"
           },
           "zaxis": {
            "backgroundcolor": "white",
            "gridcolor": "#DFE8F3",
            "gridwidth": 2,
            "linecolor": "#EBF0F8",
            "showbackground": true,
            "ticks": "",
            "zerolinecolor": "#EBF0F8"
           }
          },
          "shapedefaults": {
           "line": {
            "color": "#428299"
           }
          },
          "ternary": {
           "aaxis": {
            "gridcolor": "#DFE8F3",
            "linecolor": "#A2B1C6",
            "ticks": ""
           },
           "baxis": {
            "gridcolor": "#DFE8F3",
            "linecolor": "#A2B1C6",
            "ticks": ""
           },
           "bgcolor": "white",
           "caxis": {
            "gridcolor": "#DFE8F3",
            "linecolor": "#A2B1C6",
            "ticks": ""
           }
          },
          "title": {
           "automargin": true,
           "font": {
            "color": "black",
            "size": 28,
            "weight": 400
           },
           "subtitle": {
            "font": {
             "color": "#373737",
             "size": 14,
             "weight": 200
            }
           },
           "x": 0.5,
           "y": 0.95,
           "yref": "container"
          },
          "xaxis": {
           "automargin": true,
           "gridcolor": "#EBF0F8",
           "linecolor": "#EBF0F8",
           "ticks": "",
           "title": {
            "standoff": 15
           },
           "zerolinecolor": "#EBF0F8",
           "zerolinewidth": 2
          },
          "yaxis": {
           "automargin": true,
           "gridcolor": "#EBF0F8",
           "linecolor": "#EBF0F8",
           "ticks": "",
           "title": {
            "standoff": 15
           },
           "zerolinecolor": "#EBF0F8",
           "zerolinewidth": 2
          }
         }
        },
        "title": {
         "text": "Sankey Plot",
         "y": 0.9
        },
        "width": 500
       }
      },
      "text/html": [
       "<div>                            <div id=\"1a9bf5ef-d99d-4bc7-bd40-7cbc8bb6927b\" class=\"plotly-graph-div\" style=\"height:1000px; width:500px;\"></div>            <script type=\"text/javascript\">                require([\"plotly\"], function(Plotly) {                    window.PLOTLYENV=window.PLOTLYENV || {};                                    if (document.getElementById(\"1a9bf5ef-d99d-4bc7-bd40-7cbc8bb6927b\")) {                    Plotly.newPlot(                        \"1a9bf5ef-d99d-4bc7-bd40-7cbc8bb6927b\",                        [{\"link\":{\"source\":[8,8,8,8,8,8,2,2,9,8,9,2,2,10,2,2,9,9,9,10,10,10,10,10,2,9,10,9],\"target\":[5,3,0,6,7,1,7,1,4,4,7,6,5,4,4,3,5,6,1,1,3,7,5,6,0,0,0,3],\"value\":[0.016341951930080117,0.007385742898761836,0.015625,0.0031067916970138384,0.006054260742898762,0.008341678805535324,0.07632693008011654,0.21515386016023308,0.010913601602330663,0.005564912600145667,0.010321831755280408,0.02779042243262928,0.16102967953386743,0.011505371449380918,0.060690549890750185,0.06641478514202476,0.03267252367079388,0.006327385287691187,0.042038419519300804,0.02037053896576839,0.044644482884195195,0.015010469774217043,0.028177348871085216,0.013189639475600874,0.0430626365622724,0.006611890021849963,0.023033503277494538,0.02229379096868172],\"color\":\"rgba(221, 219, 215, .6)\"},\"node\":{\"label\":[\"Spain\",\"Other\",\"United States of America\",\"France\",\"Italy\",\"United Kingdom\",\"Netherlands\",\"Germany\",\"Mexico\",\"Canada\",\"Other\"],\"line\":{\"color\":\"black\",\"width\":0},\"pad\":15,\"thickness\":20},\"type\":\"sankey\",\"valueformat\":\".1%\"}],                        {\"template\":{\"data\":{\"barpolar\":[{\"marker\":{\"line\":{\"color\":\"white\",\"width\":0.5},\"pattern\":{\"fillmode\":\"overlay\",\"size\":10,\"solidity\":0.2}},\"type\":\"barpolar\"}],\"bar\":[{\"error_x\":{\"color\":\"#2a3f5f\"},\"error_y\":{\"color\":\"#2a3f5f\"},\"marker\":{\"line\":{\"color\":\"white\",\"width\":0.5},\"pattern\":{\"fillmode\":\"overlay\",\"size\":10,\"solidity\":0.2}},\"type\":\"bar\"}],\"carpet\":[{\"aaxis\":{\"endlinecolor\":\"#2a3f5f\",\"gridcolor\":\"#C8D4E3\",\"linecolor\":\"#C8D4E3\",\"minorgridcolor\":\"#C8D4E3\",\"startlinecolor\":\"#2a3f5f\"},\"baxis\":{\"endlinecolor\":\"#2a3f5f\",\"gridcolor\":\"#C8D4E3\",\"linecolor\":\"#C8D4E3\",\"minorgridcolor\":\"#C8D4E3\",\"startlinecolor\":\"#2a3f5f\"},\"type\":\"carpet\"}],\"choropleth\":[{\"colorbar\":{\"outlinewidth\":0,\"ticks\":\"\"},\"type\":\"choropleth\"}],\"contourcarpet\":[{\"colorbar\":{\"outlinewidth\":0,\"ticks\":\"\"},\"type\":\"contourcarpet\"}],\"contour\":[{\"colorbar\":{\"outlinewidth\":0,\"ticks\":\"\"},\"colorscale\":[[0.0,\"#0d0887\"],[0.1111111111111111,\"#46039f\"],[0.2222222222222222,\"#7201a8\"],[0.3333333333333333,\"#9c179e\"],[0.4444444444444444,\"#bd3786\"],[0.5555555555555556,\"#d8576b\"],[0.6666666666666666,\"#ed7953\"],[0.7777777777777778,\"#fb9f3a\"],[0.8888888888888888,\"#fdca26\"],[1.0,\"#f0f921\"]],\"type\":\"contour\"}],\"heatmapgl\":[{\"colorbar\":{\"outlinewidth\":0,\"ticks\":\"\"},\"colorscale\":[[0.0,\"#0d0887\"],[0.1111111111111111,\"#46039f\"],[0.2222222222222222,\"#7201a8\"],[0.3333333333333333,\"#9c179e\"],[0.4444444444444444,\"#bd3786\"],[0.5555555555555556,\"#d8576b\"],[0.6666666666666666,\"#ed7953\"],[0.7777777777777778,\"#fb9f3a\"],[0.8888888888888888,\"#fdca26\"],[1.0,\"#f0f921\"]],\"type\":\"heatmapgl\"}],\"heatmap\":[{\"colorbar\":{\"outlinewidth\":0,\"ticks\":\"\"},\"colorscale\":[[0.0,\"#0d0887\"],[0.1111111111111111,\"#46039f\"],[0.2222222222222222,\"#7201a8\"],[0.3333333333333333,\"#9c179e\"],[0.4444444444444444,\"#bd3786\"],[0.5555555555555556,\"#d8576b\"],[0.6666666666666666,\"#ed7953\"],[0.7777777777777778,\"#fb9f3a\"],[0.8888888888888888,\"#fdca26\"],[1.0,\"#f0f921\"]],\"type\":\"heatmap\"}],\"histogram2dcontour\":[{\"colorbar\":{\"outlinewidth\":0,\"ticks\":\"\"},\"colorscale\":[[0.0,\"#0d0887\"],[0.1111111111111111,\"#46039f\"],[0.2222222222222222,\"#7201a8\"],[0.3333333333333333,\"#9c179e\"],[0.4444444444444444,\"#bd3786\"],[0.5555555555555556,\"#d8576b\"],[0.6666666666666666,\"#ed7953\"],[0.7777777777777778,\"#fb9f3a\"],[0.8888888888888888,\"#fdca26\"],[1.0,\"#f0f921\"]],\"type\":\"histogram2dcontour\"}],\"histogram2d\":[{\"colorbar\":{\"outlinewidth\":0,\"ticks\":\"\"},\"colorscale\":[[0.0,\"#0d0887\"],[0.1111111111111111,\"#46039f\"],[0.2222222222222222,\"#7201a8\"],[0.3333333333333333,\"#9c179e\"],[0.4444444444444444,\"#bd3786\"],[0.5555555555555556,\"#d8576b\"],[0.6666666666666666,\"#ed7953\"],[0.7777777777777778,\"#fb9f3a\"],[0.8888888888888888,\"#fdca26\"],[1.0,\"#f0f921\"]],\"type\":\"histogram2d\"}],\"histogram\":[{\"marker\":{\"pattern\":{\"fillmode\":\"overlay\",\"size\":10,\"solidity\":0.2}},\"type\":\"histogram\"}],\"mesh3d\":[{\"colorbar\":{\"outlinewidth\":0,\"ticks\":\"\"},\"type\":\"mesh3d\"}],\"parcoords\":[{\"line\":{\"colorbar\":{\"outlinewidth\":0,\"ticks\":\"\"}},\"type\":\"parcoords\"}],\"pie\":[{\"automargin\":true,\"type\":\"pie\"}],\"scatter3d\":[{\"line\":{\"colorbar\":{\"outlinewidth\":0,\"ticks\":\"\"}},\"marker\":{\"colorbar\":{\"outlinewidth\":0,\"ticks\":\"\"}},\"type\":\"scatter3d\"}],\"scattercarpet\":[{\"marker\":{\"colorbar\":{\"outlinewidth\":0,\"ticks\":\"\"}},\"type\":\"scattercarpet\"}],\"scattergeo\":[{\"marker\":{\"colorbar\":{\"outlinewidth\":0,\"ticks\":\"\"}},\"type\":\"scattergeo\"}],\"scattergl\":[{\"marker\":{\"colorbar\":{\"outlinewidth\":0,\"ticks\":\"\"}},\"type\":\"scattergl\"}],\"scattermapbox\":[{\"marker\":{\"colorbar\":{\"outlinewidth\":0,\"ticks\":\"\"}},\"type\":\"scattermapbox\"}],\"scatterpolargl\":[{\"marker\":{\"colorbar\":{\"outlinewidth\":0,\"ticks\":\"\"}},\"type\":\"scatterpolargl\"}],\"scatterpolar\":[{\"marker\":{\"colorbar\":{\"outlinewidth\":0,\"ticks\":\"\"}},\"type\":\"scatterpolar\"}],\"scatter\":[{\"fillpattern\":{\"fillmode\":\"overlay\",\"size\":10,\"solidity\":0.2},\"type\":\"scatter\"}],\"scatterternary\":[{\"marker\":{\"colorbar\":{\"outlinewidth\":0,\"ticks\":\"\"}},\"type\":\"scatterternary\"}],\"surface\":[{\"colorbar\":{\"outlinewidth\":0,\"ticks\":\"\"},\"colorscale\":[[0.0,\"#0d0887\"],[0.1111111111111111,\"#46039f\"],[0.2222222222222222,\"#7201a8\"],[0.3333333333333333,\"#9c179e\"],[0.4444444444444444,\"#bd3786\"],[0.5555555555555556,\"#d8576b\"],[0.6666666666666666,\"#ed7953\"],[0.7777777777777778,\"#fb9f3a\"],[0.8888888888888888,\"#fdca26\"],[1.0,\"#f0f921\"]],\"type\":\"surface\"}],\"table\":[{\"cells\":{\"fill\":{\"color\":\"#EBF0F8\"},\"line\":{\"color\":\"white\"}},\"header\":{\"fill\":{\"color\":\"#C8D4E3\"},\"line\":{\"color\":\"white\"}},\"type\":\"table\"}]},\"layout\":{\"annotationdefaults\":{\"arrowcolor\":\"#2a3f5f\",\"arrowhead\":0,\"arrowwidth\":1},\"autotypenumbers\":\"strict\",\"coloraxis\":{\"colorbar\":{\"outlinewidth\":0,\"ticks\":\"\"}},\"colorscale\":{\"diverging\":[[0.0,\"#003f5c\"],[0.16666666666666666,\"#577187\"],[0.3333333333333333,\"#9ca8b4\"],[0.5,\"#e2e2e2\"],[0.6666666666666666,\"#d0a2af\"],[0.8333333333333334,\"#b8637e\"],[1.0,\"#9a1050\"]],\"sequential\":[[0.0,\"#003f5c\"],[0.14285714285714285,\"#2f4b7c\"],[0.2857142857142857,\"#665191\"],[0.42857142857142855,\"#a05195\"],[0.5714285714285714,\"#d45087\"],[0.7142857142857143,\"#f95d6a\"],[0.8571428571428571,\"#ff7c43\"],[1.0,\"#ffa600\"]],\"sequentialminus\":[[0.0,\"#0d0887\"],[0.1111111111111111,\"#46039f\"],[0.2222222222222222,\"#7201a8\"],[0.3333333333333333,\"#9c179e\"],[0.4444444444444444,\"#bd3786\"],[0.5555555555555556,\"#d8576b\"],[0.6666666666666666,\"#ed7953\"],[0.7777777777777778,\"#fb9f3a\"],[0.8888888888888888,\"#fdca26\"],[1.0,\"#f0f921\"]]},\"colorway\":[\"#428299\",\"#F48A64\",\"#77C6B1\",\"#F2D65F\",\"#80A4CE\",\"#CC9EB1\",\"#BFD88F\",\"#8E8E8E\"],\"font\":{\"color\":\"black\",\"family\":\"..\\u002ffonts\\u002fBarlow-Regular.ttf, Barlow, Droid Sans, PT Sans Narrow, Arial Narrow, Arial\",\"size\":14},\"geo\":{\"bgcolor\":\"white\",\"lakecolor\":\"white\",\"landcolor\":\"white\",\"showlakes\":true,\"showland\":true,\"subunitcolor\":\"#C8D4E3\"},\"hoverlabel\":{\"align\":\"left\"},\"hovermode\":\"closest\",\"mapbox\":{\"style\":\"light\"},\"paper_bgcolor\":\"white\",\"plot_bgcolor\":\"white\",\"polar\":{\"angularaxis\":{\"gridcolor\":\"#EBF0F8\",\"linecolor\":\"#EBF0F8\",\"ticks\":\"\"},\"bgcolor\":\"white\",\"radialaxis\":{\"gridcolor\":\"#EBF0F8\",\"linecolor\":\"#EBF0F8\",\"ticks\":\"\"}},\"scene\":{\"xaxis\":{\"backgroundcolor\":\"white\",\"gridcolor\":\"#DFE8F3\",\"gridwidth\":2,\"linecolor\":\"#EBF0F8\",\"showbackground\":true,\"ticks\":\"\",\"zerolinecolor\":\"#EBF0F8\"},\"yaxis\":{\"backgroundcolor\":\"white\",\"gridcolor\":\"#DFE8F3\",\"gridwidth\":2,\"linecolor\":\"#EBF0F8\",\"showbackground\":true,\"ticks\":\"\",\"zerolinecolor\":\"#EBF0F8\"},\"zaxis\":{\"backgroundcolor\":\"white\",\"gridcolor\":\"#DFE8F3\",\"gridwidth\":2,\"linecolor\":\"#EBF0F8\",\"showbackground\":true,\"ticks\":\"\",\"zerolinecolor\":\"#EBF0F8\"}},\"shapedefaults\":{\"line\":{\"color\":\"#428299\"}},\"ternary\":{\"aaxis\":{\"gridcolor\":\"#DFE8F3\",\"linecolor\":\"#A2B1C6\",\"ticks\":\"\"},\"baxis\":{\"gridcolor\":\"#DFE8F3\",\"linecolor\":\"#A2B1C6\",\"ticks\":\"\"},\"bgcolor\":\"white\",\"caxis\":{\"gridcolor\":\"#DFE8F3\",\"linecolor\":\"#A2B1C6\",\"ticks\":\"\"}},\"title\":{\"automargin\":true,\"font\":{\"color\":\"black\",\"size\":28,\"weight\":400},\"subtitle\":{\"font\":{\"color\":\"#373737\",\"size\":14,\"weight\":200}},\"x\":0.5,\"y\":0.95,\"yref\":\"container\"},\"xaxis\":{\"automargin\":true,\"gridcolor\":\"#EBF0F8\",\"linecolor\":\"#EBF0F8\",\"ticks\":\"\",\"title\":{\"standoff\":15},\"zerolinecolor\":\"#EBF0F8\",\"zerolinewidth\":2},\"yaxis\":{\"automargin\":true,\"gridcolor\":\"#EBF0F8\",\"linecolor\":\"#EBF0F8\",\"ticks\":\"\",\"title\":{\"standoff\":15},\"zerolinecolor\":\"#EBF0F8\",\"zerolinewidth\":2}}},\"title\":{\"text\":\"Sankey Plot\",\"y\":0.9},\"font\":{\"family\":\"PT Sans Narrow\"},\"width\":500,\"height\":1000},                        {\"responsive\": true}                    ).then(function(){\n",
       "                            \n",
       "var gd = document.getElementById('1a9bf5ef-d99d-4bc7-bd40-7cbc8bb6927b');\n",
       "var x = new MutationObserver(function (mutations, observer) {{\n",
       "        var display = window.getComputedStyle(gd).display;\n",
       "        if (!display || display === 'none') {{\n",
       "            console.log([gd, 'removed!']);\n",
       "            Plotly.purge(gd);\n",
       "            observer.disconnect();\n",
       "        }}\n",
       "}});\n",
       "\n",
       "// Listen for the removal of the full notebook cells\n",
       "var notebookContainer = gd.closest('#notebook-container');\n",
       "if (notebookContainer) {{\n",
       "    x.observe(notebookContainer, {childList: true});\n",
       "}}\n",
       "\n",
       "// Listen for the clearing of the current output cell\n",
       "var outputEl = gd.closest('.output');\n",
       "if (outputEl) {{\n",
       "    x.observe(outputEl, {childList: true});\n",
       "}}\n",
       "\n",
       "                        })                };                });            </script>        </div>"
      ]
     },
     "metadata": {},
     "output_type": "display_data"
    }
   ],
   "source": [
    "s_fig.layout.font.family = 'PT Sans Narrow'\n",
    "s_fig.update_layout(width=500, height=1000)\n",
    "s_fig.layout.title.y = .9\n",
    "\n",
    "# recent nicole updates\n",
    "s_fig.data[0].link.color = 'rgba(221, 219, 215, .6)'\n",
    "s_fig"
   ]
  },
  {
   "cell_type": "markdown",
   "id": "484dfc7e-7089-4514-acf4-ec672c58be36",
   "metadata": {},
   "source": [
    "## Testing mse, variance, and mbd"
   ]
  },
  {
   "cell_type": "code",
   "execution_count": 33,
   "id": "bbdd5337-d9c0-4a53-9d12-62f8ed534387",
   "metadata": {},
   "outputs": [],
   "source": [
    "import seaborn as sns\n",
    "import plotly.express as px"
   ]
  },
  {
   "cell_type": "code",
   "execution_count": 34,
   "id": "8860da4c-df0f-48d7-9258-3b92c07e9b17",
   "metadata": {},
   "outputs": [],
   "source": [
    "q1 = f\"\"\"\n",
    "WITH cume_dist AS (\n",
    "    SELECT DISTINCT \n",
    "        run_id, \n",
    "        date,\n",
    "        CUME_DIST() OVER(PARTITION BY date ORDER BY {value_column} ASC) AS rank_asc,\n",
    "        CUME_DIST() OVER(PARTITION BY date ORDER BY {value_column} DESC) AS  rank_desc\n",
    "    FROM `importation_data.h1n1_proper`\n",
    ")\n",
    "SELECT\n",
    "    run_id,\n",
    "    SUM(rank_asc) * SUM(rank_desc) as mbd\n",
    "FROM cume_dist\n",
    "GROUP BY run_id\n",
    "ORDER BY mbd DESC\n",
    "\"\"\""
   ]
  },
  {
   "cell_type": "code",
   "execution_count": 35,
   "id": "ed0b2e8c-a363-41f4-8cc7-1ac512975de8",
   "metadata": {},
   "outputs": [],
   "source": [
    "df1 = execute(client, q1)"
   ]
  },
  {
   "cell_type": "code",
   "execution_count": 36,
   "id": "6f57cf8e-7001-4a4a-9c91-2f78b9f55771",
   "metadata": {},
   "outputs": [],
   "source": [
    "q2 = f\"\"\"\n",
    "WITH run_variability AS (\n",
    "    SELECT\n",
    "        run_id,\n",
    "        VARIANCE(importations) AS run_variance\n",
    "    FROM\n",
    "        `importation_data.h1n1_proper`\n",
    "    GROUP BY\n",
    "        run_id\n",
    ")\n",
    "    SELECT\n",
    "        run_id,\n",
    "        run_variance\n",
    "    FROM\n",
    "        run_variability\n",
    "    ORDER BY\n",
    "        run_variance DESC\n",
    "\n",
    "\"\"\""
   ]
  },
  {
   "cell_type": "code",
   "execution_count": 37,
   "id": "40499d76-aac3-4eb5-979e-c5c364dae547",
   "metadata": {},
   "outputs": [],
   "source": [
    "df2 = execute(client, q2)"
   ]
  },
  {
   "cell_type": "code",
   "execution_count": 38,
   "id": "3cf4bea4-d1a4-457f-b60e-4e3e3e7843be",
   "metadata": {},
   "outputs": [],
   "source": [
    "q3 = f\"\"\"\n",
    "WITH run_direction AS (\n",
    "    SELECT\n",
    "        run_id,\n",
    "        date,\n",
    "        importations,\n",
    "        LAG(importations) OVER(PARTITION BY run_id ORDER BY date) AS previous_importation,\n",
    "        CASE\n",
    "            WHEN importations > LAG(importations) OVER(PARTITION BY run_id ORDER BY date) THEN 1\n",
    "            WHEN importations < LAG(importations) OVER(PARTITION BY run_id ORDER BY date) THEN -1\n",
    "            ELSE 0\n",
    "        END AS direction\n",
    "    FROM\n",
    "        `importation_data.h1n1_proper`\n",
    ")\n",
    "    SELECT\n",
    "        run_id,\n",
    "        VARIANCE(direction) AS direction_variance\n",
    "    FROM\n",
    "        run_direction\n",
    "    WHERE\n",
    "        previous_importation IS NOT NULL\n",
    "    GROUP BY\n",
    "        run_id\n",
    "        \"\"\""
   ]
  },
  {
   "cell_type": "code",
   "execution_count": 39,
   "id": "fb4ec74e-4cda-4764-a3d4-28a1816dfa48",
   "metadata": {},
   "outputs": [],
   "source": [
    "df3 = execute(client, q3)"
   ]
  },
  {
   "cell_type": "code",
   "execution_count": 40,
   "id": "f1dd9555-1b0b-4a35-b265-2ee90290114d",
   "metadata": {},
   "outputs": [],
   "source": [
    "cdf = pd.merge(df1, df2)\n",
    "cdf = pd.merge(cdf, df3)\n",
    "cdf.set_index('run_id', inplace=True)"
   ]
  },
  {
   "cell_type": "code",
   "execution_count": 41,
   "id": "14bad055-1287-438d-8058-23b4ce7f429b",
   "metadata": {},
   "outputs": [
    {
     "data": {
      "text/plain": [
       "<seaborn.axisgrid.PairGrid at 0x1f2ca3abd90>"
      ]
     },
     "execution_count": 41,
     "metadata": {},
     "output_type": "execute_result"
    },
    {
     "data": {
      "image/png": "[encoded data removed]",
      "text/plain": [
       "<Figure size 750x750 with 12 Axes>"
      ]
     },
     "metadata": {},
     "output_type": "display_data"
    }
   ],
   "source": [
    "sns.pairplot(cdf)"
   ]
  },
  {
   "cell_type": "code",
   "execution_count": 42,
   "id": "af160e8c-8a9a-4eff-82fa-cb6260ae3119",
   "metadata": {},
   "outputs": [
    {
     "data": {
      "text/html": [
       "<div>\n",
       "<style scoped>\n",
       "    .dataframe tbody tr th:only-of-type {\n",
       "        vertical-align: middle;\n",
       "    }\n",
       "\n",
       "    .dataframe tbody tr th {\n",
       "        vertical-align: top;\n",
       "    }\n",
       "\n",
       "    .dataframe thead th {\n",
       "        text-align: right;\n",
       "    }\n",
       "</style>\n",
       "<table border=\"1\" class=\"dataframe\">\n",
       "  <thead>\n",
       "    <tr style=\"text-align: right;\">\n",
       "      <th></th>\n",
       "      <th>mbd</th>\n",
       "      <th>run_variance</th>\n",
       "      <th>direction_variance</th>\n",
       "    </tr>\n",
       "  </thead>\n",
       "  <tbody>\n",
       "    <tr>\n",
       "      <th>mbd</th>\n",
       "      <td>1.000000</td>\n",
       "      <td>-0.826330</td>\n",
       "      <td>-0.319521</td>\n",
       "    </tr>\n",
       "    <tr>\n",
       "      <th>run_variance</th>\n",
       "      <td>-0.826330</td>\n",
       "      <td>1.000000</td>\n",
       "      <td>0.189349</td>\n",
       "    </tr>\n",
       "    <tr>\n",
       "      <th>direction_variance</th>\n",
       "      <td>-0.319521</td>\n",
       "      <td>0.189349</td>\n",
       "      <td>1.000000</td>\n",
       "    </tr>\n",
       "  </tbody>\n",
       "</table>\n",
       "</div>"
      ],
      "text/plain": [
       "                         mbd  run_variance  direction_variance\n",
       "mbd                 1.000000     -0.826330           -0.319521\n",
       "run_variance       -0.826330      1.000000            0.189349\n",
       "direction_variance -0.319521      0.189349            1.000000"
      ]
     },
     "execution_count": 42,
     "metadata": {},
     "output_type": "execute_result"
    }
   ],
   "source": [
    "cdf.corr()"
   ]
  }
 ],
 "metadata": {
  "kernelspec": {
   "display_name": "Python 3 (ipykernel)",
   "language": "python",
   "name": "python3"
  },
  "language_info": {
   "codemirror_mode": {
    "name": "ipython",
    "version": 3
   },
   "file_extension": ".py",
   "mimetype": "text/x-python",
   "name": "python",
   "nbconvert_exporter": "python",
   "pygments_lexer": "ipython3",
   "version": "3.11.9"
  }
 },
 "nbformat": 4,
 "nbformat_minor": 5
}
