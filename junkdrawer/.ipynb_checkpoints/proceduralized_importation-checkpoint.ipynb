{
 "cells": [
  {
   "cell_type": "code",
   "execution_count": 1,
   "id": "89a590b3",
   "metadata": {},
   "outputs": [],
   "source": [
    "from google.cloud import bigquery\n",
    "import pandas as pd\n",
    "from google.oauth2 import service_account\n",
    "import plotly.express as px\n",
    "import plotly.graph_objects as go\n",
    "import plotly.io as pio"
   ]
  },
  {
   "cell_type": "code",
   "execution_count": 2,
   "id": "33ef75a3",
   "metadata": {},
   "outputs": [],
   "source": [
    "credentials = service_account.Credentials.from_service_account_file('C:\\\\Users\\\\elija\\\\Documents\\\\24f-coop\\\\credentials.json')\n",
    "project = 'net-data-viz-handbook'\n",
    "# Initialize a GCS client\n",
    "client = bigquery.Client(credentials=credentials, project=project)"
   ]
  },
  {
   "cell_type": "markdown",
   "id": "a1bbcd0c",
   "metadata": {},
   "source": [
    "## Custom NetSI theme"
   ]
  },
  {
   "cell_type": "code",
   "execution_count": 3,
   "id": "c7b68275",
   "metadata": {},
   "outputs": [
    {
     "name": "stdout",
     "output_type": "stream",
     "text": [
      "Name: plotlyNote: you may need to restart the kernel to use updated packages.\n",
      "\n",
      "Version: 5.24.0\n",
      "Summary: An open-source, interactive data visualization library for Python\n",
      "Home-page: https://plotly.com/python/\n",
      "Author: Chris P\n",
      "Author-email: chris@plot.ly\n",
      "License: MIT\n",
      "Location: C:\\Users\\elija\\anaconda3\\Lib\\site-packages\n",
      "Requires: packaging, tenacity\n",
      "Required-by: chart-studio, dash\n"
     ]
    },
    {
     "name": "stderr",
     "output_type": "stream",
     "text": [
      "WARNING: Ignoring invalid distribution ~aleido (C:\\Users\\elija\\anaconda3\\Lib\\site-packages)\n",
      "WARNING: Ignoring invalid distribution ~lotly (C:\\Users\\elija\\anaconda3\\Lib\\site-packages)\n",
      "WARNING: Ignoring invalid distribution ~rpcio (C:\\Users\\elija\\anaconda3\\Lib\\site-packages)\n"
     ]
    }
   ],
   "source": [
    "pip show plotly"
   ]
  },
  {
   "cell_type": "code",
   "execution_count": 4,
   "id": "3e17d6e0",
   "metadata": {},
   "outputs": [],
   "source": [
    "# copying plotly default to make 'netsi' theme\n",
    "pio.templates['netsi']  = pio.templates['plotly_white']\n",
    "\n",
    "# customize title\n",
    "pio.templates['netsi']['layout']['title'] = dict(x=.5, y=.95, yref='container', \n",
    "                                                 font=dict(color='black', size=28, weight=400),\n",
    "                                                 subtitle=dict(font=dict(color='#373737', size=14, weight=200))\n",
    "                                                )\n",
    "\n",
    "# font\n",
    "pio.templates['netsi']['layout']['font'] = dict(family=r\"PT Sans Narrow\",\n",
    "                                                size=14, color='black')\n",
    "\n",
    "# custom colors\n",
    "sequential_color_ls = ['#003f5c', '#2f4b7c', '#665191', '#a05195', '#d45087', '#f95d6a', '#ff7c43', '#ffa600']\n",
    "pio.templates['netsi']['layout']['colorscale']['sequential'] = \\\n",
    "[[(a/(len(sequential_color_ls)-1)), color] for a, color in enumerate(sequential_color_ls)]\n",
    "\n",
    "diverging_color_ls = ['#003f5c', '#577187', '#9ca8b4', '#e2e2e2', '#d0a2af', '#b8637e', '#9a1050']\n",
    "pio.templates['netsi']['layout']['colorscale']['diverging'] = \\\n",
    "[[(a/(len(diverging_color_ls)-1)), color] for a, color in enumerate(diverging_color_ls)]\n",
    "\n",
    "pio.templates['netsi']['layout']['shapedefaults']['line']['color'] = '#428299'\n",
    "\n",
    "# colorway from nicole\n",
    "pio.templates['netsi']['layout']['colorway'] = ['#428299', '#67C4D3', '#F48A64', '#77C6B1', \n",
    "                                                '#F2D65F', '#80A4CE', '#CC9EB1', '#BFD88F', '#8E8E8E']"
   ]
  },
  {
   "cell_type": "code",
   "execution_count": 5,
   "id": "ad0337c2",
   "metadata": {
    "jupyter": {
     "outputs_hidden": true
    },
    "scrolled": true
   },
   "outputs": [
    {
     "data": {
      "text/plain": [
       "Layout({\n",
       "    'annotationdefaults': {'arrowcolor': '#2a3f5f', 'arrowhead': 0, 'arrowwidth': 1},\n",
       "    'autotypenumbers': 'strict',\n",
       "    'coloraxis': {'colorbar': {'outlinewidth': 0, 'ticks': ''}},\n",
       "    'colorscale': {'diverging': [[0.0, '#003f5c'], [0.16666666666666666,\n",
       "                                 '#577187'], [0.3333333333333333, '#9ca8b4'], [0.5,\n",
       "                                 '#e2e2e2'], [0.6666666666666666, '#d0a2af'],\n",
       "                                 [0.8333333333333334, '#b8637e'], [1.0, '#9a1050']],\n",
       "                   'sequential': [[0.0, '#003f5c'], [0.14285714285714285,\n",
       "                                  '#2f4b7c'], [0.2857142857142857, '#665191'],\n",
       "                                  [0.42857142857142855, '#a05195'],\n",
       "                                  [0.5714285714285714, '#d45087'],\n",
       "                                  [0.7142857142857143, '#f95d6a'],\n",
       "                                  [0.8571428571428571, '#ff7c43'], [1.0,\n",
       "                                  '#ffa600']],\n",
       "                   'sequentialminus': [[0.0, '#0d0887'], [0.1111111111111111,\n",
       "                                       '#46039f'], [0.2222222222222222, '#7201a8'],\n",
       "                                       [0.3333333333333333, '#9c179e'],\n",
       "                                       [0.4444444444444444, '#bd3786'],\n",
       "                                       [0.5555555555555556, '#d8576b'],\n",
       "                                       [0.6666666666666666, '#ed7953'],\n",
       "                                       [0.7777777777777778, '#fb9f3a'],\n",
       "                                       [0.8888888888888888, '#fdca26'], [1.0,\n",
       "                                       '#f0f921']]},\n",
       "    'colorway': [#428299, #67C4D3, #F48A64, #77C6B1, #F2D65F, #80A4CE, #CC9EB1,\n",
       "                 #BFD88F, #8E8E8E],\n",
       "    'font': {'color': 'black', 'family': 'PT Sans Narrow', 'size': 14},\n",
       "    'geo': {'bgcolor': 'white',\n",
       "            'lakecolor': 'white',\n",
       "            'landcolor': 'white',\n",
       "            'showlakes': True,\n",
       "            'showland': True,\n",
       "            'subunitcolor': '#C8D4E3'},\n",
       "    'hoverlabel': {'align': 'left'},\n",
       "    'hovermode': 'closest',\n",
       "    'mapbox': {'style': 'light'},\n",
       "    'paper_bgcolor': 'white',\n",
       "    'plot_bgcolor': 'white',\n",
       "    'polar': {'angularaxis': {'gridcolor': '#EBF0F8', 'linecolor': '#EBF0F8', 'ticks': ''},\n",
       "              'bgcolor': 'white',\n",
       "              'radialaxis': {'gridcolor': '#EBF0F8', 'linecolor': '#EBF0F8', 'ticks': ''}},\n",
       "    'scene': {'xaxis': {'backgroundcolor': 'white',\n",
       "                        'gridcolor': '#DFE8F3',\n",
       "                        'gridwidth': 2,\n",
       "                        'linecolor': '#EBF0F8',\n",
       "                        'showbackground': True,\n",
       "                        'ticks': '',\n",
       "                        'zerolinecolor': '#EBF0F8'},\n",
       "              'yaxis': {'backgroundcolor': 'white',\n",
       "                        'gridcolor': '#DFE8F3',\n",
       "                        'gridwidth': 2,\n",
       "                        'linecolor': '#EBF0F8',\n",
       "                        'showbackground': True,\n",
       "                        'ticks': '',\n",
       "                        'zerolinecolor': '#EBF0F8'},\n",
       "              'zaxis': {'backgroundcolor': 'white',\n",
       "                        'gridcolor': '#DFE8F3',\n",
       "                        'gridwidth': 2,\n",
       "                        'linecolor': '#EBF0F8',\n",
       "                        'showbackground': True,\n",
       "                        'ticks': '',\n",
       "                        'zerolinecolor': '#EBF0F8'}},\n",
       "    'shapedefaults': {'line': {'color': '#428299'}},\n",
       "    'ternary': {'aaxis': {'gridcolor': '#DFE8F3', 'linecolor': '#A2B1C6', 'ticks': ''},\n",
       "                'baxis': {'gridcolor': '#DFE8F3', 'linecolor': '#A2B1C6', 'ticks': ''},\n",
       "                'bgcolor': 'white',\n",
       "                'caxis': {'gridcolor': '#DFE8F3', 'linecolor': '#A2B1C6', 'ticks': ''}},\n",
       "    'title': {'font': {'color': 'black', 'size': 28, 'weight': 400},\n",
       "              'subtitle': {'font': {'color': '#373737', 'size': 14, 'weight': 200}},\n",
       "              'x': 0.5,\n",
       "              'y': 0.95,\n",
       "              'yref': 'container'},\n",
       "    'xaxis': {'automargin': True,\n",
       "              'gridcolor': '#EBF0F8',\n",
       "              'linecolor': '#EBF0F8',\n",
       "              'ticks': '',\n",
       "              'title': {'standoff': 15},\n",
       "              'zerolinecolor': '#EBF0F8',\n",
       "              'zerolinewidth': 2},\n",
       "    'yaxis': {'automargin': True,\n",
       "              'gridcolor': '#EBF0F8',\n",
       "              'linecolor': '#EBF0F8',\n",
       "              'ticks': '',\n",
       "              'title': {'standoff': 15},\n",
       "              'zerolinecolor': '#EBF0F8',\n",
       "              'zerolinewidth': 2}\n",
       "})"
      ]
     },
     "execution_count": 5,
     "metadata": {},
     "output_type": "execute_result"
    }
   ],
   "source": [
    "pio.templates['netsi']['layout']"
   ]
  },
  {
   "cell_type": "markdown",
   "id": "e640a07f",
   "metadata": {},
   "source": [
    "## Area Plot"
   ]
  },
  {
   "cell_type": "code",
   "execution_count": 6,
   "id": "9a68a3e7",
   "metadata": {},
   "outputs": [],
   "source": [
    "def build_geographic_filter(geo_level, geo_values, alias=\"g_target\"):\n",
    "    # Accepts a geographic level (e.g., 'country_id', 'region_label') and a list of values\n",
    "    if geo_values is not None:  # Only filter if geo_values is provided\n",
    "        if isinstance(geo_values, list):\n",
    "            # Check the type of the first item to determine the filter type\n",
    "            if isinstance(geo_values[0], int):\n",
    "                values = ', '.join(str(val) for val in geo_values)  # For INT64\n",
    "                return f\"{alias}.{geo_level} IN ({values})\"\n",
    "            elif isinstance(geo_values[0], str):\n",
    "                values = ', '.join(f\"'{val}'\" for val in geo_values)  # For STRING\n",
    "                return f\"{alias}.{geo_level} IN ({values})\"\n",
    "        else:\n",
    "            # Handle single values\n",
    "            if isinstance(geo_values, int):\n",
    "                return f\"{alias}.{geo_level} = {geo_values}\"\n",
    "            elif isinstance(geo_values, str):\n",
    "                return f\"{alias}.{geo_level} = '{geo_values}'\"\n",
    "    return \"\"  # Return empty string if no filtering is needed"
   ]
  },
  {
   "cell_type": "code",
   "execution_count": 7,
   "id": "8729047a",
   "metadata": {},
   "outputs": [],
   "source": [
    "def build_ap_query(table_name, reference_table_name, source_geo_level, target_geo_level, output_geo_level=None, source_values=None, target_values=None, domestic=True, cutoff=0.05):\n",
    "    # Build filters for both source and target regions\n",
    "    source_filter = build_geographic_filter(source_geo_level, source_values, alias=\"g_source\") if source_values is not None else 'TRUE'\n",
    "    target_filter = build_geographic_filter(target_geo_level, target_values, alias=\"g_target\") if target_values is not None else 'TRUE'\n",
    "    \n",
    "    # Create the base where clause\n",
    "    where_clauses = [target_filter, source_filter]\n",
    "    \n",
    "    if not domestic:\n",
    "        # Exclude rows where target imports to itself\n",
    "        where_clauses.append(f\"g_source.{target_geo_level} <> g_target.{target_geo_level}\")\n",
    "\n",
    "    # Join the where clauses with 'AND'\n",
    "    where_clause = ' AND '.join(where_clauses)\n",
    "\n",
    "    query = f\"\"\"\n",
    "    WITH region_imports AS (\n",
    "      SELECT \n",
    "        g_source.{output_geo_level} AS source_label, \n",
    "        SUM(i.importations) AS total_importations\n",
    "      FROM \n",
    "        `{table_name}` AS i\n",
    "      JOIN \n",
    "        `{reference_table_name}` AS g_source \n",
    "        ON g_source.basin_id = i.source_basin\n",
    "      JOIN \n",
    "        `{reference_table_name}` AS g_target \n",
    "        ON g_target.basin_id = i.target_basin\n",
    "      WHERE \n",
    "        {where_clause}  \n",
    "      GROUP BY \n",
    "        g_source.{output_geo_level}\n",
    "    ),\n",
    "    total_imports AS (\n",
    "      SELECT \n",
    "        SUM(total_importations) AS grand_total_importations \n",
    "      FROM region_imports\n",
    "    ),\n",
    "    categorized_regions AS (\n",
    "      SELECT \n",
    "        r.source_label,\n",
    "        CASE \n",
    "          WHEN r.total_importations < ({cutoff} * (SELECT grand_total_importations FROM total_imports)) THEN 'Other'\n",
    "          ELSE r.source_label\n",
    "        END AS categorized_label\n",
    "      FROM \n",
    "        region_imports r\n",
    "    )\n",
    "    SELECT \n",
    "      cr.categorized_label AS source, \n",
    "      i.date, \n",
    "      SUM(i.importations) AS importations,\n",
    "      AVG(SUM(i.importations)) OVER (\n",
    "        PARTITION BY cr.categorized_label \n",
    "        ORDER BY i.date \n",
    "        ROWS BETWEEN 6 PRECEDING AND CURRENT ROW\n",
    "      ) AS rolling_importations\n",
    "    FROM \n",
    "      `{table_name}` AS i\n",
    "    JOIN \n",
    "      `{reference_table_name}` AS g_target \n",
    "      ON g_target.basin_id = i.target_basin\n",
    "    JOIN \n",
    "      `{reference_table_name}` AS g_source \n",
    "      ON g_source.basin_id = i.source_basin\n",
    "    JOIN \n",
    "      categorized_regions cr \n",
    "      ON cr.source_label = g_source.{output_geo_level}\n",
    "    WHERE \n",
    "      {where_clause}\n",
    "    GROUP BY \n",
    "      cr.categorized_label, \n",
    "      i.date\n",
    "    ORDER BY \n",
    "      i.date;\n",
    "\n",
    "    \"\"\"\n",
    "\n",
    "    return query"
   ]
  },
  {
   "cell_type": "code",
   "execution_count": 8,
   "id": "01751ab2",
   "metadata": {},
   "outputs": [],
   "source": [
    "def execute(client, query):\n",
    "    # Execute query\n",
    "    query_job = client.query(query)\n",
    "\n",
    "    # Convert result to a Pandas DataFrame\n",
    "    result_df = query_job.to_dataframe()\n",
    "\n",
    "    return result_df"
   ]
  },
  {
   "cell_type": "code",
   "execution_count": 9,
   "id": "6d9c58a6",
   "metadata": {
    "scrolled": true
   },
   "outputs": [
    {
     "name": "stderr",
     "output_type": "stream",
     "text": [
      "C:\\Users\\elija\\anaconda3\\Lib\\site-packages\\google\\cloud\\bigquery\\table.py:1727: UserWarning: BigQuery Storage module not found, fetch data with the REST endpoint instead.\n",
      "  warnings.warn(\n"
     ]
    },
    {
     "data": {
      "text/html": [
       "<div>\n",
       "<style scoped>\n",
       "    .dataframe tbody tr th:only-of-type {\n",
       "        vertical-align: middle;\n",
       "    }\n",
       "\n",
       "    .dataframe tbody tr th {\n",
       "        vertical-align: top;\n",
       "    }\n",
       "\n",
       "    .dataframe thead th {\n",
       "        text-align: right;\n",
       "    }\n",
       "</style>\n",
       "<table border=\"1\" class=\"dataframe\">\n",
       "  <thead>\n",
       "    <tr style=\"text-align: right;\">\n",
       "      <th></th>\n",
       "      <th>source</th>\n",
       "      <th>date</th>\n",
       "      <th>importations</th>\n",
       "      <th>rolling_importations</th>\n",
       "    </tr>\n",
       "  </thead>\n",
       "  <tbody>\n",
       "    <tr>\n",
       "      <th>719</th>\n",
       "      <td>Southern Asia</td>\n",
       "      <td>2010-02-17</td>\n",
       "      <td>72</td>\n",
       "      <td>82.142857</td>\n",
       "    </tr>\n",
       "    <tr>\n",
       "      <th>720</th>\n",
       "      <td>Western Asia</td>\n",
       "      <td>2010-02-17</td>\n",
       "      <td>24</td>\n",
       "      <td>21.714286</td>\n",
       "    </tr>\n",
       "    <tr>\n",
       "      <th>721</th>\n",
       "      <td>Eastern Asia</td>\n",
       "      <td>2010-02-17</td>\n",
       "      <td>124</td>\n",
       "      <td>122.000000</td>\n",
       "    </tr>\n",
       "    <tr>\n",
       "      <th>722</th>\n",
       "      <td>Other</td>\n",
       "      <td>2010-02-17</td>\n",
       "      <td>21</td>\n",
       "      <td>18.714286</td>\n",
       "    </tr>\n",
       "    <tr>\n",
       "      <th>723</th>\n",
       "      <td>South-Eastern Asia</td>\n",
       "      <td>2010-02-17</td>\n",
       "      <td>35</td>\n",
       "      <td>41.000000</td>\n",
       "    </tr>\n",
       "  </tbody>\n",
       "</table>\n",
       "</div>"
      ],
      "text/plain": [
       "                 source        date  importations  rolling_importations\n",
       "719       Southern Asia  2010-02-17            72             82.142857\n",
       "720        Western Asia  2010-02-17            24             21.714286\n",
       "721        Eastern Asia  2010-02-17           124            122.000000\n",
       "722               Other  2010-02-17            21             18.714286\n",
       "723  South-Eastern Asia  2010-02-17            35             41.000000"
      ]
     },
     "execution_count": 9,
     "metadata": {},
     "output_type": "execute_result"
    }
   ],
   "source": [
    "table_name = 'net-data-viz-handbook.importation_data.sir_importations_1'\n",
    "reference_table_name = 'reference.gleam-geo-map'\n",
    "source_geo_level = 'continent_label'  # Geographic level for source filtering\n",
    "target_geo_level = 'country_name'        # Geographic level for target filtering\n",
    "output_geo_level = 'region_label'      # Geographic level for output\n",
    "\n",
    "source_values = ['Asia', 'Oceania']\n",
    "target_values = ['Canada', 'United States of America', 'Mexico']                   # Filter targets by country\n",
    "domestic = False\n",
    "cutoff = 0.1\n",
    "\n",
    "\n",
    "query = build_ap_query(table_name=table_name, reference_table_name=reference_table_name,\n",
    "               source_geo_level=source_geo_level, target_geo_level=target_geo_level, output_geo_level=output_geo_level, \n",
    "               source_values=source_values, target_values=target_values, \n",
    "               domestic=domestic, cutoff=cutoff)\n",
    "\n",
    "# Execute the query and return the DataFrame\n",
    "df = execute(client, query)\n",
    "\n",
    "df.tail()"
   ]
  },
  {
   "cell_type": "code",
   "execution_count": 14,
   "id": "37f69ad5",
   "metadata": {},
   "outputs": [
    {
     "data": {
      "application/vnd.plotly.v1+json": {
       "config": {
        "plotlyServerURL": "https://plot.ly"
       },
       "data": [
        {
         "fillpattern": {
          "shape": ""
         },
         "hovertemplate": "source=Western Asia<br>date=%{x}<br>rolling_importations=%{y}<extra></extra>",
         "legendgroup": "Western Asia",
         "line": {
          "color": "#428299",
          "width": 0.4
         },
         "marker": {
          "symbol": "circle"
         },
         "mode": "lines",
         "name": "Western Asia",
         "orientation": "v",
         "showlegend": true,
         "stackgroup": "1",
         "type": "scatter",
         "x": [
          "2009-07-24",
          "2009-09-05",
          "2009-09-07",
          "2009-09-14",
          "2009-09-19",
          "2009-09-21",
          "2009-09-25",
          "2009-09-27",
          "2009-09-28",
          "2009-09-30",
          "2009-10-01",
          "2009-10-02",
          "2009-10-03",
          "2009-10-04",
          "2009-10-05",
          "2009-10-06",
          "2009-10-07",
          "2009-10-08",
          "2009-10-09",
          "2009-10-10",
          "2009-10-11",
          "2009-10-12",
          "2009-10-13",
          "2009-10-14",
          "2009-10-15",
          "2009-10-16",
          "2009-10-17",
          "2009-10-18",
          "2009-10-19",
          "2009-10-20",
          "2009-10-21",
          "2009-10-22",
          "2009-10-23",
          "2009-10-24",
          "2009-10-25",
          "2009-10-26",
          "2009-10-27",
          "2009-10-28",
          "2009-10-29",
          "2009-10-30",
          "2009-10-31",
          "2009-11-01",
          "2009-11-02",
          "2009-11-03",
          "2009-11-04",
          "2009-11-05",
          "2009-11-06",
          "2009-11-07",
          "2009-11-08",
          "2009-11-09",
          "2009-11-10",
          "2009-11-11",
          "2009-11-12",
          "2009-11-13",
          "2009-11-14",
          "2009-11-15",
          "2009-11-16",
          "2009-11-17",
          "2009-11-18",
          "2009-11-19",
          "2009-11-20",
          "2009-11-21",
          "2009-11-22",
          "2009-11-23",
          "2009-11-24",
          "2009-11-25",
          "2009-11-26",
          "2009-11-27",
          "2009-11-28",
          "2009-11-29",
          "2009-11-30",
          "2009-12-01",
          "2009-12-02",
          "2009-12-03",
          "2009-12-04",
          "2009-12-05",
          "2009-12-06",
          "2009-12-07",
          "2009-12-08",
          "2009-12-09",
          "2009-12-10",
          "2009-12-11",
          "2009-12-12",
          "2009-12-13",
          "2009-12-14",
          "2009-12-15",
          "2009-12-16",
          "2009-12-17",
          "2009-12-18",
          "2009-12-19",
          "2009-12-20",
          "2009-12-21",
          "2009-12-22",
          "2009-12-23",
          "2009-12-24",
          "2009-12-25",
          "2009-12-26",
          "2009-12-27",
          "2009-12-28",
          "2009-12-29",
          "2009-12-30",
          "2009-12-31",
          "2010-01-01",
          "2010-01-02",
          "2010-01-03",
          "2010-01-04",
          "2010-01-05",
          "2010-01-06",
          "2010-01-07",
          "2010-01-08",
          "2010-01-09",
          "2010-01-10",
          "2010-01-11",
          "2010-01-12",
          "2010-01-13",
          "2010-01-14",
          "2010-01-15",
          "2010-01-16",
          "2010-01-17",
          "2010-01-18",
          "2010-01-19",
          "2010-01-20",
          "2010-01-21",
          "2010-01-22",
          "2010-01-23",
          "2010-01-24",
          "2010-01-25",
          "2010-01-26",
          "2010-01-27",
          "2010-01-28",
          "2010-01-29",
          "2010-01-30",
          "2010-01-31",
          "2010-02-01",
          "2010-02-02",
          "2010-02-03",
          "2010-02-04",
          "2010-02-05",
          "2010-02-06",
          "2010-02-07",
          "2010-02-08",
          "2010-02-09",
          "2010-02-10",
          "2010-02-11",
          "2010-02-12",
          "2010-02-13",
          "2010-02-14",
          "2010-02-15",
          "2010-02-16",
          "2010-02-17"
         ],
         "xaxis": "x",
         "y": [
          1,
          1,
          1,
          1,
          1,
          1.1666666666666667,
          1.1428571428571428,
          1.1428571428571428,
          1.2857142857142858,
          1.2857142857142858,
          1.2857142857142858,
          1.5714285714285714,
          1.5714285714285714,
          1.5714285714285714,
          1.7142857142857142,
          1.5714285714285714,
          1.7142857142857142,
          2,
          1.8571428571428572,
          2,
          2.2857142857142856,
          2.142857142857143,
          2.2857142857142856,
          2.4285714285714284,
          2.5714285714285716,
          2.857142857142857,
          3.142857142857143,
          3.5714285714285716,
          4.428571428571429,
          5,
          5.285714285714286,
          6,
          6.428571428571429,
          6.857142857142857,
          7.714285714285714,
          7.571428571428571,
          7.857142857142857,
          9,
          9.285714285714286,
          9.571428571428571,
          10.714285714285714,
          11.714285714285714,
          13.428571428571429,
          15.142857142857142,
          16.285714285714285,
          16.142857142857142,
          19.285714285714285,
          21.142857142857142,
          23,
          25.571428571428573,
          27.428571428571427,
          28.857142857142858,
          33.857142857142854,
          36.42857142857143,
          38.285714285714285,
          40.42857142857143,
          43.42857142857143,
          46.857142857142854,
          50.42857142857143,
          52,
          56,
          58.57142857142857,
          61.42857142857143,
          65.42857142857143,
          67.42857142857143,
          70.57142857142857,
          77.14285714285714,
          79.57142857142857,
          86,
          91.85714285714286,
          93.57142857142857,
          93.57142857142857,
          93.85714285714286,
          92.28571428571429,
          89.42857142857143,
          87.71428571428571,
          82.71428571428571,
          79.14285714285714,
          83.57142857142857,
          85.42857142857143,
          88.42857142857143,
          89.57142857142857,
          85.85714285714286,
          86,
          88,
          84.28571428571429,
          82.14285714285714,
          78.85714285714286,
          77,
          80.85714285714286,
          80.85714285714286,
          78.85714285714286,
          79.57142857142857,
          79.57142857142857,
          79.42857142857143,
          80.57142857142857,
          77.85714285714286,
          75.85714285714286,
          75,
          72,
          71.28571428571429,
          68.85714285714286,
          67.14285714285714,
          68.28571428571429,
          69,
          68,
          66,
          66.28571428571429,
          63.142857142857146,
          62.714285714285715,
          61.142857142857146,
          59.57142857142857,
          58.285714285714285,
          58.857142857142854,
          56.42857142857143,
          59.42857142857143,
          58.857142857142854,
          57.57142857142857,
          57.857142857142854,
          58.285714285714285,
          57.857142857142854,
          58,
          54.42857142857143,
          51.57142857142857,
          48.42857142857143,
          44.857142857142854,
          43.285714285714285,
          41.857142857142854,
          39.857142857142854,
          37.57142857142857,
          38.42857142857143,
          38.285714285714285,
          38.285714285714285,
          37.42857142857143,
          35.142857142857146,
          33,
          33.142857142857146,
          31.285714285714285,
          29.571428571428573,
          29.142857142857142,
          27.857142857142858,
          28.857142857142858,
          28.571428571428573,
          27.857142857142858,
          27.285714285714285,
          26.285714285714285,
          25.428571428571427,
          24.714285714285715,
          22.285714285714285,
          21.714285714285715
         ],
         "yaxis": "y"
        },
        {
         "fillpattern": {
          "shape": ""
         },
         "hovertemplate": "source=Eastern Asia<br>date=%{x}<br>rolling_importations=%{y}<extra></extra>",
         "legendgroup": "Eastern Asia",
         "line": {
          "color": "#67C4D3",
          "width": 0.4
         },
         "marker": {
          "symbol": "circle"
         },
         "mode": "lines",
         "name": "Eastern Asia",
         "orientation": "v",
         "showlegend": true,
         "stackgroup": "1",
         "type": "scatter",
         "x": [
          "2009-08-19",
          "2009-08-25",
          "2009-08-26",
          "2009-08-30",
          "2009-08-31",
          "2009-09-02",
          "2009-09-04",
          "2009-09-06",
          "2009-09-08",
          "2009-09-09",
          "2009-09-10",
          "2009-09-12",
          "2009-09-13",
          "2009-09-14",
          "2009-09-15",
          "2009-09-16",
          "2009-09-17",
          "2009-09-18",
          "2009-09-19",
          "2009-09-20",
          "2009-09-21",
          "2009-09-22",
          "2009-09-23",
          "2009-09-24",
          "2009-09-25",
          "2009-09-26",
          "2009-09-27",
          "2009-09-28",
          "2009-09-29",
          "2009-09-30",
          "2009-10-01",
          "2009-10-02",
          "2009-10-03",
          "2009-10-04",
          "2009-10-05",
          "2009-10-06",
          "2009-10-07",
          "2009-10-08",
          "2009-10-09",
          "2009-10-10",
          "2009-10-11",
          "2009-10-12",
          "2009-10-13",
          "2009-10-14",
          "2009-10-15",
          "2009-10-16",
          "2009-10-17",
          "2009-10-18",
          "2009-10-19",
          "2009-10-20",
          "2009-10-21",
          "2009-10-22",
          "2009-10-23",
          "2009-10-24",
          "2009-10-25",
          "2009-10-26",
          "2009-10-27",
          "2009-10-28",
          "2009-10-29",
          "2009-10-30",
          "2009-10-31",
          "2009-11-01",
          "2009-11-02",
          "2009-11-03",
          "2009-11-04",
          "2009-11-05",
          "2009-11-06",
          "2009-11-07",
          "2009-11-08",
          "2009-11-09",
          "2009-11-10",
          "2009-11-11",
          "2009-11-12",
          "2009-11-13",
          "2009-11-14",
          "2009-11-15",
          "2009-11-16",
          "2009-11-17",
          "2009-11-18",
          "2009-11-19",
          "2009-11-20",
          "2009-11-21",
          "2009-11-22",
          "2009-11-23",
          "2009-11-24",
          "2009-11-25",
          "2009-11-26",
          "2009-11-27",
          "2009-11-28",
          "2009-11-29",
          "2009-11-30",
          "2009-12-01",
          "2009-12-02",
          "2009-12-03",
          "2009-12-04",
          "2009-12-05",
          "2009-12-06",
          "2009-12-07",
          "2009-12-08",
          "2009-12-09",
          "2009-12-10",
          "2009-12-11",
          "2009-12-12",
          "2009-12-13",
          "2009-12-14",
          "2009-12-15",
          "2009-12-16",
          "2009-12-17",
          "2009-12-18",
          "2009-12-19",
          "2009-12-20",
          "2009-12-21",
          "2009-12-22",
          "2009-12-23",
          "2009-12-24",
          "2009-12-25",
          "2009-12-26",
          "2009-12-27",
          "2009-12-28",
          "2009-12-29",
          "2009-12-30",
          "2009-12-31",
          "2010-01-01",
          "2010-01-02",
          "2010-01-03",
          "2010-01-04",
          "2010-01-05",
          "2010-01-06",
          "2010-01-07",
          "2010-01-08",
          "2010-01-09",
          "2010-01-10",
          "2010-01-11",
          "2010-01-12",
          "2010-01-13",
          "2010-01-14",
          "2010-01-15",
          "2010-01-16",
          "2010-01-17",
          "2010-01-18",
          "2010-01-19",
          "2010-01-20",
          "2010-01-21",
          "2010-01-22",
          "2010-01-23",
          "2010-01-24",
          "2010-01-25",
          "2010-01-26",
          "2010-01-27",
          "2010-01-28",
          "2010-01-29",
          "2010-01-30",
          "2010-01-31",
          "2010-02-01",
          "2010-02-02",
          "2010-02-03",
          "2010-02-04",
          "2010-02-05",
          "2010-02-06",
          "2010-02-07",
          "2010-02-08",
          "2010-02-09",
          "2010-02-10",
          "2010-02-11",
          "2010-02-12",
          "2010-02-13",
          "2010-02-14",
          "2010-02-15",
          "2010-02-16",
          "2010-02-17"
         ],
         "xaxis": "x",
         "y": [
          1,
          1,
          1.3333333333333333,
          1.25,
          1.2,
          1.3333333333333333,
          1.5714285714285714,
          1.7142857142857142,
          2,
          2.142857142857143,
          2.2857142857142856,
          2.4285714285714284,
          2.4285714285714284,
          2.7142857142857144,
          2.857142857142857,
          2.7142857142857144,
          2.7142857142857144,
          2.7142857142857144,
          3.142857142857143,
          3.4285714285714284,
          4.142857142857143,
          5.428571428571429,
          6.428571428571429,
          7.285714285714286,
          8.714285714285714,
          9.857142857142858,
          10.714285714285714,
          11.285714285714286,
          11.142857142857142,
          12.714285714285714,
          13.857142857142858,
          15,
          16.857142857142858,
          18,
          20.714285714285715,
          24,
          26.285714285714285,
          29.142857142857142,
          31.428571428571427,
          37.714285714285715,
          42.57142857142857,
          46.142857142857146,
          52.142857142857146,
          55.857142857142854,
          62.285714285714285,
          68.28571428571429,
          70.71428571428571,
          76.57142857142857,
          82.14285714285714,
          83.28571428571429,
          91.57142857142857,
          97.28571428571429,
          105.14285714285714,
          114.85714285714286,
          121.14285714285714,
          127.28571428571429,
          135,
          145.14285714285714,
          151.71428571428572,
          153.85714285714286,
          157,
          163.85714285714286,
          168.57142857142858,
          171.57142857142858,
          169.14285714285714,
          168.42857142857142,
          171.71428571428572,
          171.71428571428572,
          171.42857142857142,
          168.42857142857142,
          170,
          170.28571428571428,
          173.85714285714286,
          174.14285714285714,
          176,
          176.14285714285714,
          179.57142857142858,
          183.57142857142858,
          183.71428571428572,
          181,
          185,
          186.28571428571428,
          186.42857142857142,
          187.42857142857142,
          183.28571428571428,
          185.42857142857142,
          187,
          183.71428571428572,
          183.42857142857142,
          181.85714285714286,
          180.14285714285714,
          180.42857142857142,
          174.42857142857142,
          173.57142857142858,
          172.57142857142858,
          171.85714285714286,
          171.71428571428572,
          171.85714285714286,
          174.71428571428572,
          174.28571428571428,
          172,
          173.71428571428572,
          172,
          174.28571428571428,
          175.14285714285714,
          172.14285714285714,
          177.28571428571428,
          184.57142857142858,
          188.71428571428572,
          192.71428571428572,
          199.85714285714286,
          202.85714285714286,
          208.14285714285714,
          208,
          205.28571428571428,
          205.42857142857142,
          203.28571428571428,
          201.85714285714286,
          200.57142857142858,
          200.14285714285714,
          203.28571428571428,
          208.14285714285714,
          210.42857142857142,
          215,
          212.85714285714286,
          212.85714285714286,
          216,
          218.14285714285714,
          221.14285714285714,
          220.28571428571428,
          219.57142857142858,
          220,
          225.28571428571428,
          225,
          226,
          223.85714285714286,
          217.85714285714286,
          216,
          214.14285714285714,
          211.57142857142858,
          207.71428571428572,
          204.14285714285714,
          202.71428571428572,
          208.85714285714286,
          208.57142857142858,
          205.14285714285714,
          201.42857142857142,
          198.42857142857142,
          196.71428571428572,
          192,
          189.14285714285714,
          183.14285714285714,
          181.14285714285714,
          178.28571428571428,
          177.71428571428572,
          171.85714285714286,
          162.14285714285714,
          154,
          151.14285714285714,
          148.42857142857142,
          148.85714285714286,
          144.85714285714286,
          144,
          144.42857142857142,
          142.14285714285714,
          142.28571428571428,
          139.42857142857142,
          130.71428571428572,
          124.57142857142857,
          122
         ],
         "yaxis": "y"
        },
        {
         "fillpattern": {
          "shape": ""
         },
         "hovertemplate": "source=Other<br>date=%{x}<br>rolling_importations=%{y}<extra></extra>",
         "legendgroup": "Other",
         "line": {
          "color": "#F48A64",
          "width": 0.4
         },
         "marker": {
          "symbol": "circle"
         },
         "mode": "lines",
         "name": "Other",
         "orientation": "v",
         "showlegend": true,
         "stackgroup": "1",
         "type": "scatter",
         "x": [
          "2009-09-05",
          "2009-09-12",
          "2009-09-15",
          "2009-09-25",
          "2009-09-29",
          "2009-10-01",
          "2009-10-03",
          "2009-10-07",
          "2009-10-09",
          "2009-10-12",
          "2009-10-13",
          "2009-10-14",
          "2009-10-15",
          "2009-10-16",
          "2009-10-17",
          "2009-10-18",
          "2009-10-20",
          "2009-10-21",
          "2009-10-22",
          "2009-10-23",
          "2009-10-24",
          "2009-10-25",
          "2009-10-26",
          "2009-10-27",
          "2009-10-28",
          "2009-10-29",
          "2009-10-30",
          "2009-10-31",
          "2009-11-02",
          "2009-11-03",
          "2009-11-04",
          "2009-11-05",
          "2009-11-06",
          "2009-11-07",
          "2009-11-08",
          "2009-11-09",
          "2009-11-10",
          "2009-11-11",
          "2009-11-12",
          "2009-11-13",
          "2009-11-14",
          "2009-11-15",
          "2009-11-16",
          "2009-11-17",
          "2009-11-18",
          "2009-11-19",
          "2009-11-20",
          "2009-11-21",
          "2009-11-22",
          "2009-11-23",
          "2009-11-24",
          "2009-11-25",
          "2009-11-26",
          "2009-11-27",
          "2009-11-28",
          "2009-11-29",
          "2009-11-30",
          "2009-12-01",
          "2009-12-02",
          "2009-12-03",
          "2009-12-04",
          "2009-12-05",
          "2009-12-06",
          "2009-12-07",
          "2009-12-08",
          "2009-12-09",
          "2009-12-10",
          "2009-12-11",
          "2009-12-12",
          "2009-12-13",
          "2009-12-14",
          "2009-12-15",
          "2009-12-16",
          "2009-12-17",
          "2009-12-18",
          "2009-12-19",
          "2009-12-20",
          "2009-12-21",
          "2009-12-22",
          "2009-12-23",
          "2009-12-24",
          "2009-12-25",
          "2009-12-26",
          "2009-12-27",
          "2009-12-28",
          "2009-12-29",
          "2009-12-30",
          "2009-12-31",
          "2010-01-01",
          "2010-01-02",
          "2010-01-03",
          "2010-01-04",
          "2010-01-05",
          "2010-01-06",
          "2010-01-07",
          "2010-01-08",
          "2010-01-09",
          "2010-01-10",
          "2010-01-11",
          "2010-01-12",
          "2010-01-13",
          "2010-01-14",
          "2010-01-15",
          "2010-01-16",
          "2010-01-17",
          "2010-01-18",
          "2010-01-19",
          "2010-01-20",
          "2010-01-21",
          "2010-01-22",
          "2010-01-23",
          "2010-01-24",
          "2010-01-25",
          "2010-01-26",
          "2010-01-27",
          "2010-01-28",
          "2010-01-29",
          "2010-01-30",
          "2010-01-31",
          "2010-02-01",
          "2010-02-02",
          "2010-02-03",
          "2010-02-04",
          "2010-02-05",
          "2010-02-06",
          "2010-02-07",
          "2010-02-08",
          "2010-02-09",
          "2010-02-10",
          "2010-02-11",
          "2010-02-12",
          "2010-02-13",
          "2010-02-14",
          "2010-02-15",
          "2010-02-16",
          "2010-02-17"
         ],
         "xaxis": "x",
         "y": [
          1,
          1,
          1,
          1,
          1,
          1.3333333333333333,
          1.5714285714285714,
          1.5714285714285714,
          1.5714285714285714,
          1.5714285714285714,
          1.5714285714285714,
          1.8571428571428572,
          1.5714285714285714,
          1.8571428571428572,
          2,
          2,
          2,
          2.2857142857142856,
          2.2857142857142856,
          2.857142857142857,
          2.7142857142857144,
          3,
          3.7142857142857144,
          4,
          4.142857142857143,
          4.142857142857143,
          4.285714285714286,
          4.428571428571429,
          4.285714285714286,
          4.285714285714286,
          5.142857142857143,
          6.571428571428571,
          6.714285714285714,
          7.571428571428571,
          8.285714285714286,
          9.142857142857142,
          10.428571428571429,
          10.857142857142858,
          9.857142857142858,
          11.142857142857142,
          12.142857142857142,
          13,
          14.571428571428571,
          14.285714285714286,
          15.142857142857142,
          17.571428571428573,
          18.714285714285715,
          18.571428571428573,
          18.285714285714285,
          18,
          18.428571428571427,
          19.571428571428573,
          19.571428571428573,
          20,
          22.571428571428573,
          24.285714285714285,
          25.857142857142858,
          29.714285714285715,
          31.142857142857142,
          32.714285714285715,
          36.142857142857146,
          38.57142857142857,
          41.857142857142854,
          45,
          45.142857142857146,
          48.714285714285715,
          52.285714285714285,
          52.714285714285715,
          53.714285714285715,
          54.285714285714285,
          55.142857142857146,
          57,
          58.142857142857146,
          59.857142857142854,
          61.142857142857146,
          63.714285714285715,
          66.28571428571429,
          68,
          70,
          70.57142857142857,
          70.42857142857143,
          71.28571428571429,
          70.28571428571429,
          71,
          73.28571428571429,
          74.57142857142857,
          77.57142857142857,
          77.57142857142857,
          78.71428571428571,
          78.28571428571429,
          78.71428571428571,
          77.71428571428571,
          74.14285714285714,
          69.42857142857143,
          68.28571428571429,
          69.28571428571429,
          66.85714285714286,
          67,
          64.28571428571429,
          65.71428571428571,
          64.57142857142857,
          62.714285714285715,
          58.714285714285715,
          58.714285714285715,
          55.42857142857143,
          52.714285714285715,
          51.142857142857146,
          49.57142857142857,
          48.42857142857143,
          47.57142857142857,
          46.285714285714285,
          44.42857142857143,
          43.42857142857143,
          39.714285714285715,
          38.857142857142854,
          37.857142857142854,
          36.57142857142857,
          35.57142857142857,
          34.57142857142857,
          33.42857142857143,
          33.42857142857143,
          32,
          30.428571428571427,
          27,
          26.857142857142858,
          25,
          24.428571428571427,
          23.571428571428573,
          23.142857142857142,
          22.857142857142858,
          23.428571428571427,
          21.857142857142858,
          20.428571428571427,
          19.714285714285715,
          19,
          18.714285714285715
         ],
         "yaxis": "y"
        },
        {
         "fillpattern": {
          "shape": ""
         },
         "hovertemplate": "source=Southern Asia<br>date=%{x}<br>rolling_importations=%{y}<extra></extra>",
         "legendgroup": "Southern Asia",
         "line": {
          "color": "#77C6B1",
          "width": 0.4
         },
         "marker": {
          "symbol": "circle"
         },
         "mode": "lines",
         "name": "Southern Asia",
         "orientation": "v",
         "showlegend": true,
         "stackgroup": "1",
         "type": "scatter",
         "x": [
          "2009-09-11",
          "2009-09-24",
          "2009-10-07",
          "2009-10-09",
          "2009-10-10",
          "2009-10-13",
          "2009-10-15",
          "2009-10-17",
          "2009-10-18",
          "2009-10-19",
          "2009-10-20",
          "2009-10-22",
          "2009-10-23",
          "2009-10-24",
          "2009-10-25",
          "2009-10-26",
          "2009-10-27",
          "2009-10-28",
          "2009-10-29",
          "2009-10-30",
          "2009-10-31",
          "2009-11-01",
          "2009-11-02",
          "2009-11-03",
          "2009-11-04",
          "2009-11-05",
          "2009-11-06",
          "2009-11-07",
          "2009-11-08",
          "2009-11-09",
          "2009-11-10",
          "2009-11-11",
          "2009-11-12",
          "2009-11-13",
          "2009-11-14",
          "2009-11-15",
          "2009-11-16",
          "2009-11-17",
          "2009-11-18",
          "2009-11-19",
          "2009-11-20",
          "2009-11-21",
          "2009-11-22",
          "2009-11-23",
          "2009-11-24",
          "2009-11-25",
          "2009-11-26",
          "2009-11-27",
          "2009-11-28",
          "2009-11-29",
          "2009-11-30",
          "2009-12-01",
          "2009-12-02",
          "2009-12-03",
          "2009-12-04",
          "2009-12-05",
          "2009-12-06",
          "2009-12-07",
          "2009-12-08",
          "2009-12-09",
          "2009-12-10",
          "2009-12-11",
          "2009-12-12",
          "2009-12-13",
          "2009-12-14",
          "2009-12-15",
          "2009-12-16",
          "2009-12-17",
          "2009-12-18",
          "2009-12-19",
          "2009-12-20",
          "2009-12-21",
          "2009-12-22",
          "2009-12-23",
          "2009-12-24",
          "2009-12-25",
          "2009-12-26",
          "2009-12-27",
          "2009-12-28",
          "2009-12-29",
          "2009-12-30",
          "2009-12-31",
          "2010-01-01",
          "2010-01-02",
          "2010-01-03",
          "2010-01-04",
          "2010-01-05",
          "2010-01-06",
          "2010-01-07",
          "2010-01-08",
          "2010-01-09",
          "2010-01-10",
          "2010-01-11",
          "2010-01-12",
          "2010-01-13",
          "2010-01-14",
          "2010-01-15",
          "2010-01-16",
          "2010-01-17",
          "2010-01-18",
          "2010-01-19",
          "2010-01-20",
          "2010-01-21",
          "2010-01-22",
          "2010-01-23",
          "2010-01-24",
          "2010-01-25",
          "2010-01-26",
          "2010-01-27",
          "2010-01-28",
          "2010-01-29",
          "2010-01-30",
          "2010-01-31",
          "2010-02-01",
          "2010-02-02",
          "2010-02-03",
          "2010-02-04",
          "2010-02-05",
          "2010-02-06",
          "2010-02-07",
          "2010-02-08",
          "2010-02-09",
          "2010-02-10",
          "2010-02-11",
          "2010-02-12",
          "2010-02-13",
          "2010-02-14",
          "2010-02-15",
          "2010-02-16",
          "2010-02-17"
         ],
         "xaxis": "x",
         "y": [
          1,
          1,
          1,
          1,
          1.2,
          1.1666666666666667,
          1.1428571428571428,
          1.1428571428571428,
          1.2857142857142858,
          2,
          2.2857142857142856,
          2.142857142857143,
          2.7142857142857144,
          3,
          3.4285714285714284,
          3.5714285714285716,
          3.142857142857143,
          2.857142857142857,
          3.4285714285714284,
          3.2857142857142856,
          3.2857142857142856,
          3.2857142857142856,
          3.7142857142857144,
          3.5714285714285716,
          4.142857142857143,
          4.142857142857143,
          4.714285714285714,
          5.142857142857143,
          5.571428571428571,
          6.285714285714286,
          7,
          7.714285714285714,
          8.571428571428571,
          9.142857142857142,
          10.142857142857142,
          10.714285714285714,
          10.857142857142858,
          12,
          12.285714285714286,
          11.571428571428571,
          11.285714285714286,
          11.857142857142858,
          12.714285714285714,
          15,
          15.285714285714286,
          15.428571428571429,
          17.142857142857142,
          18.714285714285715,
          19,
          20.428571428571427,
          19.714285714285715,
          22.428571428571427,
          25.571428571428573,
          28.285714285714285,
          30.285714285714285,
          33.714285714285715,
          35.857142857142854,
          37.57142857142857,
          37.714285714285715,
          38.285714285714285,
          39.714285714285715,
          38.857142857142854,
          39.857142857142854,
          39.857142857142854,
          40.42857142857143,
          41.714285714285715,
          42.857142857142854,
          44.142857142857146,
          47,
          46.714285714285715,
          48.714285714285715,
          51,
          52.285714285714285,
          53.714285714285715,
          56.285714285714285,
          57.714285714285715,
          58,
          60,
          61.57142857142857,
          62.42857142857143,
          63.42857142857143,
          63.714285714285715,
          63.714285714285715,
          68.71428571428571,
          68.57142857142857,
          69.71428571428571,
          70.28571428571429,
          70.14285714285714,
          68.57142857142857,
          73.14285714285714,
          71.42857142857143,
          73.14285714285714,
          75.71428571428571,
          76,
          79.85714285714286,
          83,
          82.14285714285714,
          84.57142857142857,
          85.57142857142857,
          86.14285714285714,
          88.28571428571429,
          90.14285714285714,
          92,
          91.71428571428571,
          95.14285714285714,
          98,
          98.42857142857143,
          101.85714285714286,
          100.42857142857143,
          99.14285714285714,
          99.28571428571429,
          96.28571428571429,
          94.14285714285714,
          95.14285714285714,
          91.28571428571429,
          90.28571428571429,
          91.14285714285714,
          93.57142857142857,
          93.14285714285714,
          94.42857142857143,
          91.85714285714286,
          92.85714285714286,
          94.71428571428571,
          93.85714285714286,
          91.57142857142857,
          92.28571428571429,
          86,
          85.42857142857143,
          86,
          82.14285714285714
         ],
         "yaxis": "y"
        },
        {
         "fillpattern": {
          "shape": ""
         },
         "hovertemplate": "source=South-Eastern Asia<br>date=%{x}<br>rolling_importations=%{y}<extra></extra>",
         "legendgroup": "South-Eastern Asia",
         "line": {
          "color": "#F2D65F",
          "width": 0.4
         },
         "marker": {
          "symbol": "circle"
         },
         "mode": "lines",
         "name": "South-Eastern Asia",
         "orientation": "v",
         "showlegend": true,
         "stackgroup": "1",
         "type": "scatter",
         "x": [
          "2009-09-21",
          "2009-09-26",
          "2009-09-29",
          "2009-10-01",
          "2009-10-02",
          "2009-10-03",
          "2009-10-06",
          "2009-10-07",
          "2009-10-08",
          "2009-10-09",
          "2009-10-13",
          "2009-10-14",
          "2009-10-15",
          "2009-10-16",
          "2009-10-17",
          "2009-10-18",
          "2009-10-19",
          "2009-10-20",
          "2009-10-21",
          "2009-10-22",
          "2009-10-23",
          "2009-10-24",
          "2009-10-25",
          "2009-10-26",
          "2009-10-27",
          "2009-10-28",
          "2009-10-29",
          "2009-10-30",
          "2009-10-31",
          "2009-11-01",
          "2009-11-02",
          "2009-11-03",
          "2009-11-04",
          "2009-11-05",
          "2009-11-06",
          "2009-11-07",
          "2009-11-08",
          "2009-11-09",
          "2009-11-10",
          "2009-11-11",
          "2009-11-12",
          "2009-11-13",
          "2009-11-14",
          "2009-11-15",
          "2009-11-16",
          "2009-11-17",
          "2009-11-18",
          "2009-11-19",
          "2009-11-20",
          "2009-11-21",
          "2009-11-22",
          "2009-11-23",
          "2009-11-24",
          "2009-11-25",
          "2009-11-26",
          "2009-11-27",
          "2009-11-28",
          "2009-11-29",
          "2009-11-30",
          "2009-12-01",
          "2009-12-02",
          "2009-12-03",
          "2009-12-04",
          "2009-12-05",
          "2009-12-06",
          "2009-12-07",
          "2009-12-08",
          "2009-12-09",
          "2009-12-10",
          "2009-12-11",
          "2009-12-12",
          "2009-12-13",
          "2009-12-14",
          "2009-12-15",
          "2009-12-16",
          "2009-12-17",
          "2009-12-18",
          "2009-12-19",
          "2009-12-20",
          "2009-12-21",
          "2009-12-22",
          "2009-12-23",
          "2009-12-24",
          "2009-12-25",
          "2009-12-26",
          "2009-12-27",
          "2009-12-28",
          "2009-12-29",
          "2009-12-30",
          "2009-12-31",
          "2010-01-01",
          "2010-01-02",
          "2010-01-03",
          "2010-01-04",
          "2010-01-05",
          "2010-01-06",
          "2010-01-07",
          "2010-01-08",
          "2010-01-09",
          "2010-01-10",
          "2010-01-11",
          "2010-01-12",
          "2010-01-13",
          "2010-01-14",
          "2010-01-15",
          "2010-01-16",
          "2010-01-17",
          "2010-01-18",
          "2010-01-19",
          "2010-01-20",
          "2010-01-21",
          "2010-01-22",
          "2010-01-23",
          "2010-01-24",
          "2010-01-25",
          "2010-01-26",
          "2010-01-27",
          "2010-01-28",
          "2010-01-29",
          "2010-01-30",
          "2010-01-31",
          "2010-02-01",
          "2010-02-02",
          "2010-02-03",
          "2010-02-04",
          "2010-02-05",
          "2010-02-06",
          "2010-02-07",
          "2010-02-08",
          "2010-02-09",
          "2010-02-10",
          "2010-02-11",
          "2010-02-12",
          "2010-02-13",
          "2010-02-14",
          "2010-02-15",
          "2010-02-16",
          "2010-02-17"
         ],
         "xaxis": "x",
         "y": [
          2,
          1.5,
          1.3333333333333333,
          1.25,
          1.2,
          1.6666666666666667,
          1.5714285714285714,
          1.7142857142857142,
          2.142857142857143,
          2.142857142857143,
          2.2857142857142856,
          2.4285714285714284,
          2.142857142857143,
          2.5714285714285716,
          2.5714285714285716,
          2.2857142857142856,
          2.2857142857142856,
          2.2857142857142856,
          2.4285714285714284,
          3.142857142857143,
          3.5714285714285716,
          3.5714285714285716,
          4.142857142857143,
          4.857142857142857,
          5.571428571428571,
          6.285714285714286,
          6.142857142857143,
          6.285714285714286,
          6.714285714285714,
          6.857142857142857,
          7.285714285714286,
          7.714285714285714,
          8.428571428571429,
          9.714285714285714,
          10.142857142857142,
          12.142857142857142,
          14.571428571428571,
          16.142857142857142,
          16.428571428571427,
          19.285714285714285,
          20.714285714285715,
          23.285714285714285,
          23.428571428571427,
          23.714285714285715,
          24.857142857142858,
          29.714285714285715,
          31.285714285714285,
          35,
          38.285714285714285,
          44,
          47,
          50.857142857142854,
          52.42857142857143,
          52.42857142857143,
          51.857142857142854,
          51.714285714285715,
          51.714285714285715,
          51.285714285714285,
          53.42857142857143,
          55,
          59.857142857142854,
          63.42857142857143,
          68.85714285714286,
          71.14285714285714,
          76.57142857142857,
          77.28571428571429,
          79.42857142857143,
          78.85714285714286,
          80.85714285714286,
          79.71428571428571,
          85.42857142857143,
          85.28571428571429,
          86.28571428571429,
          88.85714285714286,
          90.85714285714286,
          92.85714285714286,
          95.14285714285714,
          92.28571428571429,
          92,
          95.57142857142857,
          97.42857142857143,
          100.14285714285714,
          99.28571428571429,
          102.14285714285714,
          102,
          103.85714285714286,
          103,
          101.57142857142857,
          99.14285714285714,
          100.42857142857143,
          97.14285714285714,
          101.42857142857143,
          105.71428571428571,
          107.71428571428571,
          110.42857142857143,
          110.14285714285714,
          109.71428571428571,
          111.71428571428571,
          108.85714285714286,
          107.85714285714286,
          105.14285714285714,
          102.28571428571429,
          102.85714285714286,
          104.14285714285714,
          102.85714285714286,
          102.14285714285714,
          99.57142857142857,
          97.42857142857143,
          96.28571428571429,
          96.28571428571429,
          92.85714285714286,
          92.14285714285714,
          90.28571428571429,
          88.42857142857143,
          88.85714285714286,
          85.28571428571429,
          83.14285714285714,
          81.42857142857143,
          79.14285714285714,
          78.14285714285714,
          76.28571428571429,
          76.14285714285714,
          78.28571428571429,
          76,
          74.85714285714286,
          73.57142857142857,
          69.42857142857143,
          68.14285714285714,
          63,
          59.42857142857143,
          57.57142857142857,
          55.857142857142854,
          52.142857142857146,
          50.142857142857146,
          47,
          44.57142857142857,
          42.857142857142854,
          41
         ],
         "yaxis": "y"
        }
       ],
       "layout": {
        "legend": {
         "title": {
          "text": "Source"
         },
         "tracegroupgap": 0,
         "traceorder": "reversed"
        },
        "margin": {
         "t": 60
        },
        "template": {
         "data": {
          "bar": [
           {
            "error_x": {
             "color": "#2a3f5f"
            },
            "error_y": {
             "color": "#2a3f5f"
            },
            "marker": {
             "line": {
              "color": "white",
              "width": 0.5
             },
             "pattern": {
              "fillmode": "overlay",
              "size": 10,
              "solidity": 0.2
             }
            },
            "type": "bar"
           }
          ],
          "barpolar": [
           {
            "marker": {
             "line": {
              "color": "white",
              "width": 0.5
             },
             "pattern": {
              "fillmode": "overlay",
              "size": 10,
              "solidity": 0.2
             }
            },
            "type": "barpolar"
           }
          ],
          "carpet": [
           {
            "aaxis": {
             "endlinecolor": "#2a3f5f",
             "gridcolor": "#C8D4E3",
             "linecolor": "#C8D4E3",
             "minorgridcolor": "#C8D4E3",
             "startlinecolor": "#2a3f5f"
            },
            "baxis": {
             "endlinecolor": "#2a3f5f",
             "gridcolor": "#C8D4E3",
             "linecolor": "#C8D4E3",
             "minorgridcolor": "#C8D4E3",
             "startlinecolor": "#2a3f5f"
            },
            "type": "carpet"
           }
          ],
          "choropleth": [
           {
            "colorbar": {
             "outlinewidth": 0,
             "ticks": ""
            },
            "type": "choropleth"
           }
          ],
          "contour": [
           {
            "colorbar": {
             "outlinewidth": 0,
             "ticks": ""
            },
            "colorscale": [
             [
              0,
              "#0d0887"
             ],
             [
              0.1111111111111111,
              "#46039f"
             ],
             [
              0.2222222222222222,
              "#7201a8"
             ],
             [
              0.3333333333333333,
              "#9c179e"
             ],
             [
              0.4444444444444444,
              "#bd3786"
             ],
             [
              0.5555555555555556,
              "#d8576b"
             ],
             [
              0.6666666666666666,
              "#ed7953"
             ],
             [
              0.7777777777777778,
              "#fb9f3a"
             ],
             [
              0.8888888888888888,
              "#fdca26"
             ],
             [
              1,
              "#f0f921"
             ]
            ],
            "type": "contour"
           }
          ],
          "contourcarpet": [
           {
            "colorbar": {
             "outlinewidth": 0,
             "ticks": ""
            },
            "type": "contourcarpet"
           }
          ],
          "heatmap": [
           {
            "colorbar": {
             "outlinewidth": 0,
             "ticks": ""
            },
            "colorscale": [
             [
              0,
              "#0d0887"
             ],
             [
              0.1111111111111111,
              "#46039f"
             ],
             [
              0.2222222222222222,
              "#7201a8"
             ],
             [
              0.3333333333333333,
              "#9c179e"
             ],
             [
              0.4444444444444444,
              "#bd3786"
             ],
             [
              0.5555555555555556,
              "#d8576b"
             ],
             [
              0.6666666666666666,
              "#ed7953"
             ],
             [
              0.7777777777777778,
              "#fb9f3a"
             ],
             [
              0.8888888888888888,
              "#fdca26"
             ],
             [
              1,
              "#f0f921"
             ]
            ],
            "type": "heatmap"
           }
          ],
          "heatmapgl": [
           {
            "colorbar": {
             "outlinewidth": 0,
             "ticks": ""
            },
            "colorscale": [
             [
              0,
              "#0d0887"
             ],
             [
              0.1111111111111111,
              "#46039f"
             ],
             [
              0.2222222222222222,
              "#7201a8"
             ],
             [
              0.3333333333333333,
              "#9c179e"
             ],
             [
              0.4444444444444444,
              "#bd3786"
             ],
             [
              0.5555555555555556,
              "#d8576b"
             ],
             [
              0.6666666666666666,
              "#ed7953"
             ],
             [
              0.7777777777777778,
              "#fb9f3a"
             ],
             [
              0.8888888888888888,
              "#fdca26"
             ],
             [
              1,
              "#f0f921"
             ]
            ],
            "type": "heatmapgl"
           }
          ],
          "histogram": [
           {
            "marker": {
             "pattern": {
              "fillmode": "overlay",
              "size": 10,
              "solidity": 0.2
             }
            },
            "type": "histogram"
           }
          ],
          "histogram2d": [
           {
            "colorbar": {
             "outlinewidth": 0,
             "ticks": ""
            },
            "colorscale": [
             [
              0,
              "#0d0887"
             ],
             [
              0.1111111111111111,
              "#46039f"
             ],
             [
              0.2222222222222222,
              "#7201a8"
             ],
             [
              0.3333333333333333,
              "#9c179e"
             ],
             [
              0.4444444444444444,
              "#bd3786"
             ],
             [
              0.5555555555555556,
              "#d8576b"
             ],
             [
              0.6666666666666666,
              "#ed7953"
             ],
             [
              0.7777777777777778,
              "#fb9f3a"
             ],
             [
              0.8888888888888888,
              "#fdca26"
             ],
             [
              1,
              "#f0f921"
             ]
            ],
            "type": "histogram2d"
           }
          ],
          "histogram2dcontour": [
           {
            "colorbar": {
             "outlinewidth": 0,
             "ticks": ""
            },
            "colorscale": [
             [
              0,
              "#0d0887"
             ],
             [
              0.1111111111111111,
              "#46039f"
             ],
             [
              0.2222222222222222,
              "#7201a8"
             ],
             [
              0.3333333333333333,
              "#9c179e"
             ],
             [
              0.4444444444444444,
              "#bd3786"
             ],
             [
              0.5555555555555556,
              "#d8576b"
             ],
             [
              0.6666666666666666,
              "#ed7953"
             ],
             [
              0.7777777777777778,
              "#fb9f3a"
             ],
             [
              0.8888888888888888,
              "#fdca26"
             ],
             [
              1,
              "#f0f921"
             ]
            ],
            "type": "histogram2dcontour"
           }
          ],
          "mesh3d": [
           {
            "colorbar": {
             "outlinewidth": 0,
             "ticks": ""
            },
            "type": "mesh3d"
           }
          ],
          "parcoords": [
           {
            "line": {
             "colorbar": {
              "outlinewidth": 0,
              "ticks": ""
             }
            },
            "type": "parcoords"
           }
          ],
          "pie": [
           {
            "automargin": true,
            "type": "pie"
           }
          ],
          "scatter": [
           {
            "fillpattern": {
             "fillmode": "overlay",
             "size": 10,
             "solidity": 0.2
            },
            "type": "scatter"
           }
          ],
          "scatter3d": [
           {
            "line": {
             "colorbar": {
              "outlinewidth": 0,
              "ticks": ""
             }
            },
            "marker": {
             "colorbar": {
              "outlinewidth": 0,
              "ticks": ""
             }
            },
            "type": "scatter3d"
           }
          ],
          "scattercarpet": [
           {
            "marker": {
             "colorbar": {
              "outlinewidth": 0,
              "ticks": ""
             }
            },
            "type": "scattercarpet"
           }
          ],
          "scattergeo": [
           {
            "marker": {
             "colorbar": {
              "outlinewidth": 0,
              "ticks": ""
             }
            },
            "type": "scattergeo"
           }
          ],
          "scattergl": [
           {
            "marker": {
             "colorbar": {
              "outlinewidth": 0,
              "ticks": ""
             }
            },
            "type": "scattergl"
           }
          ],
          "scattermapbox": [
           {
            "marker": {
             "colorbar": {
              "outlinewidth": 0,
              "ticks": ""
             }
            },
            "type": "scattermapbox"
           }
          ],
          "scatterpolar": [
           {
            "marker": {
             "colorbar": {
              "outlinewidth": 0,
              "ticks": ""
             }
            },
            "type": "scatterpolar"
           }
          ],
          "scatterpolargl": [
           {
            "marker": {
             "colorbar": {
              "outlinewidth": 0,
              "ticks": ""
             }
            },
            "type": "scatterpolargl"
           }
          ],
          "scatterternary": [
           {
            "marker": {
             "colorbar": {
              "outlinewidth": 0,
              "ticks": ""
             }
            },
            "type": "scatterternary"
           }
          ],
          "surface": [
           {
            "colorbar": {
             "outlinewidth": 0,
             "ticks": ""
            },
            "colorscale": [
             [
              0,
              "#0d0887"
             ],
             [
              0.1111111111111111,
              "#46039f"
             ],
             [
              0.2222222222222222,
              "#7201a8"
             ],
             [
              0.3333333333333333,
              "#9c179e"
             ],
             [
              0.4444444444444444,
              "#bd3786"
             ],
             [
              0.5555555555555556,
              "#d8576b"
             ],
             [
              0.6666666666666666,
              "#ed7953"
             ],
             [
              0.7777777777777778,
              "#fb9f3a"
             ],
             [
              0.8888888888888888,
              "#fdca26"
             ],
             [
              1,
              "#f0f921"
             ]
            ],
            "type": "surface"
           }
          ],
          "table": [
           {
            "cells": {
             "fill": {
              "color": "#EBF0F8"
             },
             "line": {
              "color": "white"
             }
            },
            "header": {
             "fill": {
              "color": "#C8D4E3"
             },
             "line": {
              "color": "white"
             }
            },
            "type": "table"
           }
          ]
         },
         "layout": {
          "annotationdefaults": {
           "arrowcolor": "#2a3f5f",
           "arrowhead": 0,
           "arrowwidth": 1
          },
          "autotypenumbers": "strict",
          "coloraxis": {
           "colorbar": {
            "outlinewidth": 0,
            "ticks": ""
           }
          },
          "colorscale": {
           "diverging": [
            [
             0,
             "#003f5c"
            ],
            [
             0.16666666666666666,
             "#577187"
            ],
            [
             0.3333333333333333,
             "#9ca8b4"
            ],
            [
             0.5,
             "#e2e2e2"
            ],
            [
             0.6666666666666666,
             "#d0a2af"
            ],
            [
             0.8333333333333334,
             "#b8637e"
            ],
            [
             1,
             "#9a1050"
            ]
           ],
           "sequential": [
            [
             0,
             "#003f5c"
            ],
            [
             0.14285714285714285,
             "#2f4b7c"
            ],
            [
             0.2857142857142857,
             "#665191"
            ],
            [
             0.42857142857142855,
             "#a05195"
            ],
            [
             0.5714285714285714,
             "#d45087"
            ],
            [
             0.7142857142857143,
             "#f95d6a"
            ],
            [
             0.8571428571428571,
             "#ff7c43"
            ],
            [
             1,
             "#ffa600"
            ]
           ],
           "sequentialminus": [
            [
             0,
             "#0d0887"
            ],
            [
             0.1111111111111111,
             "#46039f"
            ],
            [
             0.2222222222222222,
             "#7201a8"
            ],
            [
             0.3333333333333333,
             "#9c179e"
            ],
            [
             0.4444444444444444,
             "#bd3786"
            ],
            [
             0.5555555555555556,
             "#d8576b"
            ],
            [
             0.6666666666666666,
             "#ed7953"
            ],
            [
             0.7777777777777778,
             "#fb9f3a"
            ],
            [
             0.8888888888888888,
             "#fdca26"
            ],
            [
             1,
             "#f0f921"
            ]
           ]
          },
          "colorway": [
           "#428299",
           "#67C4D3",
           "#F48A64",
           "#77C6B1",
           "#F2D65F",
           "#80A4CE",
           "#CC9EB1",
           "#BFD88F",
           "#8E8E8E"
          ],
          "font": {
           "color": "black",
           "family": "PT Sans Narrow",
           "size": 14
          },
          "geo": {
           "bgcolor": "white",
           "lakecolor": "white",
           "landcolor": "white",
           "showlakes": true,
           "showland": true,
           "subunitcolor": "#C8D4E3"
          },
          "hoverlabel": {
           "align": "left"
          },
          "hovermode": "closest",
          "mapbox": {
           "style": "light"
          },
          "paper_bgcolor": "white",
          "plot_bgcolor": "white",
          "polar": {
           "angularaxis": {
            "gridcolor": "#EBF0F8",
            "linecolor": "#EBF0F8",
            "ticks": ""
           },
           "bgcolor": "white",
           "radialaxis": {
            "gridcolor": "#EBF0F8",
            "linecolor": "#EBF0F8",
            "ticks": ""
           }
          },
          "scene": {
           "xaxis": {
            "backgroundcolor": "white",
            "gridcolor": "#DFE8F3",
            "gridwidth": 2,
            "linecolor": "#EBF0F8",
            "showbackground": true,
            "ticks": "",
            "zerolinecolor": "#EBF0F8"
           },
           "yaxis": {
            "backgroundcolor": "white",
            "gridcolor": "#DFE8F3",
            "gridwidth": 2,
            "linecolor": "#EBF0F8",
            "showbackground": true,
            "ticks": "",
            "zerolinecolor": "#EBF0F8"
           },
           "zaxis": {
            "backgroundcolor": "white",
            "gridcolor": "#DFE8F3",
            "gridwidth": 2,
            "linecolor": "#EBF0F8",
            "showbackground": true,
            "ticks": "",
            "zerolinecolor": "#EBF0F8"
           }
          },
          "shapedefaults": {
           "line": {
            "color": "#428299"
           }
          },
          "ternary": {
           "aaxis": {
            "gridcolor": "#DFE8F3",
            "linecolor": "#A2B1C6",
            "ticks": ""
           },
           "baxis": {
            "gridcolor": "#DFE8F3",
            "linecolor": "#A2B1C6",
            "ticks": ""
           },
           "bgcolor": "white",
           "caxis": {
            "gridcolor": "#DFE8F3",
            "linecolor": "#A2B1C6",
            "ticks": ""
           }
          },
          "title": {
           "font": {
            "color": "black",
            "size": 28,
            "weight": 400
           },
           "subtitle": {
            "font": {
             "color": "#373737",
             "size": 14,
             "weight": 200
            }
           },
           "x": 0.5,
           "y": 0.95,
           "yref": "container"
          },
          "xaxis": {
           "automargin": true,
           "gridcolor": "#EBF0F8",
           "linecolor": "#EBF0F8",
           "ticks": "",
           "title": {
            "standoff": 15
           },
           "zerolinecolor": "#EBF0F8",
           "zerolinewidth": 2
          },
          "yaxis": {
           "automargin": true,
           "gridcolor": "#EBF0F8",
           "linecolor": "#EBF0F8",
           "ticks": "",
           "title": {
            "standoff": 15
           },
           "zerolinecolor": "#EBF0F8",
           "zerolinewidth": 2
          }
         }
        },
        "title": {
         "text": "Sample Area Plot"
        },
        "xaxis": {
         "anchor": "y",
         "domain": [
          0,
          1
         ],
         "title": {
          "text": "Date"
         }
        },
        "yaxis": {
         "anchor": "x",
         "domain": [
          0,
          1
         ],
         "title": {
          "text": "Cases Imported"
         }
        }
       }
      },
      "text/html": [
       "<div>                            <div id=\"8f3ec6de-93d9-4f76-994c-33646d17999b\" class=\"plotly-graph-div\" style=\"height:525px; width:100%;\"></div>            <script type=\"text/javascript\">                require([\"plotly\"], function(Plotly) {                    window.PLOTLYENV=window.PLOTLYENV || {};                                    if (document.getElementById(\"8f3ec6de-93d9-4f76-994c-33646d17999b\")) {                    Plotly.newPlot(                        \"8f3ec6de-93d9-4f76-994c-33646d17999b\",                        [{\"fillpattern\":{\"shape\":\"\"},\"hovertemplate\":\"source=Western Asia\\u003cbr\\u003edate=%{x}\\u003cbr\\u003erolling_importations=%{y}\\u003cextra\\u003e\\u003c\\u002fextra\\u003e\",\"legendgroup\":\"Western Asia\",\"line\":{\"color\":\"#428299\",\"width\":0.4},\"marker\":{\"symbol\":\"circle\"},\"mode\":\"lines\",\"name\":\"Western Asia\",\"orientation\":\"v\",\"showlegend\":true,\"stackgroup\":\"1\",\"x\":[\"2009-07-24\",\"2009-09-05\",\"2009-09-07\",\"2009-09-14\",\"2009-09-19\",\"2009-09-21\",\"2009-09-25\",\"2009-09-27\",\"2009-09-28\",\"2009-09-30\",\"2009-10-01\",\"2009-10-02\",\"2009-10-03\",\"2009-10-04\",\"2009-10-05\",\"2009-10-06\",\"2009-10-07\",\"2009-10-08\",\"2009-10-09\",\"2009-10-10\",\"2009-10-11\",\"2009-10-12\",\"2009-10-13\",\"2009-10-14\",\"2009-10-15\",\"2009-10-16\",\"2009-10-17\",\"2009-10-18\",\"2009-10-19\",\"2009-10-20\",\"2009-10-21\",\"2009-10-22\",\"2009-10-23\",\"2009-10-24\",\"2009-10-25\",\"2009-10-26\",\"2009-10-27\",\"2009-10-28\",\"2009-10-29\",\"2009-10-30\",\"2009-10-31\",\"2009-11-01\",\"2009-11-02\",\"2009-11-03\",\"2009-11-04\",\"2009-11-05\",\"2009-11-06\",\"2009-11-07\",\"2009-11-08\",\"2009-11-09\",\"2009-11-10\",\"2009-11-11\",\"2009-11-12\",\"2009-11-13\",\"2009-11-14\",\"2009-11-15\",\"2009-11-16\",\"2009-11-17\",\"2009-11-18\",\"2009-11-19\",\"2009-11-20\",\"2009-11-21\",\"2009-11-22\",\"2009-11-23\",\"2009-11-24\",\"2009-11-25\",\"2009-11-26\",\"2009-11-27\",\"2009-11-28\",\"2009-11-29\",\"2009-11-30\",\"2009-12-01\",\"2009-12-02\",\"2009-12-03\",\"2009-12-04\",\"2009-12-05\",\"2009-12-06\",\"2009-12-07\",\"2009-12-08\",\"2009-12-09\",\"2009-12-10\",\"2009-12-11\",\"2009-12-12\",\"2009-12-13\",\"2009-12-14\",\"2009-12-15\",\"2009-12-16\",\"2009-12-17\",\"2009-12-18\",\"2009-12-19\",\"2009-12-20\",\"2009-12-21\",\"2009-12-22\",\"2009-12-23\",\"2009-12-24\",\"2009-12-25\",\"2009-12-26\",\"2009-12-27\",\"2009-12-28\",\"2009-12-29\",\"2009-12-30\",\"2009-12-31\",\"2010-01-01\",\"2010-01-02\",\"2010-01-03\",\"2010-01-04\",\"2010-01-05\",\"2010-01-06\",\"2010-01-07\",\"2010-01-08\",\"2010-01-09\",\"2010-01-10\",\"2010-01-11\",\"2010-01-12\",\"2010-01-13\",\"2010-01-14\",\"2010-01-15\",\"2010-01-16\",\"2010-01-17\",\"2010-01-18\",\"2010-01-19\",\"2010-01-20\",\"2010-01-21\",\"2010-01-22\",\"2010-01-23\",\"2010-01-24\",\"2010-01-25\",\"2010-01-26\",\"2010-01-27\",\"2010-01-28\",\"2010-01-29\",\"2010-01-30\",\"2010-01-31\",\"2010-02-01\",\"2010-02-02\",\"2010-02-03\",\"2010-02-04\",\"2010-02-05\",\"2010-02-06\",\"2010-02-07\",\"2010-02-08\",\"2010-02-09\",\"2010-02-10\",\"2010-02-11\",\"2010-02-12\",\"2010-02-13\",\"2010-02-14\",\"2010-02-15\",\"2010-02-16\",\"2010-02-17\"],\"xaxis\":\"x\",\"y\":[1.0,1.0,1.0,1.0,1.0,1.1666666666666667,1.1428571428571428,1.1428571428571428,1.2857142857142858,1.2857142857142858,1.2857142857142858,1.5714285714285714,1.5714285714285714,1.5714285714285714,1.7142857142857142,1.5714285714285714,1.7142857142857142,2.0,1.8571428571428572,2.0,2.2857142857142856,2.142857142857143,2.2857142857142856,2.4285714285714284,2.5714285714285716,2.857142857142857,3.142857142857143,3.5714285714285716,4.428571428571429,5.0,5.285714285714286,6.0,6.428571428571429,6.857142857142857,7.714285714285714,7.571428571428571,7.857142857142857,9.0,9.285714285714286,9.571428571428571,10.714285714285714,11.714285714285714,13.428571428571429,15.142857142857142,16.285714285714285,16.142857142857142,19.285714285714285,21.142857142857142,23.0,25.571428571428573,27.428571428571427,28.857142857142858,33.857142857142854,36.42857142857143,38.285714285714285,40.42857142857143,43.42857142857143,46.857142857142854,50.42857142857143,52.0,56.0,58.57142857142857,61.42857142857143,65.42857142857143,67.42857142857143,70.57142857142857,77.14285714285714,79.57142857142857,86.0,91.85714285714286,93.57142857142857,93.57142857142857,93.85714285714286,92.28571428571429,89.42857142857143,87.71428571428571,82.71428571428571,79.14285714285714,83.57142857142857,85.42857142857143,88.42857142857143,89.57142857142857,85.85714285714286,86.0,88.0,84.28571428571429,82.14285714285714,78.85714285714286,77.0,80.85714285714286,80.85714285714286,78.85714285714286,79.57142857142857,79.57142857142857,79.42857142857143,80.57142857142857,77.85714285714286,75.85714285714286,75.0,72.0,71.28571428571429,68.85714285714286,67.14285714285714,68.28571428571429,69.0,68.0,66.0,66.28571428571429,63.142857142857146,62.714285714285715,61.142857142857146,59.57142857142857,58.285714285714285,58.857142857142854,56.42857142857143,59.42857142857143,58.857142857142854,57.57142857142857,57.857142857142854,58.285714285714285,57.857142857142854,58.0,54.42857142857143,51.57142857142857,48.42857142857143,44.857142857142854,43.285714285714285,41.857142857142854,39.857142857142854,37.57142857142857,38.42857142857143,38.285714285714285,38.285714285714285,37.42857142857143,35.142857142857146,33.0,33.142857142857146,31.285714285714285,29.571428571428573,29.142857142857142,27.857142857142858,28.857142857142858,28.571428571428573,27.857142857142858,27.285714285714285,26.285714285714285,25.428571428571427,24.714285714285715,22.285714285714285,21.714285714285715],\"yaxis\":\"y\",\"type\":\"scatter\"},{\"fillpattern\":{\"shape\":\"\"},\"hovertemplate\":\"source=Eastern Asia\\u003cbr\\u003edate=%{x}\\u003cbr\\u003erolling_importations=%{y}\\u003cextra\\u003e\\u003c\\u002fextra\\u003e\",\"legendgroup\":\"Eastern Asia\",\"line\":{\"color\":\"#67C4D3\",\"width\":0.4},\"marker\":{\"symbol\":\"circle\"},\"mode\":\"lines\",\"name\":\"Eastern Asia\",\"orientation\":\"v\",\"showlegend\":true,\"stackgroup\":\"1\",\"x\":[\"2009-08-19\",\"2009-08-25\",\"2009-08-26\",\"2009-08-30\",\"2009-08-31\",\"2009-09-02\",\"2009-09-04\",\"2009-09-06\",\"2009-09-08\",\"2009-09-09\",\"2009-09-10\",\"2009-09-12\",\"2009-09-13\",\"2009-09-14\",\"2009-09-15\",\"2009-09-16\",\"2009-09-17\",\"2009-09-18\",\"2009-09-19\",\"2009-09-20\",\"2009-09-21\",\"2009-09-22\",\"2009-09-23\",\"2009-09-24\",\"2009-09-25\",\"2009-09-26\",\"2009-09-27\",\"2009-09-28\",\"2009-09-29\",\"2009-09-30\",\"2009-10-01\",\"2009-10-02\",\"2009-10-03\",\"2009-10-04\",\"2009-10-05\",\"2009-10-06\",\"2009-10-07\",\"2009-10-08\",\"2009-10-09\",\"2009-10-10\",\"2009-10-11\",\"2009-10-12\",\"2009-10-13\",\"2009-10-14\",\"2009-10-15\",\"2009-10-16\",\"2009-10-17\",\"2009-10-18\",\"2009-10-19\",\"2009-10-20\",\"2009-10-21\",\"2009-10-22\",\"2009-10-23\",\"2009-10-24\",\"2009-10-25\",\"2009-10-26\",\"2009-10-27\",\"2009-10-28\",\"2009-10-29\",\"2009-10-30\",\"2009-10-31\",\"2009-11-01\",\"2009-11-02\",\"2009-11-03\",\"2009-11-04\",\"2009-11-05\",\"2009-11-06\",\"2009-11-07\",\"2009-11-08\",\"2009-11-09\",\"2009-11-10\",\"2009-11-11\",\"2009-11-12\",\"2009-11-13\",\"2009-11-14\",\"2009-11-15\",\"2009-11-16\",\"2009-11-17\",\"2009-11-18\",\"2009-11-19\",\"2009-11-20\",\"2009-11-21\",\"2009-11-22\",\"2009-11-23\",\"2009-11-24\",\"2009-11-25\",\"2009-11-26\",\"2009-11-27\",\"2009-11-28\",\"2009-11-29\",\"2009-11-30\",\"2009-12-01\",\"2009-12-02\",\"2009-12-03\",\"2009-12-04\",\"2009-12-05\",\"2009-12-06\",\"2009-12-07\",\"2009-12-08\",\"2009-12-09\",\"2009-12-10\",\"2009-12-11\",\"2009-12-12\",\"2009-12-13\",\"2009-12-14\",\"2009-12-15\",\"2009-12-16\",\"2009-12-17\",\"2009-12-18\",\"2009-12-19\",\"2009-12-20\",\"2009-12-21\",\"2009-12-22\",\"2009-12-23\",\"2009-12-24\",\"2009-12-25\",\"2009-12-26\",\"2009-12-27\",\"2009-12-28\",\"2009-12-29\",\"2009-12-30\",\"2009-12-31\",\"2010-01-01\",\"2010-01-02\",\"2010-01-03\",\"2010-01-04\",\"2010-01-05\",\"2010-01-06\",\"2010-01-07\",\"2010-01-08\",\"2010-01-09\",\"2010-01-10\",\"2010-01-11\",\"2010-01-12\",\"2010-01-13\",\"2010-01-14\",\"2010-01-15\",\"2010-01-16\",\"2010-01-17\",\"2010-01-18\",\"2010-01-19\",\"2010-01-20\",\"2010-01-21\",\"2010-01-22\",\"2010-01-23\",\"2010-01-24\",\"2010-01-25\",\"2010-01-26\",\"2010-01-27\",\"2010-01-28\",\"2010-01-29\",\"2010-01-30\",\"2010-01-31\",\"2010-02-01\",\"2010-02-02\",\"2010-02-03\",\"2010-02-04\",\"2010-02-05\",\"2010-02-06\",\"2010-02-07\",\"2010-02-08\",\"2010-02-09\",\"2010-02-10\",\"2010-02-11\",\"2010-02-12\",\"2010-02-13\",\"2010-02-14\",\"2010-02-15\",\"2010-02-16\",\"2010-02-17\"],\"xaxis\":\"x\",\"y\":[1.0,1.0,1.3333333333333333,1.25,1.2,1.3333333333333333,1.5714285714285714,1.7142857142857142,2.0,2.142857142857143,2.2857142857142856,2.4285714285714284,2.4285714285714284,2.7142857142857144,2.857142857142857,2.7142857142857144,2.7142857142857144,2.7142857142857144,3.142857142857143,3.4285714285714284,4.142857142857143,5.428571428571429,6.428571428571429,7.285714285714286,8.714285714285714,9.857142857142858,10.714285714285714,11.285714285714286,11.142857142857142,12.714285714285714,13.857142857142858,15.0,16.857142857142858,18.0,20.714285714285715,24.0,26.285714285714285,29.142857142857142,31.428571428571427,37.714285714285715,42.57142857142857,46.142857142857146,52.142857142857146,55.857142857142854,62.285714285714285,68.28571428571429,70.71428571428571,76.57142857142857,82.14285714285714,83.28571428571429,91.57142857142857,97.28571428571429,105.14285714285714,114.85714285714286,121.14285714285714,127.28571428571429,135.0,145.14285714285714,151.71428571428572,153.85714285714286,157.0,163.85714285714286,168.57142857142858,171.57142857142858,169.14285714285714,168.42857142857142,171.71428571428572,171.71428571428572,171.42857142857142,168.42857142857142,170.0,170.28571428571428,173.85714285714286,174.14285714285714,176.0,176.14285714285714,179.57142857142858,183.57142857142858,183.71428571428572,181.0,185.0,186.28571428571428,186.42857142857142,187.42857142857142,183.28571428571428,185.42857142857142,187.0,183.71428571428572,183.42857142857142,181.85714285714286,180.14285714285714,180.42857142857142,174.42857142857142,173.57142857142858,172.57142857142858,171.85714285714286,171.71428571428572,171.85714285714286,174.71428571428572,174.28571428571428,172.0,173.71428571428572,172.0,174.28571428571428,175.14285714285714,172.14285714285714,177.28571428571428,184.57142857142858,188.71428571428572,192.71428571428572,199.85714285714286,202.85714285714286,208.14285714285714,208.0,205.28571428571428,205.42857142857142,203.28571428571428,201.85714285714286,200.57142857142858,200.14285714285714,203.28571428571428,208.14285714285714,210.42857142857142,215.0,212.85714285714286,212.85714285714286,216.0,218.14285714285714,221.14285714285714,220.28571428571428,219.57142857142858,220.0,225.28571428571428,225.0,226.0,223.85714285714286,217.85714285714286,216.0,214.14285714285714,211.57142857142858,207.71428571428572,204.14285714285714,202.71428571428572,208.85714285714286,208.57142857142858,205.14285714285714,201.42857142857142,198.42857142857142,196.71428571428572,192.0,189.14285714285714,183.14285714285714,181.14285714285714,178.28571428571428,177.71428571428572,171.85714285714286,162.14285714285714,154.0,151.14285714285714,148.42857142857142,148.85714285714286,144.85714285714286,144.0,144.42857142857142,142.14285714285714,142.28571428571428,139.42857142857142,130.71428571428572,124.57142857142857,122.0],\"yaxis\":\"y\",\"type\":\"scatter\"},{\"fillpattern\":{\"shape\":\"\"},\"hovertemplate\":\"source=Other\\u003cbr\\u003edate=%{x}\\u003cbr\\u003erolling_importations=%{y}\\u003cextra\\u003e\\u003c\\u002fextra\\u003e\",\"legendgroup\":\"Other\",\"line\":{\"color\":\"#F48A64\",\"width\":0.4},\"marker\":{\"symbol\":\"circle\"},\"mode\":\"lines\",\"name\":\"Other\",\"orientation\":\"v\",\"showlegend\":true,\"stackgroup\":\"1\",\"x\":[\"2009-09-05\",\"2009-09-12\",\"2009-09-15\",\"2009-09-25\",\"2009-09-29\",\"2009-10-01\",\"2009-10-03\",\"2009-10-07\",\"2009-10-09\",\"2009-10-12\",\"2009-10-13\",\"2009-10-14\",\"2009-10-15\",\"2009-10-16\",\"2009-10-17\",\"2009-10-18\",\"2009-10-20\",\"2009-10-21\",\"2009-10-22\",\"2009-10-23\",\"2009-10-24\",\"2009-10-25\",\"2009-10-26\",\"2009-10-27\",\"2009-10-28\",\"2009-10-29\",\"2009-10-30\",\"2009-10-31\",\"2009-11-02\",\"2009-11-03\",\"2009-11-04\",\"2009-11-05\",\"2009-11-06\",\"2009-11-07\",\"2009-11-08\",\"2009-11-09\",\"2009-11-10\",\"2009-11-11\",\"2009-11-12\",\"2009-11-13\",\"2009-11-14\",\"2009-11-15\",\"2009-11-16\",\"2009-11-17\",\"2009-11-18\",\"2009-11-19\",\"2009-11-20\",\"2009-11-21\",\"2009-11-22\",\"2009-11-23\",\"2009-11-24\",\"2009-11-25\",\"2009-11-26\",\"2009-11-27\",\"2009-11-28\",\"2009-11-29\",\"2009-11-30\",\"2009-12-01\",\"2009-12-02\",\"2009-12-03\",\"2009-12-04\",\"2009-12-05\",\"2009-12-06\",\"2009-12-07\",\"2009-12-08\",\"2009-12-09\",\"2009-12-10\",\"2009-12-11\",\"2009-12-12\",\"2009-12-13\",\"2009-12-14\",\"2009-12-15\",\"2009-12-16\",\"2009-12-17\",\"2009-12-18\",\"2009-12-19\",\"2009-12-20\",\"2009-12-21\",\"2009-12-22\",\"2009-12-23\",\"2009-12-24\",\"2009-12-25\",\"2009-12-26\",\"2009-12-27\",\"2009-12-28\",\"2009-12-29\",\"2009-12-30\",\"2009-12-31\",\"2010-01-01\",\"2010-01-02\",\"2010-01-03\",\"2010-01-04\",\"2010-01-05\",\"2010-01-06\",\"2010-01-07\",\"2010-01-08\",\"2010-01-09\",\"2010-01-10\",\"2010-01-11\",\"2010-01-12\",\"2010-01-13\",\"2010-01-14\",\"2010-01-15\",\"2010-01-16\",\"2010-01-17\",\"2010-01-18\",\"2010-01-19\",\"2010-01-20\",\"2010-01-21\",\"2010-01-22\",\"2010-01-23\",\"2010-01-24\",\"2010-01-25\",\"2010-01-26\",\"2010-01-27\",\"2010-01-28\",\"2010-01-29\",\"2010-01-30\",\"2010-01-31\",\"2010-02-01\",\"2010-02-02\",\"2010-02-03\",\"2010-02-04\",\"2010-02-05\",\"2010-02-06\",\"2010-02-07\",\"2010-02-08\",\"2010-02-09\",\"2010-02-10\",\"2010-02-11\",\"2010-02-12\",\"2010-02-13\",\"2010-02-14\",\"2010-02-15\",\"2010-02-16\",\"2010-02-17\"],\"xaxis\":\"x\",\"y\":[1.0,1.0,1.0,1.0,1.0,1.3333333333333333,1.5714285714285714,1.5714285714285714,1.5714285714285714,1.5714285714285714,1.5714285714285714,1.8571428571428572,1.5714285714285714,1.8571428571428572,2.0,2.0,2.0,2.2857142857142856,2.2857142857142856,2.857142857142857,2.7142857142857144,3.0,3.7142857142857144,4.0,4.142857142857143,4.142857142857143,4.285714285714286,4.428571428571429,4.285714285714286,4.285714285714286,5.142857142857143,6.571428571428571,6.714285714285714,7.571428571428571,8.285714285714286,9.142857142857142,10.428571428571429,10.857142857142858,9.857142857142858,11.142857142857142,12.142857142857142,13.0,14.571428571428571,14.285714285714286,15.142857142857142,17.571428571428573,18.714285714285715,18.571428571428573,18.285714285714285,18.0,18.428571428571427,19.571428571428573,19.571428571428573,20.0,22.571428571428573,24.285714285714285,25.857142857142858,29.714285714285715,31.142857142857142,32.714285714285715,36.142857142857146,38.57142857142857,41.857142857142854,45.0,45.142857142857146,48.714285714285715,52.285714285714285,52.714285714285715,53.714285714285715,54.285714285714285,55.142857142857146,57.0,58.142857142857146,59.857142857142854,61.142857142857146,63.714285714285715,66.28571428571429,68.0,70.0,70.57142857142857,70.42857142857143,71.28571428571429,70.28571428571429,71.0,73.28571428571429,74.57142857142857,77.57142857142857,77.57142857142857,78.71428571428571,78.28571428571429,78.71428571428571,77.71428571428571,74.14285714285714,69.42857142857143,68.28571428571429,69.28571428571429,66.85714285714286,67.0,64.28571428571429,65.71428571428571,64.57142857142857,62.714285714285715,58.714285714285715,58.714285714285715,55.42857142857143,52.714285714285715,51.142857142857146,49.57142857142857,48.42857142857143,47.57142857142857,46.285714285714285,44.42857142857143,43.42857142857143,39.714285714285715,38.857142857142854,37.857142857142854,36.57142857142857,35.57142857142857,34.57142857142857,33.42857142857143,33.42857142857143,32.0,30.428571428571427,27.0,26.857142857142858,25.0,24.428571428571427,23.571428571428573,23.142857142857142,22.857142857142858,23.428571428571427,21.857142857142858,20.428571428571427,19.714285714285715,19.0,18.714285714285715],\"yaxis\":\"y\",\"type\":\"scatter\"},{\"fillpattern\":{\"shape\":\"\"},\"hovertemplate\":\"source=Southern Asia\\u003cbr\\u003edate=%{x}\\u003cbr\\u003erolling_importations=%{y}\\u003cextra\\u003e\\u003c\\u002fextra\\u003e\",\"legendgroup\":\"Southern Asia\",\"line\":{\"color\":\"#77C6B1\",\"width\":0.4},\"marker\":{\"symbol\":\"circle\"},\"mode\":\"lines\",\"name\":\"Southern Asia\",\"orientation\":\"v\",\"showlegend\":true,\"stackgroup\":\"1\",\"x\":[\"2009-09-11\",\"2009-09-24\",\"2009-10-07\",\"2009-10-09\",\"2009-10-10\",\"2009-10-13\",\"2009-10-15\",\"2009-10-17\",\"2009-10-18\",\"2009-10-19\",\"2009-10-20\",\"2009-10-22\",\"2009-10-23\",\"2009-10-24\",\"2009-10-25\",\"2009-10-26\",\"2009-10-27\",\"2009-10-28\",\"2009-10-29\",\"2009-10-30\",\"2009-10-31\",\"2009-11-01\",\"2009-11-02\",\"2009-11-03\",\"2009-11-04\",\"2009-11-05\",\"2009-11-06\",\"2009-11-07\",\"2009-11-08\",\"2009-11-09\",\"2009-11-10\",\"2009-11-11\",\"2009-11-12\",\"2009-11-13\",\"2009-11-14\",\"2009-11-15\",\"2009-11-16\",\"2009-11-17\",\"2009-11-18\",\"2009-11-19\",\"2009-11-20\",\"2009-11-21\",\"2009-11-22\",\"2009-11-23\",\"2009-11-24\",\"2009-11-25\",\"2009-11-26\",\"2009-11-27\",\"2009-11-28\",\"2009-11-29\",\"2009-11-30\",\"2009-12-01\",\"2009-12-02\",\"2009-12-03\",\"2009-12-04\",\"2009-12-05\",\"2009-12-06\",\"2009-12-07\",\"2009-12-08\",\"2009-12-09\",\"2009-12-10\",\"2009-12-11\",\"2009-12-12\",\"2009-12-13\",\"2009-12-14\",\"2009-12-15\",\"2009-12-16\",\"2009-12-17\",\"2009-12-18\",\"2009-12-19\",\"2009-12-20\",\"2009-12-21\",\"2009-12-22\",\"2009-12-23\",\"2009-12-24\",\"2009-12-25\",\"2009-12-26\",\"2009-12-27\",\"2009-12-28\",\"2009-12-29\",\"2009-12-30\",\"2009-12-31\",\"2010-01-01\",\"2010-01-02\",\"2010-01-03\",\"2010-01-04\",\"2010-01-05\",\"2010-01-06\",\"2010-01-07\",\"2010-01-08\",\"2010-01-09\",\"2010-01-10\",\"2010-01-11\",\"2010-01-12\",\"2010-01-13\",\"2010-01-14\",\"2010-01-15\",\"2010-01-16\",\"2010-01-17\",\"2010-01-18\",\"2010-01-19\",\"2010-01-20\",\"2010-01-21\",\"2010-01-22\",\"2010-01-23\",\"2010-01-24\",\"2010-01-25\",\"2010-01-26\",\"2010-01-27\",\"2010-01-28\",\"2010-01-29\",\"2010-01-30\",\"2010-01-31\",\"2010-02-01\",\"2010-02-02\",\"2010-02-03\",\"2010-02-04\",\"2010-02-05\",\"2010-02-06\",\"2010-02-07\",\"2010-02-08\",\"2010-02-09\",\"2010-02-10\",\"2010-02-11\",\"2010-02-12\",\"2010-02-13\",\"2010-02-14\",\"2010-02-15\",\"2010-02-16\",\"2010-02-17\"],\"xaxis\":\"x\",\"y\":[1.0,1.0,1.0,1.0,1.2,1.1666666666666667,1.1428571428571428,1.1428571428571428,1.2857142857142858,2.0,2.2857142857142856,2.142857142857143,2.7142857142857144,3.0,3.4285714285714284,3.5714285714285716,3.142857142857143,2.857142857142857,3.4285714285714284,3.2857142857142856,3.2857142857142856,3.2857142857142856,3.7142857142857144,3.5714285714285716,4.142857142857143,4.142857142857143,4.714285714285714,5.142857142857143,5.571428571428571,6.285714285714286,7.0,7.714285714285714,8.571428571428571,9.142857142857142,10.142857142857142,10.714285714285714,10.857142857142858,12.0,12.285714285714286,11.571428571428571,11.285714285714286,11.857142857142858,12.714285714285714,15.0,15.285714285714286,15.428571428571429,17.142857142857142,18.714285714285715,19.0,20.428571428571427,19.714285714285715,22.428571428571427,25.571428571428573,28.285714285714285,30.285714285714285,33.714285714285715,35.857142857142854,37.57142857142857,37.714285714285715,38.285714285714285,39.714285714285715,38.857142857142854,39.857142857142854,39.857142857142854,40.42857142857143,41.714285714285715,42.857142857142854,44.142857142857146,47.0,46.714285714285715,48.714285714285715,51.0,52.285714285714285,53.714285714285715,56.285714285714285,57.714285714285715,58.0,60.0,61.57142857142857,62.42857142857143,63.42857142857143,63.714285714285715,63.714285714285715,68.71428571428571,68.57142857142857,69.71428571428571,70.28571428571429,70.14285714285714,68.57142857142857,73.14285714285714,71.42857142857143,73.14285714285714,75.71428571428571,76.0,79.85714285714286,83.0,82.14285714285714,84.57142857142857,85.57142857142857,86.14285714285714,88.28571428571429,90.14285714285714,92.0,91.71428571428571,95.14285714285714,98.0,98.42857142857143,101.85714285714286,100.42857142857143,99.14285714285714,99.28571428571429,96.28571428571429,94.14285714285714,95.14285714285714,91.28571428571429,90.28571428571429,91.14285714285714,93.57142857142857,93.14285714285714,94.42857142857143,91.85714285714286,92.85714285714286,94.71428571428571,93.85714285714286,91.57142857142857,92.28571428571429,86.0,85.42857142857143,86.0,82.14285714285714],\"yaxis\":\"y\",\"type\":\"scatter\"},{\"fillpattern\":{\"shape\":\"\"},\"hovertemplate\":\"source=South-Eastern Asia\\u003cbr\\u003edate=%{x}\\u003cbr\\u003erolling_importations=%{y}\\u003cextra\\u003e\\u003c\\u002fextra\\u003e\",\"legendgroup\":\"South-Eastern Asia\",\"line\":{\"color\":\"#F2D65F\",\"width\":0.4},\"marker\":{\"symbol\":\"circle\"},\"mode\":\"lines\",\"name\":\"South-Eastern Asia\",\"orientation\":\"v\",\"showlegend\":true,\"stackgroup\":\"1\",\"x\":[\"2009-09-21\",\"2009-09-26\",\"2009-09-29\",\"2009-10-01\",\"2009-10-02\",\"2009-10-03\",\"2009-10-06\",\"2009-10-07\",\"2009-10-08\",\"2009-10-09\",\"2009-10-13\",\"2009-10-14\",\"2009-10-15\",\"2009-10-16\",\"2009-10-17\",\"2009-10-18\",\"2009-10-19\",\"2009-10-20\",\"2009-10-21\",\"2009-10-22\",\"2009-10-23\",\"2009-10-24\",\"2009-10-25\",\"2009-10-26\",\"2009-10-27\",\"2009-10-28\",\"2009-10-29\",\"2009-10-30\",\"2009-10-31\",\"2009-11-01\",\"2009-11-02\",\"2009-11-03\",\"2009-11-04\",\"2009-11-05\",\"2009-11-06\",\"2009-11-07\",\"2009-11-08\",\"2009-11-09\",\"2009-11-10\",\"2009-11-11\",\"2009-11-12\",\"2009-11-13\",\"2009-11-14\",\"2009-11-15\",\"2009-11-16\",\"2009-11-17\",\"2009-11-18\",\"2009-11-19\",\"2009-11-20\",\"2009-11-21\",\"2009-11-22\",\"2009-11-23\",\"2009-11-24\",\"2009-11-25\",\"2009-11-26\",\"2009-11-27\",\"2009-11-28\",\"2009-11-29\",\"2009-11-30\",\"2009-12-01\",\"2009-12-02\",\"2009-12-03\",\"2009-12-04\",\"2009-12-05\",\"2009-12-06\",\"2009-12-07\",\"2009-12-08\",\"2009-12-09\",\"2009-12-10\",\"2009-12-11\",\"2009-12-12\",\"2009-12-13\",\"2009-12-14\",\"2009-12-15\",\"2009-12-16\",\"2009-12-17\",\"2009-12-18\",\"2009-12-19\",\"2009-12-20\",\"2009-12-21\",\"2009-12-22\",\"2009-12-23\",\"2009-12-24\",\"2009-12-25\",\"2009-12-26\",\"2009-12-27\",\"2009-12-28\",\"2009-12-29\",\"2009-12-30\",\"2009-12-31\",\"2010-01-01\",\"2010-01-02\",\"2010-01-03\",\"2010-01-04\",\"2010-01-05\",\"2010-01-06\",\"2010-01-07\",\"2010-01-08\",\"2010-01-09\",\"2010-01-10\",\"2010-01-11\",\"2010-01-12\",\"2010-01-13\",\"2010-01-14\",\"2010-01-15\",\"2010-01-16\",\"2010-01-17\",\"2010-01-18\",\"2010-01-19\",\"2010-01-20\",\"2010-01-21\",\"2010-01-22\",\"2010-01-23\",\"2010-01-24\",\"2010-01-25\",\"2010-01-26\",\"2010-01-27\",\"2010-01-28\",\"2010-01-29\",\"2010-01-30\",\"2010-01-31\",\"2010-02-01\",\"2010-02-02\",\"2010-02-03\",\"2010-02-04\",\"2010-02-05\",\"2010-02-06\",\"2010-02-07\",\"2010-02-08\",\"2010-02-09\",\"2010-02-10\",\"2010-02-11\",\"2010-02-12\",\"2010-02-13\",\"2010-02-14\",\"2010-02-15\",\"2010-02-16\",\"2010-02-17\"],\"xaxis\":\"x\",\"y\":[2.0,1.5,1.3333333333333333,1.25,1.2,1.6666666666666667,1.5714285714285714,1.7142857142857142,2.142857142857143,2.142857142857143,2.2857142857142856,2.4285714285714284,2.142857142857143,2.5714285714285716,2.5714285714285716,2.2857142857142856,2.2857142857142856,2.2857142857142856,2.4285714285714284,3.142857142857143,3.5714285714285716,3.5714285714285716,4.142857142857143,4.857142857142857,5.571428571428571,6.285714285714286,6.142857142857143,6.285714285714286,6.714285714285714,6.857142857142857,7.285714285714286,7.714285714285714,8.428571428571429,9.714285714285714,10.142857142857142,12.142857142857142,14.571428571428571,16.142857142857142,16.428571428571427,19.285714285714285,20.714285714285715,23.285714285714285,23.428571428571427,23.714285714285715,24.857142857142858,29.714285714285715,31.285714285714285,35.0,38.285714285714285,44.0,47.0,50.857142857142854,52.42857142857143,52.42857142857143,51.857142857142854,51.714285714285715,51.714285714285715,51.285714285714285,53.42857142857143,55.0,59.857142857142854,63.42857142857143,68.85714285714286,71.14285714285714,76.57142857142857,77.28571428571429,79.42857142857143,78.85714285714286,80.85714285714286,79.71428571428571,85.42857142857143,85.28571428571429,86.28571428571429,88.85714285714286,90.85714285714286,92.85714285714286,95.14285714285714,92.28571428571429,92.0,95.57142857142857,97.42857142857143,100.14285714285714,99.28571428571429,102.14285714285714,102.0,103.85714285714286,103.0,101.57142857142857,99.14285714285714,100.42857142857143,97.14285714285714,101.42857142857143,105.71428571428571,107.71428571428571,110.42857142857143,110.14285714285714,109.71428571428571,111.71428571428571,108.85714285714286,107.85714285714286,105.14285714285714,102.28571428571429,102.85714285714286,104.14285714285714,102.85714285714286,102.14285714285714,99.57142857142857,97.42857142857143,96.28571428571429,96.28571428571429,92.85714285714286,92.14285714285714,90.28571428571429,88.42857142857143,88.85714285714286,85.28571428571429,83.14285714285714,81.42857142857143,79.14285714285714,78.14285714285714,76.28571428571429,76.14285714285714,78.28571428571429,76.0,74.85714285714286,73.57142857142857,69.42857142857143,68.14285714285714,63.0,59.42857142857143,57.57142857142857,55.857142857142854,52.142857142857146,50.142857142857146,47.0,44.57142857142857,42.857142857142854,41.0],\"yaxis\":\"y\",\"type\":\"scatter\"}],                        {\"template\":{\"data\":{\"barpolar\":[{\"marker\":{\"line\":{\"color\":\"white\",\"width\":0.5},\"pattern\":{\"fillmode\":\"overlay\",\"size\":10,\"solidity\":0.2}},\"type\":\"barpolar\"}],\"bar\":[{\"error_x\":{\"color\":\"#2a3f5f\"},\"error_y\":{\"color\":\"#2a3f5f\"},\"marker\":{\"line\":{\"color\":\"white\",\"width\":0.5},\"pattern\":{\"fillmode\":\"overlay\",\"size\":10,\"solidity\":0.2}},\"type\":\"bar\"}],\"carpet\":[{\"aaxis\":{\"endlinecolor\":\"#2a3f5f\",\"gridcolor\":\"#C8D4E3\",\"linecolor\":\"#C8D4E3\",\"minorgridcolor\":\"#C8D4E3\",\"startlinecolor\":\"#2a3f5f\"},\"baxis\":{\"endlinecolor\":\"#2a3f5f\",\"gridcolor\":\"#C8D4E3\",\"linecolor\":\"#C8D4E3\",\"minorgridcolor\":\"#C8D4E3\",\"startlinecolor\":\"#2a3f5f\"},\"type\":\"carpet\"}],\"choropleth\":[{\"colorbar\":{\"outlinewidth\":0,\"ticks\":\"\"},\"type\":\"choropleth\"}],\"contourcarpet\":[{\"colorbar\":{\"outlinewidth\":0,\"ticks\":\"\"},\"type\":\"contourcarpet\"}],\"contour\":[{\"colorbar\":{\"outlinewidth\":0,\"ticks\":\"\"},\"colorscale\":[[0.0,\"#0d0887\"],[0.1111111111111111,\"#46039f\"],[0.2222222222222222,\"#7201a8\"],[0.3333333333333333,\"#9c179e\"],[0.4444444444444444,\"#bd3786\"],[0.5555555555555556,\"#d8576b\"],[0.6666666666666666,\"#ed7953\"],[0.7777777777777778,\"#fb9f3a\"],[0.8888888888888888,\"#fdca26\"],[1.0,\"#f0f921\"]],\"type\":\"contour\"}],\"heatmapgl\":[{\"colorbar\":{\"outlinewidth\":0,\"ticks\":\"\"},\"colorscale\":[[0.0,\"#0d0887\"],[0.1111111111111111,\"#46039f\"],[0.2222222222222222,\"#7201a8\"],[0.3333333333333333,\"#9c179e\"],[0.4444444444444444,\"#bd3786\"],[0.5555555555555556,\"#d8576b\"],[0.6666666666666666,\"#ed7953\"],[0.7777777777777778,\"#fb9f3a\"],[0.8888888888888888,\"#fdca26\"],[1.0,\"#f0f921\"]],\"type\":\"heatmapgl\"}],\"heatmap\":[{\"colorbar\":{\"outlinewidth\":0,\"ticks\":\"\"},\"colorscale\":[[0.0,\"#0d0887\"],[0.1111111111111111,\"#46039f\"],[0.2222222222222222,\"#7201a8\"],[0.3333333333333333,\"#9c179e\"],[0.4444444444444444,\"#bd3786\"],[0.5555555555555556,\"#d8576b\"],[0.6666666666666666,\"#ed7953\"],[0.7777777777777778,\"#fb9f3a\"],[0.8888888888888888,\"#fdca26\"],[1.0,\"#f0f921\"]],\"type\":\"heatmap\"}],\"histogram2dcontour\":[{\"colorbar\":{\"outlinewidth\":0,\"ticks\":\"\"},\"colorscale\":[[0.0,\"#0d0887\"],[0.1111111111111111,\"#46039f\"],[0.2222222222222222,\"#7201a8\"],[0.3333333333333333,\"#9c179e\"],[0.4444444444444444,\"#bd3786\"],[0.5555555555555556,\"#d8576b\"],[0.6666666666666666,\"#ed7953\"],[0.7777777777777778,\"#fb9f3a\"],[0.8888888888888888,\"#fdca26\"],[1.0,\"#f0f921\"]],\"type\":\"histogram2dcontour\"}],\"histogram2d\":[{\"colorbar\":{\"outlinewidth\":0,\"ticks\":\"\"},\"colorscale\":[[0.0,\"#0d0887\"],[0.1111111111111111,\"#46039f\"],[0.2222222222222222,\"#7201a8\"],[0.3333333333333333,\"#9c179e\"],[0.4444444444444444,\"#bd3786\"],[0.5555555555555556,\"#d8576b\"],[0.6666666666666666,\"#ed7953\"],[0.7777777777777778,\"#fb9f3a\"],[0.8888888888888888,\"#fdca26\"],[1.0,\"#f0f921\"]],\"type\":\"histogram2d\"}],\"histogram\":[{\"marker\":{\"pattern\":{\"fillmode\":\"overlay\",\"size\":10,\"solidity\":0.2}},\"type\":\"histogram\"}],\"mesh3d\":[{\"colorbar\":{\"outlinewidth\":0,\"ticks\":\"\"},\"type\":\"mesh3d\"}],\"parcoords\":[{\"line\":{\"colorbar\":{\"outlinewidth\":0,\"ticks\":\"\"}},\"type\":\"parcoords\"}],\"pie\":[{\"automargin\":true,\"type\":\"pie\"}],\"scatter3d\":[{\"line\":{\"colorbar\":{\"outlinewidth\":0,\"ticks\":\"\"}},\"marker\":{\"colorbar\":{\"outlinewidth\":0,\"ticks\":\"\"}},\"type\":\"scatter3d\"}],\"scattercarpet\":[{\"marker\":{\"colorbar\":{\"outlinewidth\":0,\"ticks\":\"\"}},\"type\":\"scattercarpet\"}],\"scattergeo\":[{\"marker\":{\"colorbar\":{\"outlinewidth\":0,\"ticks\":\"\"}},\"type\":\"scattergeo\"}],\"scattergl\":[{\"marker\":{\"colorbar\":{\"outlinewidth\":0,\"ticks\":\"\"}},\"type\":\"scattergl\"}],\"scattermapbox\":[{\"marker\":{\"colorbar\":{\"outlinewidth\":0,\"ticks\":\"\"}},\"type\":\"scattermapbox\"}],\"scatterpolargl\":[{\"marker\":{\"colorbar\":{\"outlinewidth\":0,\"ticks\":\"\"}},\"type\":\"scatterpolargl\"}],\"scatterpolar\":[{\"marker\":{\"colorbar\":{\"outlinewidth\":0,\"ticks\":\"\"}},\"type\":\"scatterpolar\"}],\"scatter\":[{\"fillpattern\":{\"fillmode\":\"overlay\",\"size\":10,\"solidity\":0.2},\"type\":\"scatter\"}],\"scatterternary\":[{\"marker\":{\"colorbar\":{\"outlinewidth\":0,\"ticks\":\"\"}},\"type\":\"scatterternary\"}],\"surface\":[{\"colorbar\":{\"outlinewidth\":0,\"ticks\":\"\"},\"colorscale\":[[0.0,\"#0d0887\"],[0.1111111111111111,\"#46039f\"],[0.2222222222222222,\"#7201a8\"],[0.3333333333333333,\"#9c179e\"],[0.4444444444444444,\"#bd3786\"],[0.5555555555555556,\"#d8576b\"],[0.6666666666666666,\"#ed7953\"],[0.7777777777777778,\"#fb9f3a\"],[0.8888888888888888,\"#fdca26\"],[1.0,\"#f0f921\"]],\"type\":\"surface\"}],\"table\":[{\"cells\":{\"fill\":{\"color\":\"#EBF0F8\"},\"line\":{\"color\":\"white\"}},\"header\":{\"fill\":{\"color\":\"#C8D4E3\"},\"line\":{\"color\":\"white\"}},\"type\":\"table\"}]},\"layout\":{\"annotationdefaults\":{\"arrowcolor\":\"#2a3f5f\",\"arrowhead\":0,\"arrowwidth\":1},\"autotypenumbers\":\"strict\",\"coloraxis\":{\"colorbar\":{\"outlinewidth\":0,\"ticks\":\"\"}},\"colorscale\":{\"diverging\":[[0.0,\"#003f5c\"],[0.16666666666666666,\"#577187\"],[0.3333333333333333,\"#9ca8b4\"],[0.5,\"#e2e2e2\"],[0.6666666666666666,\"#d0a2af\"],[0.8333333333333334,\"#b8637e\"],[1.0,\"#9a1050\"]],\"sequential\":[[0.0,\"#003f5c\"],[0.14285714285714285,\"#2f4b7c\"],[0.2857142857142857,\"#665191\"],[0.42857142857142855,\"#a05195\"],[0.5714285714285714,\"#d45087\"],[0.7142857142857143,\"#f95d6a\"],[0.8571428571428571,\"#ff7c43\"],[1.0,\"#ffa600\"]],\"sequentialminus\":[[0.0,\"#0d0887\"],[0.1111111111111111,\"#46039f\"],[0.2222222222222222,\"#7201a8\"],[0.3333333333333333,\"#9c179e\"],[0.4444444444444444,\"#bd3786\"],[0.5555555555555556,\"#d8576b\"],[0.6666666666666666,\"#ed7953\"],[0.7777777777777778,\"#fb9f3a\"],[0.8888888888888888,\"#fdca26\"],[1.0,\"#f0f921\"]]},\"colorway\":[\"#428299\",\"#67C4D3\",\"#F48A64\",\"#77C6B1\",\"#F2D65F\",\"#80A4CE\",\"#CC9EB1\",\"#BFD88F\",\"#8E8E8E\"],\"font\":{\"color\":\"black\",\"family\":\"PT Sans Narrow\",\"size\":14},\"geo\":{\"bgcolor\":\"white\",\"lakecolor\":\"white\",\"landcolor\":\"white\",\"showlakes\":true,\"showland\":true,\"subunitcolor\":\"#C8D4E3\"},\"hoverlabel\":{\"align\":\"left\"},\"hovermode\":\"closest\",\"mapbox\":{\"style\":\"light\"},\"paper_bgcolor\":\"white\",\"plot_bgcolor\":\"white\",\"polar\":{\"angularaxis\":{\"gridcolor\":\"#EBF0F8\",\"linecolor\":\"#EBF0F8\",\"ticks\":\"\"},\"bgcolor\":\"white\",\"radialaxis\":{\"gridcolor\":\"#EBF0F8\",\"linecolor\":\"#EBF0F8\",\"ticks\":\"\"}},\"scene\":{\"xaxis\":{\"backgroundcolor\":\"white\",\"gridcolor\":\"#DFE8F3\",\"gridwidth\":2,\"linecolor\":\"#EBF0F8\",\"showbackground\":true,\"ticks\":\"\",\"zerolinecolor\":\"#EBF0F8\"},\"yaxis\":{\"backgroundcolor\":\"white\",\"gridcolor\":\"#DFE8F3\",\"gridwidth\":2,\"linecolor\":\"#EBF0F8\",\"showbackground\":true,\"ticks\":\"\",\"zerolinecolor\":\"#EBF0F8\"},\"zaxis\":{\"backgroundcolor\":\"white\",\"gridcolor\":\"#DFE8F3\",\"gridwidth\":2,\"linecolor\":\"#EBF0F8\",\"showbackground\":true,\"ticks\":\"\",\"zerolinecolor\":\"#EBF0F8\"}},\"shapedefaults\":{\"line\":{\"color\":\"#428299\"}},\"ternary\":{\"aaxis\":{\"gridcolor\":\"#DFE8F3\",\"linecolor\":\"#A2B1C6\",\"ticks\":\"\"},\"baxis\":{\"gridcolor\":\"#DFE8F3\",\"linecolor\":\"#A2B1C6\",\"ticks\":\"\"},\"bgcolor\":\"white\",\"caxis\":{\"gridcolor\":\"#DFE8F3\",\"linecolor\":\"#A2B1C6\",\"ticks\":\"\"}},\"title\":{\"font\":{\"color\":\"black\",\"size\":28,\"weight\":400},\"subtitle\":{\"font\":{\"color\":\"#373737\",\"size\":14,\"weight\":200}},\"x\":0.5,\"y\":0.95,\"yref\":\"container\"},\"xaxis\":{\"automargin\":true,\"gridcolor\":\"#EBF0F8\",\"linecolor\":\"#EBF0F8\",\"ticks\":\"\",\"title\":{\"standoff\":15},\"zerolinecolor\":\"#EBF0F8\",\"zerolinewidth\":2},\"yaxis\":{\"automargin\":true,\"gridcolor\":\"#EBF0F8\",\"linecolor\":\"#EBF0F8\",\"ticks\":\"\",\"title\":{\"standoff\":15},\"zerolinecolor\":\"#EBF0F8\",\"zerolinewidth\":2}}},\"xaxis\":{\"anchor\":\"y\",\"domain\":[0.0,1.0],\"title\":{\"text\":\"Date\"}},\"yaxis\":{\"anchor\":\"x\",\"domain\":[0.0,1.0],\"title\":{\"text\":\"Cases Imported\"}},\"legend\":{\"title\":{\"text\":\"Source\"},\"tracegroupgap\":0,\"traceorder\":\"reversed\"},\"margin\":{\"t\":60},\"title\":{\"text\":\"Sample Area Plot\"}},                        {\"responsive\": true}                    ).then(function(){\n",
       "                            \n",
       "var gd = document.getElementById('8f3ec6de-93d9-4f76-994c-33646d17999b');\n",
       "var x = new MutationObserver(function (mutations, observer) {{\n",
       "        var display = window.getComputedStyle(gd).display;\n",
       "        if (!display || display === 'none') {{\n",
       "            console.log([gd, 'removed!']);\n",
       "            Plotly.purge(gd);\n",
       "            observer.disconnect();\n",
       "        }}\n",
       "}});\n",
       "\n",
       "// Listen for the removal of the full notebook cells\n",
       "var notebookContainer = gd.closest('#notebook-container');\n",
       "if (notebookContainer) {{\n",
       "    x.observe(notebookContainer, {childList: true});\n",
       "}}\n",
       "\n",
       "// Listen for the clearing of the current output cell\n",
       "var outputEl = gd.closest('.output');\n",
       "if (outputEl) {{\n",
       "    x.observe(outputEl, {childList: true});\n",
       "}}\n",
       "\n",
       "                        })                };                });            </script>        </div>"
      ]
     },
     "metadata": {},
     "output_type": "display_data"
    }
   ],
   "source": [
    "# Create the area plot\n",
    "fig = px.area(df, x='date', y='rolling_importations', \n",
    "              color='source',\n",
    "              template='netsi'\n",
    "             )\n",
    "fig.update_traces(line=dict(width=0.4))\n",
    "fig.update_layout(title_text='Sample Area Plot', legend_traceorder='reversed',\n",
    "                 xaxis_title=\"Date\", yaxis_title=\"Cases Imported\", legend_title_text='Source',)\n",
    "\n",
    "\n",
    "\n",
    "\n",
    "fig\n"
   ]
  },
  {
   "cell_type": "code",
   "execution_count": null,
   "id": "cb634b7f",
   "metadata": {},
   "outputs": [],
   "source": []
  },
  {
   "cell_type": "code",
   "execution_count": null,
   "id": "ca96ff7b",
   "metadata": {},
   "outputs": [],
   "source": [
    "fig.write_image('area.pdf')"
   ]
  },
  {
   "cell_type": "code",
   "execution_count": null,
   "id": "130dca42",
   "metadata": {},
   "outputs": [],
   "source": [
    "pip show kaleido"
   ]
  },
  {
   "cell_type": "markdown",
   "id": "590fba42",
   "metadata": {},
   "source": [
    "## Sankey diagrams"
   ]
  },
  {
   "cell_type": "code",
   "execution_count": null,
   "id": "d81a9456",
   "metadata": {},
   "outputs": [],
   "source": [
    "def build_sankey_query(table_name, reference_table_name, source_geo_level, target_geo_level, source_values, target_values, date_range, \n",
    "                       cutoff=0.05, source_output_level=None, target_output_level=None, domestic=True):\n",
    "                       \n",
    "    if source_output_level == None:\n",
    "        source_output_level = source_geo_level\n",
    "    if target_output_level == None:\n",
    "        target_output_level = target_geo_level\n",
    "                       \n",
    "    # Build filters for both source and target regions\n",
    "    source_filter = build_geographic_filter(source_geo_level, source_values, alias=\"g_source\")\n",
    "    target_filter = build_geographic_filter(target_geo_level, target_values, alias=\"g_target\")\n",
    "\n",
    "    # Create the base where clause\n",
    "    where_clauses = []\n",
    "\n",
    "    if source_filter:\n",
    "        where_clauses.append(source_filter)\n",
    "    if target_filter:\n",
    "        where_clauses.append(target_filter)\n",
    "        \n",
    "    if not domestic:\n",
    "        # Exclude rows where target imports to itself\n",
    "        where_clauses.append(f\"g_source.{target_output_level} != g_target.{target_output_level}\")\n",
    "\n",
    "    # Join the where clauses with 'AND'\n",
    "    where_clause = ' AND '.join(where_clauses)\n",
    "\n",
    "    query = f\"\"\"\n",
    "    WITH total_exportations AS (\n",
    "        -- Calculate total exportations for the given date range\n",
    "        SELECT \n",
    "            SUM(i.importations) AS total_sum\n",
    "        FROM \n",
    "            `{table_name}` AS i\n",
    "        JOIN \n",
    "            `{reference_table_name}` AS g_target \n",
    "            ON g_target.basin_id = i.target_basin\n",
    "        JOIN \n",
    "            `{reference_table_name}` AS g_source \n",
    "            ON g_source.basin_id = i.source_basin\n",
    "        WHERE \n",
    "            {where_clause}\n",
    "            AND i.date >= '{date_range[0]}'\n",
    "            AND i.date <= '{date_range[1]}'\n",
    "    ), source_totals AS (\n",
    "        -- Calculate total exportations for each source\n",
    "        SELECT\n",
    "            g_source.{source_output_level.split('_')[0]+'_id'} * -1 AS sourceid,\n",
    "            g_source.{source_output_level} AS source,\n",
    "            SUM(i.importations) AS source_sum\n",
    "        FROM \n",
    "            `{table_name}` AS i\n",
    "        JOIN \n",
    "            `{reference_table_name}` AS g_source\n",
    "            ON g_source.basin_id = i.source_basin\n",
    "        JOIN \n",
    "            `{reference_table_name}` AS g_target \n",
    "            ON g_target.basin_id = i.target_basin\n",
    "        WHERE \n",
    "            {where_clause}\n",
    "            AND i.date >= '{date_range[0]}'\n",
    "            AND i.date <= '{date_range[1]}'\n",
    "        GROUP BY sourceid, source\n",
    "    ), target_totals AS (\n",
    "        -- Calculate total exportations for each target\n",
    "        SELECT\n",
    "            g_target.{target_output_level.split('_')[0]+'_id'} AS targetid,\n",
    "            g_target.{target_output_level} AS target,\n",
    "            SUM(i.importations) AS target_sum\n",
    "        FROM \n",
    "            `{table_name}` AS i\n",
    "        JOIN \n",
    "            `{reference_table_name}` AS g_target\n",
    "            ON g_target.basin_id = i.target_basin\n",
    "        JOIN \n",
    "            `{reference_table_name}` AS g_source\n",
    "            ON g_source.basin_id = i.source_basin\n",
    "        WHERE \n",
    "            {where_clause}\n",
    "            AND i.date >= '{date_range[0]}'\n",
    "            AND i.date <= '{date_range[1]}'\n",
    "        GROUP BY targetid, target\n",
    "    ), categorized_sources AS (\n",
    "        -- Categorize sources contributing less than the cutoff as \"Other\"\n",
    "        SELECT \n",
    "            st.sourceid,\n",
    "            CASE \n",
    "                WHEN st.source_sum < {cutoff} * t.total_sum THEN -1.5\n",
    "                ELSE st.sourceid\n",
    "            END AS revisedsourceid,\n",
    "            CASE \n",
    "                WHEN st.source_sum < {cutoff} * t.total_sum THEN 'Other'\n",
    "                ELSE st.source\n",
    "            END AS source\n",
    "        FROM \n",
    "            source_totals st\n",
    "        CROSS JOIN \n",
    "            total_exportations t\n",
    "    ), categorized_targets AS (\n",
    "        -- Categorize targets contributing less than the cutoff as \"Other\"\n",
    "        SELECT \n",
    "            tt.targetid,\n",
    "            CASE \n",
    "                WHEN tt.target_sum < {cutoff} * t.total_sum THEN 1.5\n",
    "                ELSE tt.targetid\n",
    "            END AS revisedtargetid,\n",
    "            CASE \n",
    "                WHEN tt.target_sum < {cutoff} * t.total_sum THEN 'Other'\n",
    "                ELSE tt.target\n",
    "            END AS target\n",
    "        FROM \n",
    "            target_totals tt\n",
    "        CROSS JOIN \n",
    "            total_exportations t\n",
    "    ), final_exportations AS (\n",
    "        -- Recalculate exportations with categorized sources and targets\n",
    "        SELECT\n",
    "            cs.sourceid,\n",
    "            cs.revisedsourceid,\n",
    "            cs.source,\n",
    "            ct.targetid,\n",
    "            ct.revisedtargetid,\n",
    "            ct.target,\n",
    "            SUM(i.importations) AS region_sum\n",
    "        FROM \n",
    "            `{table_name}` AS i\n",
    "        JOIN \n",
    "            `{reference_table_name}` AS g_source\n",
    "            ON g_source.basin_id = i.source_basin\n",
    "        JOIN \n",
    "            `{reference_table_name}` AS g_target\n",
    "            ON g_target.basin_id = i.target_basin\n",
    "        JOIN \n",
    "            categorized_sources cs\n",
    "            ON cs.sourceid = g_source.{source_output_level.split('_')[0]+'_id'} * -1\n",
    "        JOIN \n",
    "            categorized_targets ct\n",
    "            ON ct.targetid = g_target.{target_output_level.split('_')[0]+'_id'}\n",
    "        WHERE \n",
    "            {where_clause}\n",
    "            AND i.date >= '{date_range[0]}'\n",
    "            AND i.date <= '{date_range[1]}'\n",
    "        GROUP BY \n",
    "            cs.sourceid, \n",
    "            cs.revisedsourceid,\n",
    "            cs.source, \n",
    "            ct.targetid, \n",
    "            ct.revisedtargetid,\n",
    "            ct.target\n",
    "    )\n",
    "    -- Final query to return exportations, ensuring \"Other\" sources and targets are properly grouped\n",
    "    SELECT\n",
    "        fe.revisedsourceid AS sourceid,\n",
    "        fe.source AS source,\n",
    "        fe.revisedtargetid AS targetid,\n",
    "        fe.target AS target,\n",
    "        SUM(fe.region_sum) / (SELECT total_sum FROM total_exportations) AS exportations\n",
    "    FROM \n",
    "        final_exportations fe\n",
    "    GROUP BY \n",
    "        fe.revisedsourceid, \n",
    "        fe.source, \n",
    "        fe.revisedtargetid, \n",
    "        fe.target;\n",
    "    \"\"\"\n",
    "\n",
    "    return query\n"
   ]
  },
  {
   "cell_type": "code",
   "execution_count": null,
   "id": "a64cae54",
   "metadata": {},
   "outputs": [],
   "source": [
    "build_sankey_query"
   ]
  },
  {
   "cell_type": "code",
   "execution_count": null,
   "id": "ada0585c",
   "metadata": {
    "scrolled": true
   },
   "outputs": [],
   "source": [
    "table_name = \"net-data-viz-handbook.importation_data.sir_importations_1\"\n",
    "reference_table_name = 'reference.gleam-geo-map'\n",
    "\n",
    "source_geo_level = \"region_label\"  # This could also be \"region_id\" or other levels\n",
    "source_values = ['Caribbean']  \n",
    "source_output_level = \"country_name\"\n",
    "\n",
    "target_geo_level = \"continent_label\"  # Could be \"country_id\", \"region_label\", etc.\n",
    "target_values = [\"North America\", \"South America\"]  # Regions to filter on\n",
    "target_output_level = 'country_name'\n",
    "\n",
    "date_range = [\"2009-01-01\", \"2010-12-31\"]  # The date range for the data\n",
    "cutoff = 0.05  # Threshold for categorizing regions\n",
    "domestic = False\n",
    "\n",
    "# Call the function\n",
    "query = build_sankey_query(table_name, reference_table_name, source_geo_level, target_geo_level, \n",
    "                           source_values, target_values, date_range, \n",
    "                    cutoff, source_output_level=source_output_level, target_output_level=target_output_level, \n",
    "                           domestic=domestic)\n",
    "\n",
    "df = execute(client, query)\n",
    "\n",
    "df.tail()"
   ]
  },
  {
   "cell_type": "code",
   "execution_count": null,
   "id": "407fdbbd",
   "metadata": {},
   "outputs": [],
   "source": [
    "# Create a set of unique node IDs from both sourceid and targetid\n",
    "unique_ids = set(df['sourceid']).union(set(df['targetid']))\n",
    "\n",
    "# Create mapping for indices\n",
    "dict_indices = {id_: idx for idx, id_ in enumerate(unique_ids)}\n",
    "\n",
    "# Create mapping for labels (using the first occurrence of each name)\n",
    "name_mapping = {}\n",
    "for idx, row in df.iterrows():\n",
    "    name_mapping[row['sourceid']] = row['source']\n",
    "    name_mapping[row['targetid']] = row['target']\n",
    "\n",
    "# Generate source, target, and value lists for the Sankey diagram\n",
    "source = df['sourceid'].map(dict_indices)\n",
    "target = df['targetid'].map(dict_indices)\n",
    "value = df['exportations']\n",
    "\n",
    "# Create Sankey diagram\n",
    "fig = go.Figure(go.Sankey(\n",
    "    node=dict(\n",
    "        pad=15,\n",
    "        thickness=20,\n",
    "        line=dict(color='black', width=0.3),\n",
    "        label=[name_mapping[id_] for id_ in dict_indices.keys()],  # Use names as node labels\n",
    "    ),\n",
    "    link=dict(\n",
    "        source=source,  # Use mapped source indices\n",
    "        target=target,  # Use mapped target indices\n",
    "        value=value,\n",
    "    )\n",
    "))\n",
    "\n",
    "fig.update_layout(\n",
    "    title={\n",
    "        'text': f\"<b>Flow of Importation Sankey</b><br>\\\n",
    "<span style='font-size: 12px;'>From {date_range[0]} to {date_range[1]}.</span>\",\n",
    "        'x': 0.5,\n",
    "        'y': 0.9,\n",
    "    },\n",
    "    template='netsi'\n",
    ")\n",
    "\n",
    "fig.show()"
   ]
  },
  {
   "cell_type": "markdown",
   "id": "14a54cf9",
   "metadata": {},
   "source": [
    "## Creating an relative risk plot from sankey query"
   ]
  },
  {
   "cell_type": "code",
   "execution_count": null,
   "id": "c3a1db08",
   "metadata": {
    "scrolled": true
   },
   "outputs": [],
   "source": [
    "dfrr = df[['target', 'targetid', 'exportations']].groupby(['target', 'targetid']).sum().sort_values(\n",
    "    'exportations', ascending=False).reset_index()\n",
    "dfrr"
   ]
  },
  {
   "cell_type": "code",
   "execution_count": null,
   "id": "62959031",
   "metadata": {},
   "outputs": [],
   "source": [
    "# are we accounting for everything?\n",
    "dfrr['exportations'].sum() == 1"
   ]
  },
  {
   "cell_type": "code",
   "execution_count": null,
   "id": "057e64af",
   "metadata": {},
   "outputs": [],
   "source": [
    "# Create the bar chart\n",
    "fig = px.bar(\n",
    "    dfrr.iloc[:, :], x='exportations', y='target', orientation='h', \n",
    "    labels={\n",
    "        'target': 'Target',\n",
    "        'exportations': 'Relative Risk of Importation'\n",
    "    },\n",
    "    template='netsi'\n",
    ")\n",
    "\n",
    "# Sort y-axis by exportations with \"Other\" fixed at the bottom\n",
    "fig.update_layout(\n",
    "    yaxis={'categoryorder': 'array', 'categoryarray': ['Other'] + sorted(\n",
    "        [x for x in dfrr['target'].unique() if x != 'Other'],\n",
    "        key=lambda target: dfrr.loc[dfrr['target'] == target, 'exportations'].sum(),\n",
    "        reverse=False\n",
    "    )},\n",
    "    title={\n",
    "        'text': f\"Relative Risk of Importation Chart\",\n",
    "        'x': 0.5,\n",
    "        'y': .95,\n",
    "    },\n",
    "    showlegend=False,\n",
    ")\n",
    "\n",
    "fig.show()\n"
   ]
  },
  {
   "cell_type": "markdown",
   "id": "86303a65",
   "metadata": {},
   "source": [
    "```\n",
    "table_name = \"net-data-viz-handbook.importation_data.sir_importations_1\"\n",
    "reference_table_name\n",
    "\n",
    "source_geo_level = \"region_label\" \n",
    "source_values = ['Western Europe', 'Northern Europe']  \n",
    "source_output_level = \"country_name\"\n",
    "\n",
    "target_geo_level = \"continent_label\" \n",
    "target_values = [\"North America\"]\n",
    "target_output_level = 'country_name'\n",
    "\n",
    "date_range = [\"2009-01-01\", \"2010-12-31\"]  # The date range for the data\n",
    "cutoff = 0.05  # Threshold for categorizing regions\n",
    "domestic = False\n",
    "```"
   ]
  }
 ],
 "metadata": {
  "kernelspec": {
   "display_name": "Python 3 (ipykernel)",
   "language": "python",
   "name": "python3"
  },
  "language_info": {
   "codemirror_mode": {
    "name": "ipython",
    "version": 3
   },
   "file_extension": ".py",
   "mimetype": "text/x-python",
   "name": "python",
   "nbconvert_exporter": "python",
   "pygments_lexer": "ipython3",
   "version": "3.11.5"
  }
 },
 "nbformat": 4,
 "nbformat_minor": 5
}
