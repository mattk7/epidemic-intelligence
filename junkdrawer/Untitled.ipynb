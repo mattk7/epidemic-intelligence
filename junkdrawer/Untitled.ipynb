{
 "cells": [
  {
   "cell_type": "code",
   "execution_count": 5,
   "id": "a0f25de2",
   "metadata": {},
   "outputs": [],
   "source": [
    "import os\n",
    "from pathlib import Path\n",
    "import requests\n",
    "from fontTools import ttLib  # fontTools library to handle font installation\n",
    "\n",
    "def ensure_barlow_installed():\n",
    "    barlow_font_path = Path.home() / \".fonts\" / \"Barlow-Regular.ttf\"  # or a directory where fonts are stored\n",
    "    if not barlow_font_path.exists():\n",
    "        print(\"Barlow font not found. Downloading and installing...\")\n",
    "        url = \"https://github.com/google/fonts/raw/main/ofl/barlow/Barlow-Regular.ttf\"\n",
    "        response = requests.get(url)\n",
    "        barlow_font_path.parent.mkdir(parents=True, exist_ok=True)\n",
    "        with open(barlow_font_path, \"wb\") as f:\n",
    "            f.write(response.content)\n",
    "        print(f\"Barlow font installed at {barlow_font_path}.\")\n",
    "\n",
    "# Call this function when the package is imported\n",
    "ensure_barlow_installed()"
   ]
  },
  {
   "cell_type": "code",
   "execution_count": 10,
   "id": "596cae77",
   "metadata": {},
   "outputs": [
    {
     "data": {
      "text/plain": [
       "WindowsPath('C:/Users/elija')"
      ]
     },
     "execution_count": 10,
     "metadata": {},
     "output_type": "execute_result"
    }
   ],
   "source": [
    "Path.home()"
   ]
  }
 ],
 "metadata": {
  "kernelspec": {
   "display_name": "Python 3 (ipykernel)",
   "language": "python",
   "name": "python3"
  },
  "language_info": {
   "codemirror_mode": {
    "name": "ipython",
    "version": 3
   },
   "file_extension": ".py",
   "mimetype": "text/x-python",
   "name": "python",
   "nbconvert_exporter": "python",
   "pygments_lexer": "ipython3",
   "version": "3.11.5"
  }
 },
 "nbformat": 4,
 "nbformat_minor": 5
}
