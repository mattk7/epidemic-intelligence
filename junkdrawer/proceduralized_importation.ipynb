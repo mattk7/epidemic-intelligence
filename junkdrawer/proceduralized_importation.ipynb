{
 "cells": [
  {
   "cell_type": "code",
   "execution_count": 1,
   "id": "89a590b3",
   "metadata": {},
   "outputs": [],
   "source": [
    "from google.cloud import bigquery\n",
    "import pandas as pd\n",
    "from google.oauth2 import service_account\n",
    "import plotly.express as px\n",
    "import plotly.graph_objects as go\n",
    "import plotly.io as pio"
   ]
  },
  {
   "cell_type": "code",
   "execution_count": 2,
   "id": "33ef75a3",
   "metadata": {},
   "outputs": [],
   "source": [
    "credentials = service_account.Credentials.from_service_account_file('C:\\\\Users\\\\elija\\\\Documents\\\\24f-coop\\\\credentials.json')\n",
    "project = 'net-data-viz-handbook'\n",
    "# Initialize a GCS client\n",
    "client = bigquery.Client(credentials=credentials, project=project)"
   ]
  },
  {
   "cell_type": "markdown",
   "id": "a1bbcd0c",
   "metadata": {},
   "source": [
    "## Custom NetSI theme"
   ]
  },
  {
   "cell_type": "code",
   "execution_count": 3,
   "id": "c7b68275",
   "metadata": {},
   "outputs": [
    {
     "name": "stdout",
     "output_type": "stream",
     "text": [
      "Name: plotly\n",
      "Version: 5.24.1\n",
      "Summary: An open-source, interactive data visualization library for Python\n",
      "Home-page: https://plotly.com/python/\n",
      "Author: Chris P\n",
      "Author-email: chris@plot.ly\n",
      "License: MIT\n",
      "Location: C:\\Users\\elija\\Documents\\24f-coop\\demovenv\\Lib\\site-packages\n",
      "Requires: packaging, tenacity\n",
      "Required-by: epidemic-intelligence\n",
      "Note: you may need to restart the kernel to use updated packages.\n"
     ]
    }
   ],
   "source": [
    "pip show plotly"
   ]
  },
  {
   "cell_type": "code",
   "execution_count": 4,
   "id": "3e17d6e0",
   "metadata": {},
   "outputs": [],
   "source": [
    "# copying plotly default to make 'netsi' theme\n",
    "pio.templates['netsi']  = pio.templates['plotly_white']\n",
    "\n",
    "# customize title\n",
    "pio.templates['netsi']['layout']['title'] = dict(x=.5, y=.95, yref='container', \n",
    "                                                 font=dict(color='black', size=28, weight=400),\n",
    "                                                 subtitle=dict(font=dict(color='#373737', size=14, weight=200))\n",
    "                                                )\n",
    "\n",
    "# font\n",
    "pio.templates['netsi']['layout']['font'] = dict(family=r\"PT Sans Narrow\",\n",
    "                                                size=14, color='black')\n",
    "\n",
    "# custom colors\n",
    "sequential_color_ls = ['#003f5c', '#2f4b7c', '#665191', '#a05195', '#d45087', '#f95d6a', '#ff7c43', '#ffa600']\n",
    "pio.templates['netsi']['layout']['colorscale']['sequential'] = \\\n",
    "[[(a/(len(sequential_color_ls)-1)), color] for a, color in enumerate(sequential_color_ls)]\n",
    "\n",
    "diverging_color_ls = ['#003f5c', '#577187', '#9ca8b4', '#e2e2e2', '#d0a2af', '#b8637e', '#9a1050']\n",
    "pio.templates['netsi']['layout']['colorscale']['diverging'] = \\\n",
    "[[(a/(len(diverging_color_ls)-1)), color] for a, color in enumerate(diverging_color_ls)]\n",
    "\n",
    "pio.templates['netsi']['layout']['shapedefaults']['line']['color'] = '#428299'\n",
    "\n",
    "# colorway from nicole\n",
    "pio.templates['netsi']['layout']['colorway'] = ['#428299', '#67C4D3', '#F48A64', '#77C6B1', \n",
    "                                                '#F2D65F', '#80A4CE', '#CC9EB1', '#BFD88F', '#8E8E8E']"
   ]
  },
  {
   "cell_type": "code",
   "execution_count": 5,
   "id": "ad0337c2",
   "metadata": {
    "scrolled": true
   },
   "outputs": [
    {
     "data": {
      "text/plain": [
       "Layout({\n",
       "    'annotationdefaults': {'arrowcolor': '#2a3f5f', 'arrowhead': 0, 'arrowwidth': 1},\n",
       "    'autotypenumbers': 'strict',\n",
       "    'coloraxis': {'colorbar': {'outlinewidth': 0, 'ticks': ''}},\n",
       "    'colorscale': {'diverging': [[0.0, '#003f5c'], [0.16666666666666666,\n",
       "                                 '#577187'], [0.3333333333333333, '#9ca8b4'], [0.5,\n",
       "                                 '#e2e2e2'], [0.6666666666666666, '#d0a2af'],\n",
       "                                 [0.8333333333333334, '#b8637e'], [1.0, '#9a1050']],\n",
       "                   'sequential': [[0.0, '#003f5c'], [0.14285714285714285,\n",
       "                                  '#2f4b7c'], [0.2857142857142857, '#665191'],\n",
       "                                  [0.42857142857142855, '#a05195'],\n",
       "                                  [0.5714285714285714, '#d45087'],\n",
       "                                  [0.7142857142857143, '#f95d6a'],\n",
       "                                  [0.8571428571428571, '#ff7c43'], [1.0,\n",
       "                                  '#ffa600']],\n",
       "                   'sequentialminus': [[0.0, '#0d0887'], [0.1111111111111111,\n",
       "                                       '#46039f'], [0.2222222222222222, '#7201a8'],\n",
       "                                       [0.3333333333333333, '#9c179e'],\n",
       "                                       [0.4444444444444444, '#bd3786'],\n",
       "                                       [0.5555555555555556, '#d8576b'],\n",
       "                                       [0.6666666666666666, '#ed7953'],\n",
       "                                       [0.7777777777777778, '#fb9f3a'],\n",
       "                                       [0.8888888888888888, '#fdca26'], [1.0,\n",
       "                                       '#f0f921']]},\n",
       "    'colorway': [#428299, #67C4D3, #F48A64, #77C6B1, #F2D65F, #80A4CE, #CC9EB1,\n",
       "                 #BFD88F, #8E8E8E],\n",
       "    'font': {'color': 'black', 'family': 'PT Sans Narrow', 'size': 14},\n",
       "    'geo': {'bgcolor': 'white',\n",
       "            'lakecolor': 'white',\n",
       "            'landcolor': 'white',\n",
       "            'showlakes': True,\n",
       "            'showland': True,\n",
       "            'subunitcolor': '#C8D4E3'},\n",
       "    'hoverlabel': {'align': 'left'},\n",
       "    'hovermode': 'closest',\n",
       "    'mapbox': {'style': 'light'},\n",
       "    'paper_bgcolor': 'white',\n",
       "    'plot_bgcolor': 'white',\n",
       "    'polar': {'angularaxis': {'gridcolor': '#EBF0F8', 'linecolor': '#EBF0F8', 'ticks': ''},\n",
       "              'bgcolor': 'white',\n",
       "              'radialaxis': {'gridcolor': '#EBF0F8', 'linecolor': '#EBF0F8', 'ticks': ''}},\n",
       "    'scene': {'xaxis': {'backgroundcolor': 'white',\n",
       "                        'gridcolor': '#DFE8F3',\n",
       "                        'gridwidth': 2,\n",
       "                        'linecolor': '#EBF0F8',\n",
       "                        'showbackground': True,\n",
       "                        'ticks': '',\n",
       "                        'zerolinecolor': '#EBF0F8'},\n",
       "              'yaxis': {'backgroundcolor': 'white',\n",
       "                        'gridcolor': '#DFE8F3',\n",
       "                        'gridwidth': 2,\n",
       "                        'linecolor': '#EBF0F8',\n",
       "                        'showbackground': True,\n",
       "                        'ticks': '',\n",
       "                        'zerolinecolor': '#EBF0F8'},\n",
       "              'zaxis': {'backgroundcolor': 'white',\n",
       "                        'gridcolor': '#DFE8F3',\n",
       "                        'gridwidth': 2,\n",
       "                        'linecolor': '#EBF0F8',\n",
       "                        'showbackground': True,\n",
       "                        'ticks': '',\n",
       "                        'zerolinecolor': '#EBF0F8'}},\n",
       "    'shapedefaults': {'line': {'color': '#428299'}},\n",
       "    'ternary': {'aaxis': {'gridcolor': '#DFE8F3', 'linecolor': '#A2B1C6', 'ticks': ''},\n",
       "                'baxis': {'gridcolor': '#DFE8F3', 'linecolor': '#A2B1C6', 'ticks': ''},\n",
       "                'bgcolor': 'white',\n",
       "                'caxis': {'gridcolor': '#DFE8F3', 'linecolor': '#A2B1C6', 'ticks': ''}},\n",
       "    'title': {'font': {'color': 'black', 'size': 28, 'weight': 400},\n",
       "              'subtitle': {'font': {'color': '#373737', 'size': 14, 'weight': 200}},\n",
       "              'x': 0.5,\n",
       "              'y': 0.95,\n",
       "              'yref': 'container'},\n",
       "    'xaxis': {'automargin': True,\n",
       "              'gridcolor': '#EBF0F8',\n",
       "              'linecolor': '#EBF0F8',\n",
       "              'ticks': '',\n",
       "              'title': {'standoff': 15},\n",
       "              'zerolinecolor': '#EBF0F8',\n",
       "              'zerolinewidth': 2},\n",
       "    'yaxis': {'automargin': True,\n",
       "              'gridcolor': '#EBF0F8',\n",
       "              'linecolor': '#EBF0F8',\n",
       "              'ticks': '',\n",
       "              'title': {'standoff': 15},\n",
       "              'zerolinecolor': '#EBF0F8',\n",
       "              'zerolinewidth': 2}\n",
       "})"
      ]
     },
     "execution_count": 5,
     "metadata": {},
     "output_type": "execute_result"
    }
   ],
   "source": [
    "pio.templates['netsi']['layout']"
   ]
  },
  {
   "cell_type": "markdown",
   "id": "e640a07f",
   "metadata": {},
   "source": [
    "## Area Plot"
   ]
  },
  {
   "cell_type": "code",
   "execution_count": 6,
   "id": "9a68a3e7",
   "metadata": {},
   "outputs": [],
   "source": [
    "def build_geographic_filter(geo_level, geo_values, alias=\"g_target\"):\n",
    "    # Accepts a geographic level (e.g., 'country_id', 'region_label') and a list of values\n",
    "    if geo_values is not None:  # Only filter if geo_values is provided\n",
    "        if isinstance(geo_values, list):\n",
    "            # Check the type of the first item to determine the filter type\n",
    "            if isinstance(geo_values[0], int):\n",
    "                values = ', '.join(str(val) for val in geo_values)  # For INT64\n",
    "                return f\"{alias}.{geo_level} IN ({values})\"\n",
    "            elif isinstance(geo_values[0], str):\n",
    "                values = ', '.join(f\"'{val}'\" for val in geo_values)  # For STRING\n",
    "                return f\"{alias}.{geo_level} IN ({values})\"\n",
    "        else:\n",
    "            # Handle single values\n",
    "            if isinstance(geo_values, int):\n",
    "                return f\"{alias}.{geo_level} = {geo_values}\"\n",
    "            elif isinstance(geo_values, str):\n",
    "                return f\"{alias}.{geo_level} = '{geo_values}'\"\n",
    "    return \"\"  # Return empty string if no filtering is needed"
   ]
  },
  {
   "cell_type": "code",
   "execution_count": 7,
   "id": "8729047a",
   "metadata": {},
   "outputs": [],
   "source": [
    "def build_ap_query(table_name, reference_table_name, source_geo_level, target_geo_level, output_geo_level=None, source_values=None, target_values=None, domestic=True, cutoff=0.05):\n",
    "    # Build filters for both source and target regions\n",
    "    source_filter = build_geographic_filter(source_geo_level, source_values, alias=\"g_source\") if source_values is not None else 'TRUE'\n",
    "    target_filter = build_geographic_filter(target_geo_level, target_values, alias=\"g_target\") if target_values is not None else 'TRUE'\n",
    "    \n",
    "    # Create the base where clause\n",
    "    where_clauses = [target_filter, source_filter]\n",
    "    \n",
    "    if not domestic:\n",
    "        # Exclude rows where target imports to itself\n",
    "        where_clauses.append(f\"g_source.{target_geo_level} <> g_target.{target_geo_level}\")\n",
    "\n",
    "    # Join the where clauses with 'AND'\n",
    "    where_clause = ' AND '.join(where_clauses)\n",
    "\n",
    "    query = f\"\"\"\n",
    "    WITH region_imports AS (\n",
    "      SELECT \n",
    "        g_source.{output_geo_level} AS source_label, \n",
    "        SUM(i.importations) AS total_importations\n",
    "      FROM \n",
    "        `{table_name}` AS i\n",
    "      JOIN \n",
    "        `{reference_table_name}` AS g_source \n",
    "        ON g_source.basin_id = i.source_basin\n",
    "      JOIN \n",
    "        `{reference_table_name}` AS g_target \n",
    "        ON g_target.basin_id = i.target_basin\n",
    "      WHERE \n",
    "        {where_clause}  \n",
    "      GROUP BY \n",
    "        g_source.{output_geo_level}\n",
    "    ),\n",
    "    total_imports AS (\n",
    "      SELECT \n",
    "        SUM(total_importations) AS grand_total_importations \n",
    "      FROM region_imports\n",
    "    ),\n",
    "    categorized_regions AS (\n",
    "      SELECT \n",
    "        r.source_label,\n",
    "        CASE \n",
    "          WHEN r.total_importations < ({cutoff} * (SELECT grand_total_importations FROM total_imports)) THEN 'Other'\n",
    "          ELSE r.source_label\n",
    "        END AS categorized_label\n",
    "      FROM \n",
    "        region_imports r\n",
    "    )\n",
    "    SELECT \n",
    "      cr.categorized_label AS source, \n",
    "      i.date, \n",
    "      SUM(i.importations) AS importations,\n",
    "      AVG(SUM(i.importations)) OVER (\n",
    "        PARTITION BY cr.categorized_label \n",
    "        ORDER BY i.date \n",
    "        ROWS BETWEEN 6 PRECEDING AND CURRENT ROW\n",
    "      ) AS rolling_importations\n",
    "    FROM \n",
    "      `{table_name}` AS i\n",
    "    JOIN \n",
    "      `{reference_table_name}` AS g_target \n",
    "      ON g_target.basin_id = i.target_basin\n",
    "    JOIN \n",
    "      `{reference_table_name}` AS g_source \n",
    "      ON g_source.basin_id = i.source_basin\n",
    "    JOIN \n",
    "      categorized_regions cr \n",
    "      ON cr.source_label = g_source.{output_geo_level}\n",
    "    WHERE \n",
    "      {where_clause}\n",
    "    GROUP BY \n",
    "      cr.categorized_label, \n",
    "      i.date\n",
    "    ORDER BY \n",
    "      i.date;\n",
    "\n",
    "    \"\"\"\n",
    "\n",
    "    return query"
   ]
  },
  {
   "cell_type": "code",
   "execution_count": 8,
   "id": "01751ab2",
   "metadata": {},
   "outputs": [],
   "source": [
    "def execute(client, query):\n",
    "    # Execute query\n",
    "    query_job = client.query(query)\n",
    "\n",
    "    # Convert result to a Pandas DataFrame\n",
    "    result_df = query_job.to_dataframe()\n",
    "\n",
    "    return result_df"
   ]
  },
  {
   "cell_type": "code",
   "execution_count": 64,
   "id": "6d9c58a6",
   "metadata": {
    "scrolled": true
   },
   "outputs": [
    {
     "data": {
      "text/html": [
       "<div>\n",
       "<style scoped>\n",
       "    .dataframe tbody tr th:only-of-type {\n",
       "        vertical-align: middle;\n",
       "    }\n",
       "\n",
       "    .dataframe tbody tr th {\n",
       "        vertical-align: top;\n",
       "    }\n",
       "\n",
       "    .dataframe thead th {\n",
       "        text-align: right;\n",
       "    }\n",
       "</style>\n",
       "<table border=\"1\" class=\"dataframe\">\n",
       "  <thead>\n",
       "    <tr style=\"text-align: right;\">\n",
       "      <th></th>\n",
       "      <th>source</th>\n",
       "      <th>date</th>\n",
       "      <th>importations</th>\n",
       "      <th>rolling_importations</th>\n",
       "    </tr>\n",
       "  </thead>\n",
       "  <tbody>\n",
       "    <tr>\n",
       "      <th>719</th>\n",
       "      <td>Eastern Asia</td>\n",
       "      <td>2010-02-17</td>\n",
       "      <td>124</td>\n",
       "      <td>122.000000</td>\n",
       "    </tr>\n",
       "    <tr>\n",
       "      <th>720</th>\n",
       "      <td>Western Asia</td>\n",
       "      <td>2010-02-17</td>\n",
       "      <td>24</td>\n",
       "      <td>21.714286</td>\n",
       "    </tr>\n",
       "    <tr>\n",
       "      <th>721</th>\n",
       "      <td>Southern Asia</td>\n",
       "      <td>2010-02-17</td>\n",
       "      <td>72</td>\n",
       "      <td>82.142857</td>\n",
       "    </tr>\n",
       "    <tr>\n",
       "      <th>722</th>\n",
       "      <td>Other</td>\n",
       "      <td>2010-02-17</td>\n",
       "      <td>21</td>\n",
       "      <td>18.714286</td>\n",
       "    </tr>\n",
       "    <tr>\n",
       "      <th>723</th>\n",
       "      <td>South-Eastern Asia</td>\n",
       "      <td>2010-02-17</td>\n",
       "      <td>35</td>\n",
       "      <td>41.000000</td>\n",
       "    </tr>\n",
       "  </tbody>\n",
       "</table>\n",
       "</div>"
      ],
      "text/plain": [
       "                 source        date  importations  rolling_importations\n",
       "719        Eastern Asia  2010-02-17           124            122.000000\n",
       "720        Western Asia  2010-02-17            24             21.714286\n",
       "721       Southern Asia  2010-02-17            72             82.142857\n",
       "722               Other  2010-02-17            21             18.714286\n",
       "723  South-Eastern Asia  2010-02-17            35             41.000000"
      ]
     },
     "execution_count": 64,
     "metadata": {},
     "output_type": "execute_result"
    }
   ],
   "source": [
    "table_name = 'net-data-viz-handbook.importation_data.sir_importations_1'\n",
    "reference_table_name = 'reference.gleam-geo-map'\n",
    "source_geo_level = 'continent_label'  # Geographic level for source filtering\n",
    "target_geo_level = 'country_name'        # Geographic level for target filtering\n",
    "output_geo_level = 'region_label'      # Geographic level for output\n",
    "\n",
    "source_values = ['Asia', 'Oceania']\n",
    "target_values = ['Canada', 'United States of America', 'Mexico']                   # Filter targets by country\n",
    "domestic = False\n",
    "cutoff = 0.1\n",
    "\n",
    "\n",
    "query = build_ap_query(table_name=table_name, reference_table_name=reference_table_name,\n",
    "               source_geo_level=source_geo_level, target_geo_level=target_geo_level, output_geo_level=output_geo_level, \n",
    "               source_values=source_values, target_values=target_values, \n",
    "               domestic=domestic, cutoff=cutoff)\n",
    "\n",
    "# Execute the query and return the DataFrame\n",
    "df = execute(client, query)\n",
    "\n",
    "df.tail()"
   ]
  },
  {
   "cell_type": "code",
   "execution_count": 106,
   "id": "37f69ad5",
   "metadata": {},
   "outputs": [
    {
     "data": {
      "application/vnd.plotly.v1+json": {
       "config": {
        "plotlyServerURL": "https://plot.ly"
       },
       "data": [
        {
         "fillpattern": {
          "shape": ""
         },
         "hovertemplate": "source=Western Asia<br>date=%{x}<br>importations=%{y}<extra></extra>",
         "legendgroup": "Western Asia",
         "line": {
          "color": "#428299",
          "width": 0.4
         },
         "marker": {
          "symbol": "circle"
         },
         "mode": "lines",
         "name": "Western Asia",
         "orientation": "v",
         "showlegend": true,
         "stackgroup": "1",
         "type": "scatter",
         "x": [
          "2009-07-24",
          "2009-09-05",
          "2009-09-07",
          "2009-09-14",
          "2009-09-19",
          "2009-09-21",
          "2009-09-25",
          "2009-09-27",
          "2009-09-28",
          "2009-09-30",
          "2009-10-01",
          "2009-10-02",
          "2009-10-03",
          "2009-10-04",
          "2009-10-05",
          "2009-10-06",
          "2009-10-07",
          "2009-10-08",
          "2009-10-09",
          "2009-10-10",
          "2009-10-11",
          "2009-10-12",
          "2009-10-13",
          "2009-10-14",
          "2009-10-15",
          "2009-10-16",
          "2009-10-17",
          "2009-10-18",
          "2009-10-19",
          "2009-10-20",
          "2009-10-21",
          "2009-10-22",
          "2009-10-23",
          "2009-10-24",
          "2009-10-25",
          "2009-10-26",
          "2009-10-27",
          "2009-10-28",
          "2009-10-29",
          "2009-10-30",
          "2009-10-31",
          "2009-11-01",
          "2009-11-02",
          "2009-11-03",
          "2009-11-04",
          "2009-11-05",
          "2009-11-06",
          "2009-11-07",
          "2009-11-08",
          "2009-11-09",
          "2009-11-10",
          "2009-11-11",
          "2009-11-12",
          "2009-11-13",
          "2009-11-14",
          "2009-11-15",
          "2009-11-16",
          "2009-11-17",
          "2009-11-18",
          "2009-11-19",
          "2009-11-20",
          "2009-11-21",
          "2009-11-22",
          "2009-11-23",
          "2009-11-24",
          "2009-11-25",
          "2009-11-26",
          "2009-11-27",
          "2009-11-28",
          "2009-11-29",
          "2009-11-30",
          "2009-12-01",
          "2009-12-02",
          "2009-12-03",
          "2009-12-04",
          "2009-12-05",
          "2009-12-06",
          "2009-12-07",
          "2009-12-08",
          "2009-12-09",
          "2009-12-10",
          "2009-12-11",
          "2009-12-12",
          "2009-12-13",
          "2009-12-14",
          "2009-12-15",
          "2009-12-16",
          "2009-12-17",
          "2009-12-18",
          "2009-12-19",
          "2009-12-20",
          "2009-12-21",
          "2009-12-22",
          "2009-12-23",
          "2009-12-24",
          "2009-12-25",
          "2009-12-26",
          "2009-12-27",
          "2009-12-28",
          "2009-12-29",
          "2009-12-30",
          "2009-12-31",
          "2010-01-01",
          "2010-01-02",
          "2010-01-03",
          "2010-01-04",
          "2010-01-05",
          "2010-01-06",
          "2010-01-07",
          "2010-01-08",
          "2010-01-09",
          "2010-01-10",
          "2010-01-11",
          "2010-01-12",
          "2010-01-13",
          "2010-01-14",
          "2010-01-15",
          "2010-01-16",
          "2010-01-17",
          "2010-01-18",
          "2010-01-19",
          "2010-01-20",
          "2010-01-21",
          "2010-01-22",
          "2010-01-23",
          "2010-01-24",
          "2010-01-25",
          "2010-01-26",
          "2010-01-27",
          "2010-01-28",
          "2010-01-29",
          "2010-01-30",
          "2010-01-31",
          "2010-02-01",
          "2010-02-02",
          "2010-02-03",
          "2010-02-04",
          "2010-02-05",
          "2010-02-06",
          "2010-02-07",
          "2010-02-08",
          "2010-02-09",
          "2010-02-10",
          "2010-02-11",
          "2010-02-12",
          "2010-02-13",
          "2010-02-14",
          "2010-02-15",
          "2010-02-16",
          "2010-02-17"
         ],
         "xaxis": "x",
         "y": [
          1,
          1,
          1,
          1,
          1,
          2,
          1,
          1,
          2,
          1,
          1,
          3,
          2,
          1,
          2,
          1,
          2,
          3,
          2,
          3,
          3,
          1,
          2,
          3,
          4,
          4,
          5,
          6,
          7,
          6,
          5,
          9,
          7,
          8,
          12,
          6,
          8,
          13,
          11,
          9,
          16,
          19,
          18,
          20,
          21,
          10,
          31,
          29,
          32,
          36,
          33,
          31,
          45,
          49,
          42,
          47,
          57,
          57,
          56,
          56,
          77,
          60,
          67,
          85,
          71,
          78,
          102,
          94,
          105,
          108,
          97,
          71,
          80,
          91,
          74,
          93,
          73,
          72,
          102,
          93,
          112,
          82,
          67,
          74,
          86,
          76,
          78,
          89,
          69,
          94,
          74,
          72,
          81,
          78,
          88,
          77,
          75,
          60,
          66,
          60,
          73,
          71,
          65,
          83,
          65,
          59,
          46,
          75,
          49,
          62,
          72,
          54,
          50,
          50,
          58,
          70,
          58,
          63,
          56,
          53,
          47,
          59,
          45,
          38,
          41,
          31,
          42,
          37,
          45,
          29,
          44,
          40,
          31,
          36,
          21,
          30,
          30,
          31,
          28,
          28,
          27,
          28,
          28,
          25,
          27,
          21,
          22,
          22,
          11,
          24
         ],
         "yaxis": "y"
        },
        {
         "fillpattern": {
          "shape": ""
         },
         "hovertemplate": "source=Eastern Asia<br>date=%{x}<br>importations=%{y}<extra></extra>",
         "legendgroup": "Eastern Asia",
         "line": {
          "color": "#67C4D3",
          "width": 0.4
         },
         "marker": {
          "symbol": "circle"
         },
         "mode": "lines",
         "name": "Eastern Asia",
         "orientation": "v",
         "showlegend": true,
         "stackgroup": "1",
         "type": "scatter",
         "x": [
          "2009-08-19",
          "2009-08-25",
          "2009-08-26",
          "2009-08-30",
          "2009-08-31",
          "2009-09-02",
          "2009-09-04",
          "2009-09-06",
          "2009-09-08",
          "2009-09-09",
          "2009-09-10",
          "2009-09-12",
          "2009-09-13",
          "2009-09-14",
          "2009-09-15",
          "2009-09-16",
          "2009-09-17",
          "2009-09-18",
          "2009-09-19",
          "2009-09-20",
          "2009-09-21",
          "2009-09-22",
          "2009-09-23",
          "2009-09-24",
          "2009-09-25",
          "2009-09-26",
          "2009-09-27",
          "2009-09-28",
          "2009-09-29",
          "2009-09-30",
          "2009-10-01",
          "2009-10-02",
          "2009-10-03",
          "2009-10-04",
          "2009-10-05",
          "2009-10-06",
          "2009-10-07",
          "2009-10-08",
          "2009-10-09",
          "2009-10-10",
          "2009-10-11",
          "2009-10-12",
          "2009-10-13",
          "2009-10-14",
          "2009-10-15",
          "2009-10-16",
          "2009-10-17",
          "2009-10-18",
          "2009-10-19",
          "2009-10-20",
          "2009-10-21",
          "2009-10-22",
          "2009-10-23",
          "2009-10-24",
          "2009-10-25",
          "2009-10-26",
          "2009-10-27",
          "2009-10-28",
          "2009-10-29",
          "2009-10-30",
          "2009-10-31",
          "2009-11-01",
          "2009-11-02",
          "2009-11-03",
          "2009-11-04",
          "2009-11-05",
          "2009-11-06",
          "2009-11-07",
          "2009-11-08",
          "2009-11-09",
          "2009-11-10",
          "2009-11-11",
          "2009-11-12",
          "2009-11-13",
          "2009-11-14",
          "2009-11-15",
          "2009-11-16",
          "2009-11-17",
          "2009-11-18",
          "2009-11-19",
          "2009-11-20",
          "2009-11-21",
          "2009-11-22",
          "2009-11-23",
          "2009-11-24",
          "2009-11-25",
          "2009-11-26",
          "2009-11-27",
          "2009-11-28",
          "2009-11-29",
          "2009-11-30",
          "2009-12-01",
          "2009-12-02",
          "2009-12-03",
          "2009-12-04",
          "2009-12-05",
          "2009-12-06",
          "2009-12-07",
          "2009-12-08",
          "2009-12-09",
          "2009-12-10",
          "2009-12-11",
          "2009-12-12",
          "2009-12-13",
          "2009-12-14",
          "2009-12-15",
          "2009-12-16",
          "2009-12-17",
          "2009-12-18",
          "2009-12-19",
          "2009-12-20",
          "2009-12-21",
          "2009-12-22",
          "2009-12-23",
          "2009-12-24",
          "2009-12-25",
          "2009-12-26",
          "2009-12-27",
          "2009-12-28",
          "2009-12-29",
          "2009-12-30",
          "2009-12-31",
          "2010-01-01",
          "2010-01-02",
          "2010-01-03",
          "2010-01-04",
          "2010-01-05",
          "2010-01-06",
          "2010-01-07",
          "2010-01-08",
          "2010-01-09",
          "2010-01-10",
          "2010-01-11",
          "2010-01-12",
          "2010-01-13",
          "2010-01-14",
          "2010-01-15",
          "2010-01-16",
          "2010-01-17",
          "2010-01-18",
          "2010-01-19",
          "2010-01-20",
          "2010-01-21",
          "2010-01-22",
          "2010-01-23",
          "2010-01-24",
          "2010-01-25",
          "2010-01-26",
          "2010-01-27",
          "2010-01-28",
          "2010-01-29",
          "2010-01-30",
          "2010-01-31",
          "2010-02-01",
          "2010-02-02",
          "2010-02-03",
          "2010-02-04",
          "2010-02-05",
          "2010-02-06",
          "2010-02-07",
          "2010-02-08",
          "2010-02-09",
          "2010-02-10",
          "2010-02-11",
          "2010-02-12",
          "2010-02-13",
          "2010-02-14",
          "2010-02-15",
          "2010-02-16",
          "2010-02-17"
         ],
         "xaxis": "x",
         "y": [
          1,
          1,
          2,
          1,
          1,
          2,
          3,
          2,
          3,
          3,
          2,
          2,
          2,
          5,
          3,
          2,
          3,
          2,
          5,
          4,
          10,
          12,
          9,
          9,
          12,
          13,
          10,
          14,
          11,
          20,
          17,
          20,
          26,
          18,
          33,
          34,
          36,
          37,
          36,
          70,
          52,
          58,
          76,
          62,
          82,
          78,
          87,
          93,
          97,
          84,
          120,
          122,
          133,
          155,
          137,
          140,
          138,
          191,
          168,
          148,
          177,
          185,
          173,
          159,
          174,
          163,
          171,
          177,
          183,
          152,
          170,
          176,
          188,
          173,
          190,
          184,
          176,
          198,
          177,
          169,
          201,
          199,
          185,
          183,
          169,
          192,
          180,
          178,
          197,
          174,
          171,
          171,
          150,
          174,
          171,
          192,
          173,
          172,
          191,
          147,
          158,
          183,
          180,
          189,
          178,
          170,
          183,
          209,
          212,
          208,
          239,
          199,
          207,
          182,
          190,
          213,
          193,
          229,
          190,
          204,
          204,
          224,
          229,
          225,
          214,
          190,
          226,
          219,
          245,
          223,
          220,
          217,
          227,
          224,
          226,
          230,
          181,
          207,
          204,
          209,
          197,
          201,
          220,
          224,
          205,
          180,
          183,
          176,
          189,
          187,
          204,
          163,
          166,
          163,
          172,
          148,
          119,
          147,
          143,
          147,
          166,
          144,
          142,
          122,
          131,
          144,
          127,
          105,
          101,
          124
         ],
         "yaxis": "y"
        },
        {
         "fillpattern": {
          "shape": ""
         },
         "hovertemplate": "source=Other<br>date=%{x}<br>importations=%{y}<extra></extra>",
         "legendgroup": "Other",
         "line": {
          "color": "#F48A64",
          "width": 0.4
         },
         "marker": {
          "symbol": "circle"
         },
         "mode": "lines",
         "name": "Other",
         "orientation": "v",
         "showlegend": true,
         "stackgroup": "1",
         "type": "scatter",
         "visible": true,
         "x": [
          "2009-09-05",
          "2009-09-12",
          "2009-09-15",
          "2009-09-25",
          "2009-09-29",
          "2009-10-01",
          "2009-10-03",
          "2009-10-07",
          "2009-10-09",
          "2009-10-12",
          "2009-10-13",
          "2009-10-14",
          "2009-10-15",
          "2009-10-16",
          "2009-10-17",
          "2009-10-18",
          "2009-10-20",
          "2009-10-21",
          "2009-10-22",
          "2009-10-23",
          "2009-10-24",
          "2009-10-25",
          "2009-10-26",
          "2009-10-27",
          "2009-10-28",
          "2009-10-29",
          "2009-10-30",
          "2009-10-31",
          "2009-11-02",
          "2009-11-03",
          "2009-11-04",
          "2009-11-05",
          "2009-11-06",
          "2009-11-07",
          "2009-11-08",
          "2009-11-09",
          "2009-11-10",
          "2009-11-11",
          "2009-11-12",
          "2009-11-13",
          "2009-11-14",
          "2009-11-15",
          "2009-11-16",
          "2009-11-17",
          "2009-11-18",
          "2009-11-19",
          "2009-11-20",
          "2009-11-21",
          "2009-11-22",
          "2009-11-23",
          "2009-11-24",
          "2009-11-25",
          "2009-11-26",
          "2009-11-27",
          "2009-11-28",
          "2009-11-29",
          "2009-11-30",
          "2009-12-01",
          "2009-12-02",
          "2009-12-03",
          "2009-12-04",
          "2009-12-05",
          "2009-12-06",
          "2009-12-07",
          "2009-12-08",
          "2009-12-09",
          "2009-12-10",
          "2009-12-11",
          "2009-12-12",
          "2009-12-13",
          "2009-12-14",
          "2009-12-15",
          "2009-12-16",
          "2009-12-17",
          "2009-12-18",
          "2009-12-19",
          "2009-12-20",
          "2009-12-21",
          "2009-12-22",
          "2009-12-23",
          "2009-12-24",
          "2009-12-25",
          "2009-12-26",
          "2009-12-27",
          "2009-12-28",
          "2009-12-29",
          "2009-12-30",
          "2009-12-31",
          "2010-01-01",
          "2010-01-02",
          "2010-01-03",
          "2010-01-04",
          "2010-01-05",
          "2010-01-06",
          "2010-01-07",
          "2010-01-08",
          "2010-01-09",
          "2010-01-10",
          "2010-01-11",
          "2010-01-12",
          "2010-01-13",
          "2010-01-14",
          "2010-01-15",
          "2010-01-16",
          "2010-01-17",
          "2010-01-18",
          "2010-01-19",
          "2010-01-20",
          "2010-01-21",
          "2010-01-22",
          "2010-01-23",
          "2010-01-24",
          "2010-01-25",
          "2010-01-26",
          "2010-01-27",
          "2010-01-28",
          "2010-01-29",
          "2010-01-30",
          "2010-01-31",
          "2010-02-01",
          "2010-02-02",
          "2010-02-03",
          "2010-02-04",
          "2010-02-05",
          "2010-02-06",
          "2010-02-07",
          "2010-02-08",
          "2010-02-09",
          "2010-02-10",
          "2010-02-11",
          "2010-02-12",
          "2010-02-13",
          "2010-02-14",
          "2010-02-15",
          "2010-02-16",
          "2010-02-17"
         ],
         "xaxis": "x",
         "y": [
          1,
          1,
          1,
          1,
          1,
          3,
          3,
          1,
          1,
          1,
          1,
          3,
          1,
          5,
          2,
          1,
          1,
          3,
          3,
          5,
          4,
          4,
          6,
          3,
          4,
          3,
          6,
          5,
          3,
          6,
          9,
          14,
          4,
          12,
          10,
          9,
          15,
          12,
          7,
          13,
          19,
          16,
          20,
          13,
          18,
          24,
          21,
          18,
          14,
          18,
          16,
          26,
          24,
          24,
          36,
          26,
          29,
          43,
          36,
          35,
          48,
          53,
          49,
          51,
          44,
          61,
          60,
          51,
          60,
          53,
          57,
          57,
          69,
          72,
          60,
          78,
          71,
          69,
          71,
          73,
          71,
          66,
          71,
          76,
          85,
          80,
          94,
          71,
          74,
          68,
          79,
          78,
          55,
          61,
          63,
          81,
          51,
          80,
          59,
          65,
          53,
          50,
          53,
          51,
          57,
          40,
          54,
          42,
          42,
          47,
          42,
          44,
          33,
          28,
          36,
          35,
          38,
          35,
          37,
          25,
          28,
          26,
          24,
          14,
          34,
          24,
          21,
          22,
          23,
          22,
          18,
          23,
          14,
          16,
          17,
          21
         ],
         "yaxis": "y"
        },
        {
         "fillpattern": {
          "shape": ""
         },
         "hovertemplate": "source=Southern Asia<br>date=%{x}<br>importations=%{y}<extra></extra>",
         "legendgroup": "Southern Asia",
         "line": {
          "color": "#77C6B1",
          "width": 0.4
         },
         "marker": {
          "symbol": "circle"
         },
         "mode": "lines",
         "name": "Southern Asia",
         "orientation": "v",
         "showlegend": true,
         "stackgroup": "1",
         "type": "scatter",
         "x": [
          "2009-09-11",
          "2009-09-24",
          "2009-10-07",
          "2009-10-09",
          "2009-10-10",
          "2009-10-13",
          "2009-10-15",
          "2009-10-17",
          "2009-10-18",
          "2009-10-19",
          "2009-10-20",
          "2009-10-22",
          "2009-10-23",
          "2009-10-24",
          "2009-10-25",
          "2009-10-26",
          "2009-10-27",
          "2009-10-28",
          "2009-10-29",
          "2009-10-30",
          "2009-10-31",
          "2009-11-01",
          "2009-11-02",
          "2009-11-03",
          "2009-11-04",
          "2009-11-05",
          "2009-11-06",
          "2009-11-07",
          "2009-11-08",
          "2009-11-09",
          "2009-11-10",
          "2009-11-11",
          "2009-11-12",
          "2009-11-13",
          "2009-11-14",
          "2009-11-15",
          "2009-11-16",
          "2009-11-17",
          "2009-11-18",
          "2009-11-19",
          "2009-11-20",
          "2009-11-21",
          "2009-11-22",
          "2009-11-23",
          "2009-11-24",
          "2009-11-25",
          "2009-11-26",
          "2009-11-27",
          "2009-11-28",
          "2009-11-29",
          "2009-11-30",
          "2009-12-01",
          "2009-12-02",
          "2009-12-03",
          "2009-12-04",
          "2009-12-05",
          "2009-12-06",
          "2009-12-07",
          "2009-12-08",
          "2009-12-09",
          "2009-12-10",
          "2009-12-11",
          "2009-12-12",
          "2009-12-13",
          "2009-12-14",
          "2009-12-15",
          "2009-12-16",
          "2009-12-17",
          "2009-12-18",
          "2009-12-19",
          "2009-12-20",
          "2009-12-21",
          "2009-12-22",
          "2009-12-23",
          "2009-12-24",
          "2009-12-25",
          "2009-12-26",
          "2009-12-27",
          "2009-12-28",
          "2009-12-29",
          "2009-12-30",
          "2009-12-31",
          "2010-01-01",
          "2010-01-02",
          "2010-01-03",
          "2010-01-04",
          "2010-01-05",
          "2010-01-06",
          "2010-01-07",
          "2010-01-08",
          "2010-01-09",
          "2010-01-10",
          "2010-01-11",
          "2010-01-12",
          "2010-01-13",
          "2010-01-14",
          "2010-01-15",
          "2010-01-16",
          "2010-01-17",
          "2010-01-18",
          "2010-01-19",
          "2010-01-20",
          "2010-01-21",
          "2010-01-22",
          "2010-01-23",
          "2010-01-24",
          "2010-01-25",
          "2010-01-26",
          "2010-01-27",
          "2010-01-28",
          "2010-01-29",
          "2010-01-30",
          "2010-01-31",
          "2010-02-01",
          "2010-02-02",
          "2010-02-03",
          "2010-02-04",
          "2010-02-05",
          "2010-02-06",
          "2010-02-07",
          "2010-02-08",
          "2010-02-09",
          "2010-02-10",
          "2010-02-11",
          "2010-02-12",
          "2010-02-13",
          "2010-02-14",
          "2010-02-15",
          "2010-02-16",
          "2010-02-17"
         ],
         "xaxis": "x",
         "y": [
          1,
          1,
          1,
          1,
          2,
          1,
          1,
          1,
          2,
          6,
          3,
          1,
          5,
          3,
          4,
          3,
          3,
          1,
          5,
          4,
          3,
          4,
          6,
          2,
          5,
          5,
          8,
          6,
          7,
          11,
          7,
          10,
          11,
          12,
          13,
          11,
          12,
          15,
          12,
          6,
          10,
          17,
          17,
          28,
          17,
          13,
          18,
          21,
          19,
          27,
          23,
          36,
          35,
          37,
          35,
          43,
          42,
          35,
          37,
          39,
          47,
          29,
          50,
          42,
          39,
          46,
          47,
          56,
          49,
          48,
          56,
          55,
          55,
          57,
          74,
          59,
          50,
          70,
          66,
          61,
          64,
          76,
          59,
          85,
          69,
          74,
          65,
          63,
          65,
          91,
          73,
          81,
          92,
          67,
          90,
          87,
          85,
          90,
          88,
          96,
          82,
          103,
          100,
          83,
          114,
          108,
          99,
          106,
          93,
          91,
          84,
          93,
          93,
          106,
          79,
          86,
          97,
          101,
          90,
          102,
          88,
          86,
          99,
          91,
          85,
          95,
          58,
          84,
          90,
          72
         ],
         "yaxis": "y"
        },
        {
         "fillpattern": {
          "shape": ""
         },
         "hovertemplate": "source=South-Eastern Asia<br>date=%{x}<br>importations=%{y}<extra></extra>",
         "legendgroup": "South-Eastern Asia",
         "line": {
          "color": "#F2D65F",
          "width": 0.4
         },
         "marker": {
          "symbol": "circle"
         },
         "mode": "lines",
         "name": "South-Eastern Asia",
         "orientation": "v",
         "showlegend": true,
         "stackgroup": "1",
         "type": "scatter",
         "x": [
          "2009-09-21",
          "2009-09-26",
          "2009-09-29",
          "2009-10-01",
          "2009-10-02",
          "2009-10-03",
          "2009-10-06",
          "2009-10-07",
          "2009-10-08",
          "2009-10-09",
          "2009-10-13",
          "2009-10-14",
          "2009-10-15",
          "2009-10-16",
          "2009-10-17",
          "2009-10-18",
          "2009-10-19",
          "2009-10-20",
          "2009-10-21",
          "2009-10-22",
          "2009-10-23",
          "2009-10-24",
          "2009-10-25",
          "2009-10-26",
          "2009-10-27",
          "2009-10-28",
          "2009-10-29",
          "2009-10-30",
          "2009-10-31",
          "2009-11-01",
          "2009-11-02",
          "2009-11-03",
          "2009-11-04",
          "2009-11-05",
          "2009-11-06",
          "2009-11-07",
          "2009-11-08",
          "2009-11-09",
          "2009-11-10",
          "2009-11-11",
          "2009-11-12",
          "2009-11-13",
          "2009-11-14",
          "2009-11-15",
          "2009-11-16",
          "2009-11-17",
          "2009-11-18",
          "2009-11-19",
          "2009-11-20",
          "2009-11-21",
          "2009-11-22",
          "2009-11-23",
          "2009-11-24",
          "2009-11-25",
          "2009-11-26",
          "2009-11-27",
          "2009-11-28",
          "2009-11-29",
          "2009-11-30",
          "2009-12-01",
          "2009-12-02",
          "2009-12-03",
          "2009-12-04",
          "2009-12-05",
          "2009-12-06",
          "2009-12-07",
          "2009-12-08",
          "2009-12-09",
          "2009-12-10",
          "2009-12-11",
          "2009-12-12",
          "2009-12-13",
          "2009-12-14",
          "2009-12-15",
          "2009-12-16",
          "2009-12-17",
          "2009-12-18",
          "2009-12-19",
          "2009-12-20",
          "2009-12-21",
          "2009-12-22",
          "2009-12-23",
          "2009-12-24",
          "2009-12-25",
          "2009-12-26",
          "2009-12-27",
          "2009-12-28",
          "2009-12-29",
          "2009-12-30",
          "2009-12-31",
          "2010-01-01",
          "2010-01-02",
          "2010-01-03",
          "2010-01-04",
          "2010-01-05",
          "2010-01-06",
          "2010-01-07",
          "2010-01-08",
          "2010-01-09",
          "2010-01-10",
          "2010-01-11",
          "2010-01-12",
          "2010-01-13",
          "2010-01-14",
          "2010-01-15",
          "2010-01-16",
          "2010-01-17",
          "2010-01-18",
          "2010-01-19",
          "2010-01-20",
          "2010-01-21",
          "2010-01-22",
          "2010-01-23",
          "2010-01-24",
          "2010-01-25",
          "2010-01-26",
          "2010-01-27",
          "2010-01-28",
          "2010-01-29",
          "2010-01-30",
          "2010-01-31",
          "2010-02-01",
          "2010-02-02",
          "2010-02-03",
          "2010-02-04",
          "2010-02-05",
          "2010-02-06",
          "2010-02-07",
          "2010-02-08",
          "2010-02-09",
          "2010-02-10",
          "2010-02-11",
          "2010-02-12",
          "2010-02-13",
          "2010-02-14",
          "2010-02-15",
          "2010-02-16",
          "2010-02-17"
         ],
         "xaxis": "x",
         "y": [
          2,
          1,
          1,
          1,
          1,
          4,
          1,
          3,
          4,
          1,
          2,
          2,
          2,
          4,
          3,
          2,
          1,
          2,
          3,
          7,
          7,
          3,
          6,
          6,
          7,
          8,
          6,
          8,
          6,
          7,
          9,
          10,
          13,
          15,
          11,
          20,
          24,
          20,
          12,
          33,
          25,
          29,
          21,
          26,
          28,
          46,
          44,
          51,
          52,
          61,
          47,
          55,
          57,
          44,
          47,
          51,
          61,
          44,
          70,
          68,
          78,
          72,
          89,
          77,
          82,
          75,
          83,
          74,
          86,
          81,
          117,
          81,
          82,
          101,
          88,
          100,
          97,
          97,
          79,
          107,
          114,
          107,
          94,
          117,
          96,
          92,
          101,
          104,
          90,
          103,
          94,
          126,
          122,
          115,
          123,
          88,
          100,
          108,
          106,
          115,
          96,
          103,
          92,
          109,
          99,
          101,
          97,
          81,
          95,
          92,
          85,
          94,
          88,
          84,
          84,
          70,
          77,
          73,
          78,
          81,
          71,
          83,
          85,
          61,
          65,
          69,
          52,
          62,
          47,
          60,
          48,
          53,
          43,
          38,
          40,
          30,
          48,
          35
         ],
         "yaxis": "y"
        }
       ],
       "layout": {
        "autosize": true,
        "legend": {
         "title": {
          "text": "Source"
         },
         "tracegroupgap": 0,
         "traceorder": "reversed"
        },
        "margin": {
         "t": 60
        },
        "template": {
         "data": {
          "bar": [
           {
            "error_x": {
             "color": "#2a3f5f"
            },
            "error_y": {
             "color": "#2a3f5f"
            },
            "marker": {
             "line": {
              "color": "white",
              "width": 0.5
             },
             "pattern": {
              "fillmode": "overlay",
              "size": 10,
              "solidity": 0.2
             }
            },
            "type": "bar"
           }
          ],
          "barpolar": [
           {
            "marker": {
             "line": {
              "color": "white",
              "width": 0.5
             },
             "pattern": {
              "fillmode": "overlay",
              "size": 10,
              "solidity": 0.2
             }
            },
            "type": "barpolar"
           }
          ],
          "carpet": [
           {
            "aaxis": {
             "endlinecolor": "#2a3f5f",
             "gridcolor": "#C8D4E3",
             "linecolor": "#C8D4E3",
             "minorgridcolor": "#C8D4E3",
             "startlinecolor": "#2a3f5f"
            },
            "baxis": {
             "endlinecolor": "#2a3f5f",
             "gridcolor": "#C8D4E3",
             "linecolor": "#C8D4E3",
             "minorgridcolor": "#C8D4E3",
             "startlinecolor": "#2a3f5f"
            },
            "type": "carpet"
           }
          ],
          "choropleth": [
           {
            "colorbar": {
             "outlinewidth": 0,
             "ticks": ""
            },
            "type": "choropleth"
           }
          ],
          "contour": [
           {
            "colorbar": {
             "outlinewidth": 0,
             "ticks": ""
            },
            "colorscale": [
             [
              0,
              "#0d0887"
             ],
             [
              0.1111111111111111,
              "#46039f"
             ],
             [
              0.2222222222222222,
              "#7201a8"
             ],
             [
              0.3333333333333333,
              "#9c179e"
             ],
             [
              0.4444444444444444,
              "#bd3786"
             ],
             [
              0.5555555555555556,
              "#d8576b"
             ],
             [
              0.6666666666666666,
              "#ed7953"
             ],
             [
              0.7777777777777778,
              "#fb9f3a"
             ],
             [
              0.8888888888888888,
              "#fdca26"
             ],
             [
              1,
              "#f0f921"
             ]
            ],
            "type": "contour"
           }
          ],
          "contourcarpet": [
           {
            "colorbar": {
             "outlinewidth": 0,
             "ticks": ""
            },
            "type": "contourcarpet"
           }
          ],
          "heatmap": [
           {
            "colorbar": {
             "outlinewidth": 0,
             "ticks": ""
            },
            "colorscale": [
             [
              0,
              "#0d0887"
             ],
             [
              0.1111111111111111,
              "#46039f"
             ],
             [
              0.2222222222222222,
              "#7201a8"
             ],
             [
              0.3333333333333333,
              "#9c179e"
             ],
             [
              0.4444444444444444,
              "#bd3786"
             ],
             [
              0.5555555555555556,
              "#d8576b"
             ],
             [
              0.6666666666666666,
              "#ed7953"
             ],
             [
              0.7777777777777778,
              "#fb9f3a"
             ],
             [
              0.8888888888888888,
              "#fdca26"
             ],
             [
              1,
              "#f0f921"
             ]
            ],
            "type": "heatmap"
           }
          ],
          "heatmapgl": [
           {
            "colorbar": {
             "outlinewidth": 0,
             "ticks": ""
            },
            "colorscale": [
             [
              0,
              "#0d0887"
             ],
             [
              0.1111111111111111,
              "#46039f"
             ],
             [
              0.2222222222222222,
              "#7201a8"
             ],
             [
              0.3333333333333333,
              "#9c179e"
             ],
             [
              0.4444444444444444,
              "#bd3786"
             ],
             [
              0.5555555555555556,
              "#d8576b"
             ],
             [
              0.6666666666666666,
              "#ed7953"
             ],
             [
              0.7777777777777778,
              "#fb9f3a"
             ],
             [
              0.8888888888888888,
              "#fdca26"
             ],
             [
              1,
              "#f0f921"
             ]
            ],
            "type": "heatmapgl"
           }
          ],
          "histogram": [
           {
            "marker": {
             "pattern": {
              "fillmode": "overlay",
              "size": 10,
              "solidity": 0.2
             }
            },
            "type": "histogram"
           }
          ],
          "histogram2d": [
           {
            "colorbar": {
             "outlinewidth": 0,
             "ticks": ""
            },
            "colorscale": [
             [
              0,
              "#0d0887"
             ],
             [
              0.1111111111111111,
              "#46039f"
             ],
             [
              0.2222222222222222,
              "#7201a8"
             ],
             [
              0.3333333333333333,
              "#9c179e"
             ],
             [
              0.4444444444444444,
              "#bd3786"
             ],
             [
              0.5555555555555556,
              "#d8576b"
             ],
             [
              0.6666666666666666,
              "#ed7953"
             ],
             [
              0.7777777777777778,
              "#fb9f3a"
             ],
             [
              0.8888888888888888,
              "#fdca26"
             ],
             [
              1,
              "#f0f921"
             ]
            ],
            "type": "histogram2d"
           }
          ],
          "histogram2dcontour": [
           {
            "colorbar": {
             "outlinewidth": 0,
             "ticks": ""
            },
            "colorscale": [
             [
              0,
              "#0d0887"
             ],
             [
              0.1111111111111111,
              "#46039f"
             ],
             [
              0.2222222222222222,
              "#7201a8"
             ],
             [
              0.3333333333333333,
              "#9c179e"
             ],
             [
              0.4444444444444444,
              "#bd3786"
             ],
             [
              0.5555555555555556,
              "#d8576b"
             ],
             [
              0.6666666666666666,
              "#ed7953"
             ],
             [
              0.7777777777777778,
              "#fb9f3a"
             ],
             [
              0.8888888888888888,
              "#fdca26"
             ],
             [
              1,
              "#f0f921"
             ]
            ],
            "type": "histogram2dcontour"
           }
          ],
          "mesh3d": [
           {
            "colorbar": {
             "outlinewidth": 0,
             "ticks": ""
            },
            "type": "mesh3d"
           }
          ],
          "parcoords": [
           {
            "line": {
             "colorbar": {
              "outlinewidth": 0,
              "ticks": ""
             }
            },
            "type": "parcoords"
           }
          ],
          "pie": [
           {
            "automargin": true,
            "type": "pie"
           }
          ],
          "scatter": [
           {
            "fillpattern": {
             "fillmode": "overlay",
             "size": 10,
             "solidity": 0.2
            },
            "type": "scatter"
           }
          ],
          "scatter3d": [
           {
            "line": {
             "colorbar": {
              "outlinewidth": 0,
              "ticks": ""
             }
            },
            "marker": {
             "colorbar": {
              "outlinewidth": 0,
              "ticks": ""
             }
            },
            "type": "scatter3d"
           }
          ],
          "scattercarpet": [
           {
            "marker": {
             "colorbar": {
              "outlinewidth": 0,
              "ticks": ""
             }
            },
            "type": "scattercarpet"
           }
          ],
          "scattergeo": [
           {
            "marker": {
             "colorbar": {
              "outlinewidth": 0,
              "ticks": ""
             }
            },
            "type": "scattergeo"
           }
          ],
          "scattergl": [
           {
            "marker": {
             "colorbar": {
              "outlinewidth": 0,
              "ticks": ""
             }
            },
            "type": "scattergl"
           }
          ],
          "scattermapbox": [
           {
            "marker": {
             "colorbar": {
              "outlinewidth": 0,
              "ticks": ""
             }
            },
            "type": "scattermapbox"
           }
          ],
          "scatterpolar": [
           {
            "marker": {
             "colorbar": {
              "outlinewidth": 0,
              "ticks": ""
             }
            },
            "type": "scatterpolar"
           }
          ],
          "scatterpolargl": [
           {
            "marker": {
             "colorbar": {
              "outlinewidth": 0,
              "ticks": ""
             }
            },
            "type": "scatterpolargl"
           }
          ],
          "scatterternary": [
           {
            "marker": {
             "colorbar": {
              "outlinewidth": 0,
              "ticks": ""
             }
            },
            "type": "scatterternary"
           }
          ],
          "surface": [
           {
            "colorbar": {
             "outlinewidth": 0,
             "ticks": ""
            },
            "colorscale": [
             [
              0,
              "#0d0887"
             ],
             [
              0.1111111111111111,
              "#46039f"
             ],
             [
              0.2222222222222222,
              "#7201a8"
             ],
             [
              0.3333333333333333,
              "#9c179e"
             ],
             [
              0.4444444444444444,
              "#bd3786"
             ],
             [
              0.5555555555555556,
              "#d8576b"
             ],
             [
              0.6666666666666666,
              "#ed7953"
             ],
             [
              0.7777777777777778,
              "#fb9f3a"
             ],
             [
              0.8888888888888888,
              "#fdca26"
             ],
             [
              1,
              "#f0f921"
             ]
            ],
            "type": "surface"
           }
          ],
          "table": [
           {
            "cells": {
             "fill": {
              "color": "#EBF0F8"
             },
             "line": {
              "color": "white"
             }
            },
            "header": {
             "fill": {
              "color": "#C8D4E3"
             },
             "line": {
              "color": "white"
             }
            },
            "type": "table"
           }
          ]
         },
         "layout": {
          "annotationdefaults": {
           "arrowcolor": "#2a3f5f",
           "arrowhead": 0,
           "arrowwidth": 1
          },
          "autotypenumbers": "strict",
          "coloraxis": {
           "colorbar": {
            "outlinewidth": 0,
            "ticks": ""
           }
          },
          "colorscale": {
           "diverging": [
            [
             0,
             "#003f5c"
            ],
            [
             0.16666666666666666,
             "#577187"
            ],
            [
             0.3333333333333333,
             "#9ca8b4"
            ],
            [
             0.5,
             "#e2e2e2"
            ],
            [
             0.6666666666666666,
             "#d0a2af"
            ],
            [
             0.8333333333333334,
             "#b8637e"
            ],
            [
             1,
             "#9a1050"
            ]
           ],
           "sequential": [
            [
             0,
             "#003f5c"
            ],
            [
             0.14285714285714285,
             "#2f4b7c"
            ],
            [
             0.2857142857142857,
             "#665191"
            ],
            [
             0.42857142857142855,
             "#a05195"
            ],
            [
             0.5714285714285714,
             "#d45087"
            ],
            [
             0.7142857142857143,
             "#f95d6a"
            ],
            [
             0.8571428571428571,
             "#ff7c43"
            ],
            [
             1,
             "#ffa600"
            ]
           ],
           "sequentialminus": [
            [
             0,
             "#0d0887"
            ],
            [
             0.1111111111111111,
             "#46039f"
            ],
            [
             0.2222222222222222,
             "#7201a8"
            ],
            [
             0.3333333333333333,
             "#9c179e"
            ],
            [
             0.4444444444444444,
             "#bd3786"
            ],
            [
             0.5555555555555556,
             "#d8576b"
            ],
            [
             0.6666666666666666,
             "#ed7953"
            ],
            [
             0.7777777777777778,
             "#fb9f3a"
            ],
            [
             0.8888888888888888,
             "#fdca26"
            ],
            [
             1,
             "#f0f921"
            ]
           ]
          },
          "colorway": [
           "#428299",
           "#67C4D3",
           "#F48A64",
           "#77C6B1",
           "#F2D65F",
           "#80A4CE",
           "#CC9EB1",
           "#BFD88F",
           "#8E8E8E"
          ],
          "font": {
           "color": "black",
           "family": "PT Sans Narrow",
           "size": 14
          },
          "geo": {
           "bgcolor": "white",
           "lakecolor": "white",
           "landcolor": "white",
           "showlakes": true,
           "showland": true,
           "subunitcolor": "#C8D4E3"
          },
          "hoverlabel": {
           "align": "left"
          },
          "hovermode": "closest",
          "mapbox": {
           "style": "light"
          },
          "paper_bgcolor": "white",
          "plot_bgcolor": "white",
          "polar": {
           "angularaxis": {
            "gridcolor": "#EBF0F8",
            "linecolor": "#EBF0F8",
            "ticks": ""
           },
           "bgcolor": "white",
           "radialaxis": {
            "gridcolor": "#EBF0F8",
            "linecolor": "#EBF0F8",
            "ticks": ""
           }
          },
          "scene": {
           "xaxis": {
            "backgroundcolor": "white",
            "gridcolor": "#DFE8F3",
            "gridwidth": 2,
            "linecolor": "#EBF0F8",
            "showbackground": true,
            "ticks": "",
            "zerolinecolor": "#EBF0F8"
           },
           "yaxis": {
            "backgroundcolor": "white",
            "gridcolor": "#DFE8F3",
            "gridwidth": 2,
            "linecolor": "#EBF0F8",
            "showbackground": true,
            "ticks": "",
            "zerolinecolor": "#EBF0F8"
           },
           "zaxis": {
            "backgroundcolor": "white",
            "gridcolor": "#DFE8F3",
            "gridwidth": 2,
            "linecolor": "#EBF0F8",
            "showbackground": true,
            "ticks": "",
            "zerolinecolor": "#EBF0F8"
           }
          },
          "shapedefaults": {
           "line": {
            "color": "#428299"
           }
          },
          "ternary": {
           "aaxis": {
            "gridcolor": "#DFE8F3",
            "linecolor": "#A2B1C6",
            "ticks": ""
           },
           "baxis": {
            "gridcolor": "#DFE8F3",
            "linecolor": "#A2B1C6",
            "ticks": ""
           },
           "bgcolor": "white",
           "caxis": {
            "gridcolor": "#DFE8F3",
            "linecolor": "#A2B1C6",
            "ticks": ""
           }
          },
          "title": {
           "font": {
            "color": "black",
            "size": 28,
            "weight": 400
           },
           "subtitle": {
            "font": {
             "color": "#373737",
             "size": 14,
             "weight": 200
            }
           },
           "x": 0.5,
           "y": 0.95,
           "yref": "container"
          },
          "xaxis": {
           "automargin": true,
           "gridcolor": "#EBF0F8",
           "linecolor": "#EBF0F8",
           "ticks": "",
           "title": {
            "standoff": 15
           },
           "zerolinecolor": "#EBF0F8",
           "zerolinewidth": 2
          },
          "yaxis": {
           "automargin": true,
           "gridcolor": "#EBF0F8",
           "linecolor": "#EBF0F8",
           "ticks": "",
           "title": {
            "standoff": 15
           },
           "zerolinecolor": "#EBF0F8",
           "zerolinewidth": 2
          }
         }
        },
        "title": {
         "text": "Sample Area Plot"
        },
        "xaxis": {
         "anchor": "y",
         "autorange": true,
         "domain": [
          0,
          1
         ],
         "range": [
          "2009-07-24",
          "2010-02-17"
         ],
         "title": {
          "text": "Date"
         },
         "type": "date"
        },
        "yaxis": {
         "anchor": "x",
         "autorange": true,
         "domain": [
          0,
          1
         ],
         "range": [
          0,
          617.8947368421052
         ],
         "title": {
          "text": "Cases Imported"
         },
         "type": "linear"
        }
       }
      },
      "image/png": "[encoded data removed]",
      "text/html": [
       "<div>                            <div id=\"2e0b05b5-dea5-44b3-a109-ef51ae328f76\" class=\"plotly-graph-div\" style=\"height:525px; width:100%;\"></div>            <script type=\"text/javascript\">                require([\"plotly\"], function(Plotly) {                    window.PLOTLYENV=window.PLOTLYENV || {};                                    if (document.getElementById(\"2e0b05b5-dea5-44b3-a109-ef51ae328f76\")) {                    Plotly.newPlot(                        \"2e0b05b5-dea5-44b3-a109-ef51ae328f76\",                        [{\"fillpattern\":{\"shape\":\"\"},\"hovertemplate\":\"source=Western Asia\\u003cbr\\u003edate=%{x}\\u003cbr\\u003eimportations=%{y}\\u003cextra\\u003e\\u003c\\u002fextra\\u003e\",\"legendgroup\":\"Western Asia\",\"line\":{\"color\":\"#428299\",\"width\":0.4},\"marker\":{\"symbol\":\"circle\"},\"mode\":\"lines\",\"name\":\"Western Asia\",\"orientation\":\"v\",\"showlegend\":true,\"stackgroup\":\"1\",\"x\":[\"2009-07-24\",\"2009-09-05\",\"2009-09-07\",\"2009-09-14\",\"2009-09-19\",\"2009-09-21\",\"2009-09-25\",\"2009-09-27\",\"2009-09-28\",\"2009-09-30\",\"2009-10-01\",\"2009-10-02\",\"2009-10-03\",\"2009-10-04\",\"2009-10-05\",\"2009-10-06\",\"2009-10-07\",\"2009-10-08\",\"2009-10-09\",\"2009-10-10\",\"2009-10-11\",\"2009-10-12\",\"2009-10-13\",\"2009-10-14\",\"2009-10-15\",\"2009-10-16\",\"2009-10-17\",\"2009-10-18\",\"2009-10-19\",\"2009-10-20\",\"2009-10-21\",\"2009-10-22\",\"2009-10-23\",\"2009-10-24\",\"2009-10-25\",\"2009-10-26\",\"2009-10-27\",\"2009-10-28\",\"2009-10-29\",\"2009-10-30\",\"2009-10-31\",\"2009-11-01\",\"2009-11-02\",\"2009-11-03\",\"2009-11-04\",\"2009-11-05\",\"2009-11-06\",\"2009-11-07\",\"2009-11-08\",\"2009-11-09\",\"2009-11-10\",\"2009-11-11\",\"2009-11-12\",\"2009-11-13\",\"2009-11-14\",\"2009-11-15\",\"2009-11-16\",\"2009-11-17\",\"2009-11-18\",\"2009-11-19\",\"2009-11-20\",\"2009-11-21\",\"2009-11-22\",\"2009-11-23\",\"2009-11-24\",\"2009-11-25\",\"2009-11-26\",\"2009-11-27\",\"2009-11-28\",\"2009-11-29\",\"2009-11-30\",\"2009-12-01\",\"2009-12-02\",\"2009-12-03\",\"2009-12-04\",\"2009-12-05\",\"2009-12-06\",\"2009-12-07\",\"2009-12-08\",\"2009-12-09\",\"2009-12-10\",\"2009-12-11\",\"2009-12-12\",\"2009-12-13\",\"2009-12-14\",\"2009-12-15\",\"2009-12-16\",\"2009-12-17\",\"2009-12-18\",\"2009-12-19\",\"2009-12-20\",\"2009-12-21\",\"2009-12-22\",\"2009-12-23\",\"2009-12-24\",\"2009-12-25\",\"2009-12-26\",\"2009-12-27\",\"2009-12-28\",\"2009-12-29\",\"2009-12-30\",\"2009-12-31\",\"2010-01-01\",\"2010-01-02\",\"2010-01-03\",\"2010-01-04\",\"2010-01-05\",\"2010-01-06\",\"2010-01-07\",\"2010-01-08\",\"2010-01-09\",\"2010-01-10\",\"2010-01-11\",\"2010-01-12\",\"2010-01-13\",\"2010-01-14\",\"2010-01-15\",\"2010-01-16\",\"2010-01-17\",\"2010-01-18\",\"2010-01-19\",\"2010-01-20\",\"2010-01-21\",\"2010-01-22\",\"2010-01-23\",\"2010-01-24\",\"2010-01-25\",\"2010-01-26\",\"2010-01-27\",\"2010-01-28\",\"2010-01-29\",\"2010-01-30\",\"2010-01-31\",\"2010-02-01\",\"2010-02-02\",\"2010-02-03\",\"2010-02-04\",\"2010-02-05\",\"2010-02-06\",\"2010-02-07\",\"2010-02-08\",\"2010-02-09\",\"2010-02-10\",\"2010-02-11\",\"2010-02-12\",\"2010-02-13\",\"2010-02-14\",\"2010-02-15\",\"2010-02-16\",\"2010-02-17\"],\"xaxis\":\"x\",\"y\":[1,1,1,1,1,2,1,1,2,1,1,3,2,1,2,1,2,3,2,3,3,1,2,3,4,4,5,6,7,6,5,9,7,8,12,6,8,13,11,9,16,19,18,20,21,10,31,29,32,36,33,31,45,49,42,47,57,57,56,56,77,60,67,85,71,78,102,94,105,108,97,71,80,91,74,93,73,72,102,93,112,82,67,74,86,76,78,89,69,94,74,72,81,78,88,77,75,60,66,60,73,71,65,83,65,59,46,75,49,62,72,54,50,50,58,70,58,63,56,53,47,59,45,38,41,31,42,37,45,29,44,40,31,36,21,30,30,31,28,28,27,28,28,25,27,21,22,22,11,24],\"yaxis\":\"y\",\"type\":\"scatter\"},{\"fillpattern\":{\"shape\":\"\"},\"hovertemplate\":\"source=Eastern Asia\\u003cbr\\u003edate=%{x}\\u003cbr\\u003eimportations=%{y}\\u003cextra\\u003e\\u003c\\u002fextra\\u003e\",\"legendgroup\":\"Eastern Asia\",\"line\":{\"color\":\"#67C4D3\",\"width\":0.4},\"marker\":{\"symbol\":\"circle\"},\"mode\":\"lines\",\"name\":\"Eastern Asia\",\"orientation\":\"v\",\"showlegend\":true,\"stackgroup\":\"1\",\"x\":[\"2009-08-19\",\"2009-08-25\",\"2009-08-26\",\"2009-08-30\",\"2009-08-31\",\"2009-09-02\",\"2009-09-04\",\"2009-09-06\",\"2009-09-08\",\"2009-09-09\",\"2009-09-10\",\"2009-09-12\",\"2009-09-13\",\"2009-09-14\",\"2009-09-15\",\"2009-09-16\",\"2009-09-17\",\"2009-09-18\",\"2009-09-19\",\"2009-09-20\",\"2009-09-21\",\"2009-09-22\",\"2009-09-23\",\"2009-09-24\",\"2009-09-25\",\"2009-09-26\",\"2009-09-27\",\"2009-09-28\",\"2009-09-29\",\"2009-09-30\",\"2009-10-01\",\"2009-10-02\",\"2009-10-03\",\"2009-10-04\",\"2009-10-05\",\"2009-10-06\",\"2009-10-07\",\"2009-10-08\",\"2009-10-09\",\"2009-10-10\",\"2009-10-11\",\"2009-10-12\",\"2009-10-13\",\"2009-10-14\",\"2009-10-15\",\"2009-10-16\",\"2009-10-17\",\"2009-10-18\",\"2009-10-19\",\"2009-10-20\",\"2009-10-21\",\"2009-10-22\",\"2009-10-23\",\"2009-10-24\",\"2009-10-25\",\"2009-10-26\",\"2009-10-27\",\"2009-10-28\",\"2009-10-29\",\"2009-10-30\",\"2009-10-31\",\"2009-11-01\",\"2009-11-02\",\"2009-11-03\",\"2009-11-04\",\"2009-11-05\",\"2009-11-06\",\"2009-11-07\",\"2009-11-08\",\"2009-11-09\",\"2009-11-10\",\"2009-11-11\",\"2009-11-12\",\"2009-11-13\",\"2009-11-14\",\"2009-11-15\",\"2009-11-16\",\"2009-11-17\",\"2009-11-18\",\"2009-11-19\",\"2009-11-20\",\"2009-11-21\",\"2009-11-22\",\"2009-11-23\",\"2009-11-24\",\"2009-11-25\",\"2009-11-26\",\"2009-11-27\",\"2009-11-28\",\"2009-11-29\",\"2009-11-30\",\"2009-12-01\",\"2009-12-02\",\"2009-12-03\",\"2009-12-04\",\"2009-12-05\",\"2009-12-06\",\"2009-12-07\",\"2009-12-08\",\"2009-12-09\",\"2009-12-10\",\"2009-12-11\",\"2009-12-12\",\"2009-12-13\",\"2009-12-14\",\"2009-12-15\",\"2009-12-16\",\"2009-12-17\",\"2009-12-18\",\"2009-12-19\",\"2009-12-20\",\"2009-12-21\",\"2009-12-22\",\"2009-12-23\",\"2009-12-24\",\"2009-12-25\",\"2009-12-26\",\"2009-12-27\",\"2009-12-28\",\"2009-12-29\",\"2009-12-30\",\"2009-12-31\",\"2010-01-01\",\"2010-01-02\",\"2010-01-03\",\"2010-01-04\",\"2010-01-05\",\"2010-01-06\",\"2010-01-07\",\"2010-01-08\",\"2010-01-09\",\"2010-01-10\",\"2010-01-11\",\"2010-01-12\",\"2010-01-13\",\"2010-01-14\",\"2010-01-15\",\"2010-01-16\",\"2010-01-17\",\"2010-01-18\",\"2010-01-19\",\"2010-01-20\",\"2010-01-21\",\"2010-01-22\",\"2010-01-23\",\"2010-01-24\",\"2010-01-25\",\"2010-01-26\",\"2010-01-27\",\"2010-01-28\",\"2010-01-29\",\"2010-01-30\",\"2010-01-31\",\"2010-02-01\",\"2010-02-02\",\"2010-02-03\",\"2010-02-04\",\"2010-02-05\",\"2010-02-06\",\"2010-02-07\",\"2010-02-08\",\"2010-02-09\",\"2010-02-10\",\"2010-02-11\",\"2010-02-12\",\"2010-02-13\",\"2010-02-14\",\"2010-02-15\",\"2010-02-16\",\"2010-02-17\"],\"xaxis\":\"x\",\"y\":[1,1,2,1,1,2,3,2,3,3,2,2,2,5,3,2,3,2,5,4,10,12,9,9,12,13,10,14,11,20,17,20,26,18,33,34,36,37,36,70,52,58,76,62,82,78,87,93,97,84,120,122,133,155,137,140,138,191,168,148,177,185,173,159,174,163,171,177,183,152,170,176,188,173,190,184,176,198,177,169,201,199,185,183,169,192,180,178,197,174,171,171,150,174,171,192,173,172,191,147,158,183,180,189,178,170,183,209,212,208,239,199,207,182,190,213,193,229,190,204,204,224,229,225,214,190,226,219,245,223,220,217,227,224,226,230,181,207,204,209,197,201,220,224,205,180,183,176,189,187,204,163,166,163,172,148,119,147,143,147,166,144,142,122,131,144,127,105,101,124],\"yaxis\":\"y\",\"type\":\"scatter\"},{\"fillpattern\":{\"shape\":\"\"},\"hovertemplate\":\"source=Other\\u003cbr\\u003edate=%{x}\\u003cbr\\u003eimportations=%{y}\\u003cextra\\u003e\\u003c\\u002fextra\\u003e\",\"legendgroup\":\"Other\",\"line\":{\"color\":\"#F48A64\",\"width\":0.4},\"marker\":{\"symbol\":\"circle\"},\"mode\":\"lines\",\"name\":\"Other\",\"orientation\":\"v\",\"showlegend\":true,\"stackgroup\":\"1\",\"x\":[\"2009-09-05\",\"2009-09-12\",\"2009-09-15\",\"2009-09-25\",\"2009-09-29\",\"2009-10-01\",\"2009-10-03\",\"2009-10-07\",\"2009-10-09\",\"2009-10-12\",\"2009-10-13\",\"2009-10-14\",\"2009-10-15\",\"2009-10-16\",\"2009-10-17\",\"2009-10-18\",\"2009-10-20\",\"2009-10-21\",\"2009-10-22\",\"2009-10-23\",\"2009-10-24\",\"2009-10-25\",\"2009-10-26\",\"2009-10-27\",\"2009-10-28\",\"2009-10-29\",\"2009-10-30\",\"2009-10-31\",\"2009-11-02\",\"2009-11-03\",\"2009-11-04\",\"2009-11-05\",\"2009-11-06\",\"2009-11-07\",\"2009-11-08\",\"2009-11-09\",\"2009-11-10\",\"2009-11-11\",\"2009-11-12\",\"2009-11-13\",\"2009-11-14\",\"2009-11-15\",\"2009-11-16\",\"2009-11-17\",\"2009-11-18\",\"2009-11-19\",\"2009-11-20\",\"2009-11-21\",\"2009-11-22\",\"2009-11-23\",\"2009-11-24\",\"2009-11-25\",\"2009-11-26\",\"2009-11-27\",\"2009-11-28\",\"2009-11-29\",\"2009-11-30\",\"2009-12-01\",\"2009-12-02\",\"2009-12-03\",\"2009-12-04\",\"2009-12-05\",\"2009-12-06\",\"2009-12-07\",\"2009-12-08\",\"2009-12-09\",\"2009-12-10\",\"2009-12-11\",\"2009-12-12\",\"2009-12-13\",\"2009-12-14\",\"2009-12-15\",\"2009-12-16\",\"2009-12-17\",\"2009-12-18\",\"2009-12-19\",\"2009-12-20\",\"2009-12-21\",\"2009-12-22\",\"2009-12-23\",\"2009-12-24\",\"2009-12-25\",\"2009-12-26\",\"2009-12-27\",\"2009-12-28\",\"2009-12-29\",\"2009-12-30\",\"2009-12-31\",\"2010-01-01\",\"2010-01-02\",\"2010-01-03\",\"2010-01-04\",\"2010-01-05\",\"2010-01-06\",\"2010-01-07\",\"2010-01-08\",\"2010-01-09\",\"2010-01-10\",\"2010-01-11\",\"2010-01-12\",\"2010-01-13\",\"2010-01-14\",\"2010-01-15\",\"2010-01-16\",\"2010-01-17\",\"2010-01-18\",\"2010-01-19\",\"2010-01-20\",\"2010-01-21\",\"2010-01-22\",\"2010-01-23\",\"2010-01-24\",\"2010-01-25\",\"2010-01-26\",\"2010-01-27\",\"2010-01-28\",\"2010-01-29\",\"2010-01-30\",\"2010-01-31\",\"2010-02-01\",\"2010-02-02\",\"2010-02-03\",\"2010-02-04\",\"2010-02-05\",\"2010-02-06\",\"2010-02-07\",\"2010-02-08\",\"2010-02-09\",\"2010-02-10\",\"2010-02-11\",\"2010-02-12\",\"2010-02-13\",\"2010-02-14\",\"2010-02-15\",\"2010-02-16\",\"2010-02-17\"],\"xaxis\":\"x\",\"y\":[1,1,1,1,1,3,3,1,1,1,1,3,1,5,2,1,1,3,3,5,4,4,6,3,4,3,6,5,3,6,9,14,4,12,10,9,15,12,7,13,19,16,20,13,18,24,21,18,14,18,16,26,24,24,36,26,29,43,36,35,48,53,49,51,44,61,60,51,60,53,57,57,69,72,60,78,71,69,71,73,71,66,71,76,85,80,94,71,74,68,79,78,55,61,63,81,51,80,59,65,53,50,53,51,57,40,54,42,42,47,42,44,33,28,36,35,38,35,37,25,28,26,24,14,34,24,21,22,23,22,18,23,14,16,17,21],\"yaxis\":\"y\",\"type\":\"scatter\"},{\"fillpattern\":{\"shape\":\"\"},\"hovertemplate\":\"source=Southern Asia\\u003cbr\\u003edate=%{x}\\u003cbr\\u003eimportations=%{y}\\u003cextra\\u003e\\u003c\\u002fextra\\u003e\",\"legendgroup\":\"Southern Asia\",\"line\":{\"color\":\"#77C6B1\",\"width\":0.4},\"marker\":{\"symbol\":\"circle\"},\"mode\":\"lines\",\"name\":\"Southern Asia\",\"orientation\":\"v\",\"showlegend\":true,\"stackgroup\":\"1\",\"x\":[\"2009-09-11\",\"2009-09-24\",\"2009-10-07\",\"2009-10-09\",\"2009-10-10\",\"2009-10-13\",\"2009-10-15\",\"2009-10-17\",\"2009-10-18\",\"2009-10-19\",\"2009-10-20\",\"2009-10-22\",\"2009-10-23\",\"2009-10-24\",\"2009-10-25\",\"2009-10-26\",\"2009-10-27\",\"2009-10-28\",\"2009-10-29\",\"2009-10-30\",\"2009-10-31\",\"2009-11-01\",\"2009-11-02\",\"2009-11-03\",\"2009-11-04\",\"2009-11-05\",\"2009-11-06\",\"2009-11-07\",\"2009-11-08\",\"2009-11-09\",\"2009-11-10\",\"2009-11-11\",\"2009-11-12\",\"2009-11-13\",\"2009-11-14\",\"2009-11-15\",\"2009-11-16\",\"2009-11-17\",\"2009-11-18\",\"2009-11-19\",\"2009-11-20\",\"2009-11-21\",\"2009-11-22\",\"2009-11-23\",\"2009-11-24\",\"2009-11-25\",\"2009-11-26\",\"2009-11-27\",\"2009-11-28\",\"2009-11-29\",\"2009-11-30\",\"2009-12-01\",\"2009-12-02\",\"2009-12-03\",\"2009-12-04\",\"2009-12-05\",\"2009-12-06\",\"2009-12-07\",\"2009-12-08\",\"2009-12-09\",\"2009-12-10\",\"2009-12-11\",\"2009-12-12\",\"2009-12-13\",\"2009-12-14\",\"2009-12-15\",\"2009-12-16\",\"2009-12-17\",\"2009-12-18\",\"2009-12-19\",\"2009-12-20\",\"2009-12-21\",\"2009-12-22\",\"2009-12-23\",\"2009-12-24\",\"2009-12-25\",\"2009-12-26\",\"2009-12-27\",\"2009-12-28\",\"2009-12-29\",\"2009-12-30\",\"2009-12-31\",\"2010-01-01\",\"2010-01-02\",\"2010-01-03\",\"2010-01-04\",\"2010-01-05\",\"2010-01-06\",\"2010-01-07\",\"2010-01-08\",\"2010-01-09\",\"2010-01-10\",\"2010-01-11\",\"2010-01-12\",\"2010-01-13\",\"2010-01-14\",\"2010-01-15\",\"2010-01-16\",\"2010-01-17\",\"2010-01-18\",\"2010-01-19\",\"2010-01-20\",\"2010-01-21\",\"2010-01-22\",\"2010-01-23\",\"2010-01-24\",\"2010-01-25\",\"2010-01-26\",\"2010-01-27\",\"2010-01-28\",\"2010-01-29\",\"2010-01-30\",\"2010-01-31\",\"2010-02-01\",\"2010-02-02\",\"2010-02-03\",\"2010-02-04\",\"2010-02-05\",\"2010-02-06\",\"2010-02-07\",\"2010-02-08\",\"2010-02-09\",\"2010-02-10\",\"2010-02-11\",\"2010-02-12\",\"2010-02-13\",\"2010-02-14\",\"2010-02-15\",\"2010-02-16\",\"2010-02-17\"],\"xaxis\":\"x\",\"y\":[1,1,1,1,2,1,1,1,2,6,3,1,5,3,4,3,3,1,5,4,3,4,6,2,5,5,8,6,7,11,7,10,11,12,13,11,12,15,12,6,10,17,17,28,17,13,18,21,19,27,23,36,35,37,35,43,42,35,37,39,47,29,50,42,39,46,47,56,49,48,56,55,55,57,74,59,50,70,66,61,64,76,59,85,69,74,65,63,65,91,73,81,92,67,90,87,85,90,88,96,82,103,100,83,114,108,99,106,93,91,84,93,93,106,79,86,97,101,90,102,88,86,99,91,85,95,58,84,90,72],\"yaxis\":\"y\",\"type\":\"scatter\"},{\"fillpattern\":{\"shape\":\"\"},\"hovertemplate\":\"source=South-Eastern Asia\\u003cbr\\u003edate=%{x}\\u003cbr\\u003eimportations=%{y}\\u003cextra\\u003e\\u003c\\u002fextra\\u003e\",\"legendgroup\":\"South-Eastern Asia\",\"line\":{\"color\":\"#F2D65F\",\"width\":0.4},\"marker\":{\"symbol\":\"circle\"},\"mode\":\"lines\",\"name\":\"South-Eastern Asia\",\"orientation\":\"v\",\"showlegend\":true,\"stackgroup\":\"1\",\"x\":[\"2009-09-21\",\"2009-09-26\",\"2009-09-29\",\"2009-10-01\",\"2009-10-02\",\"2009-10-03\",\"2009-10-06\",\"2009-10-07\",\"2009-10-08\",\"2009-10-09\",\"2009-10-13\",\"2009-10-14\",\"2009-10-15\",\"2009-10-16\",\"2009-10-17\",\"2009-10-18\",\"2009-10-19\",\"2009-10-20\",\"2009-10-21\",\"2009-10-22\",\"2009-10-23\",\"2009-10-24\",\"2009-10-25\",\"2009-10-26\",\"2009-10-27\",\"2009-10-28\",\"2009-10-29\",\"2009-10-30\",\"2009-10-31\",\"2009-11-01\",\"2009-11-02\",\"2009-11-03\",\"2009-11-04\",\"2009-11-05\",\"2009-11-06\",\"2009-11-07\",\"2009-11-08\",\"2009-11-09\",\"2009-11-10\",\"2009-11-11\",\"2009-11-12\",\"2009-11-13\",\"2009-11-14\",\"2009-11-15\",\"2009-11-16\",\"2009-11-17\",\"2009-11-18\",\"2009-11-19\",\"2009-11-20\",\"2009-11-21\",\"2009-11-22\",\"2009-11-23\",\"2009-11-24\",\"2009-11-25\",\"2009-11-26\",\"2009-11-27\",\"2009-11-28\",\"2009-11-29\",\"2009-11-30\",\"2009-12-01\",\"2009-12-02\",\"2009-12-03\",\"2009-12-04\",\"2009-12-05\",\"2009-12-06\",\"2009-12-07\",\"2009-12-08\",\"2009-12-09\",\"2009-12-10\",\"2009-12-11\",\"2009-12-12\",\"2009-12-13\",\"2009-12-14\",\"2009-12-15\",\"2009-12-16\",\"2009-12-17\",\"2009-12-18\",\"2009-12-19\",\"2009-12-20\",\"2009-12-21\",\"2009-12-22\",\"2009-12-23\",\"2009-12-24\",\"2009-12-25\",\"2009-12-26\",\"2009-12-27\",\"2009-12-28\",\"2009-12-29\",\"2009-12-30\",\"2009-12-31\",\"2010-01-01\",\"2010-01-02\",\"2010-01-03\",\"2010-01-04\",\"2010-01-05\",\"2010-01-06\",\"2010-01-07\",\"2010-01-08\",\"2010-01-09\",\"2010-01-10\",\"2010-01-11\",\"2010-01-12\",\"2010-01-13\",\"2010-01-14\",\"2010-01-15\",\"2010-01-16\",\"2010-01-17\",\"2010-01-18\",\"2010-01-19\",\"2010-01-20\",\"2010-01-21\",\"2010-01-22\",\"2010-01-23\",\"2010-01-24\",\"2010-01-25\",\"2010-01-26\",\"2010-01-27\",\"2010-01-28\",\"2010-01-29\",\"2010-01-30\",\"2010-01-31\",\"2010-02-01\",\"2010-02-02\",\"2010-02-03\",\"2010-02-04\",\"2010-02-05\",\"2010-02-06\",\"2010-02-07\",\"2010-02-08\",\"2010-02-09\",\"2010-02-10\",\"2010-02-11\",\"2010-02-12\",\"2010-02-13\",\"2010-02-14\",\"2010-02-15\",\"2010-02-16\",\"2010-02-17\"],\"xaxis\":\"x\",\"y\":[2,1,1,1,1,4,1,3,4,1,2,2,2,4,3,2,1,2,3,7,7,3,6,6,7,8,6,8,6,7,9,10,13,15,11,20,24,20,12,33,25,29,21,26,28,46,44,51,52,61,47,55,57,44,47,51,61,44,70,68,78,72,89,77,82,75,83,74,86,81,117,81,82,101,88,100,97,97,79,107,114,107,94,117,96,92,101,104,90,103,94,126,122,115,123,88,100,108,106,115,96,103,92,109,99,101,97,81,95,92,85,94,88,84,84,70,77,73,78,81,71,83,85,61,65,69,52,62,47,60,48,53,43,38,40,30,48,35],\"yaxis\":\"y\",\"type\":\"scatter\"}],                        {\"template\":{\"data\":{\"barpolar\":[{\"marker\":{\"line\":{\"color\":\"white\",\"width\":0.5},\"pattern\":{\"fillmode\":\"overlay\",\"size\":10,\"solidity\":0.2}},\"type\":\"barpolar\"}],\"bar\":[{\"error_x\":{\"color\":\"#2a3f5f\"},\"error_y\":{\"color\":\"#2a3f5f\"},\"marker\":{\"line\":{\"color\":\"white\",\"width\":0.5},\"pattern\":{\"fillmode\":\"overlay\",\"size\":10,\"solidity\":0.2}},\"type\":\"bar\"}],\"carpet\":[{\"aaxis\":{\"endlinecolor\":\"#2a3f5f\",\"gridcolor\":\"#C8D4E3\",\"linecolor\":\"#C8D4E3\",\"minorgridcolor\":\"#C8D4E3\",\"startlinecolor\":\"#2a3f5f\"},\"baxis\":{\"endlinecolor\":\"#2a3f5f\",\"gridcolor\":\"#C8D4E3\",\"linecolor\":\"#C8D4E3\",\"minorgridcolor\":\"#C8D4E3\",\"startlinecolor\":\"#2a3f5f\"},\"type\":\"carpet\"}],\"choropleth\":[{\"colorbar\":{\"outlinewidth\":0,\"ticks\":\"\"},\"type\":\"choropleth\"}],\"contourcarpet\":[{\"colorbar\":{\"outlinewidth\":0,\"ticks\":\"\"},\"type\":\"contourcarpet\"}],\"contour\":[{\"colorbar\":{\"outlinewidth\":0,\"ticks\":\"\"},\"colorscale\":[[0.0,\"#0d0887\"],[0.1111111111111111,\"#46039f\"],[0.2222222222222222,\"#7201a8\"],[0.3333333333333333,\"#9c179e\"],[0.4444444444444444,\"#bd3786\"],[0.5555555555555556,\"#d8576b\"],[0.6666666666666666,\"#ed7953\"],[0.7777777777777778,\"#fb9f3a\"],[0.8888888888888888,\"#fdca26\"],[1.0,\"#f0f921\"]],\"type\":\"contour\"}],\"heatmapgl\":[{\"colorbar\":{\"outlinewidth\":0,\"ticks\":\"\"},\"colorscale\":[[0.0,\"#0d0887\"],[0.1111111111111111,\"#46039f\"],[0.2222222222222222,\"#7201a8\"],[0.3333333333333333,\"#9c179e\"],[0.4444444444444444,\"#bd3786\"],[0.5555555555555556,\"#d8576b\"],[0.6666666666666666,\"#ed7953\"],[0.7777777777777778,\"#fb9f3a\"],[0.8888888888888888,\"#fdca26\"],[1.0,\"#f0f921\"]],\"type\":\"heatmapgl\"}],\"heatmap\":[{\"colorbar\":{\"outlinewidth\":0,\"ticks\":\"\"},\"colorscale\":[[0.0,\"#0d0887\"],[0.1111111111111111,\"#46039f\"],[0.2222222222222222,\"#7201a8\"],[0.3333333333333333,\"#9c179e\"],[0.4444444444444444,\"#bd3786\"],[0.5555555555555556,\"#d8576b\"],[0.6666666666666666,\"#ed7953\"],[0.7777777777777778,\"#fb9f3a\"],[0.8888888888888888,\"#fdca26\"],[1.0,\"#f0f921\"]],\"type\":\"heatmap\"}],\"histogram2dcontour\":[{\"colorbar\":{\"outlinewidth\":0,\"ticks\":\"\"},\"colorscale\":[[0.0,\"#0d0887\"],[0.1111111111111111,\"#46039f\"],[0.2222222222222222,\"#7201a8\"],[0.3333333333333333,\"#9c179e\"],[0.4444444444444444,\"#bd3786\"],[0.5555555555555556,\"#d8576b\"],[0.6666666666666666,\"#ed7953\"],[0.7777777777777778,\"#fb9f3a\"],[0.8888888888888888,\"#fdca26\"],[1.0,\"#f0f921\"]],\"type\":\"histogram2dcontour\"}],\"histogram2d\":[{\"colorbar\":{\"outlinewidth\":0,\"ticks\":\"\"},\"colorscale\":[[0.0,\"#0d0887\"],[0.1111111111111111,\"#46039f\"],[0.2222222222222222,\"#7201a8\"],[0.3333333333333333,\"#9c179e\"],[0.4444444444444444,\"#bd3786\"],[0.5555555555555556,\"#d8576b\"],[0.6666666666666666,\"#ed7953\"],[0.7777777777777778,\"#fb9f3a\"],[0.8888888888888888,\"#fdca26\"],[1.0,\"#f0f921\"]],\"type\":\"histogram2d\"}],\"histogram\":[{\"marker\":{\"pattern\":{\"fillmode\":\"overlay\",\"size\":10,\"solidity\":0.2}},\"type\":\"histogram\"}],\"mesh3d\":[{\"colorbar\":{\"outlinewidth\":0,\"ticks\":\"\"},\"type\":\"mesh3d\"}],\"parcoords\":[{\"line\":{\"colorbar\":{\"outlinewidth\":0,\"ticks\":\"\"}},\"type\":\"parcoords\"}],\"pie\":[{\"automargin\":true,\"type\":\"pie\"}],\"scatter3d\":[{\"line\":{\"colorbar\":{\"outlinewidth\":0,\"ticks\":\"\"}},\"marker\":{\"colorbar\":{\"outlinewidth\":0,\"ticks\":\"\"}},\"type\":\"scatter3d\"}],\"scattercarpet\":[{\"marker\":{\"colorbar\":{\"outlinewidth\":0,\"ticks\":\"\"}},\"type\":\"scattercarpet\"}],\"scattergeo\":[{\"marker\":{\"colorbar\":{\"outlinewidth\":0,\"ticks\":\"\"}},\"type\":\"scattergeo\"}],\"scattergl\":[{\"marker\":{\"colorbar\":{\"outlinewidth\":0,\"ticks\":\"\"}},\"type\":\"scattergl\"}],\"scattermapbox\":[{\"marker\":{\"colorbar\":{\"outlinewidth\":0,\"ticks\":\"\"}},\"type\":\"scattermapbox\"}],\"scatterpolargl\":[{\"marker\":{\"colorbar\":{\"outlinewidth\":0,\"ticks\":\"\"}},\"type\":\"scatterpolargl\"}],\"scatterpolar\":[{\"marker\":{\"colorbar\":{\"outlinewidth\":0,\"ticks\":\"\"}},\"type\":\"scatterpolar\"}],\"scatter\":[{\"fillpattern\":{\"fillmode\":\"overlay\",\"size\":10,\"solidity\":0.2},\"type\":\"scatter\"}],\"scatterternary\":[{\"marker\":{\"colorbar\":{\"outlinewidth\":0,\"ticks\":\"\"}},\"type\":\"scatterternary\"}],\"surface\":[{\"colorbar\":{\"outlinewidth\":0,\"ticks\":\"\"},\"colorscale\":[[0.0,\"#0d0887\"],[0.1111111111111111,\"#46039f\"],[0.2222222222222222,\"#7201a8\"],[0.3333333333333333,\"#9c179e\"],[0.4444444444444444,\"#bd3786\"],[0.5555555555555556,\"#d8576b\"],[0.6666666666666666,\"#ed7953\"],[0.7777777777777778,\"#fb9f3a\"],[0.8888888888888888,\"#fdca26\"],[1.0,\"#f0f921\"]],\"type\":\"surface\"}],\"table\":[{\"cells\":{\"fill\":{\"color\":\"#EBF0F8\"},\"line\":{\"color\":\"white\"}},\"header\":{\"fill\":{\"color\":\"#C8D4E3\"},\"line\":{\"color\":\"white\"}},\"type\":\"table\"}]},\"layout\":{\"annotationdefaults\":{\"arrowcolor\":\"#2a3f5f\",\"arrowhead\":0,\"arrowwidth\":1},\"autotypenumbers\":\"strict\",\"coloraxis\":{\"colorbar\":{\"outlinewidth\":0,\"ticks\":\"\"}},\"colorscale\":{\"diverging\":[[0.0,\"#003f5c\"],[0.16666666666666666,\"#577187\"],[0.3333333333333333,\"#9ca8b4\"],[0.5,\"#e2e2e2\"],[0.6666666666666666,\"#d0a2af\"],[0.8333333333333334,\"#b8637e\"],[1.0,\"#9a1050\"]],\"sequential\":[[0.0,\"#003f5c\"],[0.14285714285714285,\"#2f4b7c\"],[0.2857142857142857,\"#665191\"],[0.42857142857142855,\"#a05195\"],[0.5714285714285714,\"#d45087\"],[0.7142857142857143,\"#f95d6a\"],[0.8571428571428571,\"#ff7c43\"],[1.0,\"#ffa600\"]],\"sequentialminus\":[[0.0,\"#0d0887\"],[0.1111111111111111,\"#46039f\"],[0.2222222222222222,\"#7201a8\"],[0.3333333333333333,\"#9c179e\"],[0.4444444444444444,\"#bd3786\"],[0.5555555555555556,\"#d8576b\"],[0.6666666666666666,\"#ed7953\"],[0.7777777777777778,\"#fb9f3a\"],[0.8888888888888888,\"#fdca26\"],[1.0,\"#f0f921\"]]},\"colorway\":[\"#428299\",\"#67C4D3\",\"#F48A64\",\"#77C6B1\",\"#F2D65F\",\"#80A4CE\",\"#CC9EB1\",\"#BFD88F\",\"#8E8E8E\"],\"font\":{\"color\":\"black\",\"family\":\"PT Sans Narrow\",\"size\":14},\"geo\":{\"bgcolor\":\"white\",\"lakecolor\":\"white\",\"landcolor\":\"white\",\"showlakes\":true,\"showland\":true,\"subunitcolor\":\"#C8D4E3\"},\"hoverlabel\":{\"align\":\"left\"},\"hovermode\":\"closest\",\"mapbox\":{\"style\":\"light\"},\"paper_bgcolor\":\"white\",\"plot_bgcolor\":\"white\",\"polar\":{\"angularaxis\":{\"gridcolor\":\"#EBF0F8\",\"linecolor\":\"#EBF0F8\",\"ticks\":\"\"},\"bgcolor\":\"white\",\"radialaxis\":{\"gridcolor\":\"#EBF0F8\",\"linecolor\":\"#EBF0F8\",\"ticks\":\"\"}},\"scene\":{\"xaxis\":{\"backgroundcolor\":\"white\",\"gridcolor\":\"#DFE8F3\",\"gridwidth\":2,\"linecolor\":\"#EBF0F8\",\"showbackground\":true,\"ticks\":\"\",\"zerolinecolor\":\"#EBF0F8\"},\"yaxis\":{\"backgroundcolor\":\"white\",\"gridcolor\":\"#DFE8F3\",\"gridwidth\":2,\"linecolor\":\"#EBF0F8\",\"showbackground\":true,\"ticks\":\"\",\"zerolinecolor\":\"#EBF0F8\"},\"zaxis\":{\"backgroundcolor\":\"white\",\"gridcolor\":\"#DFE8F3\",\"gridwidth\":2,\"linecolor\":\"#EBF0F8\",\"showbackground\":true,\"ticks\":\"\",\"zerolinecolor\":\"#EBF0F8\"}},\"shapedefaults\":{\"line\":{\"color\":\"#428299\"}},\"ternary\":{\"aaxis\":{\"gridcolor\":\"#DFE8F3\",\"linecolor\":\"#A2B1C6\",\"ticks\":\"\"},\"baxis\":{\"gridcolor\":\"#DFE8F3\",\"linecolor\":\"#A2B1C6\",\"ticks\":\"\"},\"bgcolor\":\"white\",\"caxis\":{\"gridcolor\":\"#DFE8F3\",\"linecolor\":\"#A2B1C6\",\"ticks\":\"\"}},\"title\":{\"font\":{\"color\":\"black\",\"size\":28,\"weight\":400},\"subtitle\":{\"font\":{\"color\":\"#373737\",\"size\":14,\"weight\":200}},\"x\":0.5,\"y\":0.95,\"yref\":\"container\"},\"xaxis\":{\"automargin\":true,\"gridcolor\":\"#EBF0F8\",\"linecolor\":\"#EBF0F8\",\"ticks\":\"\",\"title\":{\"standoff\":15},\"zerolinecolor\":\"#EBF0F8\",\"zerolinewidth\":2},\"yaxis\":{\"automargin\":true,\"gridcolor\":\"#EBF0F8\",\"linecolor\":\"#EBF0F8\",\"ticks\":\"\",\"title\":{\"standoff\":15},\"zerolinecolor\":\"#EBF0F8\",\"zerolinewidth\":2}}},\"xaxis\":{\"anchor\":\"y\",\"domain\":[0.0,1.0],\"title\":{\"text\":\"Date\"}},\"yaxis\":{\"anchor\":\"x\",\"domain\":[0.0,1.0],\"title\":{\"text\":\"Cases Imported\"}},\"legend\":{\"title\":{\"text\":\"Source\"},\"tracegroupgap\":0,\"traceorder\":\"reversed\"},\"margin\":{\"t\":60},\"title\":{\"text\":\"Sample Area Plot\"}},                        {\"responsive\": true}                    ).then(function(){\n",
       "                            \n",
       "var gd = document.getElementById('2e0b05b5-dea5-44b3-a109-ef51ae328f76');\n",
       "var x = new MutationObserver(function (mutations, observer) {{\n",
       "        var display = window.getComputedStyle(gd).display;\n",
       "        if (!display || display === 'none') {{\n",
       "            console.log([gd, 'removed!']);\n",
       "            Plotly.purge(gd);\n",
       "            observer.disconnect();\n",
       "        }}\n",
       "}});\n",
       "\n",
       "// Listen for the removal of the full notebook cells\n",
       "var notebookContainer = gd.closest('#notebook-container');\n",
       "if (notebookContainer) {{\n",
       "    x.observe(notebookContainer, {childList: true});\n",
       "}}\n",
       "\n",
       "// Listen for the clearing of the current output cell\n",
       "var outputEl = gd.closest('.output');\n",
       "if (outputEl) {{\n",
       "    x.observe(outputEl, {childList: true});\n",
       "}}\n",
       "\n",
       "                        })                };                });            </script>        </div>"
      ]
     },
     "metadata": {},
     "output_type": "display_data"
    }
   ],
   "source": [
    "# Create the area plot\n",
    "fig = px.area(df, x='date', y='importations', \n",
    "              color='source',\n",
    "              template='netsi'\n",
    "             )\n",
    "fig.update_traces(line=dict(width=0.4))\n",
    "fig.update_layout(title_text='Sample Area Plot', legend_traceorder='reversed',\n",
    "                 xaxis_title=\"Date\", yaxis_title=\"Cases Imported\", legend_title_text='Source',)\n",
    "\n",
    "\n",
    "\n",
    "\n",
    "fig\n"
   ]
  },
  {
   "cell_type": "code",
   "execution_count": 115,
   "id": "e24dffb4-bc4b-46e1-bf92-80112a4f77a7",
   "metadata": {},
   "outputs": [],
   "source": [
    "def fetch_area_plot_data(fig):\n",
    "    df = pd.DataFrame()\n",
    "    for trace in fig.data:\n",
    "        dct = pd.DataFrame({trace.legendgroup: trace.y}, index=trace.x)\n",
    "        df = pd.concat([df, dct], axis=1)\n",
    "\n",
    "    return df"
   ]
  },
  {
   "cell_type": "code",
   "execution_count": 118,
   "id": "fef77186-e483-4c73-af73-4c714d96b090",
   "metadata": {},
   "outputs": [
    {
     "data": {
      "text/html": [
       "<div>\n",
       "<style scoped>\n",
       "    .dataframe tbody tr th:only-of-type {\n",
       "        vertical-align: middle;\n",
       "    }\n",
       "\n",
       "    .dataframe tbody tr th {\n",
       "        vertical-align: top;\n",
       "    }\n",
       "\n",
       "    .dataframe thead th {\n",
       "        text-align: right;\n",
       "    }\n",
       "</style>\n",
       "<table border=\"1\" class=\"dataframe\">\n",
       "  <thead>\n",
       "    <tr style=\"text-align: right;\">\n",
       "      <th></th>\n",
       "      <th>Western Asia</th>\n",
       "      <th>Eastern Asia</th>\n",
       "      <th>Other</th>\n",
       "      <th>Southern Asia</th>\n",
       "      <th>South-Eastern Asia</th>\n",
       "    </tr>\n",
       "  </thead>\n",
       "  <tbody>\n",
       "    <tr>\n",
       "      <th>2010-02-13</th>\n",
       "      <td>21.0</td>\n",
       "      <td>144.0</td>\n",
       "      <td>23.0</td>\n",
       "      <td>95.0</td>\n",
       "      <td>38.0</td>\n",
       "    </tr>\n",
       "    <tr>\n",
       "      <th>2010-02-14</th>\n",
       "      <td>22.0</td>\n",
       "      <td>127.0</td>\n",
       "      <td>14.0</td>\n",
       "      <td>58.0</td>\n",
       "      <td>40.0</td>\n",
       "    </tr>\n",
       "    <tr>\n",
       "      <th>2010-02-15</th>\n",
       "      <td>22.0</td>\n",
       "      <td>105.0</td>\n",
       "      <td>16.0</td>\n",
       "      <td>84.0</td>\n",
       "      <td>30.0</td>\n",
       "    </tr>\n",
       "    <tr>\n",
       "      <th>2010-02-16</th>\n",
       "      <td>11.0</td>\n",
       "      <td>101.0</td>\n",
       "      <td>17.0</td>\n",
       "      <td>90.0</td>\n",
       "      <td>48.0</td>\n",
       "    </tr>\n",
       "    <tr>\n",
       "      <th>2010-02-17</th>\n",
       "      <td>24.0</td>\n",
       "      <td>124.0</td>\n",
       "      <td>21.0</td>\n",
       "      <td>72.0</td>\n",
       "      <td>35.0</td>\n",
       "    </tr>\n",
       "  </tbody>\n",
       "</table>\n",
       "</div>"
      ],
      "text/plain": [
       "            Western Asia  Eastern Asia  Other  Southern Asia  \\\n",
       "2010-02-13          21.0         144.0   23.0           95.0   \n",
       "2010-02-14          22.0         127.0   14.0           58.0   \n",
       "2010-02-15          22.0         105.0   16.0           84.0   \n",
       "2010-02-16          11.0         101.0   17.0           90.0   \n",
       "2010-02-17          24.0         124.0   21.0           72.0   \n",
       "\n",
       "            South-Eastern Asia  \n",
       "2010-02-13                38.0  \n",
       "2010-02-14                40.0  \n",
       "2010-02-15                30.0  \n",
       "2010-02-16                48.0  \n",
       "2010-02-17                35.0  "
      ]
     },
     "execution_count": 118,
     "metadata": {},
     "output_type": "execute_result"
    }
   ],
   "source": [
    "fetch_area_plot_data(fig).sort_index().tail()"
   ]
  },
  {
   "cell_type": "code",
   "execution_count": 114,
   "id": "6a635b88-4b67-460a-ac8e-53f05a8966f9",
   "metadata": {},
   "outputs": [
    {
     "name": "stdout",
     "output_type": "stream",
     "text": [
      "Western Asia 150\n",
      "Eastern Asia 170\n",
      "Other 136\n",
      "Southern Asia 130\n",
      "South-Eastern Asia 138\n"
     ]
    },
    {
     "data": {
      "application/vnd.plotly.v1+json": {
       "config": {
        "plotlyServerURL": "https://plot.ly"
       },
       "data": [
        {
         "fillpattern": {
          "shape": ""
         },
         "hovertemplate": "variable=Western Asia<br>index=%{x}<br>value=%{y}<extra></extra>",
         "legendgroup": "Western Asia",
         "line": {
          "color": "#636efa"
         },
         "marker": {
          "symbol": "circle"
         },
         "mode": "lines",
         "name": "Western Asia",
         "orientation": "v",
         "showlegend": true,
         "stackgroup": "1",
         "type": "scatter",
         "x": [
          "2009-07-24",
          "2009-09-05",
          "2009-09-07",
          "2009-09-14",
          "2009-09-19",
          "2009-09-21",
          "2009-09-25",
          "2009-09-27",
          "2009-09-28",
          "2009-09-30",
          "2009-10-01",
          "2009-10-02",
          "2009-10-03",
          "2009-10-04",
          "2009-10-05",
          "2009-10-06",
          "2009-10-07",
          "2009-10-08",
          "2009-10-09",
          "2009-10-10",
          "2009-10-11",
          "2009-10-12",
          "2009-10-13",
          "2009-10-14",
          "2009-10-15",
          "2009-10-16",
          "2009-10-17",
          "2009-10-18",
          "2009-10-19",
          "2009-10-20",
          "2009-10-21",
          "2009-10-22",
          "2009-10-23",
          "2009-10-24",
          "2009-10-25",
          "2009-10-26",
          "2009-10-27",
          "2009-10-28",
          "2009-10-29",
          "2009-10-30",
          "2009-10-31",
          "2009-11-01",
          "2009-11-02",
          "2009-11-03",
          "2009-11-04",
          "2009-11-05",
          "2009-11-06",
          "2009-11-07",
          "2009-11-08",
          "2009-11-09",
          "2009-11-10",
          "2009-11-11",
          "2009-11-12",
          "2009-11-13",
          "2009-11-14",
          "2009-11-15",
          "2009-11-16",
          "2009-11-17",
          "2009-11-18",
          "2009-11-19",
          "2009-11-20",
          "2009-11-21",
          "2009-11-22",
          "2009-11-23",
          "2009-11-24",
          "2009-11-25",
          "2009-11-26",
          "2009-11-27",
          "2009-11-28",
          "2009-11-29",
          "2009-11-30",
          "2009-12-01",
          "2009-12-02",
          "2009-12-03",
          "2009-12-04",
          "2009-12-05",
          "2009-12-06",
          "2009-12-07",
          "2009-12-08",
          "2009-12-09",
          "2009-12-10",
          "2009-12-11",
          "2009-12-12",
          "2009-12-13",
          "2009-12-14",
          "2009-12-15",
          "2009-12-16",
          "2009-12-17",
          "2009-12-18",
          "2009-12-19",
          "2009-12-20",
          "2009-12-21",
          "2009-12-22",
          "2009-12-23",
          "2009-12-24",
          "2009-12-25",
          "2009-12-26",
          "2009-12-27",
          "2009-12-28",
          "2009-12-29",
          "2009-12-30",
          "2009-12-31",
          "2010-01-01",
          "2010-01-02",
          "2010-01-03",
          "2010-01-04",
          "2010-01-05",
          "2010-01-06",
          "2010-01-07",
          "2010-01-08",
          "2010-01-09",
          "2010-01-10",
          "2010-01-11",
          "2010-01-12",
          "2010-01-13",
          "2010-01-14",
          "2010-01-15",
          "2010-01-16",
          "2010-01-17",
          "2010-01-18",
          "2010-01-19",
          "2010-01-20",
          "2010-01-21",
          "2010-01-22",
          "2010-01-23",
          "2010-01-24",
          "2010-01-25",
          "2010-01-26",
          "2010-01-27",
          "2010-01-28",
          "2010-01-29",
          "2010-01-30",
          "2010-01-31",
          "2010-02-01",
          "2010-02-02",
          "2010-02-03",
          "2010-02-04",
          "2010-02-05",
          "2010-02-06",
          "2010-02-07",
          "2010-02-08",
          "2010-02-09",
          "2010-02-10",
          "2010-02-11",
          "2010-02-12",
          "2010-02-13",
          "2010-02-14",
          "2010-02-15",
          "2010-02-16",
          "2010-02-17",
          "2009-08-19",
          "2009-08-25",
          "2009-08-26",
          "2009-08-30",
          "2009-08-31",
          "2009-09-02",
          "2009-09-04",
          "2009-09-06",
          "2009-09-08",
          "2009-09-09",
          "2009-09-10",
          "2009-09-12",
          "2009-09-13",
          "2009-09-15",
          "2009-09-16",
          "2009-09-17",
          "2009-09-18",
          "2009-09-20",
          "2009-09-22",
          "2009-09-23",
          "2009-09-24",
          "2009-09-26",
          "2009-09-29",
          "2009-09-11"
         ],
         "xaxis": "x",
         "y": [
          1,
          1,
          1,
          1,
          1,
          2,
          1,
          1,
          2,
          1,
          1,
          3,
          2,
          1,
          2,
          1,
          2,
          3,
          2,
          3,
          3,
          1,
          2,
          3,
          4,
          4,
          5,
          6,
          7,
          6,
          5,
          9,
          7,
          8,
          12,
          6,
          8,
          13,
          11,
          9,
          16,
          19,
          18,
          20,
          21,
          10,
          31,
          29,
          32,
          36,
          33,
          31,
          45,
          49,
          42,
          47,
          57,
          57,
          56,
          56,
          77,
          60,
          67,
          85,
          71,
          78,
          102,
          94,
          105,
          108,
          97,
          71,
          80,
          91,
          74,
          93,
          73,
          72,
          102,
          93,
          112,
          82,
          67,
          74,
          86,
          76,
          78,
          89,
          69,
          94,
          74,
          72,
          81,
          78,
          88,
          77,
          75,
          60,
          66,
          60,
          73,
          71,
          65,
          83,
          65,
          59,
          46,
          75,
          49,
          62,
          72,
          54,
          50,
          50,
          58,
          70,
          58,
          63,
          56,
          53,
          47,
          59,
          45,
          38,
          41,
          31,
          42,
          37,
          45,
          29,
          44,
          40,
          31,
          36,
          21,
          30,
          30,
          31,
          28,
          28,
          27,
          28,
          28,
          25,
          27,
          21,
          22,
          22,
          11,
          24,
          null,
          null,
          null,
          null,
          null,
          null,
          null,
          null,
          null,
          null,
          null,
          null,
          null,
          null,
          null,
          null,
          null,
          null,
          null,
          null,
          null,
          null,
          null,
          null
         ],
         "yaxis": "y"
        },
        {
         "fillpattern": {
          "shape": ""
         },
         "hovertemplate": "variable=Eastern Asia<br>index=%{x}<br>value=%{y}<extra></extra>",
         "legendgroup": "Eastern Asia",
         "line": {
          "color": "#EF553B"
         },
         "marker": {
          "symbol": "circle"
         },
         "mode": "lines",
         "name": "Eastern Asia",
         "orientation": "v",
         "showlegend": true,
         "stackgroup": "1",
         "type": "scatter",
         "x": [
          "2009-07-24",
          "2009-09-05",
          "2009-09-07",
          "2009-09-14",
          "2009-09-19",
          "2009-09-21",
          "2009-09-25",
          "2009-09-27",
          "2009-09-28",
          "2009-09-30",
          "2009-10-01",
          "2009-10-02",
          "2009-10-03",
          "2009-10-04",
          "2009-10-05",
          "2009-10-06",
          "2009-10-07",
          "2009-10-08",
          "2009-10-09",
          "2009-10-10",
          "2009-10-11",
          "2009-10-12",
          "2009-10-13",
          "2009-10-14",
          "2009-10-15",
          "2009-10-16",
          "2009-10-17",
          "2009-10-18",
          "2009-10-19",
          "2009-10-20",
          "2009-10-21",
          "2009-10-22",
          "2009-10-23",
          "2009-10-24",
          "2009-10-25",
          "2009-10-26",
          "2009-10-27",
          "2009-10-28",
          "2009-10-29",
          "2009-10-30",
          "2009-10-31",
          "2009-11-01",
          "2009-11-02",
          "2009-11-03",
          "2009-11-04",
          "2009-11-05",
          "2009-11-06",
          "2009-11-07",
          "2009-11-08",
          "2009-11-09",
          "2009-11-10",
          "2009-11-11",
          "2009-11-12",
          "2009-11-13",
          "2009-11-14",
          "2009-11-15",
          "2009-11-16",
          "2009-11-17",
          "2009-11-18",
          "2009-11-19",
          "2009-11-20",
          "2009-11-21",
          "2009-11-22",
          "2009-11-23",
          "2009-11-24",
          "2009-11-25",
          "2009-11-26",
          "2009-11-27",
          "2009-11-28",
          "2009-11-29",
          "2009-11-30",
          "2009-12-01",
          "2009-12-02",
          "2009-12-03",
          "2009-12-04",
          "2009-12-05",
          "2009-12-06",
          "2009-12-07",
          "2009-12-08",
          "2009-12-09",
          "2009-12-10",
          "2009-12-11",
          "2009-12-12",
          "2009-12-13",
          "2009-12-14",
          "2009-12-15",
          "2009-12-16",
          "2009-12-17",
          "2009-12-18",
          "2009-12-19",
          "2009-12-20",
          "2009-12-21",
          "2009-12-22",
          "2009-12-23",
          "2009-12-24",
          "2009-12-25",
          "2009-12-26",
          "2009-12-27",
          "2009-12-28",
          "2009-12-29",
          "2009-12-30",
          "2009-12-31",
          "2010-01-01",
          "2010-01-02",
          "2010-01-03",
          "2010-01-04",
          "2010-01-05",
          "2010-01-06",
          "2010-01-07",
          "2010-01-08",
          "2010-01-09",
          "2010-01-10",
          "2010-01-11",
          "2010-01-12",
          "2010-01-13",
          "2010-01-14",
          "2010-01-15",
          "2010-01-16",
          "2010-01-17",
          "2010-01-18",
          "2010-01-19",
          "2010-01-20",
          "2010-01-21",
          "2010-01-22",
          "2010-01-23",
          "2010-01-24",
          "2010-01-25",
          "2010-01-26",
          "2010-01-27",
          "2010-01-28",
          "2010-01-29",
          "2010-01-30",
          "2010-01-31",
          "2010-02-01",
          "2010-02-02",
          "2010-02-03",
          "2010-02-04",
          "2010-02-05",
          "2010-02-06",
          "2010-02-07",
          "2010-02-08",
          "2010-02-09",
          "2010-02-10",
          "2010-02-11",
          "2010-02-12",
          "2010-02-13",
          "2010-02-14",
          "2010-02-15",
          "2010-02-16",
          "2010-02-17",
          "2009-08-19",
          "2009-08-25",
          "2009-08-26",
          "2009-08-30",
          "2009-08-31",
          "2009-09-02",
          "2009-09-04",
          "2009-09-06",
          "2009-09-08",
          "2009-09-09",
          "2009-09-10",
          "2009-09-12",
          "2009-09-13",
          "2009-09-15",
          "2009-09-16",
          "2009-09-17",
          "2009-09-18",
          "2009-09-20",
          "2009-09-22",
          "2009-09-23",
          "2009-09-24",
          "2009-09-26",
          "2009-09-29",
          "2009-09-11"
         ],
         "xaxis": "x",
         "y": [
          null,
          null,
          null,
          5,
          5,
          10,
          12,
          10,
          14,
          20,
          17,
          20,
          26,
          18,
          33,
          34,
          36,
          37,
          36,
          70,
          52,
          58,
          76,
          62,
          82,
          78,
          87,
          93,
          97,
          84,
          120,
          122,
          133,
          155,
          137,
          140,
          138,
          191,
          168,
          148,
          177,
          185,
          173,
          159,
          174,
          163,
          171,
          177,
          183,
          152,
          170,
          176,
          188,
          173,
          190,
          184,
          176,
          198,
          177,
          169,
          201,
          199,
          185,
          183,
          169,
          192,
          180,
          178,
          197,
          174,
          171,
          171,
          150,
          174,
          171,
          192,
          173,
          172,
          191,
          147,
          158,
          183,
          180,
          189,
          178,
          170,
          183,
          209,
          212,
          208,
          239,
          199,
          207,
          182,
          190,
          213,
          193,
          229,
          190,
          204,
          204,
          224,
          229,
          225,
          214,
          190,
          226,
          219,
          245,
          223,
          220,
          217,
          227,
          224,
          226,
          230,
          181,
          207,
          204,
          209,
          197,
          201,
          220,
          224,
          205,
          180,
          183,
          176,
          189,
          187,
          204,
          163,
          166,
          163,
          172,
          148,
          119,
          147,
          143,
          147,
          166,
          144,
          142,
          122,
          131,
          144,
          127,
          105,
          101,
          124,
          1,
          1,
          2,
          1,
          1,
          2,
          3,
          2,
          3,
          3,
          2,
          2,
          2,
          3,
          2,
          3,
          2,
          4,
          12,
          9,
          9,
          13,
          11,
          null
         ],
         "yaxis": "y"
        },
        {
         "fillpattern": {
          "shape": ""
         },
         "hovertemplate": "variable=Other<br>index=%{x}<br>value=%{y}<extra></extra>",
         "legendgroup": "Other",
         "line": {
          "color": "#00cc96"
         },
         "marker": {
          "symbol": "circle"
         },
         "mode": "lines",
         "name": "Other",
         "orientation": "v",
         "showlegend": true,
         "stackgroup": "1",
         "type": "scatter",
         "x": [
          "2009-07-24",
          "2009-09-05",
          "2009-09-07",
          "2009-09-14",
          "2009-09-19",
          "2009-09-21",
          "2009-09-25",
          "2009-09-27",
          "2009-09-28",
          "2009-09-30",
          "2009-10-01",
          "2009-10-02",
          "2009-10-03",
          "2009-10-04",
          "2009-10-05",
          "2009-10-06",
          "2009-10-07",
          "2009-10-08",
          "2009-10-09",
          "2009-10-10",
          "2009-10-11",
          "2009-10-12",
          "2009-10-13",
          "2009-10-14",
          "2009-10-15",
          "2009-10-16",
          "2009-10-17",
          "2009-10-18",
          "2009-10-19",
          "2009-10-20",
          "2009-10-21",
          "2009-10-22",
          "2009-10-23",
          "2009-10-24",
          "2009-10-25",
          "2009-10-26",
          "2009-10-27",
          "2009-10-28",
          "2009-10-29",
          "2009-10-30",
          "2009-10-31",
          "2009-11-01",
          "2009-11-02",
          "2009-11-03",
          "2009-11-04",
          "2009-11-05",
          "2009-11-06",
          "2009-11-07",
          "2009-11-08",
          "2009-11-09",
          "2009-11-10",
          "2009-11-11",
          "2009-11-12",
          "2009-11-13",
          "2009-11-14",
          "2009-11-15",
          "2009-11-16",
          "2009-11-17",
          "2009-11-18",
          "2009-11-19",
          "2009-11-20",
          "2009-11-21",
          "2009-11-22",
          "2009-11-23",
          "2009-11-24",
          "2009-11-25",
          "2009-11-26",
          "2009-11-27",
          "2009-11-28",
          "2009-11-29",
          "2009-11-30",
          "2009-12-01",
          "2009-12-02",
          "2009-12-03",
          "2009-12-04",
          "2009-12-05",
          "2009-12-06",
          "2009-12-07",
          "2009-12-08",
          "2009-12-09",
          "2009-12-10",
          "2009-12-11",
          "2009-12-12",
          "2009-12-13",
          "2009-12-14",
          "2009-12-15",
          "2009-12-16",
          "2009-12-17",
          "2009-12-18",
          "2009-12-19",
          "2009-12-20",
          "2009-12-21",
          "2009-12-22",
          "2009-12-23",
          "2009-12-24",
          "2009-12-25",
          "2009-12-26",
          "2009-12-27",
          "2009-12-28",
          "2009-12-29",
          "2009-12-30",
          "2009-12-31",
          "2010-01-01",
          "2010-01-02",
          "2010-01-03",
          "2010-01-04",
          "2010-01-05",
          "2010-01-06",
          "2010-01-07",
          "2010-01-08",
          "2010-01-09",
          "2010-01-10",
          "2010-01-11",
          "2010-01-12",
          "2010-01-13",
          "2010-01-14",
          "2010-01-15",
          "2010-01-16",
          "2010-01-17",
          "2010-01-18",
          "2010-01-19",
          "2010-01-20",
          "2010-01-21",
          "2010-01-22",
          "2010-01-23",
          "2010-01-24",
          "2010-01-25",
          "2010-01-26",
          "2010-01-27",
          "2010-01-28",
          "2010-01-29",
          "2010-01-30",
          "2010-01-31",
          "2010-02-01",
          "2010-02-02",
          "2010-02-03",
          "2010-02-04",
          "2010-02-05",
          "2010-02-06",
          "2010-02-07",
          "2010-02-08",
          "2010-02-09",
          "2010-02-10",
          "2010-02-11",
          "2010-02-12",
          "2010-02-13",
          "2010-02-14",
          "2010-02-15",
          "2010-02-16",
          "2010-02-17",
          "2009-08-19",
          "2009-08-25",
          "2009-08-26",
          "2009-08-30",
          "2009-08-31",
          "2009-09-02",
          "2009-09-04",
          "2009-09-06",
          "2009-09-08",
          "2009-09-09",
          "2009-09-10",
          "2009-09-12",
          "2009-09-13",
          "2009-09-15",
          "2009-09-16",
          "2009-09-17",
          "2009-09-18",
          "2009-09-20",
          "2009-09-22",
          "2009-09-23",
          "2009-09-24",
          "2009-09-26",
          "2009-09-29",
          "2009-09-11"
         ],
         "xaxis": "x",
         "y": [
          null,
          1,
          null,
          null,
          null,
          null,
          1,
          null,
          null,
          null,
          3,
          null,
          3,
          null,
          null,
          null,
          1,
          null,
          1,
          null,
          null,
          1,
          1,
          3,
          1,
          5,
          2,
          1,
          null,
          1,
          3,
          3,
          5,
          4,
          4,
          6,
          3,
          4,
          3,
          6,
          5,
          null,
          3,
          6,
          9,
          14,
          4,
          12,
          10,
          9,
          15,
          12,
          7,
          13,
          19,
          16,
          20,
          13,
          18,
          24,
          21,
          18,
          14,
          18,
          16,
          26,
          24,
          24,
          36,
          26,
          29,
          43,
          36,
          35,
          48,
          53,
          49,
          51,
          44,
          61,
          60,
          51,
          60,
          53,
          57,
          57,
          69,
          72,
          60,
          78,
          71,
          69,
          71,
          73,
          71,
          66,
          71,
          76,
          85,
          80,
          94,
          71,
          74,
          68,
          79,
          78,
          55,
          61,
          63,
          81,
          51,
          80,
          59,
          65,
          53,
          50,
          53,
          51,
          57,
          40,
          54,
          42,
          42,
          47,
          42,
          44,
          33,
          28,
          36,
          35,
          38,
          35,
          37,
          25,
          28,
          26,
          24,
          14,
          34,
          24,
          21,
          22,
          23,
          22,
          18,
          23,
          14,
          16,
          17,
          21,
          null,
          null,
          null,
          null,
          null,
          null,
          null,
          null,
          null,
          null,
          null,
          1,
          null,
          1,
          null,
          null,
          null,
          null,
          null,
          null,
          null,
          null,
          1,
          null
         ],
         "yaxis": "y"
        },
        {
         "fillpattern": {
          "shape": ""
         },
         "hovertemplate": "variable=Southern Asia<br>index=%{x}<br>value=%{y}<extra></extra>",
         "legendgroup": "Southern Asia",
         "line": {
          "color": "#ab63fa"
         },
         "marker": {
          "symbol": "circle"
         },
         "mode": "lines",
         "name": "Southern Asia",
         "orientation": "v",
         "showlegend": true,
         "stackgroup": "1",
         "type": "scatter",
         "x": [
          "2009-07-24",
          "2009-09-05",
          "2009-09-07",
          "2009-09-14",
          "2009-09-19",
          "2009-09-21",
          "2009-09-25",
          "2009-09-27",
          "2009-09-28",
          "2009-09-30",
          "2009-10-01",
          "2009-10-02",
          "2009-10-03",
          "2009-10-04",
          "2009-10-05",
          "2009-10-06",
          "2009-10-07",
          "2009-10-08",
          "2009-10-09",
          "2009-10-10",
          "2009-10-11",
          "2009-10-12",
          "2009-10-13",
          "2009-10-14",
          "2009-10-15",
          "2009-10-16",
          "2009-10-17",
          "2009-10-18",
          "2009-10-19",
          "2009-10-20",
          "2009-10-21",
          "2009-10-22",
          "2009-10-23",
          "2009-10-24",
          "2009-10-25",
          "2009-10-26",
          "2009-10-27",
          "2009-10-28",
          "2009-10-29",
          "2009-10-30",
          "2009-10-31",
          "2009-11-01",
          "2009-11-02",
          "2009-11-03",
          "2009-11-04",
          "2009-11-05",
          "2009-11-06",
          "2009-11-07",
          "2009-11-08",
          "2009-11-09",
          "2009-11-10",
          "2009-11-11",
          "2009-11-12",
          "2009-11-13",
          "2009-11-14",
          "2009-11-15",
          "2009-11-16",
          "2009-11-17",
          "2009-11-18",
          "2009-11-19",
          "2009-11-20",
          "2009-11-21",
          "2009-11-22",
          "2009-11-23",
          "2009-11-24",
          "2009-11-25",
          "2009-11-26",
          "2009-11-27",
          "2009-11-28",
          "2009-11-29",
          "2009-11-30",
          "2009-12-01",
          "2009-12-02",
          "2009-12-03",
          "2009-12-04",
          "2009-12-05",
          "2009-12-06",
          "2009-12-07",
          "2009-12-08",
          "2009-12-09",
          "2009-12-10",
          "2009-12-11",
          "2009-12-12",
          "2009-12-13",
          "2009-12-14",
          "2009-12-15",
          "2009-12-16",
          "2009-12-17",
          "2009-12-18",
          "2009-12-19",
          "2009-12-20",
          "2009-12-21",
          "2009-12-22",
          "2009-12-23",
          "2009-12-24",
          "2009-12-25",
          "2009-12-26",
          "2009-12-27",
          "2009-12-28",
          "2009-12-29",
          "2009-12-30",
          "2009-12-31",
          "2010-01-01",
          "2010-01-02",
          "2010-01-03",
          "2010-01-04",
          "2010-01-05",
          "2010-01-06",
          "2010-01-07",
          "2010-01-08",
          "2010-01-09",
          "2010-01-10",
          "2010-01-11",
          "2010-01-12",
          "2010-01-13",
          "2010-01-14",
          "2010-01-15",
          "2010-01-16",
          "2010-01-17",
          "2010-01-18",
          "2010-01-19",
          "2010-01-20",
          "2010-01-21",
          "2010-01-22",
          "2010-01-23",
          "2010-01-24",
          "2010-01-25",
          "2010-01-26",
          "2010-01-27",
          "2010-01-28",
          "2010-01-29",
          "2010-01-30",
          "2010-01-31",
          "2010-02-01",
          "2010-02-02",
          "2010-02-03",
          "2010-02-04",
          "2010-02-05",
          "2010-02-06",
          "2010-02-07",
          "2010-02-08",
          "2010-02-09",
          "2010-02-10",
          "2010-02-11",
          "2010-02-12",
          "2010-02-13",
          "2010-02-14",
          "2010-02-15",
          "2010-02-16",
          "2010-02-17",
          "2009-08-19",
          "2009-08-25",
          "2009-08-26",
          "2009-08-30",
          "2009-08-31",
          "2009-09-02",
          "2009-09-04",
          "2009-09-06",
          "2009-09-08",
          "2009-09-09",
          "2009-09-10",
          "2009-09-12",
          "2009-09-13",
          "2009-09-15",
          "2009-09-16",
          "2009-09-17",
          "2009-09-18",
          "2009-09-20",
          "2009-09-22",
          "2009-09-23",
          "2009-09-24",
          "2009-09-26",
          "2009-09-29",
          "2009-09-11"
         ],
         "xaxis": "x",
         "y": [
          null,
          null,
          null,
          null,
          null,
          null,
          null,
          null,
          null,
          null,
          null,
          null,
          null,
          null,
          null,
          null,
          1,
          null,
          1,
          2,
          null,
          null,
          1,
          null,
          1,
          null,
          1,
          2,
          6,
          3,
          null,
          1,
          5,
          3,
          4,
          3,
          3,
          1,
          5,
          4,
          3,
          4,
          6,
          2,
          5,
          5,
          8,
          6,
          7,
          11,
          7,
          10,
          11,
          12,
          13,
          11,
          12,
          15,
          12,
          6,
          10,
          17,
          17,
          28,
          17,
          13,
          18,
          21,
          19,
          27,
          23,
          36,
          35,
          37,
          35,
          43,
          42,
          35,
          37,
          39,
          47,
          29,
          50,
          42,
          39,
          46,
          47,
          56,
          49,
          48,
          56,
          55,
          55,
          57,
          74,
          59,
          50,
          70,
          66,
          61,
          64,
          76,
          59,
          85,
          69,
          74,
          65,
          63,
          65,
          91,
          73,
          81,
          92,
          67,
          90,
          87,
          85,
          90,
          88,
          96,
          82,
          103,
          100,
          83,
          114,
          108,
          99,
          106,
          93,
          91,
          84,
          93,
          93,
          106,
          79,
          86,
          97,
          101,
          90,
          102,
          88,
          86,
          99,
          91,
          85,
          95,
          58,
          84,
          90,
          72,
          null,
          null,
          null,
          null,
          null,
          null,
          null,
          null,
          null,
          null,
          null,
          null,
          null,
          null,
          null,
          null,
          null,
          null,
          null,
          null,
          1,
          null,
          null,
          1
         ],
         "yaxis": "y"
        },
        {
         "fillpattern": {
          "shape": ""
         },
         "hovertemplate": "variable=South-Eastern Asia<br>index=%{x}<br>value=%{y}<extra></extra>",
         "legendgroup": "South-Eastern Asia",
         "line": {
          "color": "#FFA15A"
         },
         "marker": {
          "symbol": "circle"
         },
         "mode": "lines",
         "name": "South-Eastern Asia",
         "orientation": "v",
         "showlegend": true,
         "stackgroup": "1",
         "type": "scatter",
         "x": [
          "2009-07-24",
          "2009-09-05",
          "2009-09-07",
          "2009-09-14",
          "2009-09-19",
          "2009-09-21",
          "2009-09-25",
          "2009-09-27",
          "2009-09-28",
          "2009-09-30",
          "2009-10-01",
          "2009-10-02",
          "2009-10-03",
          "2009-10-04",
          "2009-10-05",
          "2009-10-06",
          "2009-10-07",
          "2009-10-08",
          "2009-10-09",
          "2009-10-10",
          "2009-10-11",
          "2009-10-12",
          "2009-10-13",
          "2009-10-14",
          "2009-10-15",
          "2009-10-16",
          "2009-10-17",
          "2009-10-18",
          "2009-10-19",
          "2009-10-20",
          "2009-10-21",
          "2009-10-22",
          "2009-10-23",
          "2009-10-24",
          "2009-10-25",
          "2009-10-26",
          "2009-10-27",
          "2009-10-28",
          "2009-10-29",
          "2009-10-30",
          "2009-10-31",
          "2009-11-01",
          "2009-11-02",
          "2009-11-03",
          "2009-11-04",
          "2009-11-05",
          "2009-11-06",
          "2009-11-07",
          "2009-11-08",
          "2009-11-09",
          "2009-11-10",
          "2009-11-11",
          "2009-11-12",
          "2009-11-13",
          "2009-11-14",
          "2009-11-15",
          "2009-11-16",
          "2009-11-17",
          "2009-11-18",
          "2009-11-19",
          "2009-11-20",
          "2009-11-21",
          "2009-11-22",
          "2009-11-23",
          "2009-11-24",
          "2009-11-25",
          "2009-11-26",
          "2009-11-27",
          "2009-11-28",
          "2009-11-29",
          "2009-11-30",
          "2009-12-01",
          "2009-12-02",
          "2009-12-03",
          "2009-12-04",
          "2009-12-05",
          "2009-12-06",
          "2009-12-07",
          "2009-12-08",
          "2009-12-09",
          "2009-12-10",
          "2009-12-11",
          "2009-12-12",
          "2009-12-13",
          "2009-12-14",
          "2009-12-15",
          "2009-12-16",
          "2009-12-17",
          "2009-12-18",
          "2009-12-19",
          "2009-12-20",
          "2009-12-21",
          "2009-12-22",
          "2009-12-23",
          "2009-12-24",
          "2009-12-25",
          "2009-12-26",
          "2009-12-27",
          "2009-12-28",
          "2009-12-29",
          "2009-12-30",
          "2009-12-31",
          "2010-01-01",
          "2010-01-02",
          "2010-01-03",
          "2010-01-04",
          "2010-01-05",
          "2010-01-06",
          "2010-01-07",
          "2010-01-08",
          "2010-01-09",
          "2010-01-10",
          "2010-01-11",
          "2010-01-12",
          "2010-01-13",
          "2010-01-14",
          "2010-01-15",
          "2010-01-16",
          "2010-01-17",
          "2010-01-18",
          "2010-01-19",
          "2010-01-20",
          "2010-01-21",
          "2010-01-22",
          "2010-01-23",
          "2010-01-24",
          "2010-01-25",
          "2010-01-26",
          "2010-01-27",
          "2010-01-28",
          "2010-01-29",
          "2010-01-30",
          "2010-01-31",
          "2010-02-01",
          "2010-02-02",
          "2010-02-03",
          "2010-02-04",
          "2010-02-05",
          "2010-02-06",
          "2010-02-07",
          "2010-02-08",
          "2010-02-09",
          "2010-02-10",
          "2010-02-11",
          "2010-02-12",
          "2010-02-13",
          "2010-02-14",
          "2010-02-15",
          "2010-02-16",
          "2010-02-17",
          "2009-08-19",
          "2009-08-25",
          "2009-08-26",
          "2009-08-30",
          "2009-08-31",
          "2009-09-02",
          "2009-09-04",
          "2009-09-06",
          "2009-09-08",
          "2009-09-09",
          "2009-09-10",
          "2009-09-12",
          "2009-09-13",
          "2009-09-15",
          "2009-09-16",
          "2009-09-17",
          "2009-09-18",
          "2009-09-20",
          "2009-09-22",
          "2009-09-23",
          "2009-09-24",
          "2009-09-26",
          "2009-09-29",
          "2009-09-11"
         ],
         "xaxis": "x",
         "y": [
          null,
          null,
          null,
          null,
          null,
          2,
          null,
          null,
          null,
          null,
          1,
          1,
          4,
          null,
          null,
          1,
          3,
          4,
          1,
          null,
          null,
          null,
          2,
          2,
          2,
          4,
          3,
          2,
          1,
          2,
          3,
          7,
          7,
          3,
          6,
          6,
          7,
          8,
          6,
          8,
          6,
          7,
          9,
          10,
          13,
          15,
          11,
          20,
          24,
          20,
          12,
          33,
          25,
          29,
          21,
          26,
          28,
          46,
          44,
          51,
          52,
          61,
          47,
          55,
          57,
          44,
          47,
          51,
          61,
          44,
          70,
          68,
          78,
          72,
          89,
          77,
          82,
          75,
          83,
          74,
          86,
          81,
          117,
          81,
          82,
          101,
          88,
          100,
          97,
          97,
          79,
          107,
          114,
          107,
          94,
          117,
          96,
          92,
          101,
          104,
          90,
          103,
          94,
          126,
          122,
          115,
          123,
          88,
          100,
          108,
          106,
          115,
          96,
          103,
          92,
          109,
          99,
          101,
          97,
          81,
          95,
          92,
          85,
          94,
          88,
          84,
          84,
          70,
          77,
          73,
          78,
          81,
          71,
          83,
          85,
          61,
          65,
          69,
          52,
          62,
          47,
          60,
          48,
          53,
          43,
          38,
          40,
          30,
          48,
          35,
          null,
          null,
          null,
          null,
          null,
          null,
          null,
          null,
          null,
          null,
          null,
          null,
          null,
          null,
          null,
          null,
          null,
          null,
          null,
          null,
          null,
          1,
          1,
          null
         ],
         "yaxis": "y"
        }
       ],
       "layout": {
        "autosize": true,
        "legend": {
         "title": {
          "text": "variable"
         },
         "tracegroupgap": 0
        },
        "margin": {
         "t": 60
        },
        "template": {
         "data": {
          "bar": [
           {
            "error_x": {
             "color": "#2a3f5f"
            },
            "error_y": {
             "color": "#2a3f5f"
            },
            "marker": {
             "line": {
              "color": "#E5ECF6",
              "width": 0.5
             },
             "pattern": {
              "fillmode": "overlay",
              "size": 10,
              "solidity": 0.2
             }
            },
            "type": "bar"
           }
          ],
          "barpolar": [
           {
            "marker": {
             "line": {
              "color": "#E5ECF6",
              "width": 0.5
             },
             "pattern": {
              "fillmode": "overlay",
              "size": 10,
              "solidity": 0.2
             }
            },
            "type": "barpolar"
           }
          ],
          "carpet": [
           {
            "aaxis": {
             "endlinecolor": "#2a3f5f",
             "gridcolor": "white",
             "linecolor": "white",
             "minorgridcolor": "white",
             "startlinecolor": "#2a3f5f"
            },
            "baxis": {
             "endlinecolor": "#2a3f5f",
             "gridcolor": "white",
             "linecolor": "white",
             "minorgridcolor": "white",
             "startlinecolor": "#2a3f5f"
            },
            "type": "carpet"
           }
          ],
          "choropleth": [
           {
            "colorbar": {
             "outlinewidth": 0,
             "ticks": ""
            },
            "type": "choropleth"
           }
          ],
          "contour": [
           {
            "colorbar": {
             "outlinewidth": 0,
             "ticks": ""
            },
            "colorscale": [
             [
              0,
              "#0d0887"
             ],
             [
              0.1111111111111111,
              "#46039f"
             ],
             [
              0.2222222222222222,
              "#7201a8"
             ],
             [
              0.3333333333333333,
              "#9c179e"
             ],
             [
              0.4444444444444444,
              "#bd3786"
             ],
             [
              0.5555555555555556,
              "#d8576b"
             ],
             [
              0.6666666666666666,
              "#ed7953"
             ],
             [
              0.7777777777777778,
              "#fb9f3a"
             ],
             [
              0.8888888888888888,
              "#fdca26"
             ],
             [
              1,
              "#f0f921"
             ]
            ],
            "type": "contour"
           }
          ],
          "contourcarpet": [
           {
            "colorbar": {
             "outlinewidth": 0,
             "ticks": ""
            },
            "type": "contourcarpet"
           }
          ],
          "heatmap": [
           {
            "colorbar": {
             "outlinewidth": 0,
             "ticks": ""
            },
            "colorscale": [
             [
              0,
              "#0d0887"
             ],
             [
              0.1111111111111111,
              "#46039f"
             ],
             [
              0.2222222222222222,
              "#7201a8"
             ],
             [
              0.3333333333333333,
              "#9c179e"
             ],
             [
              0.4444444444444444,
              "#bd3786"
             ],
             [
              0.5555555555555556,
              "#d8576b"
             ],
             [
              0.6666666666666666,
              "#ed7953"
             ],
             [
              0.7777777777777778,
              "#fb9f3a"
             ],
             [
              0.8888888888888888,
              "#fdca26"
             ],
             [
              1,
              "#f0f921"
             ]
            ],
            "type": "heatmap"
           }
          ],
          "heatmapgl": [
           {
            "colorbar": {
             "outlinewidth": 0,
             "ticks": ""
            },
            "colorscale": [
             [
              0,
              "#0d0887"
             ],
             [
              0.1111111111111111,
              "#46039f"
             ],
             [
              0.2222222222222222,
              "#7201a8"
             ],
             [
              0.3333333333333333,
              "#9c179e"
             ],
             [
              0.4444444444444444,
              "#bd3786"
             ],
             [
              0.5555555555555556,
              "#d8576b"
             ],
             [
              0.6666666666666666,
              "#ed7953"
             ],
             [
              0.7777777777777778,
              "#fb9f3a"
             ],
             [
              0.8888888888888888,
              "#fdca26"
             ],
             [
              1,
              "#f0f921"
             ]
            ],
            "type": "heatmapgl"
           }
          ],
          "histogram": [
           {
            "marker": {
             "pattern": {
              "fillmode": "overlay",
              "size": 10,
              "solidity": 0.2
             }
            },
            "type": "histogram"
           }
          ],
          "histogram2d": [
           {
            "colorbar": {
             "outlinewidth": 0,
             "ticks": ""
            },
            "colorscale": [
             [
              0,
              "#0d0887"
             ],
             [
              0.1111111111111111,
              "#46039f"
             ],
             [
              0.2222222222222222,
              "#7201a8"
             ],
             [
              0.3333333333333333,
              "#9c179e"
             ],
             [
              0.4444444444444444,
              "#bd3786"
             ],
             [
              0.5555555555555556,
              "#d8576b"
             ],
             [
              0.6666666666666666,
              "#ed7953"
             ],
             [
              0.7777777777777778,
              "#fb9f3a"
             ],
             [
              0.8888888888888888,
              "#fdca26"
             ],
             [
              1,
              "#f0f921"
             ]
            ],
            "type": "histogram2d"
           }
          ],
          "histogram2dcontour": [
           {
            "colorbar": {
             "outlinewidth": 0,
             "ticks": ""
            },
            "colorscale": [
             [
              0,
              "#0d0887"
             ],
             [
              0.1111111111111111,
              "#46039f"
             ],
             [
              0.2222222222222222,
              "#7201a8"
             ],
             [
              0.3333333333333333,
              "#9c179e"
             ],
             [
              0.4444444444444444,
              "#bd3786"
             ],
             [
              0.5555555555555556,
              "#d8576b"
             ],
             [
              0.6666666666666666,
              "#ed7953"
             ],
             [
              0.7777777777777778,
              "#fb9f3a"
             ],
             [
              0.8888888888888888,
              "#fdca26"
             ],
             [
              1,
              "#f0f921"
             ]
            ],
            "type": "histogram2dcontour"
           }
          ],
          "mesh3d": [
           {
            "colorbar": {
             "outlinewidth": 0,
             "ticks": ""
            },
            "type": "mesh3d"
           }
          ],
          "parcoords": [
           {
            "line": {
             "colorbar": {
              "outlinewidth": 0,
              "ticks": ""
             }
            },
            "type": "parcoords"
           }
          ],
          "pie": [
           {
            "automargin": true,
            "type": "pie"
           }
          ],
          "scatter": [
           {
            "fillpattern": {
             "fillmode": "overlay",
             "size": 10,
             "solidity": 0.2
            },
            "type": "scatter"
           }
          ],
          "scatter3d": [
           {
            "line": {
             "colorbar": {
              "outlinewidth": 0,
              "ticks": ""
             }
            },
            "marker": {
             "colorbar": {
              "outlinewidth": 0,
              "ticks": ""
             }
            },
            "type": "scatter3d"
           }
          ],
          "scattercarpet": [
           {
            "marker": {
             "colorbar": {
              "outlinewidth": 0,
              "ticks": ""
             }
            },
            "type": "scattercarpet"
           }
          ],
          "scattergeo": [
           {
            "marker": {
             "colorbar": {
              "outlinewidth": 0,
              "ticks": ""
             }
            },
            "type": "scattergeo"
           }
          ],
          "scattergl": [
           {
            "marker": {
             "colorbar": {
              "outlinewidth": 0,
              "ticks": ""
             }
            },
            "type": "scattergl"
           }
          ],
          "scattermapbox": [
           {
            "marker": {
             "colorbar": {
              "outlinewidth": 0,
              "ticks": ""
             }
            },
            "type": "scattermapbox"
           }
          ],
          "scatterpolar": [
           {
            "marker": {
             "colorbar": {
              "outlinewidth": 0,
              "ticks": ""
             }
            },
            "type": "scatterpolar"
           }
          ],
          "scatterpolargl": [
           {
            "marker": {
             "colorbar": {
              "outlinewidth": 0,
              "ticks": ""
             }
            },
            "type": "scatterpolargl"
           }
          ],
          "scatterternary": [
           {
            "marker": {
             "colorbar": {
              "outlinewidth": 0,
              "ticks": ""
             }
            },
            "type": "scatterternary"
           }
          ],
          "surface": [
           {
            "colorbar": {
             "outlinewidth": 0,
             "ticks": ""
            },
            "colorscale": [
             [
              0,
              "#0d0887"
             ],
             [
              0.1111111111111111,
              "#46039f"
             ],
             [
              0.2222222222222222,
              "#7201a8"
             ],
             [
              0.3333333333333333,
              "#9c179e"
             ],
             [
              0.4444444444444444,
              "#bd3786"
             ],
             [
              0.5555555555555556,
              "#d8576b"
             ],
             [
              0.6666666666666666,
              "#ed7953"
             ],
             [
              0.7777777777777778,
              "#fb9f3a"
             ],
             [
              0.8888888888888888,
              "#fdca26"
             ],
             [
              1,
              "#f0f921"
             ]
            ],
            "type": "surface"
           }
          ],
          "table": [
           {
            "cells": {
             "fill": {
              "color": "#EBF0F8"
             },
             "line": {
              "color": "white"
             }
            },
            "header": {
             "fill": {
              "color": "#C8D4E3"
             },
             "line": {
              "color": "white"
             }
            },
            "type": "table"
           }
          ]
         },
         "layout": {
          "annotationdefaults": {
           "arrowcolor": "#2a3f5f",
           "arrowhead": 0,
           "arrowwidth": 1
          },
          "autotypenumbers": "strict",
          "coloraxis": {
           "colorbar": {
            "outlinewidth": 0,
            "ticks": ""
           }
          },
          "colorscale": {
           "diverging": [
            [
             0,
             "#8e0152"
            ],
            [
             0.1,
             "#c51b7d"
            ],
            [
             0.2,
             "#de77ae"
            ],
            [
             0.3,
             "#f1b6da"
            ],
            [
             0.4,
             "#fde0ef"
            ],
            [
             0.5,
             "#f7f7f7"
            ],
            [
             0.6,
             "#e6f5d0"
            ],
            [
             0.7,
             "#b8e186"
            ],
            [
             0.8,
             "#7fbc41"
            ],
            [
             0.9,
             "#4d9221"
            ],
            [
             1,
             "#276419"
            ]
           ],
           "sequential": [
            [
             0,
             "#0d0887"
            ],
            [
             0.1111111111111111,
             "#46039f"
            ],
            [
             0.2222222222222222,
             "#7201a8"
            ],
            [
             0.3333333333333333,
             "#9c179e"
            ],
            [
             0.4444444444444444,
             "#bd3786"
            ],
            [
             0.5555555555555556,
             "#d8576b"
            ],
            [
             0.6666666666666666,
             "#ed7953"
            ],
            [
             0.7777777777777778,
             "#fb9f3a"
            ],
            [
             0.8888888888888888,
             "#fdca26"
            ],
            [
             1,
             "#f0f921"
            ]
           ],
           "sequentialminus": [
            [
             0,
             "#0d0887"
            ],
            [
             0.1111111111111111,
             "#46039f"
            ],
            [
             0.2222222222222222,
             "#7201a8"
            ],
            [
             0.3333333333333333,
             "#9c179e"
            ],
            [
             0.4444444444444444,
             "#bd3786"
            ],
            [
             0.5555555555555556,
             "#d8576b"
            ],
            [
             0.6666666666666666,
             "#ed7953"
            ],
            [
             0.7777777777777778,
             "#fb9f3a"
            ],
            [
             0.8888888888888888,
             "#fdca26"
            ],
            [
             1,
             "#f0f921"
            ]
           ]
          },
          "colorway": [
           "#636efa",
           "#EF553B",
           "#00cc96",
           "#ab63fa",
           "#FFA15A",
           "#19d3f3",
           "#FF6692",
           "#B6E880",
           "#FF97FF",
           "#FECB52"
          ],
          "font": {
           "color": "#2a3f5f"
          },
          "geo": {
           "bgcolor": "white",
           "lakecolor": "white",
           "landcolor": "#E5ECF6",
           "showlakes": true,
           "showland": true,
           "subunitcolor": "white"
          },
          "hoverlabel": {
           "align": "left"
          },
          "hovermode": "closest",
          "mapbox": {
           "style": "light"
          },
          "paper_bgcolor": "white",
          "plot_bgcolor": "#E5ECF6",
          "polar": {
           "angularaxis": {
            "gridcolor": "white",
            "linecolor": "white",
            "ticks": ""
           },
           "bgcolor": "#E5ECF6",
           "radialaxis": {
            "gridcolor": "white",
            "linecolor": "white",
            "ticks": ""
           }
          },
          "scene": {
           "xaxis": {
            "backgroundcolor": "#E5ECF6",
            "gridcolor": "white",
            "gridwidth": 2,
            "linecolor": "white",
            "showbackground": true,
            "ticks": "",
            "zerolinecolor": "white"
           },
           "yaxis": {
            "backgroundcolor": "#E5ECF6",
            "gridcolor": "white",
            "gridwidth": 2,
            "linecolor": "white",
            "showbackground": true,
            "ticks": "",
            "zerolinecolor": "white"
           },
           "zaxis": {
            "backgroundcolor": "#E5ECF6",
            "gridcolor": "white",
            "gridwidth": 2,
            "linecolor": "white",
            "showbackground": true,
            "ticks": "",
            "zerolinecolor": "white"
           }
          },
          "shapedefaults": {
           "line": {
            "color": "#2a3f5f"
           }
          },
          "ternary": {
           "aaxis": {
            "gridcolor": "white",
            "linecolor": "white",
            "ticks": ""
           },
           "baxis": {
            "gridcolor": "white",
            "linecolor": "white",
            "ticks": ""
           },
           "bgcolor": "#E5ECF6",
           "caxis": {
            "gridcolor": "white",
            "linecolor": "white",
            "ticks": ""
           }
          },
          "title": {
           "x": 0.05
          },
          "xaxis": {
           "automargin": true,
           "gridcolor": "white",
           "linecolor": "white",
           "ticks": "",
           "title": {
            "standoff": 15
           },
           "zerolinecolor": "white",
           "zerolinewidth": 2
          },
          "yaxis": {
           "automargin": true,
           "gridcolor": "white",
           "linecolor": "white",
           "ticks": "",
           "title": {
            "standoff": 15
           },
           "zerolinecolor": "white",
           "zerolinewidth": 2
          }
         }
        },
        "xaxis": {
         "anchor": "y",
         "autorange": true,
         "domain": [
          0,
          1
         ],
         "range": [
          "2009-07-24",
          "2010-02-17"
         ],
         "title": {
          "text": "index"
         },
         "type": "date"
        },
        "yaxis": {
         "anchor": "x",
         "autorange": true,
         "domain": [
          0,
          1
         ],
         "range": [
          0,
          617.8947368421052
         ],
         "title": {
          "text": "value"
         },
         "type": "linear"
        }
       }
      },
      "image/png": "[encoded data removed]",
      "text/html": [
       "<div>                            <div id=\"18c22d56-5c42-41e3-8f40-765e421804ac\" class=\"plotly-graph-div\" style=\"height:525px; width:100%;\"></div>            <script type=\"text/javascript\">                require([\"plotly\"], function(Plotly) {                    window.PLOTLYENV=window.PLOTLYENV || {};                                    if (document.getElementById(\"18c22d56-5c42-41e3-8f40-765e421804ac\")) {                    Plotly.newPlot(                        \"18c22d56-5c42-41e3-8f40-765e421804ac\",                        [{\"fillpattern\":{\"shape\":\"\"},\"hovertemplate\":\"variable=Western Asia\\u003cbr\\u003eindex=%{x}\\u003cbr\\u003evalue=%{y}\\u003cextra\\u003e\\u003c\\u002fextra\\u003e\",\"legendgroup\":\"Western Asia\",\"line\":{\"color\":\"#636efa\"},\"marker\":{\"symbol\":\"circle\"},\"mode\":\"lines\",\"name\":\"Western Asia\",\"orientation\":\"v\",\"showlegend\":true,\"stackgroup\":\"1\",\"x\":[\"2009-07-24\",\"2009-09-05\",\"2009-09-07\",\"2009-09-14\",\"2009-09-19\",\"2009-09-21\",\"2009-09-25\",\"2009-09-27\",\"2009-09-28\",\"2009-09-30\",\"2009-10-01\",\"2009-10-02\",\"2009-10-03\",\"2009-10-04\",\"2009-10-05\",\"2009-10-06\",\"2009-10-07\",\"2009-10-08\",\"2009-10-09\",\"2009-10-10\",\"2009-10-11\",\"2009-10-12\",\"2009-10-13\",\"2009-10-14\",\"2009-10-15\",\"2009-10-16\",\"2009-10-17\",\"2009-10-18\",\"2009-10-19\",\"2009-10-20\",\"2009-10-21\",\"2009-10-22\",\"2009-10-23\",\"2009-10-24\",\"2009-10-25\",\"2009-10-26\",\"2009-10-27\",\"2009-10-28\",\"2009-10-29\",\"2009-10-30\",\"2009-10-31\",\"2009-11-01\",\"2009-11-02\",\"2009-11-03\",\"2009-11-04\",\"2009-11-05\",\"2009-11-06\",\"2009-11-07\",\"2009-11-08\",\"2009-11-09\",\"2009-11-10\",\"2009-11-11\",\"2009-11-12\",\"2009-11-13\",\"2009-11-14\",\"2009-11-15\",\"2009-11-16\",\"2009-11-17\",\"2009-11-18\",\"2009-11-19\",\"2009-11-20\",\"2009-11-21\",\"2009-11-22\",\"2009-11-23\",\"2009-11-24\",\"2009-11-25\",\"2009-11-26\",\"2009-11-27\",\"2009-11-28\",\"2009-11-29\",\"2009-11-30\",\"2009-12-01\",\"2009-12-02\",\"2009-12-03\",\"2009-12-04\",\"2009-12-05\",\"2009-12-06\",\"2009-12-07\",\"2009-12-08\",\"2009-12-09\",\"2009-12-10\",\"2009-12-11\",\"2009-12-12\",\"2009-12-13\",\"2009-12-14\",\"2009-12-15\",\"2009-12-16\",\"2009-12-17\",\"2009-12-18\",\"2009-12-19\",\"2009-12-20\",\"2009-12-21\",\"2009-12-22\",\"2009-12-23\",\"2009-12-24\",\"2009-12-25\",\"2009-12-26\",\"2009-12-27\",\"2009-12-28\",\"2009-12-29\",\"2009-12-30\",\"2009-12-31\",\"2010-01-01\",\"2010-01-02\",\"2010-01-03\",\"2010-01-04\",\"2010-01-05\",\"2010-01-06\",\"2010-01-07\",\"2010-01-08\",\"2010-01-09\",\"2010-01-10\",\"2010-01-11\",\"2010-01-12\",\"2010-01-13\",\"2010-01-14\",\"2010-01-15\",\"2010-01-16\",\"2010-01-17\",\"2010-01-18\",\"2010-01-19\",\"2010-01-20\",\"2010-01-21\",\"2010-01-22\",\"2010-01-23\",\"2010-01-24\",\"2010-01-25\",\"2010-01-26\",\"2010-01-27\",\"2010-01-28\",\"2010-01-29\",\"2010-01-30\",\"2010-01-31\",\"2010-02-01\",\"2010-02-02\",\"2010-02-03\",\"2010-02-04\",\"2010-02-05\",\"2010-02-06\",\"2010-02-07\",\"2010-02-08\",\"2010-02-09\",\"2010-02-10\",\"2010-02-11\",\"2010-02-12\",\"2010-02-13\",\"2010-02-14\",\"2010-02-15\",\"2010-02-16\",\"2010-02-17\",\"2009-08-19\",\"2009-08-25\",\"2009-08-26\",\"2009-08-30\",\"2009-08-31\",\"2009-09-02\",\"2009-09-04\",\"2009-09-06\",\"2009-09-08\",\"2009-09-09\",\"2009-09-10\",\"2009-09-12\",\"2009-09-13\",\"2009-09-15\",\"2009-09-16\",\"2009-09-17\",\"2009-09-18\",\"2009-09-20\",\"2009-09-22\",\"2009-09-23\",\"2009-09-24\",\"2009-09-26\",\"2009-09-29\",\"2009-09-11\"],\"xaxis\":\"x\",\"y\":[1.0,1.0,1.0,1.0,1.0,2.0,1.0,1.0,2.0,1.0,1.0,3.0,2.0,1.0,2.0,1.0,2.0,3.0,2.0,3.0,3.0,1.0,2.0,3.0,4.0,4.0,5.0,6.0,7.0,6.0,5.0,9.0,7.0,8.0,12.0,6.0,8.0,13.0,11.0,9.0,16.0,19.0,18.0,20.0,21.0,10.0,31.0,29.0,32.0,36.0,33.0,31.0,45.0,49.0,42.0,47.0,57.0,57.0,56.0,56.0,77.0,60.0,67.0,85.0,71.0,78.0,102.0,94.0,105.0,108.0,97.0,71.0,80.0,91.0,74.0,93.0,73.0,72.0,102.0,93.0,112.0,82.0,67.0,74.0,86.0,76.0,78.0,89.0,69.0,94.0,74.0,72.0,81.0,78.0,88.0,77.0,75.0,60.0,66.0,60.0,73.0,71.0,65.0,83.0,65.0,59.0,46.0,75.0,49.0,62.0,72.0,54.0,50.0,50.0,58.0,70.0,58.0,63.0,56.0,53.0,47.0,59.0,45.0,38.0,41.0,31.0,42.0,37.0,45.0,29.0,44.0,40.0,31.0,36.0,21.0,30.0,30.0,31.0,28.0,28.0,27.0,28.0,28.0,25.0,27.0,21.0,22.0,22.0,11.0,24.0,null,null,null,null,null,null,null,null,null,null,null,null,null,null,null,null,null,null,null,null,null,null,null,null],\"yaxis\":\"y\",\"type\":\"scatter\"},{\"fillpattern\":{\"shape\":\"\"},\"hovertemplate\":\"variable=Eastern Asia\\u003cbr\\u003eindex=%{x}\\u003cbr\\u003evalue=%{y}\\u003cextra\\u003e\\u003c\\u002fextra\\u003e\",\"legendgroup\":\"Eastern Asia\",\"line\":{\"color\":\"#EF553B\"},\"marker\":{\"symbol\":\"circle\"},\"mode\":\"lines\",\"name\":\"Eastern Asia\",\"orientation\":\"v\",\"showlegend\":true,\"stackgroup\":\"1\",\"x\":[\"2009-07-24\",\"2009-09-05\",\"2009-09-07\",\"2009-09-14\",\"2009-09-19\",\"2009-09-21\",\"2009-09-25\",\"2009-09-27\",\"2009-09-28\",\"2009-09-30\",\"2009-10-01\",\"2009-10-02\",\"2009-10-03\",\"2009-10-04\",\"2009-10-05\",\"2009-10-06\",\"2009-10-07\",\"2009-10-08\",\"2009-10-09\",\"2009-10-10\",\"2009-10-11\",\"2009-10-12\",\"2009-10-13\",\"2009-10-14\",\"2009-10-15\",\"2009-10-16\",\"2009-10-17\",\"2009-10-18\",\"2009-10-19\",\"2009-10-20\",\"2009-10-21\",\"2009-10-22\",\"2009-10-23\",\"2009-10-24\",\"2009-10-25\",\"2009-10-26\",\"2009-10-27\",\"2009-10-28\",\"2009-10-29\",\"2009-10-30\",\"2009-10-31\",\"2009-11-01\",\"2009-11-02\",\"2009-11-03\",\"2009-11-04\",\"2009-11-05\",\"2009-11-06\",\"2009-11-07\",\"2009-11-08\",\"2009-11-09\",\"2009-11-10\",\"2009-11-11\",\"2009-11-12\",\"2009-11-13\",\"2009-11-14\",\"2009-11-15\",\"2009-11-16\",\"2009-11-17\",\"2009-11-18\",\"2009-11-19\",\"2009-11-20\",\"2009-11-21\",\"2009-11-22\",\"2009-11-23\",\"2009-11-24\",\"2009-11-25\",\"2009-11-26\",\"2009-11-27\",\"2009-11-28\",\"2009-11-29\",\"2009-11-30\",\"2009-12-01\",\"2009-12-02\",\"2009-12-03\",\"2009-12-04\",\"2009-12-05\",\"2009-12-06\",\"2009-12-07\",\"2009-12-08\",\"2009-12-09\",\"2009-12-10\",\"2009-12-11\",\"2009-12-12\",\"2009-12-13\",\"2009-12-14\",\"2009-12-15\",\"2009-12-16\",\"2009-12-17\",\"2009-12-18\",\"2009-12-19\",\"2009-12-20\",\"2009-12-21\",\"2009-12-22\",\"2009-12-23\",\"2009-12-24\",\"2009-12-25\",\"2009-12-26\",\"2009-12-27\",\"2009-12-28\",\"2009-12-29\",\"2009-12-30\",\"2009-12-31\",\"2010-01-01\",\"2010-01-02\",\"2010-01-03\",\"2010-01-04\",\"2010-01-05\",\"2010-01-06\",\"2010-01-07\",\"2010-01-08\",\"2010-01-09\",\"2010-01-10\",\"2010-01-11\",\"2010-01-12\",\"2010-01-13\",\"2010-01-14\",\"2010-01-15\",\"2010-01-16\",\"2010-01-17\",\"2010-01-18\",\"2010-01-19\",\"2010-01-20\",\"2010-01-21\",\"2010-01-22\",\"2010-01-23\",\"2010-01-24\",\"2010-01-25\",\"2010-01-26\",\"2010-01-27\",\"2010-01-28\",\"2010-01-29\",\"2010-01-30\",\"2010-01-31\",\"2010-02-01\",\"2010-02-02\",\"2010-02-03\",\"2010-02-04\",\"2010-02-05\",\"2010-02-06\",\"2010-02-07\",\"2010-02-08\",\"2010-02-09\",\"2010-02-10\",\"2010-02-11\",\"2010-02-12\",\"2010-02-13\",\"2010-02-14\",\"2010-02-15\",\"2010-02-16\",\"2010-02-17\",\"2009-08-19\",\"2009-08-25\",\"2009-08-26\",\"2009-08-30\",\"2009-08-31\",\"2009-09-02\",\"2009-09-04\",\"2009-09-06\",\"2009-09-08\",\"2009-09-09\",\"2009-09-10\",\"2009-09-12\",\"2009-09-13\",\"2009-09-15\",\"2009-09-16\",\"2009-09-17\",\"2009-09-18\",\"2009-09-20\",\"2009-09-22\",\"2009-09-23\",\"2009-09-24\",\"2009-09-26\",\"2009-09-29\",\"2009-09-11\"],\"xaxis\":\"x\",\"y\":[null,null,null,5.0,5.0,10.0,12.0,10.0,14.0,20.0,17.0,20.0,26.0,18.0,33.0,34.0,36.0,37.0,36.0,70.0,52.0,58.0,76.0,62.0,82.0,78.0,87.0,93.0,97.0,84.0,120.0,122.0,133.0,155.0,137.0,140.0,138.0,191.0,168.0,148.0,177.0,185.0,173.0,159.0,174.0,163.0,171.0,177.0,183.0,152.0,170.0,176.0,188.0,173.0,190.0,184.0,176.0,198.0,177.0,169.0,201.0,199.0,185.0,183.0,169.0,192.0,180.0,178.0,197.0,174.0,171.0,171.0,150.0,174.0,171.0,192.0,173.0,172.0,191.0,147.0,158.0,183.0,180.0,189.0,178.0,170.0,183.0,209.0,212.0,208.0,239.0,199.0,207.0,182.0,190.0,213.0,193.0,229.0,190.0,204.0,204.0,224.0,229.0,225.0,214.0,190.0,226.0,219.0,245.0,223.0,220.0,217.0,227.0,224.0,226.0,230.0,181.0,207.0,204.0,209.0,197.0,201.0,220.0,224.0,205.0,180.0,183.0,176.0,189.0,187.0,204.0,163.0,166.0,163.0,172.0,148.0,119.0,147.0,143.0,147.0,166.0,144.0,142.0,122.0,131.0,144.0,127.0,105.0,101.0,124.0,1.0,1.0,2.0,1.0,1.0,2.0,3.0,2.0,3.0,3.0,2.0,2.0,2.0,3.0,2.0,3.0,2.0,4.0,12.0,9.0,9.0,13.0,11.0,null],\"yaxis\":\"y\",\"type\":\"scatter\"},{\"fillpattern\":{\"shape\":\"\"},\"hovertemplate\":\"variable=Other\\u003cbr\\u003eindex=%{x}\\u003cbr\\u003evalue=%{y}\\u003cextra\\u003e\\u003c\\u002fextra\\u003e\",\"legendgroup\":\"Other\",\"line\":{\"color\":\"#00cc96\"},\"marker\":{\"symbol\":\"circle\"},\"mode\":\"lines\",\"name\":\"Other\",\"orientation\":\"v\",\"showlegend\":true,\"stackgroup\":\"1\",\"x\":[\"2009-07-24\",\"2009-09-05\",\"2009-09-07\",\"2009-09-14\",\"2009-09-19\",\"2009-09-21\",\"2009-09-25\",\"2009-09-27\",\"2009-09-28\",\"2009-09-30\",\"2009-10-01\",\"2009-10-02\",\"2009-10-03\",\"2009-10-04\",\"2009-10-05\",\"2009-10-06\",\"2009-10-07\",\"2009-10-08\",\"2009-10-09\",\"2009-10-10\",\"2009-10-11\",\"2009-10-12\",\"2009-10-13\",\"2009-10-14\",\"2009-10-15\",\"2009-10-16\",\"2009-10-17\",\"2009-10-18\",\"2009-10-19\",\"2009-10-20\",\"2009-10-21\",\"2009-10-22\",\"2009-10-23\",\"2009-10-24\",\"2009-10-25\",\"2009-10-26\",\"2009-10-27\",\"2009-10-28\",\"2009-10-29\",\"2009-10-30\",\"2009-10-31\",\"2009-11-01\",\"2009-11-02\",\"2009-11-03\",\"2009-11-04\",\"2009-11-05\",\"2009-11-06\",\"2009-11-07\",\"2009-11-08\",\"2009-11-09\",\"2009-11-10\",\"2009-11-11\",\"2009-11-12\",\"2009-11-13\",\"2009-11-14\",\"2009-11-15\",\"2009-11-16\",\"2009-11-17\",\"2009-11-18\",\"2009-11-19\",\"2009-11-20\",\"2009-11-21\",\"2009-11-22\",\"2009-11-23\",\"2009-11-24\",\"2009-11-25\",\"2009-11-26\",\"2009-11-27\",\"2009-11-28\",\"2009-11-29\",\"2009-11-30\",\"2009-12-01\",\"2009-12-02\",\"2009-12-03\",\"2009-12-04\",\"2009-12-05\",\"2009-12-06\",\"2009-12-07\",\"2009-12-08\",\"2009-12-09\",\"2009-12-10\",\"2009-12-11\",\"2009-12-12\",\"2009-12-13\",\"2009-12-14\",\"2009-12-15\",\"2009-12-16\",\"2009-12-17\",\"2009-12-18\",\"2009-12-19\",\"2009-12-20\",\"2009-12-21\",\"2009-12-22\",\"2009-12-23\",\"2009-12-24\",\"2009-12-25\",\"2009-12-26\",\"2009-12-27\",\"2009-12-28\",\"2009-12-29\",\"2009-12-30\",\"2009-12-31\",\"2010-01-01\",\"2010-01-02\",\"2010-01-03\",\"2010-01-04\",\"2010-01-05\",\"2010-01-06\",\"2010-01-07\",\"2010-01-08\",\"2010-01-09\",\"2010-01-10\",\"2010-01-11\",\"2010-01-12\",\"2010-01-13\",\"2010-01-14\",\"2010-01-15\",\"2010-01-16\",\"2010-01-17\",\"2010-01-18\",\"2010-01-19\",\"2010-01-20\",\"2010-01-21\",\"2010-01-22\",\"2010-01-23\",\"2010-01-24\",\"2010-01-25\",\"2010-01-26\",\"2010-01-27\",\"2010-01-28\",\"2010-01-29\",\"2010-01-30\",\"2010-01-31\",\"2010-02-01\",\"2010-02-02\",\"2010-02-03\",\"2010-02-04\",\"2010-02-05\",\"2010-02-06\",\"2010-02-07\",\"2010-02-08\",\"2010-02-09\",\"2010-02-10\",\"2010-02-11\",\"2010-02-12\",\"2010-02-13\",\"2010-02-14\",\"2010-02-15\",\"2010-02-16\",\"2010-02-17\",\"2009-08-19\",\"2009-08-25\",\"2009-08-26\",\"2009-08-30\",\"2009-08-31\",\"2009-09-02\",\"2009-09-04\",\"2009-09-06\",\"2009-09-08\",\"2009-09-09\",\"2009-09-10\",\"2009-09-12\",\"2009-09-13\",\"2009-09-15\",\"2009-09-16\",\"2009-09-17\",\"2009-09-18\",\"2009-09-20\",\"2009-09-22\",\"2009-09-23\",\"2009-09-24\",\"2009-09-26\",\"2009-09-29\",\"2009-09-11\"],\"xaxis\":\"x\",\"y\":[null,1.0,null,null,null,null,1.0,null,null,null,3.0,null,3.0,null,null,null,1.0,null,1.0,null,null,1.0,1.0,3.0,1.0,5.0,2.0,1.0,null,1.0,3.0,3.0,5.0,4.0,4.0,6.0,3.0,4.0,3.0,6.0,5.0,null,3.0,6.0,9.0,14.0,4.0,12.0,10.0,9.0,15.0,12.0,7.0,13.0,19.0,16.0,20.0,13.0,18.0,24.0,21.0,18.0,14.0,18.0,16.0,26.0,24.0,24.0,36.0,26.0,29.0,43.0,36.0,35.0,48.0,53.0,49.0,51.0,44.0,61.0,60.0,51.0,60.0,53.0,57.0,57.0,69.0,72.0,60.0,78.0,71.0,69.0,71.0,73.0,71.0,66.0,71.0,76.0,85.0,80.0,94.0,71.0,74.0,68.0,79.0,78.0,55.0,61.0,63.0,81.0,51.0,80.0,59.0,65.0,53.0,50.0,53.0,51.0,57.0,40.0,54.0,42.0,42.0,47.0,42.0,44.0,33.0,28.0,36.0,35.0,38.0,35.0,37.0,25.0,28.0,26.0,24.0,14.0,34.0,24.0,21.0,22.0,23.0,22.0,18.0,23.0,14.0,16.0,17.0,21.0,null,null,null,null,null,null,null,null,null,null,null,1.0,null,1.0,null,null,null,null,null,null,null,null,1.0,null],\"yaxis\":\"y\",\"type\":\"scatter\"},{\"fillpattern\":{\"shape\":\"\"},\"hovertemplate\":\"variable=Southern Asia\\u003cbr\\u003eindex=%{x}\\u003cbr\\u003evalue=%{y}\\u003cextra\\u003e\\u003c\\u002fextra\\u003e\",\"legendgroup\":\"Southern Asia\",\"line\":{\"color\":\"#ab63fa\"},\"marker\":{\"symbol\":\"circle\"},\"mode\":\"lines\",\"name\":\"Southern Asia\",\"orientation\":\"v\",\"showlegend\":true,\"stackgroup\":\"1\",\"x\":[\"2009-07-24\",\"2009-09-05\",\"2009-09-07\",\"2009-09-14\",\"2009-09-19\",\"2009-09-21\",\"2009-09-25\",\"2009-09-27\",\"2009-09-28\",\"2009-09-30\",\"2009-10-01\",\"2009-10-02\",\"2009-10-03\",\"2009-10-04\",\"2009-10-05\",\"2009-10-06\",\"2009-10-07\",\"2009-10-08\",\"2009-10-09\",\"2009-10-10\",\"2009-10-11\",\"2009-10-12\",\"2009-10-13\",\"2009-10-14\",\"2009-10-15\",\"2009-10-16\",\"2009-10-17\",\"2009-10-18\",\"2009-10-19\",\"2009-10-20\",\"2009-10-21\",\"2009-10-22\",\"2009-10-23\",\"2009-10-24\",\"2009-10-25\",\"2009-10-26\",\"2009-10-27\",\"2009-10-28\",\"2009-10-29\",\"2009-10-30\",\"2009-10-31\",\"2009-11-01\",\"2009-11-02\",\"2009-11-03\",\"2009-11-04\",\"2009-11-05\",\"2009-11-06\",\"2009-11-07\",\"2009-11-08\",\"2009-11-09\",\"2009-11-10\",\"2009-11-11\",\"2009-11-12\",\"2009-11-13\",\"2009-11-14\",\"2009-11-15\",\"2009-11-16\",\"2009-11-17\",\"2009-11-18\",\"2009-11-19\",\"2009-11-20\",\"2009-11-21\",\"2009-11-22\",\"2009-11-23\",\"2009-11-24\",\"2009-11-25\",\"2009-11-26\",\"2009-11-27\",\"2009-11-28\",\"2009-11-29\",\"2009-11-30\",\"2009-12-01\",\"2009-12-02\",\"2009-12-03\",\"2009-12-04\",\"2009-12-05\",\"2009-12-06\",\"2009-12-07\",\"2009-12-08\",\"2009-12-09\",\"2009-12-10\",\"2009-12-11\",\"2009-12-12\",\"2009-12-13\",\"2009-12-14\",\"2009-12-15\",\"2009-12-16\",\"2009-12-17\",\"2009-12-18\",\"2009-12-19\",\"2009-12-20\",\"2009-12-21\",\"2009-12-22\",\"2009-12-23\",\"2009-12-24\",\"2009-12-25\",\"2009-12-26\",\"2009-12-27\",\"2009-12-28\",\"2009-12-29\",\"2009-12-30\",\"2009-12-31\",\"2010-01-01\",\"2010-01-02\",\"2010-01-03\",\"2010-01-04\",\"2010-01-05\",\"2010-01-06\",\"2010-01-07\",\"2010-01-08\",\"2010-01-09\",\"2010-01-10\",\"2010-01-11\",\"2010-01-12\",\"2010-01-13\",\"2010-01-14\",\"2010-01-15\",\"2010-01-16\",\"2010-01-17\",\"2010-01-18\",\"2010-01-19\",\"2010-01-20\",\"2010-01-21\",\"2010-01-22\",\"2010-01-23\",\"2010-01-24\",\"2010-01-25\",\"2010-01-26\",\"2010-01-27\",\"2010-01-28\",\"2010-01-29\",\"2010-01-30\",\"2010-01-31\",\"2010-02-01\",\"2010-02-02\",\"2010-02-03\",\"2010-02-04\",\"2010-02-05\",\"2010-02-06\",\"2010-02-07\",\"2010-02-08\",\"2010-02-09\",\"2010-02-10\",\"2010-02-11\",\"2010-02-12\",\"2010-02-13\",\"2010-02-14\",\"2010-02-15\",\"2010-02-16\",\"2010-02-17\",\"2009-08-19\",\"2009-08-25\",\"2009-08-26\",\"2009-08-30\",\"2009-08-31\",\"2009-09-02\",\"2009-09-04\",\"2009-09-06\",\"2009-09-08\",\"2009-09-09\",\"2009-09-10\",\"2009-09-12\",\"2009-09-13\",\"2009-09-15\",\"2009-09-16\",\"2009-09-17\",\"2009-09-18\",\"2009-09-20\",\"2009-09-22\",\"2009-09-23\",\"2009-09-24\",\"2009-09-26\",\"2009-09-29\",\"2009-09-11\"],\"xaxis\":\"x\",\"y\":[null,null,null,null,null,null,null,null,null,null,null,null,null,null,null,null,1.0,null,1.0,2.0,null,null,1.0,null,1.0,null,1.0,2.0,6.0,3.0,null,1.0,5.0,3.0,4.0,3.0,3.0,1.0,5.0,4.0,3.0,4.0,6.0,2.0,5.0,5.0,8.0,6.0,7.0,11.0,7.0,10.0,11.0,12.0,13.0,11.0,12.0,15.0,12.0,6.0,10.0,17.0,17.0,28.0,17.0,13.0,18.0,21.0,19.0,27.0,23.0,36.0,35.0,37.0,35.0,43.0,42.0,35.0,37.0,39.0,47.0,29.0,50.0,42.0,39.0,46.0,47.0,56.0,49.0,48.0,56.0,55.0,55.0,57.0,74.0,59.0,50.0,70.0,66.0,61.0,64.0,76.0,59.0,85.0,69.0,74.0,65.0,63.0,65.0,91.0,73.0,81.0,92.0,67.0,90.0,87.0,85.0,90.0,88.0,96.0,82.0,103.0,100.0,83.0,114.0,108.0,99.0,106.0,93.0,91.0,84.0,93.0,93.0,106.0,79.0,86.0,97.0,101.0,90.0,102.0,88.0,86.0,99.0,91.0,85.0,95.0,58.0,84.0,90.0,72.0,null,null,null,null,null,null,null,null,null,null,null,null,null,null,null,null,null,null,null,null,1.0,null,null,1.0],\"yaxis\":\"y\",\"type\":\"scatter\"},{\"fillpattern\":{\"shape\":\"\"},\"hovertemplate\":\"variable=South-Eastern Asia\\u003cbr\\u003eindex=%{x}\\u003cbr\\u003evalue=%{y}\\u003cextra\\u003e\\u003c\\u002fextra\\u003e\",\"legendgroup\":\"South-Eastern Asia\",\"line\":{\"color\":\"#FFA15A\"},\"marker\":{\"symbol\":\"circle\"},\"mode\":\"lines\",\"name\":\"South-Eastern Asia\",\"orientation\":\"v\",\"showlegend\":true,\"stackgroup\":\"1\",\"x\":[\"2009-07-24\",\"2009-09-05\",\"2009-09-07\",\"2009-09-14\",\"2009-09-19\",\"2009-09-21\",\"2009-09-25\",\"2009-09-27\",\"2009-09-28\",\"2009-09-30\",\"2009-10-01\",\"2009-10-02\",\"2009-10-03\",\"2009-10-04\",\"2009-10-05\",\"2009-10-06\",\"2009-10-07\",\"2009-10-08\",\"2009-10-09\",\"2009-10-10\",\"2009-10-11\",\"2009-10-12\",\"2009-10-13\",\"2009-10-14\",\"2009-10-15\",\"2009-10-16\",\"2009-10-17\",\"2009-10-18\",\"2009-10-19\",\"2009-10-20\",\"2009-10-21\",\"2009-10-22\",\"2009-10-23\",\"2009-10-24\",\"2009-10-25\",\"2009-10-26\",\"2009-10-27\",\"2009-10-28\",\"2009-10-29\",\"2009-10-30\",\"2009-10-31\",\"2009-11-01\",\"2009-11-02\",\"2009-11-03\",\"2009-11-04\",\"2009-11-05\",\"2009-11-06\",\"2009-11-07\",\"2009-11-08\",\"2009-11-09\",\"2009-11-10\",\"2009-11-11\",\"2009-11-12\",\"2009-11-13\",\"2009-11-14\",\"2009-11-15\",\"2009-11-16\",\"2009-11-17\",\"2009-11-18\",\"2009-11-19\",\"2009-11-20\",\"2009-11-21\",\"2009-11-22\",\"2009-11-23\",\"2009-11-24\",\"2009-11-25\",\"2009-11-26\",\"2009-11-27\",\"2009-11-28\",\"2009-11-29\",\"2009-11-30\",\"2009-12-01\",\"2009-12-02\",\"2009-12-03\",\"2009-12-04\",\"2009-12-05\",\"2009-12-06\",\"2009-12-07\",\"2009-12-08\",\"2009-12-09\",\"2009-12-10\",\"2009-12-11\",\"2009-12-12\",\"2009-12-13\",\"2009-12-14\",\"2009-12-15\",\"2009-12-16\",\"2009-12-17\",\"2009-12-18\",\"2009-12-19\",\"2009-12-20\",\"2009-12-21\",\"2009-12-22\",\"2009-12-23\",\"2009-12-24\",\"2009-12-25\",\"2009-12-26\",\"2009-12-27\",\"2009-12-28\",\"2009-12-29\",\"2009-12-30\",\"2009-12-31\",\"2010-01-01\",\"2010-01-02\",\"2010-01-03\",\"2010-01-04\",\"2010-01-05\",\"2010-01-06\",\"2010-01-07\",\"2010-01-08\",\"2010-01-09\",\"2010-01-10\",\"2010-01-11\",\"2010-01-12\",\"2010-01-13\",\"2010-01-14\",\"2010-01-15\",\"2010-01-16\",\"2010-01-17\",\"2010-01-18\",\"2010-01-19\",\"2010-01-20\",\"2010-01-21\",\"2010-01-22\",\"2010-01-23\",\"2010-01-24\",\"2010-01-25\",\"2010-01-26\",\"2010-01-27\",\"2010-01-28\",\"2010-01-29\",\"2010-01-30\",\"2010-01-31\",\"2010-02-01\",\"2010-02-02\",\"2010-02-03\",\"2010-02-04\",\"2010-02-05\",\"2010-02-06\",\"2010-02-07\",\"2010-02-08\",\"2010-02-09\",\"2010-02-10\",\"2010-02-11\",\"2010-02-12\",\"2010-02-13\",\"2010-02-14\",\"2010-02-15\",\"2010-02-16\",\"2010-02-17\",\"2009-08-19\",\"2009-08-25\",\"2009-08-26\",\"2009-08-30\",\"2009-08-31\",\"2009-09-02\",\"2009-09-04\",\"2009-09-06\",\"2009-09-08\",\"2009-09-09\",\"2009-09-10\",\"2009-09-12\",\"2009-09-13\",\"2009-09-15\",\"2009-09-16\",\"2009-09-17\",\"2009-09-18\",\"2009-09-20\",\"2009-09-22\",\"2009-09-23\",\"2009-09-24\",\"2009-09-26\",\"2009-09-29\",\"2009-09-11\"],\"xaxis\":\"x\",\"y\":[null,null,null,null,null,2.0,null,null,null,null,1.0,1.0,4.0,null,null,1.0,3.0,4.0,1.0,null,null,null,2.0,2.0,2.0,4.0,3.0,2.0,1.0,2.0,3.0,7.0,7.0,3.0,6.0,6.0,7.0,8.0,6.0,8.0,6.0,7.0,9.0,10.0,13.0,15.0,11.0,20.0,24.0,20.0,12.0,33.0,25.0,29.0,21.0,26.0,28.0,46.0,44.0,51.0,52.0,61.0,47.0,55.0,57.0,44.0,47.0,51.0,61.0,44.0,70.0,68.0,78.0,72.0,89.0,77.0,82.0,75.0,83.0,74.0,86.0,81.0,117.0,81.0,82.0,101.0,88.0,100.0,97.0,97.0,79.0,107.0,114.0,107.0,94.0,117.0,96.0,92.0,101.0,104.0,90.0,103.0,94.0,126.0,122.0,115.0,123.0,88.0,100.0,108.0,106.0,115.0,96.0,103.0,92.0,109.0,99.0,101.0,97.0,81.0,95.0,92.0,85.0,94.0,88.0,84.0,84.0,70.0,77.0,73.0,78.0,81.0,71.0,83.0,85.0,61.0,65.0,69.0,52.0,62.0,47.0,60.0,48.0,53.0,43.0,38.0,40.0,30.0,48.0,35.0,null,null,null,null,null,null,null,null,null,null,null,null,null,null,null,null,null,null,null,null,null,1.0,1.0,null],\"yaxis\":\"y\",\"type\":\"scatter\"}],                        {\"template\":{\"data\":{\"histogram2dcontour\":[{\"type\":\"histogram2dcontour\",\"colorbar\":{\"outlinewidth\":0,\"ticks\":\"\"},\"colorscale\":[[0.0,\"#0d0887\"],[0.1111111111111111,\"#46039f\"],[0.2222222222222222,\"#7201a8\"],[0.3333333333333333,\"#9c179e\"],[0.4444444444444444,\"#bd3786\"],[0.5555555555555556,\"#d8576b\"],[0.6666666666666666,\"#ed7953\"],[0.7777777777777778,\"#fb9f3a\"],[0.8888888888888888,\"#fdca26\"],[1.0,\"#f0f921\"]]}],\"choropleth\":[{\"type\":\"choropleth\",\"colorbar\":{\"outlinewidth\":0,\"ticks\":\"\"}}],\"histogram2d\":[{\"type\":\"histogram2d\",\"colorbar\":{\"outlinewidth\":0,\"ticks\":\"\"},\"colorscale\":[[0.0,\"#0d0887\"],[0.1111111111111111,\"#46039f\"],[0.2222222222222222,\"#7201a8\"],[0.3333333333333333,\"#9c179e\"],[0.4444444444444444,\"#bd3786\"],[0.5555555555555556,\"#d8576b\"],[0.6666666666666666,\"#ed7953\"],[0.7777777777777778,\"#fb9f3a\"],[0.8888888888888888,\"#fdca26\"],[1.0,\"#f0f921\"]]}],\"heatmap\":[{\"type\":\"heatmap\",\"colorbar\":{\"outlinewidth\":0,\"ticks\":\"\"},\"colorscale\":[[0.0,\"#0d0887\"],[0.1111111111111111,\"#46039f\"],[0.2222222222222222,\"#7201a8\"],[0.3333333333333333,\"#9c179e\"],[0.4444444444444444,\"#bd3786\"],[0.5555555555555556,\"#d8576b\"],[0.6666666666666666,\"#ed7953\"],[0.7777777777777778,\"#fb9f3a\"],[0.8888888888888888,\"#fdca26\"],[1.0,\"#f0f921\"]]}],\"heatmapgl\":[{\"type\":\"heatmapgl\",\"colorbar\":{\"outlinewidth\":0,\"ticks\":\"\"},\"colorscale\":[[0.0,\"#0d0887\"],[0.1111111111111111,\"#46039f\"],[0.2222222222222222,\"#7201a8\"],[0.3333333333333333,\"#9c179e\"],[0.4444444444444444,\"#bd3786\"],[0.5555555555555556,\"#d8576b\"],[0.6666666666666666,\"#ed7953\"],[0.7777777777777778,\"#fb9f3a\"],[0.8888888888888888,\"#fdca26\"],[1.0,\"#f0f921\"]]}],\"contourcarpet\":[{\"type\":\"contourcarpet\",\"colorbar\":{\"outlinewidth\":0,\"ticks\":\"\"}}],\"contour\":[{\"type\":\"contour\",\"colorbar\":{\"outlinewidth\":0,\"ticks\":\"\"},\"colorscale\":[[0.0,\"#0d0887\"],[0.1111111111111111,\"#46039f\"],[0.2222222222222222,\"#7201a8\"],[0.3333333333333333,\"#9c179e\"],[0.4444444444444444,\"#bd3786\"],[0.5555555555555556,\"#d8576b\"],[0.6666666666666666,\"#ed7953\"],[0.7777777777777778,\"#fb9f3a\"],[0.8888888888888888,\"#fdca26\"],[1.0,\"#f0f921\"]]}],\"surface\":[{\"type\":\"surface\",\"colorbar\":{\"outlinewidth\":0,\"ticks\":\"\"},\"colorscale\":[[0.0,\"#0d0887\"],[0.1111111111111111,\"#46039f\"],[0.2222222222222222,\"#7201a8\"],[0.3333333333333333,\"#9c179e\"],[0.4444444444444444,\"#bd3786\"],[0.5555555555555556,\"#d8576b\"],[0.6666666666666666,\"#ed7953\"],[0.7777777777777778,\"#fb9f3a\"],[0.8888888888888888,\"#fdca26\"],[1.0,\"#f0f921\"]]}],\"mesh3d\":[{\"type\":\"mesh3d\",\"colorbar\":{\"outlinewidth\":0,\"ticks\":\"\"}}],\"scatter\":[{\"fillpattern\":{\"fillmode\":\"overlay\",\"size\":10,\"solidity\":0.2},\"type\":\"scatter\"}],\"parcoords\":[{\"type\":\"parcoords\",\"line\":{\"colorbar\":{\"outlinewidth\":0,\"ticks\":\"\"}}}],\"scatterpolargl\":[{\"type\":\"scatterpolargl\",\"marker\":{\"colorbar\":{\"outlinewidth\":0,\"ticks\":\"\"}}}],\"bar\":[{\"error_x\":{\"color\":\"#2a3f5f\"},\"error_y\":{\"color\":\"#2a3f5f\"},\"marker\":{\"line\":{\"color\":\"#E5ECF6\",\"width\":0.5},\"pattern\":{\"fillmode\":\"overlay\",\"size\":10,\"solidity\":0.2}},\"type\":\"bar\"}],\"scattergeo\":[{\"type\":\"scattergeo\",\"marker\":{\"colorbar\":{\"outlinewidth\":0,\"ticks\":\"\"}}}],\"scatterpolar\":[{\"type\":\"scatterpolar\",\"marker\":{\"colorbar\":{\"outlinewidth\":0,\"ticks\":\"\"}}}],\"histogram\":[{\"marker\":{\"pattern\":{\"fillmode\":\"overlay\",\"size\":10,\"solidity\":0.2}},\"type\":\"histogram\"}],\"scattergl\":[{\"type\":\"scattergl\",\"marker\":{\"colorbar\":{\"outlinewidth\":0,\"ticks\":\"\"}}}],\"scatter3d\":[{\"type\":\"scatter3d\",\"line\":{\"colorbar\":{\"outlinewidth\":0,\"ticks\":\"\"}},\"marker\":{\"colorbar\":{\"outlinewidth\":0,\"ticks\":\"\"}}}],\"scattermapbox\":[{\"type\":\"scattermapbox\",\"marker\":{\"colorbar\":{\"outlinewidth\":0,\"ticks\":\"\"}}}],\"scatterternary\":[{\"type\":\"scatterternary\",\"marker\":{\"colorbar\":{\"outlinewidth\":0,\"ticks\":\"\"}}}],\"scattercarpet\":[{\"type\":\"scattercarpet\",\"marker\":{\"colorbar\":{\"outlinewidth\":0,\"ticks\":\"\"}}}],\"carpet\":[{\"aaxis\":{\"endlinecolor\":\"#2a3f5f\",\"gridcolor\":\"white\",\"linecolor\":\"white\",\"minorgridcolor\":\"white\",\"startlinecolor\":\"#2a3f5f\"},\"baxis\":{\"endlinecolor\":\"#2a3f5f\",\"gridcolor\":\"white\",\"linecolor\":\"white\",\"minorgridcolor\":\"white\",\"startlinecolor\":\"#2a3f5f\"},\"type\":\"carpet\"}],\"table\":[{\"cells\":{\"fill\":{\"color\":\"#EBF0F8\"},\"line\":{\"color\":\"white\"}},\"header\":{\"fill\":{\"color\":\"#C8D4E3\"},\"line\":{\"color\":\"white\"}},\"type\":\"table\"}],\"barpolar\":[{\"marker\":{\"line\":{\"color\":\"#E5ECF6\",\"width\":0.5},\"pattern\":{\"fillmode\":\"overlay\",\"size\":10,\"solidity\":0.2}},\"type\":\"barpolar\"}],\"pie\":[{\"automargin\":true,\"type\":\"pie\"}]},\"layout\":{\"autotypenumbers\":\"strict\",\"colorway\":[\"#636efa\",\"#EF553B\",\"#00cc96\",\"#ab63fa\",\"#FFA15A\",\"#19d3f3\",\"#FF6692\",\"#B6E880\",\"#FF97FF\",\"#FECB52\"],\"font\":{\"color\":\"#2a3f5f\"},\"hovermode\":\"closest\",\"hoverlabel\":{\"align\":\"left\"},\"paper_bgcolor\":\"white\",\"plot_bgcolor\":\"#E5ECF6\",\"polar\":{\"bgcolor\":\"#E5ECF6\",\"angularaxis\":{\"gridcolor\":\"white\",\"linecolor\":\"white\",\"ticks\":\"\"},\"radialaxis\":{\"gridcolor\":\"white\",\"linecolor\":\"white\",\"ticks\":\"\"}},\"ternary\":{\"bgcolor\":\"#E5ECF6\",\"aaxis\":{\"gridcolor\":\"white\",\"linecolor\":\"white\",\"ticks\":\"\"},\"baxis\":{\"gridcolor\":\"white\",\"linecolor\":\"white\",\"ticks\":\"\"},\"caxis\":{\"gridcolor\":\"white\",\"linecolor\":\"white\",\"ticks\":\"\"}},\"coloraxis\":{\"colorbar\":{\"outlinewidth\":0,\"ticks\":\"\"}},\"colorscale\":{\"sequential\":[[0.0,\"#0d0887\"],[0.1111111111111111,\"#46039f\"],[0.2222222222222222,\"#7201a8\"],[0.3333333333333333,\"#9c179e\"],[0.4444444444444444,\"#bd3786\"],[0.5555555555555556,\"#d8576b\"],[0.6666666666666666,\"#ed7953\"],[0.7777777777777778,\"#fb9f3a\"],[0.8888888888888888,\"#fdca26\"],[1.0,\"#f0f921\"]],\"sequentialminus\":[[0.0,\"#0d0887\"],[0.1111111111111111,\"#46039f\"],[0.2222222222222222,\"#7201a8\"],[0.3333333333333333,\"#9c179e\"],[0.4444444444444444,\"#bd3786\"],[0.5555555555555556,\"#d8576b\"],[0.6666666666666666,\"#ed7953\"],[0.7777777777777778,\"#fb9f3a\"],[0.8888888888888888,\"#fdca26\"],[1.0,\"#f0f921\"]],\"diverging\":[[0,\"#8e0152\"],[0.1,\"#c51b7d\"],[0.2,\"#de77ae\"],[0.3,\"#f1b6da\"],[0.4,\"#fde0ef\"],[0.5,\"#f7f7f7\"],[0.6,\"#e6f5d0\"],[0.7,\"#b8e186\"],[0.8,\"#7fbc41\"],[0.9,\"#4d9221\"],[1,\"#276419\"]]},\"xaxis\":{\"gridcolor\":\"white\",\"linecolor\":\"white\",\"ticks\":\"\",\"title\":{\"standoff\":15},\"zerolinecolor\":\"white\",\"automargin\":true,\"zerolinewidth\":2},\"yaxis\":{\"gridcolor\":\"white\",\"linecolor\":\"white\",\"ticks\":\"\",\"title\":{\"standoff\":15},\"zerolinecolor\":\"white\",\"automargin\":true,\"zerolinewidth\":2},\"scene\":{\"xaxis\":{\"backgroundcolor\":\"#E5ECF6\",\"gridcolor\":\"white\",\"linecolor\":\"white\",\"showbackground\":true,\"ticks\":\"\",\"zerolinecolor\":\"white\",\"gridwidth\":2},\"yaxis\":{\"backgroundcolor\":\"#E5ECF6\",\"gridcolor\":\"white\",\"linecolor\":\"white\",\"showbackground\":true,\"ticks\":\"\",\"zerolinecolor\":\"white\",\"gridwidth\":2},\"zaxis\":{\"backgroundcolor\":\"#E5ECF6\",\"gridcolor\":\"white\",\"linecolor\":\"white\",\"showbackground\":true,\"ticks\":\"\",\"zerolinecolor\":\"white\",\"gridwidth\":2}},\"shapedefaults\":{\"line\":{\"color\":\"#2a3f5f\"}},\"annotationdefaults\":{\"arrowcolor\":\"#2a3f5f\",\"arrowhead\":0,\"arrowwidth\":1},\"geo\":{\"bgcolor\":\"white\",\"landcolor\":\"#E5ECF6\",\"subunitcolor\":\"white\",\"showland\":true,\"showlakes\":true,\"lakecolor\":\"white\"},\"title\":{\"x\":0.05},\"mapbox\":{\"style\":\"light\"}}},\"xaxis\":{\"anchor\":\"y\",\"domain\":[0.0,1.0],\"title\":{\"text\":\"index\"}},\"yaxis\":{\"anchor\":\"x\",\"domain\":[0.0,1.0],\"title\":{\"text\":\"value\"}},\"legend\":{\"title\":{\"text\":\"variable\"},\"tracegroupgap\":0},\"margin\":{\"t\":60}},                        {\"responsive\": true}                    ).then(function(){\n",
       "                            \n",
       "var gd = document.getElementById('18c22d56-5c42-41e3-8f40-765e421804ac');\n",
       "var x = new MutationObserver(function (mutations, observer) {{\n",
       "        var display = window.getComputedStyle(gd).display;\n",
       "        if (!display || display === 'none') {{\n",
       "            console.log([gd, 'removed!']);\n",
       "            Plotly.purge(gd);\n",
       "            observer.disconnect();\n",
       "        }}\n",
       "}});\n",
       "\n",
       "// Listen for the removal of the full notebook cells\n",
       "var notebookContainer = gd.closest('#notebook-container');\n",
       "if (notebookContainer) {{\n",
       "    x.observe(notebookContainer, {childList: true});\n",
       "}}\n",
       "\n",
       "// Listen for the clearing of the current output cell\n",
       "var outputEl = gd.closest('.output');\n",
       "if (outputEl) {{\n",
       "    x.observe(outputEl, {childList: true});\n",
       "}}\n",
       "\n",
       "                        })                };                });            </script>        </div>"
      ]
     },
     "metadata": {},
     "output_type": "display_data"
    }
   ],
   "source": [
    "px.area(fetch_area_plot_data(fig))"
   ]
  },
  {
   "cell_type": "code",
   "execution_count": null,
   "id": "cb634b7f",
   "metadata": {},
   "outputs": [],
   "source": []
  },
  {
   "cell_type": "markdown",
   "id": "590fba42",
   "metadata": {},
   "source": [
    "## Sankey diagrams"
   ]
  },
  {
   "cell_type": "code",
   "execution_count": 11,
   "id": "d81a9456",
   "metadata": {},
   "outputs": [],
   "source": [
    "def build_sankey_query(table_name, reference_table_name, source_geo_level, target_geo_level, source_values, target_values, date_range, \n",
    "                       cutoff=0.05, source_output_level=None, target_output_level=None, domestic=True):\n",
    "                       \n",
    "    if source_output_level == None:\n",
    "        source_output_level = source_geo_level\n",
    "    if target_output_level == None:\n",
    "        target_output_level = target_geo_level\n",
    "                       \n",
    "    # Build filters for both source and target regions\n",
    "    source_filter = build_geographic_filter(source_geo_level, source_values, alias=\"g_source\")\n",
    "    target_filter = build_geographic_filter(target_geo_level, target_values, alias=\"g_target\")\n",
    "\n",
    "    # Create the base where clause\n",
    "    where_clauses = []\n",
    "\n",
    "    if source_filter:\n",
    "        where_clauses.append(source_filter)\n",
    "    if target_filter:\n",
    "        where_clauses.append(target_filter)\n",
    "        \n",
    "    if not domestic:\n",
    "        # Exclude rows where target imports to itself\n",
    "        where_clauses.append(f\"g_source.{target_output_level} != g_target.{target_output_level}\")\n",
    "\n",
    "    # Join the where clauses with 'AND'\n",
    "    where_clause = ' AND '.join(where_clauses)\n",
    "\n",
    "    query = f\"\"\"\n",
    "    WITH total_exportations AS (\n",
    "        -- Calculate total exportations for the given date range\n",
    "        SELECT \n",
    "            SUM(i.importations) AS total_sum\n",
    "        FROM \n",
    "            `{table_name}` AS i\n",
    "        JOIN \n",
    "            `{reference_table_name}` AS g_target \n",
    "            ON g_target.basin_id = i.target_basin\n",
    "        JOIN \n",
    "            `{reference_table_name}` AS g_source \n",
    "            ON g_source.basin_id = i.source_basin\n",
    "        WHERE \n",
    "            {where_clause}\n",
    "            AND i.date >= '{date_range[0]}'\n",
    "            AND i.date <= '{date_range[1]}'\n",
    "    ), source_totals AS (\n",
    "        -- Calculate total exportations for each source\n",
    "        SELECT\n",
    "            g_source.{source_output_level.split('_')[0]+'_id'} * -1 AS sourceid,\n",
    "            g_source.{source_output_level} AS source,\n",
    "            SUM(i.importations) AS source_sum\n",
    "        FROM \n",
    "            `{table_name}` AS i\n",
    "        JOIN \n",
    "            `{reference_table_name}` AS g_source\n",
    "            ON g_source.basin_id = i.source_basin\n",
    "        JOIN \n",
    "            `{reference_table_name}` AS g_target \n",
    "            ON g_target.basin_id = i.target_basin\n",
    "        WHERE \n",
    "            {where_clause}\n",
    "            AND i.date >= '{date_range[0]}'\n",
    "            AND i.date <= '{date_range[1]}'\n",
    "        GROUP BY sourceid, source\n",
    "    ), target_totals AS (\n",
    "        -- Calculate total exportations for each target\n",
    "        SELECT\n",
    "            g_target.{target_output_level.split('_')[0]+'_id'} AS targetid,\n",
    "            g_target.{target_output_level} AS target,\n",
    "            SUM(i.importations) AS target_sum\n",
    "        FROM \n",
    "            `{table_name}` AS i\n",
    "        JOIN \n",
    "            `{reference_table_name}` AS g_target\n",
    "            ON g_target.basin_id = i.target_basin\n",
    "        JOIN \n",
    "            `{reference_table_name}` AS g_source\n",
    "            ON g_source.basin_id = i.source_basin\n",
    "        WHERE \n",
    "            {where_clause}\n",
    "            AND i.date >= '{date_range[0]}'\n",
    "            AND i.date <= '{date_range[1]}'\n",
    "        GROUP BY targetid, target\n",
    "    ), categorized_sources AS (\n",
    "        -- Categorize sources contributing less than the cutoff as \"Other\"\n",
    "        SELECT \n",
    "            st.sourceid,\n",
    "            CASE \n",
    "                WHEN st.source_sum < {cutoff} * t.total_sum THEN -1.5\n",
    "                ELSE st.sourceid\n",
    "            END AS revisedsourceid,\n",
    "            CASE \n",
    "                WHEN st.source_sum < {cutoff} * t.total_sum THEN 'Other'\n",
    "                ELSE st.source\n",
    "            END AS source\n",
    "        FROM \n",
    "            source_totals st\n",
    "        CROSS JOIN \n",
    "            total_exportations t\n",
    "    ), categorized_targets AS (\n",
    "        -- Categorize targets contributing less than the cutoff as \"Other\"\n",
    "        SELECT \n",
    "            tt.targetid,\n",
    "            CASE \n",
    "                WHEN tt.target_sum < {cutoff} * t.total_sum THEN 1.5\n",
    "                ELSE tt.targetid\n",
    "            END AS revisedtargetid,\n",
    "            CASE \n",
    "                WHEN tt.target_sum < {cutoff} * t.total_sum THEN 'Other'\n",
    "                ELSE tt.target\n",
    "            END AS target\n",
    "        FROM \n",
    "            target_totals tt\n",
    "        CROSS JOIN \n",
    "            total_exportations t\n",
    "    ), final_exportations AS (\n",
    "        -- Recalculate exportations with categorized sources and targets\n",
    "        SELECT\n",
    "            cs.sourceid,\n",
    "            cs.revisedsourceid,\n",
    "            cs.source,\n",
    "            ct.targetid,\n",
    "            ct.revisedtargetid,\n",
    "            ct.target,\n",
    "            SUM(i.importations) AS region_sum\n",
    "        FROM \n",
    "            `{table_name}` AS i\n",
    "        JOIN \n",
    "            `{reference_table_name}` AS g_source\n",
    "            ON g_source.basin_id = i.source_basin\n",
    "        JOIN \n",
    "            `{reference_table_name}` AS g_target\n",
    "            ON g_target.basin_id = i.target_basin\n",
    "        JOIN \n",
    "            categorized_sources cs\n",
    "            ON cs.sourceid = g_source.{source_output_level.split('_')[0]+'_id'} * -1\n",
    "        JOIN \n",
    "            categorized_targets ct\n",
    "            ON ct.targetid = g_target.{target_output_level.split('_')[0]+'_id'}\n",
    "        WHERE \n",
    "            {where_clause}\n",
    "            AND i.date >= '{date_range[0]}'\n",
    "            AND i.date <= '{date_range[1]}'\n",
    "        GROUP BY \n",
    "            cs.sourceid, \n",
    "            cs.revisedsourceid,\n",
    "            cs.source, \n",
    "            ct.targetid, \n",
    "            ct.revisedtargetid,\n",
    "            ct.target\n",
    "    )\n",
    "    -- Final query to return exportations, ensuring \"Other\" sources and targets are properly grouped\n",
    "    SELECT\n",
    "        fe.revisedsourceid AS sourceid,\n",
    "        fe.source AS source,\n",
    "        fe.revisedtargetid AS targetid,\n",
    "        fe.target AS target,\n",
    "        SUM(fe.region_sum) / (SELECT total_sum FROM total_exportations) AS exportations\n",
    "    FROM \n",
    "        final_exportations fe\n",
    "    GROUP BY \n",
    "        fe.revisedsourceid, \n",
    "        fe.source, \n",
    "        fe.revisedtargetid, \n",
    "        fe.target;\n",
    "    \"\"\"\n",
    "\n",
    "    return query\n"
   ]
  },
  {
   "cell_type": "code",
   "execution_count": 12,
   "id": "a64cae54",
   "metadata": {},
   "outputs": [
    {
     "data": {
      "text/plain": [
       "<function __main__.build_sankey_query(table_name, reference_table_name, source_geo_level, target_geo_level, source_values, target_values, date_range, cutoff=0.05, source_output_level=None, target_output_level=None, domestic=True)>"
      ]
     },
     "execution_count": 12,
     "metadata": {},
     "output_type": "execute_result"
    }
   ],
   "source": [
    "build_sankey_query"
   ]
  },
  {
   "cell_type": "code",
   "execution_count": 13,
   "id": "ada0585c",
   "metadata": {
    "scrolled": true
   },
   "outputs": [
    {
     "data": {
      "text/html": [
       "<div>\n",
       "<style scoped>\n",
       "    .dataframe tbody tr th:only-of-type {\n",
       "        vertical-align: middle;\n",
       "    }\n",
       "\n",
       "    .dataframe tbody tr th {\n",
       "        vertical-align: top;\n",
       "    }\n",
       "\n",
       "    .dataframe thead th {\n",
       "        text-align: right;\n",
       "    }\n",
       "</style>\n",
       "<table border=\"1\" class=\"dataframe\">\n",
       "  <thead>\n",
       "    <tr style=\"text-align: right;\">\n",
       "      <th></th>\n",
       "      <th>sourceid</th>\n",
       "      <th>source</th>\n",
       "      <th>targetid</th>\n",
       "      <th>target</th>\n",
       "      <th>exportations</th>\n",
       "    </tr>\n",
       "  </thead>\n",
       "  <tbody>\n",
       "    <tr>\n",
       "      <th>13</th>\n",
       "      <td>-1.5</td>\n",
       "      <td>Other</td>\n",
       "      <td>35.0</td>\n",
       "      <td>Canada</td>\n",
       "      <td>0.025798</td>\n",
       "    </tr>\n",
       "    <tr>\n",
       "      <th>14</th>\n",
       "      <td>-105.0</td>\n",
       "      <td>Jamaica</td>\n",
       "      <td>1.5</td>\n",
       "      <td>Other</td>\n",
       "      <td>0.009646</td>\n",
       "    </tr>\n",
       "    <tr>\n",
       "      <th>15</th>\n",
       "      <td>-22.0</td>\n",
       "      <td>Bahamas</td>\n",
       "      <td>35.0</td>\n",
       "      <td>Canada</td>\n",
       "      <td>0.008114</td>\n",
       "    </tr>\n",
       "    <tr>\n",
       "      <th>16</th>\n",
       "      <td>-22.0</td>\n",
       "      <td>Bahamas</td>\n",
       "      <td>1.5</td>\n",
       "      <td>Other</td>\n",
       "      <td>0.005828</td>\n",
       "    </tr>\n",
       "    <tr>\n",
       "      <th>17</th>\n",
       "      <td>-170.0</td>\n",
       "      <td>Puerto Rico</td>\n",
       "      <td>35.0</td>\n",
       "      <td>Canada</td>\n",
       "      <td>0.002361</td>\n",
       "    </tr>\n",
       "  </tbody>\n",
       "</table>\n",
       "</div>"
      ],
      "text/plain": [
       "    sourceid       source  targetid  target  exportations\n",
       "13      -1.5        Other      35.0  Canada      0.025798\n",
       "14    -105.0      Jamaica       1.5   Other      0.009646\n",
       "15     -22.0      Bahamas      35.0  Canada      0.008114\n",
       "16     -22.0      Bahamas       1.5   Other      0.005828\n",
       "17    -170.0  Puerto Rico      35.0  Canada      0.002361"
      ]
     },
     "execution_count": 13,
     "metadata": {},
     "output_type": "execute_result"
    }
   ],
   "source": [
    "table_name = \"net-data-viz-handbook.importation_data.sir_importations_1\"\n",
    "reference_table_name = 'reference.gleam-geo-map'\n",
    "\n",
    "source_geo_level = \"region_label\"  # This could also be \"region_id\" or other levels\n",
    "source_values = ['Caribbean']  \n",
    "source_output_level = \"country_name\"\n",
    "\n",
    "target_geo_level = \"continent_label\"  # Could be \"country_id\", \"region_label\", etc.\n",
    "target_values = [\"North America\", \"South America\"]  # Regions to filter on\n",
    "target_output_level = 'country_name'\n",
    "\n",
    "date_range = [\"2009-01-01\", \"2010-12-31\"]  # The date range for the data\n",
    "cutoff = 0.05  # Threshold for categorizing regions\n",
    "domestic = False\n",
    "\n",
    "# Call the function\n",
    "query = build_sankey_query(table_name, reference_table_name, source_geo_level, target_geo_level, \n",
    "                           source_values, target_values, date_range, \n",
    "                    cutoff, source_output_level=source_output_level, target_output_level=target_output_level, \n",
    "                           domestic=domestic)\n",
    "\n",
    "df = execute(client, query)\n",
    "\n",
    "df.tail()"
   ]
  },
  {
   "cell_type": "code",
   "execution_count": 14,
   "id": "407fdbbd",
   "metadata": {},
   "outputs": [
    {
     "data": {
      "application/vnd.plotly.v1+json": {
       "config": {
        "plotlyServerURL": "https://plot.ly"
       },
       "data": [
        {
         "link": {
          "source": [
           4,
           2,
           6,
           3,
           8,
           6,
           2,
           5,
           4,
           5,
           8,
           4,
           2,
           8,
           6,
           3,
           3,
           5
          ],
          "target": [
           7,
           7,
           7,
           7,
           7,
           1,
           1,
           7,
           0,
           0,
           0,
           1,
           0,
           1,
           0,
           1,
           0,
           1
          ],
          "value": [
           0.032328560663149965,
           0.13760361718161265,
           0.08615925646822406,
           0.06985681989449886,
           0.166164280331575,
           0.020522481788495354,
           0.03579502637528259,
           0.10695805074101984,
           0.04333082140165787,
           0.01733232856066315,
           0.13782969103240392,
           0.04016578749058026,
           0.05420748555639287,
           0.02579753830695805,
           0.009645817633760361,
           0.00811353931173072,
           0.005827681487063552,
           0.002361215774930922
          ]
         },
         "node": {
          "label": [
           "Other",
           "Canada",
           "Dominican Republic",
           "Bahamas",
           "Cuba",
           "Puerto Rico",
           "Jamaica",
           "United States of America",
           "Other"
          ],
          "line": {
           "color": "black",
           "width": 0.3
          },
          "pad": 15,
          "thickness": 20
         },
         "type": "sankey"
        }
       ],
       "layout": {
        "autosize": true,
        "template": {
         "data": {
          "bar": [
           {
            "error_x": {
             "color": "#2a3f5f"
            },
            "error_y": {
             "color": "#2a3f5f"
            },
            "marker": {
             "line": {
              "color": "white",
              "width": 0.5
             },
             "pattern": {
              "fillmode": "overlay",
              "size": 10,
              "solidity": 0.2
             }
            },
            "type": "bar"
           }
          ],
          "barpolar": [
           {
            "marker": {
             "line": {
              "color": "white",
              "width": 0.5
             },
             "pattern": {
              "fillmode": "overlay",
              "size": 10,
              "solidity": 0.2
             }
            },
            "type": "barpolar"
           }
          ],
          "carpet": [
           {
            "aaxis": {
             "endlinecolor": "#2a3f5f",
             "gridcolor": "#C8D4E3",
             "linecolor": "#C8D4E3",
             "minorgridcolor": "#C8D4E3",
             "startlinecolor": "#2a3f5f"
            },
            "baxis": {
             "endlinecolor": "#2a3f5f",
             "gridcolor": "#C8D4E3",
             "linecolor": "#C8D4E3",
             "minorgridcolor": "#C8D4E3",
             "startlinecolor": "#2a3f5f"
            },
            "type": "carpet"
           }
          ],
          "choropleth": [
           {
            "colorbar": {
             "outlinewidth": 0,
             "ticks": ""
            },
            "type": "choropleth"
           }
          ],
          "contour": [
           {
            "colorbar": {
             "outlinewidth": 0,
             "ticks": ""
            },
            "colorscale": [
             [
              0,
              "#0d0887"
             ],
             [
              0.1111111111111111,
              "#46039f"
             ],
             [
              0.2222222222222222,
              "#7201a8"
             ],
             [
              0.3333333333333333,
              "#9c179e"
             ],
             [
              0.4444444444444444,
              "#bd3786"
             ],
             [
              0.5555555555555556,
              "#d8576b"
             ],
             [
              0.6666666666666666,
              "#ed7953"
             ],
             [
              0.7777777777777778,
              "#fb9f3a"
             ],
             [
              0.8888888888888888,
              "#fdca26"
             ],
             [
              1,
              "#f0f921"
             ]
            ],
            "type": "contour"
           }
          ],
          "contourcarpet": [
           {
            "colorbar": {
             "outlinewidth": 0,
             "ticks": ""
            },
            "type": "contourcarpet"
           }
          ],
          "heatmap": [
           {
            "colorbar": {
             "outlinewidth": 0,
             "ticks": ""
            },
            "colorscale": [
             [
              0,
              "#0d0887"
             ],
             [
              0.1111111111111111,
              "#46039f"
             ],
             [
              0.2222222222222222,
              "#7201a8"
             ],
             [
              0.3333333333333333,
              "#9c179e"
             ],
             [
              0.4444444444444444,
              "#bd3786"
             ],
             [
              0.5555555555555556,
              "#d8576b"
             ],
             [
              0.6666666666666666,
              "#ed7953"
             ],
             [
              0.7777777777777778,
              "#fb9f3a"
             ],
             [
              0.8888888888888888,
              "#fdca26"
             ],
             [
              1,
              "#f0f921"
             ]
            ],
            "type": "heatmap"
           }
          ],
          "heatmapgl": [
           {
            "colorbar": {
             "outlinewidth": 0,
             "ticks": ""
            },
            "colorscale": [
             [
              0,
              "#0d0887"
             ],
             [
              0.1111111111111111,
              "#46039f"
             ],
             [
              0.2222222222222222,
              "#7201a8"
             ],
             [
              0.3333333333333333,
              "#9c179e"
             ],
             [
              0.4444444444444444,
              "#bd3786"
             ],
             [
              0.5555555555555556,
              "#d8576b"
             ],
             [
              0.6666666666666666,
              "#ed7953"
             ],
             [
              0.7777777777777778,
              "#fb9f3a"
             ],
             [
              0.8888888888888888,
              "#fdca26"
             ],
             [
              1,
              "#f0f921"
             ]
            ],
            "type": "heatmapgl"
           }
          ],
          "histogram": [
           {
            "marker": {
             "pattern": {
              "fillmode": "overlay",
              "size": 10,
              "solidity": 0.2
             }
            },
            "type": "histogram"
           }
          ],
          "histogram2d": [
           {
            "colorbar": {
             "outlinewidth": 0,
             "ticks": ""
            },
            "colorscale": [
             [
              0,
              "#0d0887"
             ],
             [
              0.1111111111111111,
              "#46039f"
             ],
             [
              0.2222222222222222,
              "#7201a8"
             ],
             [
              0.3333333333333333,
              "#9c179e"
             ],
             [
              0.4444444444444444,
              "#bd3786"
             ],
             [
              0.5555555555555556,
              "#d8576b"
             ],
             [
              0.6666666666666666,
              "#ed7953"
             ],
             [
              0.7777777777777778,
              "#fb9f3a"
             ],
             [
              0.8888888888888888,
              "#fdca26"
             ],
             [
              1,
              "#f0f921"
             ]
            ],
            "type": "histogram2d"
           }
          ],
          "histogram2dcontour": [
           {
            "colorbar": {
             "outlinewidth": 0,
             "ticks": ""
            },
            "colorscale": [
             [
              0,
              "#0d0887"
             ],
             [
              0.1111111111111111,
              "#46039f"
             ],
             [
              0.2222222222222222,
              "#7201a8"
             ],
             [
              0.3333333333333333,
              "#9c179e"
             ],
             [
              0.4444444444444444,
              "#bd3786"
             ],
             [
              0.5555555555555556,
              "#d8576b"
             ],
             [
              0.6666666666666666,
              "#ed7953"
             ],
             [
              0.7777777777777778,
              "#fb9f3a"
             ],
             [
              0.8888888888888888,
              "#fdca26"
             ],
             [
              1,
              "#f0f921"
             ]
            ],
            "type": "histogram2dcontour"
           }
          ],
          "mesh3d": [
           {
            "colorbar": {
             "outlinewidth": 0,
             "ticks": ""
            },
            "type": "mesh3d"
           }
          ],
          "parcoords": [
           {
            "line": {
             "colorbar": {
              "outlinewidth": 0,
              "ticks": ""
             }
            },
            "type": "parcoords"
           }
          ],
          "pie": [
           {
            "automargin": true,
            "type": "pie"
           }
          ],
          "scatter": [
           {
            "fillpattern": {
             "fillmode": "overlay",
             "size": 10,
             "solidity": 0.2
            },
            "type": "scatter"
           }
          ],
          "scatter3d": [
           {
            "line": {
             "colorbar": {
              "outlinewidth": 0,
              "ticks": ""
             }
            },
            "marker": {
             "colorbar": {
              "outlinewidth": 0,
              "ticks": ""
             }
            },
            "type": "scatter3d"
           }
          ],
          "scattercarpet": [
           {
            "marker": {
             "colorbar": {
              "outlinewidth": 0,
              "ticks": ""
             }
            },
            "type": "scattercarpet"
           }
          ],
          "scattergeo": [
           {
            "marker": {
             "colorbar": {
              "outlinewidth": 0,
              "ticks": ""
             }
            },
            "type": "scattergeo"
           }
          ],
          "scattergl": [
           {
            "marker": {
             "colorbar": {
              "outlinewidth": 0,
              "ticks": ""
             }
            },
            "type": "scattergl"
           }
          ],
          "scattermapbox": [
           {
            "marker": {
             "colorbar": {
              "outlinewidth": 0,
              "ticks": ""
             }
            },
            "type": "scattermapbox"
           }
          ],
          "scatterpolar": [
           {
            "marker": {
             "colorbar": {
              "outlinewidth": 0,
              "ticks": ""
             }
            },
            "type": "scatterpolar"
           }
          ],
          "scatterpolargl": [
           {
            "marker": {
             "colorbar": {
              "outlinewidth": 0,
              "ticks": ""
             }
            },
            "type": "scatterpolargl"
           }
          ],
          "scatterternary": [
           {
            "marker": {
             "colorbar": {
              "outlinewidth": 0,
              "ticks": ""
             }
            },
            "type": "scatterternary"
           }
          ],
          "surface": [
           {
            "colorbar": {
             "outlinewidth": 0,
             "ticks": ""
            },
            "colorscale": [
             [
              0,
              "#0d0887"
             ],
             [
              0.1111111111111111,
              "#46039f"
             ],
             [
              0.2222222222222222,
              "#7201a8"
             ],
             [
              0.3333333333333333,
              "#9c179e"
             ],
             [
              0.4444444444444444,
              "#bd3786"
             ],
             [
              0.5555555555555556,
              "#d8576b"
             ],
             [
              0.6666666666666666,
              "#ed7953"
             ],
             [
              0.7777777777777778,
              "#fb9f3a"
             ],
             [
              0.8888888888888888,
              "#fdca26"
             ],
             [
              1,
              "#f0f921"
             ]
            ],
            "type": "surface"
           }
          ],
          "table": [
           {
            "cells": {
             "fill": {
              "color": "#EBF0F8"
             },
             "line": {
              "color": "white"
             }
            },
            "header": {
             "fill": {
              "color": "#C8D4E3"
             },
             "line": {
              "color": "white"
             }
            },
            "type": "table"
           }
          ]
         },
         "layout": {
          "annotationdefaults": {
           "arrowcolor": "#2a3f5f",
           "arrowhead": 0,
           "arrowwidth": 1
          },
          "autotypenumbers": "strict",
          "coloraxis": {
           "colorbar": {
            "outlinewidth": 0,
            "ticks": ""
           }
          },
          "colorscale": {
           "diverging": [
            [
             0,
             "#003f5c"
            ],
            [
             0.16666666666666666,
             "#577187"
            ],
            [
             0.3333333333333333,
             "#9ca8b4"
            ],
            [
             0.5,
             "#e2e2e2"
            ],
            [
             0.6666666666666666,
             "#d0a2af"
            ],
            [
             0.8333333333333334,
             "#b8637e"
            ],
            [
             1,
             "#9a1050"
            ]
           ],
           "sequential": [
            [
             0,
             "#003f5c"
            ],
            [
             0.14285714285714285,
             "#2f4b7c"
            ],
            [
             0.2857142857142857,
             "#665191"
            ],
            [
             0.42857142857142855,
             "#a05195"
            ],
            [
             0.5714285714285714,
             "#d45087"
            ],
            [
             0.7142857142857143,
             "#f95d6a"
            ],
            [
             0.8571428571428571,
             "#ff7c43"
            ],
            [
             1,
             "#ffa600"
            ]
           ],
           "sequentialminus": [
            [
             0,
             "#0d0887"
            ],
            [
             0.1111111111111111,
             "#46039f"
            ],
            [
             0.2222222222222222,
             "#7201a8"
            ],
            [
             0.3333333333333333,
             "#9c179e"
            ],
            [
             0.4444444444444444,
             "#bd3786"
            ],
            [
             0.5555555555555556,
             "#d8576b"
            ],
            [
             0.6666666666666666,
             "#ed7953"
            ],
            [
             0.7777777777777778,
             "#fb9f3a"
            ],
            [
             0.8888888888888888,
             "#fdca26"
            ],
            [
             1,
             "#f0f921"
            ]
           ]
          },
          "colorway": [
           "#428299",
           "#67C4D3",
           "#F48A64",
           "#77C6B1",
           "#F2D65F",
           "#80A4CE",
           "#CC9EB1",
           "#BFD88F",
           "#8E8E8E"
          ],
          "font": {
           "color": "black",
           "family": "PT Sans Narrow",
           "size": 14
          },
          "geo": {
           "bgcolor": "white",
           "lakecolor": "white",
           "landcolor": "white",
           "showlakes": true,
           "showland": true,
           "subunitcolor": "#C8D4E3"
          },
          "hoverlabel": {
           "align": "left"
          },
          "hovermode": "closest",
          "mapbox": {
           "style": "light"
          },
          "paper_bgcolor": "white",
          "plot_bgcolor": "white",
          "polar": {
           "angularaxis": {
            "gridcolor": "#EBF0F8",
            "linecolor": "#EBF0F8",
            "ticks": ""
           },
           "bgcolor": "white",
           "radialaxis": {
            "gridcolor": "#EBF0F8",
            "linecolor": "#EBF0F8",
            "ticks": ""
           }
          },
          "scene": {
           "xaxis": {
            "backgroundcolor": "white",
            "gridcolor": "#DFE8F3",
            "gridwidth": 2,
            "linecolor": "#EBF0F8",
            "showbackground": true,
            "ticks": "",
            "zerolinecolor": "#EBF0F8"
           },
           "yaxis": {
            "backgroundcolor": "white",
            "gridcolor": "#DFE8F3",
            "gridwidth": 2,
            "linecolor": "#EBF0F8",
            "showbackground": true,
            "ticks": "",
            "zerolinecolor": "#EBF0F8"
           },
           "zaxis": {
            "backgroundcolor": "white",
            "gridcolor": "#DFE8F3",
            "gridwidth": 2,
            "linecolor": "#EBF0F8",
            "showbackground": true,
            "ticks": "",
            "zerolinecolor": "#EBF0F8"
           }
          },
          "shapedefaults": {
           "line": {
            "color": "#428299"
           }
          },
          "ternary": {
           "aaxis": {
            "gridcolor": "#DFE8F3",
            "linecolor": "#A2B1C6",
            "ticks": ""
           },
           "baxis": {
            "gridcolor": "#DFE8F3",
            "linecolor": "#A2B1C6",
            "ticks": ""
           },
           "bgcolor": "white",
           "caxis": {
            "gridcolor": "#DFE8F3",
            "linecolor": "#A2B1C6",
            "ticks": ""
           }
          },
          "title": {
           "font": {
            "color": "black",
            "size": 28,
            "weight": 400
           },
           "subtitle": {
            "font": {
             "color": "#373737",
             "size": 14,
             "weight": 200
            }
           },
           "x": 0.5,
           "y": 0.95,
           "yref": "container"
          },
          "xaxis": {
           "automargin": true,
           "gridcolor": "#EBF0F8",
           "linecolor": "#EBF0F8",
           "ticks": "",
           "title": {
            "standoff": 15
           },
           "zerolinecolor": "#EBF0F8",
           "zerolinewidth": 2
          },
          "yaxis": {
           "automargin": true,
           "gridcolor": "#EBF0F8",
           "linecolor": "#EBF0F8",
           "ticks": "",
           "title": {
            "standoff": 15
           },
           "zerolinecolor": "#EBF0F8",
           "zerolinewidth": 2
          }
         }
        },
        "title": {
         "text": "<b>Flow of Importation Sankey</b><br><span style='font-size: 12px;'>From 2009-01-01 to 2010-12-31.</span>",
         "x": 0.5,
         "y": 0.9
        }
       }
      },
      "image/png": "[encoded data removed]",
      "text/html": [
       "<div>                            <div id=\"0ce6b153-14a6-4abe-beec-3d7f95250d13\" class=\"plotly-graph-div\" style=\"height:525px; width:100%;\"></div>            <script type=\"text/javascript\">                require([\"plotly\"], function(Plotly) {                    window.PLOTLYENV=window.PLOTLYENV || {};                                    if (document.getElementById(\"0ce6b153-14a6-4abe-beec-3d7f95250d13\")) {                    Plotly.newPlot(                        \"0ce6b153-14a6-4abe-beec-3d7f95250d13\",                        [{\"link\":{\"source\":[4,2,6,3,8,6,2,5,4,5,8,4,2,8,6,3,3,5],\"target\":[7,7,7,7,7,1,1,7,0,0,0,1,0,1,0,1,0,1],\"value\":[0.032328560663149965,0.13760361718161265,0.08615925646822406,0.06985681989449886,0.166164280331575,0.020522481788495354,0.03579502637528259,0.10695805074101984,0.04333082140165787,0.01733232856066315,0.13782969103240392,0.04016578749058026,0.05420748555639287,0.02579753830695805,0.009645817633760361,0.00811353931173072,0.005827681487063552,0.002361215774930922]},\"node\":{\"label\":[\"Other\",\"Canada\",\"Dominican Republic\",\"Bahamas\",\"Cuba\",\"Puerto Rico\",\"Jamaica\",\"United States of America\",\"Other\"],\"line\":{\"color\":\"black\",\"width\":0.3},\"pad\":15,\"thickness\":20},\"type\":\"sankey\"}],                        {\"template\":{\"data\":{\"barpolar\":[{\"marker\":{\"line\":{\"color\":\"white\",\"width\":0.5},\"pattern\":{\"fillmode\":\"overlay\",\"size\":10,\"solidity\":0.2}},\"type\":\"barpolar\"}],\"bar\":[{\"error_x\":{\"color\":\"#2a3f5f\"},\"error_y\":{\"color\":\"#2a3f5f\"},\"marker\":{\"line\":{\"color\":\"white\",\"width\":0.5},\"pattern\":{\"fillmode\":\"overlay\",\"size\":10,\"solidity\":0.2}},\"type\":\"bar\"}],\"carpet\":[{\"aaxis\":{\"endlinecolor\":\"#2a3f5f\",\"gridcolor\":\"#C8D4E3\",\"linecolor\":\"#C8D4E3\",\"minorgridcolor\":\"#C8D4E3\",\"startlinecolor\":\"#2a3f5f\"},\"baxis\":{\"endlinecolor\":\"#2a3f5f\",\"gridcolor\":\"#C8D4E3\",\"linecolor\":\"#C8D4E3\",\"minorgridcolor\":\"#C8D4E3\",\"startlinecolor\":\"#2a3f5f\"},\"type\":\"carpet\"}],\"choropleth\":[{\"colorbar\":{\"outlinewidth\":0,\"ticks\":\"\"},\"type\":\"choropleth\"}],\"contourcarpet\":[{\"colorbar\":{\"outlinewidth\":0,\"ticks\":\"\"},\"type\":\"contourcarpet\"}],\"contour\":[{\"colorbar\":{\"outlinewidth\":0,\"ticks\":\"\"},\"colorscale\":[[0.0,\"#0d0887\"],[0.1111111111111111,\"#46039f\"],[0.2222222222222222,\"#7201a8\"],[0.3333333333333333,\"#9c179e\"],[0.4444444444444444,\"#bd3786\"],[0.5555555555555556,\"#d8576b\"],[0.6666666666666666,\"#ed7953\"],[0.7777777777777778,\"#fb9f3a\"],[0.8888888888888888,\"#fdca26\"],[1.0,\"#f0f921\"]],\"type\":\"contour\"}],\"heatmapgl\":[{\"colorbar\":{\"outlinewidth\":0,\"ticks\":\"\"},\"colorscale\":[[0.0,\"#0d0887\"],[0.1111111111111111,\"#46039f\"],[0.2222222222222222,\"#7201a8\"],[0.3333333333333333,\"#9c179e\"],[0.4444444444444444,\"#bd3786\"],[0.5555555555555556,\"#d8576b\"],[0.6666666666666666,\"#ed7953\"],[0.7777777777777778,\"#fb9f3a\"],[0.8888888888888888,\"#fdca26\"],[1.0,\"#f0f921\"]],\"type\":\"heatmapgl\"}],\"heatmap\":[{\"colorbar\":{\"outlinewidth\":0,\"ticks\":\"\"},\"colorscale\":[[0.0,\"#0d0887\"],[0.1111111111111111,\"#46039f\"],[0.2222222222222222,\"#7201a8\"],[0.3333333333333333,\"#9c179e\"],[0.4444444444444444,\"#bd3786\"],[0.5555555555555556,\"#d8576b\"],[0.6666666666666666,\"#ed7953\"],[0.7777777777777778,\"#fb9f3a\"],[0.8888888888888888,\"#fdca26\"],[1.0,\"#f0f921\"]],\"type\":\"heatmap\"}],\"histogram2dcontour\":[{\"colorbar\":{\"outlinewidth\":0,\"ticks\":\"\"},\"colorscale\":[[0.0,\"#0d0887\"],[0.1111111111111111,\"#46039f\"],[0.2222222222222222,\"#7201a8\"],[0.3333333333333333,\"#9c179e\"],[0.4444444444444444,\"#bd3786\"],[0.5555555555555556,\"#d8576b\"],[0.6666666666666666,\"#ed7953\"],[0.7777777777777778,\"#fb9f3a\"],[0.8888888888888888,\"#fdca26\"],[1.0,\"#f0f921\"]],\"type\":\"histogram2dcontour\"}],\"histogram2d\":[{\"colorbar\":{\"outlinewidth\":0,\"ticks\":\"\"},\"colorscale\":[[0.0,\"#0d0887\"],[0.1111111111111111,\"#46039f\"],[0.2222222222222222,\"#7201a8\"],[0.3333333333333333,\"#9c179e\"],[0.4444444444444444,\"#bd3786\"],[0.5555555555555556,\"#d8576b\"],[0.6666666666666666,\"#ed7953\"],[0.7777777777777778,\"#fb9f3a\"],[0.8888888888888888,\"#fdca26\"],[1.0,\"#f0f921\"]],\"type\":\"histogram2d\"}],\"histogram\":[{\"marker\":{\"pattern\":{\"fillmode\":\"overlay\",\"size\":10,\"solidity\":0.2}},\"type\":\"histogram\"}],\"mesh3d\":[{\"colorbar\":{\"outlinewidth\":0,\"ticks\":\"\"},\"type\":\"mesh3d\"}],\"parcoords\":[{\"line\":{\"colorbar\":{\"outlinewidth\":0,\"ticks\":\"\"}},\"type\":\"parcoords\"}],\"pie\":[{\"automargin\":true,\"type\":\"pie\"}],\"scatter3d\":[{\"line\":{\"colorbar\":{\"outlinewidth\":0,\"ticks\":\"\"}},\"marker\":{\"colorbar\":{\"outlinewidth\":0,\"ticks\":\"\"}},\"type\":\"scatter3d\"}],\"scattercarpet\":[{\"marker\":{\"colorbar\":{\"outlinewidth\":0,\"ticks\":\"\"}},\"type\":\"scattercarpet\"}],\"scattergeo\":[{\"marker\":{\"colorbar\":{\"outlinewidth\":0,\"ticks\":\"\"}},\"type\":\"scattergeo\"}],\"scattergl\":[{\"marker\":{\"colorbar\":{\"outlinewidth\":0,\"ticks\":\"\"}},\"type\":\"scattergl\"}],\"scattermapbox\":[{\"marker\":{\"colorbar\":{\"outlinewidth\":0,\"ticks\":\"\"}},\"type\":\"scattermapbox\"}],\"scatterpolargl\":[{\"marker\":{\"colorbar\":{\"outlinewidth\":0,\"ticks\":\"\"}},\"type\":\"scatterpolargl\"}],\"scatterpolar\":[{\"marker\":{\"colorbar\":{\"outlinewidth\":0,\"ticks\":\"\"}},\"type\":\"scatterpolar\"}],\"scatter\":[{\"fillpattern\":{\"fillmode\":\"overlay\",\"size\":10,\"solidity\":0.2},\"type\":\"scatter\"}],\"scatterternary\":[{\"marker\":{\"colorbar\":{\"outlinewidth\":0,\"ticks\":\"\"}},\"type\":\"scatterternary\"}],\"surface\":[{\"colorbar\":{\"outlinewidth\":0,\"ticks\":\"\"},\"colorscale\":[[0.0,\"#0d0887\"],[0.1111111111111111,\"#46039f\"],[0.2222222222222222,\"#7201a8\"],[0.3333333333333333,\"#9c179e\"],[0.4444444444444444,\"#bd3786\"],[0.5555555555555556,\"#d8576b\"],[0.6666666666666666,\"#ed7953\"],[0.7777777777777778,\"#fb9f3a\"],[0.8888888888888888,\"#fdca26\"],[1.0,\"#f0f921\"]],\"type\":\"surface\"}],\"table\":[{\"cells\":{\"fill\":{\"color\":\"#EBF0F8\"},\"line\":{\"color\":\"white\"}},\"header\":{\"fill\":{\"color\":\"#C8D4E3\"},\"line\":{\"color\":\"white\"}},\"type\":\"table\"}]},\"layout\":{\"annotationdefaults\":{\"arrowcolor\":\"#2a3f5f\",\"arrowhead\":0,\"arrowwidth\":1},\"autotypenumbers\":\"strict\",\"coloraxis\":{\"colorbar\":{\"outlinewidth\":0,\"ticks\":\"\"}},\"colorscale\":{\"diverging\":[[0.0,\"#003f5c\"],[0.16666666666666666,\"#577187\"],[0.3333333333333333,\"#9ca8b4\"],[0.5,\"#e2e2e2\"],[0.6666666666666666,\"#d0a2af\"],[0.8333333333333334,\"#b8637e\"],[1.0,\"#9a1050\"]],\"sequential\":[[0.0,\"#003f5c\"],[0.14285714285714285,\"#2f4b7c\"],[0.2857142857142857,\"#665191\"],[0.42857142857142855,\"#a05195\"],[0.5714285714285714,\"#d45087\"],[0.7142857142857143,\"#f95d6a\"],[0.8571428571428571,\"#ff7c43\"],[1.0,\"#ffa600\"]],\"sequentialminus\":[[0.0,\"#0d0887\"],[0.1111111111111111,\"#46039f\"],[0.2222222222222222,\"#7201a8\"],[0.3333333333333333,\"#9c179e\"],[0.4444444444444444,\"#bd3786\"],[0.5555555555555556,\"#d8576b\"],[0.6666666666666666,\"#ed7953\"],[0.7777777777777778,\"#fb9f3a\"],[0.8888888888888888,\"#fdca26\"],[1.0,\"#f0f921\"]]},\"colorway\":[\"#428299\",\"#67C4D3\",\"#F48A64\",\"#77C6B1\",\"#F2D65F\",\"#80A4CE\",\"#CC9EB1\",\"#BFD88F\",\"#8E8E8E\"],\"font\":{\"color\":\"black\",\"family\":\"PT Sans Narrow\",\"size\":14},\"geo\":{\"bgcolor\":\"white\",\"lakecolor\":\"white\",\"landcolor\":\"white\",\"showlakes\":true,\"showland\":true,\"subunitcolor\":\"#C8D4E3\"},\"hoverlabel\":{\"align\":\"left\"},\"hovermode\":\"closest\",\"mapbox\":{\"style\":\"light\"},\"paper_bgcolor\":\"white\",\"plot_bgcolor\":\"white\",\"polar\":{\"angularaxis\":{\"gridcolor\":\"#EBF0F8\",\"linecolor\":\"#EBF0F8\",\"ticks\":\"\"},\"bgcolor\":\"white\",\"radialaxis\":{\"gridcolor\":\"#EBF0F8\",\"linecolor\":\"#EBF0F8\",\"ticks\":\"\"}},\"scene\":{\"xaxis\":{\"backgroundcolor\":\"white\",\"gridcolor\":\"#DFE8F3\",\"gridwidth\":2,\"linecolor\":\"#EBF0F8\",\"showbackground\":true,\"ticks\":\"\",\"zerolinecolor\":\"#EBF0F8\"},\"yaxis\":{\"backgroundcolor\":\"white\",\"gridcolor\":\"#DFE8F3\",\"gridwidth\":2,\"linecolor\":\"#EBF0F8\",\"showbackground\":true,\"ticks\":\"\",\"zerolinecolor\":\"#EBF0F8\"},\"zaxis\":{\"backgroundcolor\":\"white\",\"gridcolor\":\"#DFE8F3\",\"gridwidth\":2,\"linecolor\":\"#EBF0F8\",\"showbackground\":true,\"ticks\":\"\",\"zerolinecolor\":\"#EBF0F8\"}},\"shapedefaults\":{\"line\":{\"color\":\"#428299\"}},\"ternary\":{\"aaxis\":{\"gridcolor\":\"#DFE8F3\",\"linecolor\":\"#A2B1C6\",\"ticks\":\"\"},\"baxis\":{\"gridcolor\":\"#DFE8F3\",\"linecolor\":\"#A2B1C6\",\"ticks\":\"\"},\"bgcolor\":\"white\",\"caxis\":{\"gridcolor\":\"#DFE8F3\",\"linecolor\":\"#A2B1C6\",\"ticks\":\"\"}},\"title\":{\"font\":{\"color\":\"black\",\"size\":28,\"weight\":400},\"subtitle\":{\"font\":{\"color\":\"#373737\",\"size\":14,\"weight\":200}},\"x\":0.5,\"y\":0.95,\"yref\":\"container\"},\"xaxis\":{\"automargin\":true,\"gridcolor\":\"#EBF0F8\",\"linecolor\":\"#EBF0F8\",\"ticks\":\"\",\"title\":{\"standoff\":15},\"zerolinecolor\":\"#EBF0F8\",\"zerolinewidth\":2},\"yaxis\":{\"automargin\":true,\"gridcolor\":\"#EBF0F8\",\"linecolor\":\"#EBF0F8\",\"ticks\":\"\",\"title\":{\"standoff\":15},\"zerolinecolor\":\"#EBF0F8\",\"zerolinewidth\":2}}},\"title\":{\"text\":\"\\u003cb\\u003eFlow of Importation Sankey\\u003c\\u002fb\\u003e\\u003cbr\\u003e\\u003cspan style='font-size: 12px;'\\u003eFrom 2009-01-01 to 2010-12-31.\\u003c\\u002fspan\\u003e\",\"x\":0.5,\"y\":0.9}},                        {\"responsive\": true}                    ).then(function(){\n",
       "                            \n",
       "var gd = document.getElementById('0ce6b153-14a6-4abe-beec-3d7f95250d13');\n",
       "var x = new MutationObserver(function (mutations, observer) {{\n",
       "        var display = window.getComputedStyle(gd).display;\n",
       "        if (!display || display === 'none') {{\n",
       "            console.log([gd, 'removed!']);\n",
       "            Plotly.purge(gd);\n",
       "            observer.disconnect();\n",
       "        }}\n",
       "}});\n",
       "\n",
       "// Listen for the removal of the full notebook cells\n",
       "var notebookContainer = gd.closest('#notebook-container');\n",
       "if (notebookContainer) {{\n",
       "    x.observe(notebookContainer, {childList: true});\n",
       "}}\n",
       "\n",
       "// Listen for the clearing of the current output cell\n",
       "var outputEl = gd.closest('.output');\n",
       "if (outputEl) {{\n",
       "    x.observe(outputEl, {childList: true});\n",
       "}}\n",
       "\n",
       "                        })                };                });            </script>        </div>"
      ]
     },
     "metadata": {},
     "output_type": "display_data"
    }
   ],
   "source": [
    "# Create a set of unique node IDs from both sourceid and targetid\n",
    "unique_ids = set(df['sourceid']).union(set(df['targetid']))\n",
    "\n",
    "# Create mapping for indices\n",
    "dict_indices = {id_: idx for idx, id_ in enumerate(unique_ids)}\n",
    "\n",
    "# Create mapping for labels (using the first occurrence of each name)\n",
    "name_mapping = {}\n",
    "for idx, row in df.iterrows():\n",
    "    name_mapping[row['sourceid']] = row['source']\n",
    "    name_mapping[row['targetid']] = row['target']\n",
    "\n",
    "# Generate source, target, and value lists for the Sankey diagram\n",
    "source = df['sourceid'].map(dict_indices)\n",
    "target = df['targetid'].map(dict_indices)\n",
    "value = df['exportations']\n",
    "\n",
    "# Create Sankey diagram\n",
    "fig = go.Figure(go.Sankey(\n",
    "    node=dict(\n",
    "        pad=15,\n",
    "        thickness=20,\n",
    "        line=dict(color='black', width=0.3),\n",
    "        label=[name_mapping[id_] for id_ in dict_indices.keys()],  # Use names as node labels\n",
    "    ),\n",
    "    link=dict(\n",
    "        source=source,  # Use mapped source indices\n",
    "        target=target,  # Use mapped target indices\n",
    "        value=value,\n",
    "    )\n",
    "))\n",
    "\n",
    "fig.update_layout(\n",
    "    title={\n",
    "        'text': f\"<b>Flow of Importation Sankey</b><br>\\\n",
    "<span style='font-size: 12px;'>From {date_range[0]} to {date_range[1]}.</span>\",\n",
    "        'x': 0.5,\n",
    "        'y': 0.9,\n",
    "    },\n",
    "    template='netsi'\n",
    ")\n",
    "\n",
    "fig.show()"
   ]
  },
  {
   "cell_type": "code",
   "execution_count": 62,
   "id": "e49c3471-9b92-4812-b09a-c9f0544c81bc",
   "metadata": {},
   "outputs": [],
   "source": [
    "def fetch_sankey_data(fig):\n",
    "    source = fig.data[0].link.source\n",
    "    target = fig.data[0].link.target\n",
    "    value = fig.data[0].link.value\n",
    "    df = pd.DataFrame({'source': source, 'target': target, 'value': value})\n",
    "    df[['source', 'target']] = df[['source', 'target']].replace(dict(enumerate(fig.data[0].node.label)))\n",
    "    return df"
   ]
  },
  {
   "cell_type": "code",
   "execution_count": 63,
   "id": "f7063542-5ef6-41d1-a92f-2ad1f40721e3",
   "metadata": {},
   "outputs": [
    {
     "data": {
      "text/html": [
       "<div>\n",
       "<style scoped>\n",
       "    .dataframe tbody tr th:only-of-type {\n",
       "        vertical-align: middle;\n",
       "    }\n",
       "\n",
       "    .dataframe tbody tr th {\n",
       "        vertical-align: top;\n",
       "    }\n",
       "\n",
       "    .dataframe thead th {\n",
       "        text-align: right;\n",
       "    }\n",
       "</style>\n",
       "<table border=\"1\" class=\"dataframe\">\n",
       "  <thead>\n",
       "    <tr style=\"text-align: right;\">\n",
       "      <th></th>\n",
       "      <th>source</th>\n",
       "      <th>target</th>\n",
       "      <th>value</th>\n",
       "    </tr>\n",
       "  </thead>\n",
       "  <tbody>\n",
       "    <tr>\n",
       "      <th>0</th>\n",
       "      <td>Cuba</td>\n",
       "      <td>United States of America</td>\n",
       "      <td>0.032329</td>\n",
       "    </tr>\n",
       "    <tr>\n",
       "      <th>1</th>\n",
       "      <td>Dominican Republic</td>\n",
       "      <td>United States of America</td>\n",
       "      <td>0.137604</td>\n",
       "    </tr>\n",
       "    <tr>\n",
       "      <th>2</th>\n",
       "      <td>Jamaica</td>\n",
       "      <td>United States of America</td>\n",
       "      <td>0.086159</td>\n",
       "    </tr>\n",
       "    <tr>\n",
       "      <th>3</th>\n",
       "      <td>Bahamas</td>\n",
       "      <td>United States of America</td>\n",
       "      <td>0.069857</td>\n",
       "    </tr>\n",
       "    <tr>\n",
       "      <th>4</th>\n",
       "      <td>Other</td>\n",
       "      <td>United States of America</td>\n",
       "      <td>0.166164</td>\n",
       "    </tr>\n",
       "    <tr>\n",
       "      <th>5</th>\n",
       "      <td>Jamaica</td>\n",
       "      <td>Canada</td>\n",
       "      <td>0.020522</td>\n",
       "    </tr>\n",
       "    <tr>\n",
       "      <th>6</th>\n",
       "      <td>Dominican Republic</td>\n",
       "      <td>Canada</td>\n",
       "      <td>0.035795</td>\n",
       "    </tr>\n",
       "    <tr>\n",
       "      <th>7</th>\n",
       "      <td>Puerto Rico</td>\n",
       "      <td>United States of America</td>\n",
       "      <td>0.106958</td>\n",
       "    </tr>\n",
       "    <tr>\n",
       "      <th>8</th>\n",
       "      <td>Cuba</td>\n",
       "      <td>Other</td>\n",
       "      <td>0.043331</td>\n",
       "    </tr>\n",
       "    <tr>\n",
       "      <th>9</th>\n",
       "      <td>Puerto Rico</td>\n",
       "      <td>Other</td>\n",
       "      <td>0.017332</td>\n",
       "    </tr>\n",
       "    <tr>\n",
       "      <th>10</th>\n",
       "      <td>Other</td>\n",
       "      <td>Other</td>\n",
       "      <td>0.137830</td>\n",
       "    </tr>\n",
       "    <tr>\n",
       "      <th>11</th>\n",
       "      <td>Cuba</td>\n",
       "      <td>Canada</td>\n",
       "      <td>0.040166</td>\n",
       "    </tr>\n",
       "    <tr>\n",
       "      <th>12</th>\n",
       "      <td>Dominican Republic</td>\n",
       "      <td>Other</td>\n",
       "      <td>0.054207</td>\n",
       "    </tr>\n",
       "    <tr>\n",
       "      <th>13</th>\n",
       "      <td>Other</td>\n",
       "      <td>Canada</td>\n",
       "      <td>0.025798</td>\n",
       "    </tr>\n",
       "    <tr>\n",
       "      <th>14</th>\n",
       "      <td>Jamaica</td>\n",
       "      <td>Other</td>\n",
       "      <td>0.009646</td>\n",
       "    </tr>\n",
       "    <tr>\n",
       "      <th>15</th>\n",
       "      <td>Bahamas</td>\n",
       "      <td>Canada</td>\n",
       "      <td>0.008114</td>\n",
       "    </tr>\n",
       "    <tr>\n",
       "      <th>16</th>\n",
       "      <td>Bahamas</td>\n",
       "      <td>Other</td>\n",
       "      <td>0.005828</td>\n",
       "    </tr>\n",
       "    <tr>\n",
       "      <th>17</th>\n",
       "      <td>Puerto Rico</td>\n",
       "      <td>Canada</td>\n",
       "      <td>0.002361</td>\n",
       "    </tr>\n",
       "  </tbody>\n",
       "</table>\n",
       "</div>"
      ],
      "text/plain": [
       "                source                    target     value\n",
       "0                 Cuba  United States of America  0.032329\n",
       "1   Dominican Republic  United States of America  0.137604\n",
       "2              Jamaica  United States of America  0.086159\n",
       "3              Bahamas  United States of America  0.069857\n",
       "4                Other  United States of America  0.166164\n",
       "5              Jamaica                    Canada  0.020522\n",
       "6   Dominican Republic                    Canada  0.035795\n",
       "7          Puerto Rico  United States of America  0.106958\n",
       "8                 Cuba                     Other  0.043331\n",
       "9          Puerto Rico                     Other  0.017332\n",
       "10               Other                     Other  0.137830\n",
       "11                Cuba                    Canada  0.040166\n",
       "12  Dominican Republic                     Other  0.054207\n",
       "13               Other                    Canada  0.025798\n",
       "14             Jamaica                     Other  0.009646\n",
       "15             Bahamas                    Canada  0.008114\n",
       "16             Bahamas                     Other  0.005828\n",
       "17         Puerto Rico                    Canada  0.002361"
      ]
     },
     "execution_count": 63,
     "metadata": {},
     "output_type": "execute_result"
    }
   ],
   "source": [
    "fetch_sankey_data(fig)"
   ]
  },
  {
   "cell_type": "markdown",
   "id": "14a54cf9",
   "metadata": {},
   "source": [
    "## Creating an relative risk plot from sankey query"
   ]
  },
  {
   "cell_type": "code",
   "execution_count": null,
   "id": "c3a1db08",
   "metadata": {
    "scrolled": true
   },
   "outputs": [],
   "source": [
    "dfrr = df[['target', 'targetid', 'exportations']].groupby(['target', 'targetid']).sum().sort_values(\n",
    "    'exportations', ascending=False).reset_index()\n",
    "dfrr"
   ]
  },
  {
   "cell_type": "code",
   "execution_count": null,
   "id": "62959031",
   "metadata": {},
   "outputs": [],
   "source": [
    "# are we accounting for everything?\n",
    "dfrr['exportations'].sum() == 1"
   ]
  },
  {
   "cell_type": "code",
   "execution_count": null,
   "id": "057e64af",
   "metadata": {},
   "outputs": [],
   "source": [
    "# Create the bar chart\n",
    "fig = px.bar(\n",
    "    dfrr.iloc[:, :], x='exportations', y='target', orientation='h', \n",
    "    labels={\n",
    "        'target': 'Target',\n",
    "        'exportations': 'Relative Risk of Importation'\n",
    "    },\n",
    "    template='netsi'\n",
    ")\n",
    "\n",
    "# Sort y-axis by exportations with \"Other\" fixed at the bottom\n",
    "fig.update_layout(\n",
    "    yaxis={'categoryorder': 'array', 'categoryarray': ['Other'] + sorted(\n",
    "        [x for x in dfrr['target'].unique() if x != 'Other'],\n",
    "        key=lambda target: dfrr.loc[dfrr['target'] == target, 'exportations'].sum(),\n",
    "        reverse=False\n",
    "    )},\n",
    "    title={\n",
    "        'text': f\"Relative Risk of Importation Chart\",\n",
    "        'x': 0.5,\n",
    "        'y': .95,\n",
    "    },\n",
    "    showlegend=False,\n",
    ")\n",
    "\n",
    "fig.show()\n"
   ]
  },
  {
   "cell_type": "markdown",
   "id": "86303a65",
   "metadata": {},
   "source": [
    "```\n",
    "table_name = \"net-data-viz-handbook.importation_data.sir_importations_1\"\n",
    "reference_table_name\n",
    "\n",
    "source_geo_level = \"region_label\" \n",
    "source_values = ['Western Europe', 'Northern Europe']  \n",
    "source_output_level = \"country_name\"\n",
    "\n",
    "target_geo_level = \"continent_label\" \n",
    "target_values = [\"North America\"]\n",
    "target_output_level = 'country_name'\n",
    "\n",
    "date_range = [\"2009-01-01\", \"2010-12-31\"]  # The date range for the data\n",
    "cutoff = 0.05  # Threshold for categorizing regions\n",
    "domestic = False\n",
    "```"
   ]
  }
 ],
 "metadata": {
  "kernelspec": {
   "display_name": "Python 3 (ipykernel)",
   "language": "python",
   "name": "python3"
  },
  "language_info": {
   "codemirror_mode": {
    "name": "ipython",
    "version": 3
   },
   "file_extension": ".py",
   "mimetype": "text/x-python",
   "name": "python",
   "nbconvert_exporter": "python",
   "pygments_lexer": "ipython3",
   "version": "3.11.9"
  }
 },
 "nbformat": 4,
 "nbformat_minor": 5
}
