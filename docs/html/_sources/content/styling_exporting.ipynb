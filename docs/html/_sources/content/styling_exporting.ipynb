{
 "cells": [
  {
   "cell_type": "markdown",
   "id": "aed7caf5-87db-4101-9bd8-41c98089c59e",
   "metadata": {},
   "source": [
    "# Modifying Visualizations\n",
    "Once you've created an visualization, it likely needs to be modified to be publication ready. This usually entails creating a title, labelling axis, and resizing the image. This documentation is synthesized from the [plotly update_layout documentation](https://plotly.com/python/reference/layout/). \n",
    "\n",
    "While somewhat complicated, [full documentation for updating figures](https://plotly.com/python/creating-and-updating-figures) is available on the plotly website, and should be used as a supplement to this documentation for doing more complex modifications to the figures produced by `epidemic-intelligence`. Plotly as a whole has excellent documentation and clear examples, and it is highly recommended that you use it if you ever get stuck. "
   ]
  },
  {
   "cell_type": "markdown",
   "id": "4aa3d3ac-ad70-4aed-9d1b-8ddf48278df6",
   "metadata": {},
   "source": [
    "## Updating the title, axis, and legend"
   ]
  },
  {
   "cell_type": "markdown",
   "id": "31d5e903-790e-4d1c-8ff3-fc9bbc35095f",
   "metadata": {},
   "source": [
    "## Setting image dimensions"
   ]
  },
  {
   "cell_type": "markdown",
   "id": "f4624009-5f7c-4f9a-a18f-eebb9c2ff4a6",
   "metadata": {},
   "source": [
    "## Setting a custom font"
   ]
  },
  {
   "cell_type": "markdown",
   "id": "aa6714ab-c019-4f72-8be7-0954ba56e70c",
   "metadata": {},
   "source": [
    "# Exporting Visualizations"
   ]
  }
 ],
 "metadata": {
  "kernelspec": {
   "display_name": "Python 3 (ipykernel)",
   "language": "python",
   "name": "python3"
  },
  "language_info": {
   "codemirror_mode": {
    "name": "ipython",
    "version": 3
   },
   "file_extension": ".py",
   "mimetype": "text/x-python",
   "name": "python",
   "nbconvert_exporter": "python",
   "pygments_lexer": "ipython3",
   "version": "3.11.9"
  }
 },
 "nbformat": 4,
 "nbformat_minor": 5
}
