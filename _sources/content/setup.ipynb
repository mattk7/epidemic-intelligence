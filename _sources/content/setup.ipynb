{
 "cells": [
  {
   "cell_type": "markdown",
   "id": "b7d470e8-ae9b-4161-b764-e8a349e75dcd",
   "metadata": {},
   "source": [
    "# Introduction to `epidemic-intelligence`\n",
    "The `epidemic-intelligence` Python library is a user-friendly module for creating publication-ready visualizations of large-scale epidemic data stored in BigQuery. It is built on top of the `plotly` and `matplotlib` graphing libraries for easy customization and image exportation. \n",
    "\n",
    "This page explains how to install `epidemic-intelligence` and its dependencies. The rest of the documentation will explain the docstrings for the user-facing functions in this library, as well as show some example applications. \n",
    "\n",
    "Please note that none of the visualizations produced as examples in this documentation are meant to be represenatative or informative, but rather to showcase the capabilities of the library. "
   ]
  },
  {
   "cell_type": "markdown",
   "id": "31f79c9f-8054-47ab-95b0-c3ee3d6f92e1",
   "metadata": {},
   "source": [
    "---\n",
    "## Installation\n",
    "`epidemic-intelligence` may be installed using pip:\n",
    "\n",
    "$ pip install epidemic-intelligence\n",
    "\n",
    "It relies on several dependencies, including [bigquery](https://cloud.google.com/python/docs/reference/bigquery/latest), [plotly](https://plotly.com/python/), [matplotlib](https://matplotlib.org/), and [networkx](https://networkx.org/documentation/stable/index.html), each of which have their own dependencies. pip will automatically try to install the correct version of these libraries, which may take a while. Once it is done, you can confirm that `epidemic-intelligence` has been installed correctly by running:\n",
    "\n",
    "$ pip show epidemic-inelligence\n",
    "\n",
    "You will then be able to import `epidemic-intelligence` into your Python environment. "
   ]
  },
  {
   "cell_type": "code",
   "execution_count": 1,
   "id": "c914abc0-5c53-4c7c-aba8-eca9e1743765",
   "metadata": {},
   "outputs": [
    {
     "name": "stdout",
     "output_type": "stream",
     "text": [
      "epidemic_intelligence\n"
     ]
    }
   ],
   "source": [
    "import epidemic_intelligence as ei\n",
    "print(ei.__name__)"
   ]
  },
  {
   "cell_type": "markdown",
   "id": "8fb78cca-9718-4d4e-8513-2e0920095686",
   "metadata": {},
   "source": [
    "---\n",
    "## Google Cloud credentials\n",
    "The first parameter of all `epidemic-intelligence` functions is a BigQuery client object, which is used to authenticate the permissions of your account. This authentification will require you to have BigQuery API credentials. To create these credentials, follow [these instructions](https://developers.google.com/workspace/guides/create-credentials#service-account).\n",
    "\n",
    "To create the client object, pass a Credentials object and the [ID of your BigQuery project](https://support.google.com/googleapi/answer/7014113?hl=en) to the bigquery.Client function, as shown below. "
   ]
  },
  {
   "cell_type": "code",
   "execution_count": 3,
   "id": "8528b7d1-25b8-4d31-a32f-a1171717467b",
   "metadata": {
    "scrolled": true
   },
   "outputs": [],
   "source": [
    "from google.oauth2 import service_account\n",
    "from google.cloud import bigquery\n",
    "\n",
    "credentials = service_account.Credentials.from_service_account_file('../../../credentials.json') # use the path to your credentials\n",
    "project = 'net-data-viz-handbook' # use your project name\n",
    "# Initialize a GC client\n",
    "client = bigquery.Client(credentials=credentials, project=project)"
   ]
  },
  {
   "cell_type": "markdown",
   "id": "92ca027b-8b1d-4235-95a9-d7963d9ed5c1",
   "metadata": {},
   "source": [
    "---\n",
    "## Reference table\n",
    "A large part of `epidemic-intelligence` is the customizable geographical aggregations that occur when you create a visualization. In order to facilitate this, many function will ask for the location of a reference table. This table should contain a set of foreign key relationships between different geographical levels. When functions request something like `output_resolution` as a parameter, they are asking for the name of a column in the reference table. This will always be indicated in the documentation. \n",
    "\n",
    "\n",
    "<img src=\"../images/sample_reference_table.png\" alt=\"Sample Reference Table\" width=\"400\" style=\"margin:auto;\"/>\n",
    "<center>Sample Reference Table</center>\n",
    "\n",
    "### Uploading a table to BigQuery\n",
    "The recommended way to add your reference table to BigQuery is to upload a CSV, which can be done using [these steps](https://cloud.google.com/bigquery/docs/loading-data-cloud-storage-csv#console) and BigQuery's graphical user interface."
   ]
  },
  {
   "cell_type": "markdown",
   "id": "5c4c384b-b294-43e3-b4e4-aa99e721d602",
   "metadata": {},
   "source": [
    "---\n",
    "## Tips and Tricks\n",
    "- Do not rely on positional arguments. These functions have many optional parameters and they get confusing quickly. Always assign parameters directly."
   ]
  }
 ],
 "metadata": {
  "kernelspec": {
   "display_name": "Python 3 (ipykernel)",
   "language": "python",
   "name": "python3"
  },
  "language_info": {
   "codemirror_mode": {
    "name": "ipython",
    "version": 3
   },
   "file_extension": ".py",
   "mimetype": "text/x-python",
   "name": "python",
   "nbconvert_exporter": "python",
   "pygments_lexer": "ipython3",
   "version": "3.11.9"
  }
 },
 "nbformat": 4,
 "nbformat_minor": 5
}
