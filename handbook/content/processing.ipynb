{
 "cells": [
  {
   "cell_type": "markdown",
   "id": "29a63b37-de82-4517-a52c-a0337ef56a03",
   "metadata": {},
   "source": [
    "# Pre-processing Data\n",
    "`epidemic-intelligence` is designed to handle large numbers of simulations, but in order to visualize importation data, we must only have one 'run' worth of data. To facilitate this, the `processing` module offers two tools for simplifying and aggregating importation data to make it ready for visualization. Additionally, SIR style data can be aggregated from date into week data. "
   ]
  },
  {
   "cell_type": "markdown",
   "id": "e48a1ff6-8c84-4115-abe0-4393b8be94ce",
   "metadata": {},
   "source": [
    "## summarize_runs\n",
    "The `processing.summarize_runs` function takes a BigQuery table containg many runs worth of data and reduces it to one run according to some method. "
   ]
  },
  {
   "cell_type": "markdown",
   "id": "5452c883-1274-4e2e-83e8-bd1a82261640",
   "metadata": {},
   "source": [
    "### Parameters\n",
    "`client` (`bigquery.Client`): BigQuery client object.\n",
    "\n",
    "`table_name` (`str`): BigQuery table name containing raw importation data in 'dataset.table' form. \n",
    "\n",
    "`destination` (`str`): Name of resulting simplified table in 'dataset.table' form.\n",
    "\n",
    "`method` (`str`, optional): Method used to determine how data is simplified. Must be one of:\n",
    "- `'median'` *(default)*: For each time and location, the median value across all runs will be used. A fixed-time metric. \n",
    "\n",
    "- `'mean'`: For each time and location, the mean value across all runs will be used. Not recommended. A fixed-time metric. \n",
    "\n",
    "- `'mbd'`: Uses modified band depth to compute the most central run, then uses that run's data for all times and locations. A curve-based metric. \n",
    "\n",
    "- `'ftvariance'`: Uses the summed variances of each run to compute the most central run, then uses that run's data for all times and locations. A curve-based metric. \n",
    "\n",
    "- `'directional'`: Similar to `'ftvariance'`, but first determines whether each `value` is increasing or decreasing at each time step, then uses the summed variances of that data to compute the most central run, then uses that run's data for all times and locations. A curve-based metric. \n",
    "\n",
    "`source_column` (`str`, optional): Name of column in original table containing source identifier. Defaults to 'source_basin'.\n",
    "\n",
    "`target_column` (`str`, optional): Name of column in original table containing target identifier. Defaults to 'target_basin'.\n",
    "\n",
    "`value_column` (`str`, optional): Name of column in original table containing value identifier, which is what is being tracked. Defaults to 'importations'.\n",
    "\n",
    "`compartment_column` (`str`, optional): Name of column in original table containing compartment identifier. Defaults to 'compartment'.\n",
    "\n",
    "---\n",
    "### Returns\n",
    "`True` if function executed to completion. \n",
    "\n",
    "---"
   ]
  },
  {
   "cell_type": "markdown",
   "id": "e94b9c78-1724-45cd-b670-9eca75520ad2",
   "metadata": {},
   "source": [
    "### Example"
   ]
  },
  {
   "cell_type": "markdown",
   "id": "797a4e91-233a-4d99-a2fe-42d4cec969de",
   "metadata": {},
   "source": [
    "<img src=\"../images/h1n1_proper.png\" alt=\"Sample Reference Table\" width=\"800\" style=\"margin:auto;\"/>"
   ]
  },
  {
   "cell_type": "markdown",
   "id": "d7bfb37e-93da-48e6-a0a3-6836751a492f",
   "metadata": {},
   "source": [
    "<center>Sample Importation Table</center>"
   ]
  },
  {
   "cell_type": "code",
   "execution_count": 1,
   "id": "abd982af-ddd6-4772-a8e7-b6d3e5239098",
   "metadata": {},
   "outputs": [
    {
     "data": {
      "text/plain": [
       "True"
      ]
     },
     "execution_count": 1,
     "metadata": {},
     "output_type": "execute_result"
    }
   ],
   "source": [
    "import epidemic_intelligence as ei\n",
    "from google.oauth2 import service_account\n",
    "from google.cloud import bigquery\n",
    "\n",
    "credentials = service_account.Credentials.from_service_account_file('../../../credentials.json') # use the path to your credentials\n",
    "project = 'net-data-viz-handbook' # use your project name\n",
    "# Initialize a GC client\n",
    "client = bigquery.Client(credentials=credentials, project=project)\n",
    "\n",
    "table_name = 'importation_data.h1n1_proper' # str, name of bigquery table\n",
    "destination = 'importation_data.h1n1_proper_simple' # str, name of place where simplified table will be stored\n",
    "\n",
    "method = 'directional' # mbd, directional, mean, median, or ftvariance\n",
    "\n",
    "source_column = 'source_basin'\n",
    "target_column = 'target_basin'\n",
    "value_column = 'importations'\n",
    "compartment_column = 'compartment' \n",
    "\n",
    "ei.summarize_runs(client,\n",
    "                     table_name,\n",
    "                     destination,\n",
    "                     method,\n",
    "                     source_column,\n",
    "                     target_column,\n",
    "                     value_column,\n",
    "                     compartment_column\n",
    ")"
   ]
  },
  {
   "cell_type": "markdown",
   "id": "cba14544-1ef8-4cdd-90c7-7a2f65ca2c6e",
   "metadata": {},
   "source": [
    "<img src=\"../images/h1n1_proper_simple.png\" alt=\"Sample Importation Table\" width=\"800\" style=\"margin:auto;\"/>\n"
   ]
  },
  {
   "cell_type": "markdown",
   "id": "85921da3-2e1b-4385-b8d0-90d5773caf45",
   "metadata": {},
   "source": [
    "<center>Summarized Importation Table. Note that all run_ids are the same. </center>"
   ]
  },
  {
   "cell_type": "markdown",
   "id": "8a0581ae-0099-43ec-baa6-83dd3afa14cc",
   "metadata": {},
   "source": [
    "## aggregate_importations\n",
    "The `processing.aggregate_importations` function allows you to aggregate by date and compartment to further customize your data for visualization. Note that many parameters carry over from the `simplify_multirun` function, but that using the same `table_name` and `destination` will cause your simplified table to be overwritten. "
   ]
  },
  {
   "cell_type": "markdown",
   "id": "768b162e-9c0b-4046-bd63-26e632f4b510",
   "metadata": {},
   "source": [
    "### Parameters\n",
    "`client` (`bigquery.Client`): BigQuery client object.\n",
    "\n",
    "`table_name` (`str`): BigQuery table name containing importation data in 'dataset.table' form. \n",
    "\n",
    "`destination` (`str`): Name of resulting aggregated table in 'dataset.table' form.\n",
    "\n",
    "`source_column` (`str`, optional): Name of column in original table containing source identifier. Defaults to 'source_basin'.\n",
    "\n",
    "`target_column` (`str`, optional): Name of column in original table containing target identifier. Defaults to 'target_basin'.\n",
    "\n",
    "`value_column` (`str`, optional): Name of column in original table containing value identifier, which is what is being tracked. Defaults to 'importations'.\n",
    "\n",
    "`run_id_column` (`str` or `None`, optional): Name of column in original table containing run ID. If None, then it is assumed all data are part of a single run. Defaults to None.\n",
    "\n",
    "`compartment_column` (`str`, optional): Name of column in original table containing compartment identifier. Defaults to 'compartment'.\n",
    "\n",
    "`compartments` (`list` or `bool`, optional): List of compartments to be combined into single compartment in aggregated table. If True, then all compartments will be aggregated. If False, then current compartments will be preserved. Defaults to False. \n",
    "\n",
    "`new_compartment` (`str`, optional): If `compartments` is not False, then `new_compartment` will be the name of the aggregated compartment that is created. Defaults to 'compartment'. \n",
    "\n",
    "`date` (`str`, optional): The unit of time that data will be aggregated to. Must be one of:\n",
    "- `'date'` *(default)*: Will preserve current dates. \n",
    "\n",
    "- `'epi'`: Will aggregate data into [CDC epiweeks](https://www.cmmcp.org/mosquito-surveillance-data/pages/epi-week-calendars-2008-2024). 'date' column of table must be of type datetime. Will create a temporary table in your BigQuery project, which is deleted upon completion. \n",
    "\n",
    "- `'iso'`: Will aggregate data into [ISO weeks](https://en.wikipedia.org/wiki/ISO_week_date). 'date' column of table must be of type datetime.\n",
    "---\n",
    "### Returns\n",
    "`True` if function executed to completion. \n",
    "\n",
    "---\n",
    "### Example"
   ]
  },
  {
   "cell_type": "code",
   "execution_count": 2,
   "id": "7e5e5638-3821-4343-b953-627e6d3ab2f3",
   "metadata": {},
   "outputs": [],
   "source": [
    "table_name = 'importation_data.h1n1_proper_simple'\n",
    "destination = 'importation_data.h1n1_proper_simple_agg' \n",
    "\n",
    "# all ported over from above\n",
    "source_column = 'source_basin'\n",
    "target_column = 'target_basin' \n",
    "value_column = 'importations'\n",
    "\n",
    "# date information\n",
    "date = 'iso'\n",
    "\n",
    "# compartment information\n",
    "compartment_column = 'compartment' \n",
    "compartments = ['Infectious_Asymp', 'Infectious_SympT'] # list, or None to include all\n",
    "new_compartment = 'Infectious' # str, or None\n",
    "\n",
    "ei.aggregate_importations(client=client,\n",
    "                   table_name=table_name,\n",
    "                   destination=destination,\n",
    "                   source_column=source_column,\n",
    "                   target_column=target_column,\n",
    "                   value_column=value_column,\n",
    "                   compartment_column=compartment_column,\n",
    "                   compartments=compartments,\n",
    "                   new_compartment=new_compartment,\n",
    "                   date=date, \n",
    "                  )"
   ]
  },
  {
   "cell_type": "markdown",
   "id": "589639c7-a8ab-4fbf-b3aa-3aaf53691061",
   "metadata": {},
   "source": [
    "<img src=\"../images/h1n1_proper_simple_agg.png\" alt=\"Sample Importation Table\" width=\"800\" style=\"margin:auto;\"/>"
   ]
  },
  {
   "cell_type": "markdown",
   "id": "add9ae1e-e497-4156-ad46-05313e1aecc6",
   "metadata": {},
   "source": [
    "<center>Aggregated Importation Table. Note that the date is now in ISO format, and the compartment has been relabeled to 'Infectious'. </center>"
   ]
  },
  {
   "cell_type": "markdown",
   "id": "9bc55c39-6da1-446d-b6e5-bcbe2cb9baf0",
   "metadata": {},
   "source": [
    "## aggregate_sir\n",
    "The `processing.aggregate_importations` function is designed to be aggregate SIR style data into ISO or epiweeks. "
   ]
  },
  {
   "cell_type": "markdown",
   "id": "7d29efba-cba7-4aaf-9963-fa52289cea72",
   "metadata": {},
   "source": [
    "### Parameters\n",
    "`client` (`bigquery.Client`): BigQuery client object.\n",
    "\n",
    "`table_name` (`str`): BigQuery table name containing importation data in 'dataset.table' form. \n",
    "\n",
    "`destination` (`str`): Name of resulting aggregated table in 'dataset.table' form.\n",
    "\n",
    "`geo_column` (`str`): Name of column in original table containing geography identifier. Defaults to 'basin_id'.\n",
    "\n",
    "`value_columns` (`dict`): Dictionary where keys are aggregated column names and values are lists of original columns, or list of column names to aggregate with the same name.\n",
    "\n",
    "`run_id_column` (`str`, optional): Name of column in original table containing run ID. Defaults to run_id.\n",
    "\n",
    "`date` (`str`, optional): The unit of time that data will be aggregated to. Must be one of:\n",
    "\n",
    "- `'epi'` (*default*): Will aggregate data into [CDC epiweeks](https://www.cmmcp.org/mosquito-surveillance-data/pages/epi-week-calendars-2008-2024). 'date' column of table must be of type datetime. Will create a temporary table in your BigQuery project, which is deleted upon completion. \n",
    "\n",
    "- `'iso'`: Will aggregate data into [ISO weeks](https://en.wikipedia.org/wiki/ISO_week_date). 'date' column of table must be of type datetime.\n",
    "---\n",
    "### Returns\n",
    "`True` if function executed to completion. \n",
    "\n",
    "---\n",
    "### Example"
   ]
  },
  {
   "cell_type": "markdown",
   "id": "2aedf495-7367-499b-b118-a5cefa40e83f",
   "metadata": {},
   "source": [
    "<img src=\"../images/basins_prevalence.png\" alt=\"Sample SIR Table\" width=\"800\" style=\"margin:auto;\"/>"
   ]
  },
  {
   "cell_type": "markdown",
   "id": "91834c82-c089-40b1-af40-667843d00b0e",
   "metadata": {},
   "source": [
    "<center>Sample SIR Data.</center>"
   ]
  },
  {
   "cell_type": "code",
   "execution_count": 3,
   "id": "8e5a3351-e941-47ca-a72f-77c10a239395",
   "metadata": {},
   "outputs": [
    {
     "data": {
      "text/plain": [
       "True"
      ]
     },
     "execution_count": 3,
     "metadata": {},
     "output_type": "execute_result"
    }
   ],
   "source": [
    "table_name='h1n1_R2.basins_prevalence'\n",
    "destination='h1n1_R2.basins_prevalence_agg'\n",
    "geo_column='basin_id'\n",
    "value_columns={'Infectious_SympT_18_23': 'Infectious_18_23', 'Infectious_Asymp_18_23': 'Infectious_18_23', 'Susceptible_18_23': 'Susceptible_18_23'}\n",
    "date='iso'\n",
    "\n",
    "ei.aggregate_sir(\n",
    "    client=client, \n",
    "    table_name=table_name,\n",
    "    destination=destination,\n",
    "    geo_column=geo_column, \n",
    "    value_columns={'Infectious_SympT_18_23': 'Infectious_18_23', \n",
    "                   'Infectious_Asymp_18_23': 'Infectious_18_23', \n",
    "                   'Susceptible_18_23': 'Susceptible_18_23'},\n",
    "    date='iso'\n",
    ")"
   ]
  },
  {
   "cell_type": "markdown",
   "id": "abad04a0-9827-43ad-ad3c-0707cd460839",
   "metadata": {},
   "source": [
    "<img src=\"../images/basins_prevalence_agg.png\" alt=\"Sample SIR Table\" width=\"800\" style=\"margin:auto;\"/>"
   ]
  },
  {
   "cell_type": "markdown",
   "id": "b1490c5b-8851-447f-bfa5-ddb732724653",
   "metadata": {},
   "source": [
    "<center>Aggregated SIR Data.</center>"
   ]
  }
 ],
 "metadata": {
  "kernelspec": {
   "display_name": "Python 3 (ipykernel)",
   "language": "python",
   "name": "python3"
  },
  "language_info": {
   "codemirror_mode": {
    "name": "ipython",
    "version": 3
   },
   "file_extension": ".py",
   "mimetype": "text/x-python",
   "name": "python",
   "nbconvert_exporter": "python",
   "pygments_lexer": "ipython3",
   "version": "3.11.9"
  }
 },
 "nbformat": 4,
 "nbformat_minor": 5
}
