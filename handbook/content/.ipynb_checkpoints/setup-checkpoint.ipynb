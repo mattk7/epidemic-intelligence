{
 "cells": [
  {
   "cell_type": "markdown",
   "id": "b7d470e8-ae9b-4161-b764-e8a349e75dcd",
   "metadata": {},
   "source": [
    "# Setting up `epidemic-intelligence`\n",
    "The `epidemic-intelligence` Python library is a user-friendly module for visualizing large-scale epidemic data stored in BigQuery. It is built on top of the `plotly` and `matplotlib` graphing libraries for easy customization and image exportation. \n",
    "\n",
    "This page explains how to install `epidemic-intelligence` and its dependencies. "
   ]
  },
  {
   "cell_type": "markdown",
   "id": "fee32ae4-96fc-44b1-9915-6a40ac11d5ea",
   "metadata": {},
   "source": [
    "## Installation\n",
    "`epidemic-intelligence` may be installed using pip:\n",
    "\n",
    "$ pip install epidemic-intelligence\n",
    "\n",
    "It relies on several dependencies, including [bigquery](https://cloud.google.com/python/docs/reference/bigquery/latest), [plotly](https://plotly.com/python/), [matplotlib](https://matplotlib.org/), and [networkx](https://networkx.org/documentation/stable/index.html), each of which have their own dependencies. pip will automatically try to install the correct version of these libraries, which may take a while. Once it is done, you can confirm that `epidemic-intelligence` has been installed correctly by running:\n",
    "\n",
    "$ pip show epidemic-intelligence\n",
    "\n",
    "You will then be able to import `epidemic-intelligence` into your Python environment. "
   ]
  },
  {
   "cell_type": "code",
   "execution_count": 2,
   "id": "c914abc0-5c53-4c7c-aba8-eca9e1743765",
   "metadata": {},
   "outputs": [],
   "source": [
    "import epidemic_intelligence as ei"
   ]
  },
  {
   "cell_type": "markdown",
   "id": "8fb78cca-9718-4d4e-8513-2e0920095686",
   "metadata": {},
   "source": [
    "## Getting Google Cloud credentials\n",
    "The first parameter of all `epidemic-intelligence` functions is a BigQuery client object, which is used to authenticate the permissions of each your account. This authentification will require you to have BigQuery API credentials. "
   ]
  }
 ],
 "metadata": {
  "kernelspec": {
   "display_name": "Python 3 (ipykernel)",
   "language": "python",
   "name": "python3"
  },
  "language_info": {
   "codemirror_mode": {
    "name": "ipython",
    "version": 3
   },
   "file_extension": ".py",
   "mimetype": "text/x-python",
   "name": "python",
   "nbconvert_exporter": "python",
   "pygments_lexer": "ipython3",
   "version": "3.11.9"
  }
 },
 "nbformat": 4,
 "nbformat_minor": 5
}
