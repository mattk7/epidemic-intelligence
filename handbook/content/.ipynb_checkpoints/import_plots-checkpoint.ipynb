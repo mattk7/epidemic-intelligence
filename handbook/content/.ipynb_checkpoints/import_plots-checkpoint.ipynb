{
 "cells": [
  {
   "cell_type": "markdown",
   "id": "b7fed2d6-355d-40a2-835d-615ac148ad91",
   "metadata": {},
   "source": [
    "# `importation_plots`\n",
    "This page contains instructions and documentation for creating Sankey diagrams, relative risk charts, and area plots using importation data. "
   ]
  },
  {
   "cell_type": "markdown",
   "id": "dd6758bf-a28e-4930-b843-592581d3002a",
   "metadata": {},
   "source": [
    "## area_plot\n",
    "Area plots are designed to show a change in comparable values over time; they compare apples to apples. In this example, we use H1N1 predictions from 2010 and show the origin countries for cases travelling from Asia to Europe. ![Sample Area Plot](../images/sample_area_plot.png)\n",
    "# **THIS IMAGE IS JUST A PLACEHOLDER!** "
   ]
  },
  {
   "cell_type": "markdown",
   "id": "065da93d-9bd9-48ca-a609-d99a867436bd",
   "metadata": {},
   "source": [
    "### Parameters\n",
    "`client` (`bigquery.Client`): BigQuery client object.\n",
    "\n",
    "`table_name` (`str`): BigQuery table name containing importation data in 'dataset.table' form. \n",
    "\n",
    "`reference_table` (`str`): BigQuery table name containing reference table in 'dataset.table' form.\n",
    "\n",
    "`source_geo_level` (`str`): The name of a column from the reference table. The geographical level used to determine what sources are included. \n",
    "\n",
    "`target_geo_level` (`str`): The name of a column from the reference table. The geographical level used to determine what targets are included. \n",
    "\n",
    "`source_values` (`str` or `listlike` or `None`, optional): The source(s) to be included. A value or subset of values from the `source_geo_level` column. If None, then all values will be included. Defaults to None. \n",
    "\n",
    "`target_values` (`str` or `listlike` or `None`, optional): The target(s) to be included. A value or subset of values from the `target_geo_level` column. If None, then all values will be included. Default to None. \n",
    "\n",
    "`source_column` (`str`, optional): Name of column in original table containing source identifier. Defaults to 'source_basin'.\n",
    "\n",
    "`target_column` (`str`, optional): Name of column in original table containing target identifier. Defaults to 'target_basin'.\n",
    "\n",
    "`reference_column` (`str`, optional): Name of column in original table containing the geography corresponding to data in `source_column` and `target_column`. Defaults to 'basin_id'. \n",
    "\n",
    "`output_resolution` (`str` or `None`, optional): The name of a column from the reference table. If None, then `target_geo_level` will be used. Desired geographical resolution for area plot. Defaults to None. \n",
    "\n",
    "`domestic` (`bool`, optional): Whether or not domestic cases will be included. Defaults to True. *Note: can produce unexpected results.*\n",
    "\n",
    "`cutoff` (`float`, optional): From 0 to 1, inclusive. All sources or targets that contribute below this percentage of cases will be grouped into an 'Other' category. Set to 0 for no 'Other' category. Defaults to 0.05. \n",
    "\n",
    "`value` (`str`, optional): Name of column in the original table containing the importation value to be analyzed. Defaults to 'importations'.\n",
    "\n",
    "`display` (`str`, optional): Whether the source or target of the importations will be visualized. Defaults to 'source'. \n",
    "\n",
    "---\n",
    "### Returns\n",
    "`fig` (`plotly.graph_objects.Figure`): Plotly Figure containing visualization. \n",
    "\n",
    "---"
   ]
  }
 ],
 "metadata": {
  "kernelspec": {
   "display_name": "Python 3 (ipykernel)",
   "language": "python",
   "name": "python3"
  },
  "language_info": {
   "codemirror_mode": {
    "name": "ipython",
    "version": 3
   },
   "file_extension": ".py",
   "mimetype": "text/x-python",
   "name": "python",
   "nbconvert_exporter": "python",
   "pygments_lexer": "ipython3",
   "version": "3.11.9"
  }
 },
 "nbformat": 4,
 "nbformat_minor": 5
}
