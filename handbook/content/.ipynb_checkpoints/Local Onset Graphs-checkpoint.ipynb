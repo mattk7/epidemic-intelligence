{
 "cells": [
  {
   "cell_type": "code",
   "execution_count": 1,
   "id": "e3a7ceb6",
   "metadata": {},
   "outputs": [],
   "source": [
    "from google.cloud import bigquery\n",
    "from google.oauth2 import service_account\n",
    "import matplotlib.pyplot as plt\n",
    "import numpy as np\n",
    "import pandas as pd\n",
    "import time\n",
    "import matplotlib.colors as mcolors\n",
    "from bin_builder import build_country_query"
   ]
  },
  {
   "cell_type": "code",
   "execution_count": 2,
   "id": "610ce038",
   "metadata": {},
   "outputs": [],
   "source": [
    "# the location of our credentials json and name of bigquery project\n",
    "credentials = service_account.Credentials.from_service_account_file('C:\\\\Users\\\\elija\\\\Documents\\\\24f-coop\\\\credentials.json')\n",
    "project = 'net-data-viz-handbook'\n",
    "\n",
    "# Initialize a GCS client\n",
    "client = bigquery.Client(credentials=credentials, project=project)"
   ]
  },
  {
   "cell_type": "code",
   "execution_count": null,
   "id": "128216df",
   "metadata": {},
   "outputs": [],
   "source": [
    "SELECT \n",
    "    date,\n",
    "    country_id,\n",
    "    run_id,\n",
    "    \n",
    "FROM `net-data-viz-handbook.sri_data.SIR_0_countries_incidence_daily`\n",
    "WHERE country_id IN (218)\n",
    "  AND run_id BETWEEN 1 AND 100\n",
    "GROUP BY date, country_id, run_id;"
   ]
  },
  {
   "cell_type": "code",
   "execution_count": 6,
   "id": "e661b4a8",
   "metadata": {},
   "outputs": [
    {
     "name": "stderr",
     "output_type": "stream",
     "text": [
      "C:\\Users\\elija\\anaconda3\\Lib\\site-packages\\google\\cloud\\bigquery\\table.py:1727: UserWarning: BigQuery Storage module not found, fetch data with the REST endpoint instead.\n",
      "  warnings.warn(\n"
     ]
    }
   ],
   "source": [
    "q = \"\"\"\n",
    "SELECT * FROM `reference.gleam-geo-map`\n",
    "\"\"\"\n",
    "geomap = client.query(q).result().to_dataframe()"
   ]
  },
  {
   "cell_type": "code",
   "execution_count": 13,
   "id": "31bf090e",
   "metadata": {},
   "outputs": [
    {
     "data": {
      "text/html": [
       "<div>\n",
       "<style scoped>\n",
       "    .dataframe tbody tr th:only-of-type {\n",
       "        vertical-align: middle;\n",
       "    }\n",
       "\n",
       "    .dataframe tbody tr th {\n",
       "        vertical-align: top;\n",
       "    }\n",
       "\n",
       "    .dataframe thead th {\n",
       "        text-align: right;\n",
       "    }\n",
       "</style>\n",
       "<table border=\"1\" class=\"dataframe\">\n",
       "  <thead>\n",
       "    <tr style=\"text-align: right;\">\n",
       "      <th></th>\n",
       "      <th>basin_id</th>\n",
       "      <th>basin_label</th>\n",
       "      <th>airport_code</th>\n",
       "      <th>latitude</th>\n",
       "      <th>longitude</th>\n",
       "      <th>country_id</th>\n",
       "      <th>country_name</th>\n",
       "      <th>country_iso3</th>\n",
       "      <th>region_id</th>\n",
       "      <th>region_label</th>\n",
       "      <th>continent_id</th>\n",
       "      <th>continent_label</th>\n",
       "      <th>hemisphere_id</th>\n",
       "      <th>hemisphere_label</th>\n",
       "    </tr>\n",
       "  </thead>\n",
       "  <tbody>\n",
       "    <tr>\n",
       "      <th>1217</th>\n",
       "      <td>2701</td>\n",
       "      <td>Halifax</td>\n",
       "      <td>YHZ</td>\n",
       "      <td>44.8869</td>\n",
       "      <td>-63.5128</td>\n",
       "      <td>35</td>\n",
       "      <td>Canada</td>\n",
       "      <td>CAN</td>\n",
       "      <td>11</td>\n",
       "      <td>Northern America</td>\n",
       "      <td>3</td>\n",
       "      <td>North America</td>\n",
       "      <td>0</td>\n",
       "      <td>Northern hemisphere</td>\n",
       "    </tr>\n",
       "  </tbody>\n",
       "</table>\n",
       "</div>"
      ],
      "text/plain": [
       "      basin_id basin_label airport_code  latitude  longitude  country_id  \\\n",
       "1217      2701     Halifax          YHZ   44.8869   -63.5128          35   \n",
       "\n",
       "     country_name country_iso3  region_id      region_label  continent_id  \\\n",
       "1217       Canada          CAN         11  Northern America             3   \n",
       "\n",
       "     continent_label  hemisphere_id     hemisphere_label  \n",
       "1217   North America              0  Northern hemisphere  "
      ]
     },
     "execution_count": 13,
     "metadata": {},
     "output_type": "execute_result"
    }
   ],
   "source": [
    "geomap[geomap['basin_label'] == 'Halifax'].head(1)"
   ]
  }
 ],
 "metadata": {
  "kernelspec": {
   "display_name": "Python 3 (ipykernel)",
   "language": "python",
   "name": "python3"
  },
  "language_info": {
   "codemirror_mode": {
    "name": "ipython",
    "version": 3
   },
   "file_extension": ".py",
   "mimetype": "text/x-python",
   "name": "python",
   "nbconvert_exporter": "python",
   "pygments_lexer": "ipython3",
   "version": "3.11.5"
  }
 },
 "nbformat": 4,
 "nbformat_minor": 5
}
