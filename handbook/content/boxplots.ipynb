{
 "cells": [
  {
   "cell_type": "markdown",
   "id": "3ede4daa-8c64-4b1b-be0b-2e1c7e8eb10f",
   "metadata": {},
   "source": [
    "# `boxplots`\n",
    "This page contains instructions and documentation for creating curve boxplots used to summarize curve ensembles.  "
   ]
  },
  {
   "cell_type": "markdown",
   "id": "49fbc609-a95c-43a5-a3ba-ad5c0f0e2100",
   "metadata": {},
   "source": [
    "## `functional_boxplot`\n",
    "\n",
    "A functional boxplot uses curve-based statistics that treat entire curves as a single data point, as opposed to each observation in a curve. \n",
    "\n",
    "<img src=\"../images/sample_func_box_plot.png\" alt=\"Sample Functional Boxplot Plot\" width=\"1400\" style=\"margin:auto;\"/>"
   ]
  },
  {
   "cell_type": "code",
   "execution_count": null,
   "id": "60be21e6-4e23-4726-8e59-6a31cc880539",
   "metadata": {},
   "outputs": [],
   "source": []
  },
  {
   "cell_type": "code",
   "execution_count": null,
   "id": "2ba3efe4-ed64-4ff4-9faf-7752b7dfbb39",
   "metadata": {},
   "outputs": [],
   "source": []
  },
  {
   "cell_type": "markdown",
   "id": "eef48e9c-5f03-42d1-8d4f-2d5e62f9dcf0",
   "metadata": {},
   "source": [
    "## `fixed_time_boxplot`\n",
    "\n",
    "A fixted-time boxplot uses fixed-time statistics that rank each point at each time step, and use those to construct confidence intervals for each time step. \n",
    "\n",
    "<img src=\"../images/sample_ft_box_plot.png\" alt=\"Sample Functional Boxplot Plot\" width=\"1400\" style=\"margin:auto;\"/>"
   ]
  }
 ],
 "metadata": {
  "kernelspec": {
   "display_name": "Python 3 (ipykernel)",
   "language": "python",
   "name": "python3"
  },
  "language_info": {
   "codemirror_mode": {
    "name": "ipython",
    "version": 3
   },
   "file_extension": ".py",
   "mimetype": "text/x-python",
   "name": "python",
   "nbconvert_exporter": "python",
   "pygments_lexer": "ipython3",
   "version": "3.11.9"
  }
 },
 "nbformat": 4,
 "nbformat_minor": 5
}
