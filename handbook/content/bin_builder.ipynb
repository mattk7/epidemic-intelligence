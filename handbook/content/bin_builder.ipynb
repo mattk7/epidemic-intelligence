{
 "cells": [
  {
   "cell_type": "code",
   "execution_count": 42,
   "id": "72f58873",
   "metadata": {},
   "outputs": [],
   "source": [
    "def generate_continuous_bins(category, min_age, max_age):\n",
    "    \"\"\"\n",
    "    Generates the SQL snippet for a given category and continuous age range.\n",
    "    \"\"\"\n",
    "    age_bins = []\n",
    "    age_intervals = [(0, 4), (5, 8), (9, 12), (13, 17), (18, 23), (24, 29), (30, 34), (35, 39),\n",
    "                     (40, 44), (45, 49), (50, 54), (55, 59), (60, 64), (65, 69), (70, 74), (75, 'plus')]\n",
    "\n",
    "    for start, end in age_intervals:\n",
    "        try:\n",
    "            if start >= min_age and (end <= max_age):\n",
    "                age_bins.append(f\"{category}_{start}_{end}\")\n",
    "        except(TypeError):\n",
    "            if start <= max_age:\n",
    "                age_bins.append(f\"{category}_{start}_{end}\")\n",
    "    \n",
    "    return \" + \".join(age_bins)"
   ]
  },
  {
   "cell_type": "code",
   "execution_count": 13,
   "id": "c41ed135",
   "metadata": {},
   "outputs": [],
   "source": [
    "def build_sir_query_for_categories(country_ids, run_ids, min_age, max_age, categories):\n",
    "    \"\"\"\n",
    "    Builds the full SQL query for multiple categories, country_ids, and run_ids with continuous age range.\n",
    "    \n",
    "    Args:\n",
    "    - country_ids (list): List of country identifiers.\n",
    "    - run_ids (list): List of run identifiers.\n",
    "    - min_age (int): The minimum age for the age range.\n",
    "    - max_age (int or str): The maximum age for the age range (can be 'plus').\n",
    "    - categories (list): List of categories to generate the SQL for (e.g., ['Susceptible', 'Infectious']).\n",
    "    \n",
    "    Returns:\n",
    "    - str: Full SQL query for the categories and age ranges.\n",
    "    \"\"\"\n",
    "    category_sums = []\n",
    "    \n",
    "    # Generate the SUM statements for each category\n",
    "    for category in categories:\n",
    "        category_bins = generate_continuous_bins(category, min_age, max_age)\n",
    "        category_sums.append(f\"SUM({category_bins}) AS total_{category.lower()}\")\n",
    "    \n",
    "    # Build the WHERE clause for country_ids and run_ids\n",
    "    country_ids_str = ', '.join(map(str, country_ids))\n",
    "    run_ids_str = ', '.join(map(str, run_ids))\n",
    "    \n",
    "    # Construct the SQL query\n",
    "    sql_query = f\"\"\"\n",
    "    SELECT\n",
    "        date,\n",
    "        country_id,\n",
    "        run_id,\n",
    "        {', '.join(category_sums)}\n",
    "    FROM `net-data-viz-handbook.sri_data.SIR_0_countries_incidence_daily`\n",
    "    WHERE country_id IN ({country_ids_str}) AND run_id IN ({run_ids_str})\n",
    "    GROUP BY date, country_id, run_id\n",
    "    ORDER BY date;\n",
    "    \"\"\"\n",
    "    \n",
    "    return sql_query.replace(\"\\n\", \" \").strip()"
   ]
  },
  {
   "cell_type": "code",
   "execution_count": 44,
   "id": "d3d3c2e5",
   "metadata": {},
   "outputs": [
    {
     "data": {
      "text/plain": [
       "'SELECT         date,         country_id,         run_id,         SUM(Susceptible_5_8 + Susceptible_9_12 + Susceptible_13_17 + Susceptible_18_23 + Susceptible_24_29 + Susceptible_30_34 + Susceptible_35_39 + Susceptible_40_44 + Susceptible_45_49) AS total_susceptible, SUM(Infectious_5_8 + Infectious_9_12 + Infectious_13_17 + Infectious_18_23 + Infectious_24_29 + Infectious_30_34 + Infectious_35_39 + Infectious_40_44 + Infectious_45_49) AS total_infectious     FROM `net-data-viz-handbook.sri_data.SIR_0_countries_incidence_daily`     WHERE country_id IN (215, 216) AND run_id IN (1, 2)     GROUP BY date, country_id, run_id     ORDER BY date;'"
      ]
     },
     "execution_count": 44,
     "metadata": {},
     "output_type": "execute_result"
    }
   ],
   "source": [
    "# Example usage\n",
    "country_ids = [215, 216]\n",
    "run_ids = [1, 2]\n",
    "min_age = 5\n",
    "max_age = 50\n",
    "categories = ['Susceptible', 'Infectious']\n",
    "\n",
    "# Generate SQL query\n",
    "query = build_sir_query_for_categories(country_ids, run_ids, min_age, max_age, categories)\n",
    "query"
   ]
  }
 ],
 "metadata": {
  "kernelspec": {
   "display_name": "Python 3 (ipykernel)",
   "language": "python",
   "name": "python3"
  },
  "language_info": {
   "codemirror_mode": {
    "name": "ipython",
    "version": 3
   },
   "file_extension": ".py",
   "mimetype": "text/x-python",
   "name": "python",
   "nbconvert_exporter": "python",
   "pygments_lexer": "ipython3",
   "version": "3.11.5"
  }
 },
 "nbformat": 4,
 "nbformat_minor": 5
}
