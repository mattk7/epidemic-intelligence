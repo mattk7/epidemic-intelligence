{
 "cells": [
  {
   "cell_type": "code",
   "execution_count": 1,
   "id": "c914abc0-5c53-4c7c-aba8-eca9e1743765",
   "metadata": {},
   "outputs": [
    {
     "name": "stdout",
     "output_type": "stream",
     "text": [
      "epidemic_intelligence\n"
     ]
    }
   ],
   "source": [
    "import epidemic_intelligence as ei\n",
    "print(ei.__name__)"
   ]
  },
  {
   "cell_type": "code",
   "execution_count": 2,
   "id": "8528b7d1-25b8-4d31-a32f-a1171717467b",
   "metadata": {
    "scrolled": true
   },
   "outputs": [],
   "source": [
    "from google.oauth2 import service_account\n",
    "from google.cloud import bigquery\n",
    "\n",
    "credentials = service_account.Credentials.from_service_account_file('../../../credentials.json') # use the path to your credentials\n",
    "project = 'net-data-viz-handbook' # use your project name\n",
    "# Initialize a GC client\n",
    "client = bigquery.Client(credentials=credentials, project=project)"
   ]
  }
 ],
 "metadata": {
  "kernelspec": {
   "display_name": "Python 3 (ipykernel)",
   "language": "python",
   "name": "python3"
  },
  "language_info": {
   "codemirror_mode": {
    "name": "ipython",
    "version": 3
   },
   "file_extension": ".py",
   "mimetype": "text/x-python",
   "name": "python",
   "nbconvert_exporter": "python",
   "pygments_lexer": "ipython3",
   "version": "3.11.9"
  }
 },
 "nbformat": 4,
 "nbformat_minor": 5
}