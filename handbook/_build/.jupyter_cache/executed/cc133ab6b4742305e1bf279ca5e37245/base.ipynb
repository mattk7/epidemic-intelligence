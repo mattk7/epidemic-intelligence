{
 "cells": [
  {
   "cell_type": "code",
   "execution_count": 1,
   "id": "abd982af-ddd6-4772-a8e7-b6d3e5239098",
   "metadata": {},
   "outputs": [
    {
     "data": {
      "text/plain": [
       "True"
      ]
     },
     "execution_count": 1,
     "metadata": {},
     "output_type": "execute_result"
    }
   ],
   "source": [
    "import epidemic_intelligence as ei\n",
    "from google.oauth2 import service_account\n",
    "from google.cloud import bigquery\n",
    "\n",
    "credentials = service_account.Credentials.from_service_account_file('../../../credentials.json') # use the path to your credentials\n",
    "project = 'net-data-viz-handbook' # use your project name\n",
    "# Initialize a GC client\n",
    "client = bigquery.Client(credentials=credentials, project=project)\n",
    "\n",
    "table_name = 'importation_data.h1n1_proper' # str, name of bigquery table\n",
    "destination = 'importation_data.h1n1_proper_simple' # str, name of place where simplified table will be stored\n",
    "\n",
    "method = 'directional' # mbd, directional, mean, median, or ftvariance\n",
    "\n",
    "source_column = 'source_basin'\n",
    "target_column = 'target_basin'\n",
    "value_column = 'importations'\n",
    "compartment_column = 'compartment' \n",
    "\n",
    "ei.summarize_runs(client,\n",
    "                     table_name,\n",
    "                     destination,\n",
    "                     method,\n",
    "                     source_column,\n",
    "                     target_column,\n",
    "                     value_column,\n",
    "                     compartment_column\n",
    ")"
   ]
  },
  {
   "cell_type": "code",
   "execution_count": 2,
   "id": "7e5e5638-3821-4343-b953-627e6d3ab2f3",
   "metadata": {},
   "outputs": [],
   "source": [
    "table_name = 'importation_data.h1n1_proper_simple'\n",
    "destination = 'importation_data.h1n1_proper_simple_agg' \n",
    "\n",
    "# all ported over from above\n",
    "source_column = 'source_basin'\n",
    "target_column = 'target_basin' \n",
    "value_column = 'importations'\n",
    "\n",
    "# date information\n",
    "date = 'iso'\n",
    "\n",
    "# compartment information\n",
    "compartment_column = 'compartment' \n",
    "compartments = ['Infectious_Asymp', 'Infectious_SympT'] # list, or None to include all\n",
    "new_compartment = 'Infectious' # str, or None\n",
    "\n",
    "ei.aggregate_importations(client=client,\n",
    "                   table_name=table_name,\n",
    "                   destination=destination,\n",
    "                   source_column=source_column,\n",
    "                   target_column=target_column,\n",
    "                   value_column=value_column,\n",
    "                   compartment_column=compartment_column,\n",
    "                   compartments=compartments,\n",
    "                   new_compartment=new_compartment,\n",
    "                   date=date, \n",
    "                  )"
   ]
  },
  {
   "cell_type": "code",
   "execution_count": 3,
   "id": "8e5a3351-e941-47ca-a72f-77c10a239395",
   "metadata": {},
   "outputs": [
    {
     "data": {
      "text/plain": [
       "True"
      ]
     },
     "execution_count": 3,
     "metadata": {},
     "output_type": "execute_result"
    }
   ],
   "source": [
    "table_name='h1n1_R2.basins_prevalence'\n",
    "destination='h1n1_R2.basins_prevalence_agg'\n",
    "geo_column='basin_id'\n",
    "value_columns={'Infectious_18_23': ['Infectious_SympT_18_23', 'Infectious_Asymp_18_23'], 'Susceptible_18_23': ['Susceptible_18_23']}\n",
    "date='iso'\n",
    "\n",
    "ei.aggregate_sir(\n",
    "    client=client, \n",
    "    table_name=table_name,\n",
    "    destination=destination,\n",
    "    geo_column=geo_column, \n",
    "    value_columns=value_columns,\n",
    "    date='iso'\n",
    ")"
   ]
  }
 ],
 "metadata": {
  "kernelspec": {
   "display_name": "Python 3 (ipykernel)",
   "language": "python",
   "name": "python3"
  },
  "language_info": {
   "codemirror_mode": {
    "name": "ipython",
    "version": 3
   },
   "file_extension": ".py",
   "mimetype": "text/x-python",
   "name": "python",
   "nbconvert_exporter": "python",
   "pygments_lexer": "ipython3",
   "version": "3.11.9"
  }
 },
 "nbformat": 4,
 "nbformat_minor": 5
}