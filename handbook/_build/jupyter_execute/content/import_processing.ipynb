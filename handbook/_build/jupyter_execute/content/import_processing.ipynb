{
 "cells": [
  {
   "cell_type": "markdown",
   "id": "29a63b37-de82-4517-a52c-a0337ef56a03",
   "metadata": {},
   "source": [
    "# `importation_processing`\n",
    "`epidemic-intelligence` is designed to handle large numbers of simulations, but in order to visualize importation data, we must only have one 'run' worth of data. To facilitate this, the `importation_processing` module offers two tools for simplifying and aggregating importation data to make it ready for visualization. "
   ]
  },
  {
   "cell_type": "markdown",
   "id": "e48a1ff6-8c84-4115-abe0-4393b8be94ce",
   "metadata": {},
   "source": [
    "## summarize_runs\n",
    "The `importation_processing.summarize_runs` function takes a BigQuery table containg many runs worth of data and reduces it to one run according to some method. "
   ]
  },
  {
   "cell_type": "markdown",
   "id": "5452c883-1274-4e2e-83e8-bd1a82261640",
   "metadata": {},
   "source": [
    "### Parameters\n",
    "`client` (`bigquery.Client`): BigQuery client object.\n",
    "\n",
    "`table_name` (`str`): BigQuery table name containing raw importation data in 'dataset.table' form. \n",
    "\n",
    "`destination` (`str`): Name of resulting simplified table in 'dataset.table' form.\n",
    "\n",
    "`method` (`str`, optional): Method used to determine how data is simplified. Must be one of:\n",
    "- `'median'` *(default)*: For each time and location, the median value across all runs will be used. A fixed-time metric. \n",
    "\n",
    "- `'mean'`: For each time and location, the mean value across all runs will be used. Not recommended. A fixed-time metric. \n",
    "\n",
    "- `'mbd'`: Uses modified band depth to compute the most central run, then uses that run's data for all times and locations. A curve-based metric. \n",
    "\n",
    "- `'ftvariance'`: Uses the summed variances of each run to compute the most central run, then uses that run's data for all times and locations. A curve-based metric. \n",
    "\n",
    "- `'directional'`: Similar to `'ftvariance'`, but first determines whether each `value` is increasing or decreasing at each time step, then uses the summed variances of that data to compute the most central run, then uses that run's data for all times and locations. A curve-based metric. \n",
    "\n",
    "`source_column` (`str`, optional): Name of column in original table containing source identifier. Defaults to 'source_basin'.\n",
    "\n",
    "`target_column` (`str`, optional): Name of column in original table containing target identifier. Defaults to 'target_basin'.\n",
    "\n",
    "`value_column` (`str`, optional): Name of column in original table containing value identifier, which is what is being tracked. Defaults to 'importations'.\n",
    "\n",
    "`compartment_column` (`str`, optional): Name of column in original table containing compartment identifier. Defaults to 'compartment'.\n",
    "\n",
    "---\n",
    "### Returns\n",
    "`True` if function executed to completion. \n",
    "\n",
    "---"
   ]
  },
  {
   "cell_type": "markdown",
   "id": "8a0581ae-0099-43ec-baa6-83dd3afa14cc",
   "metadata": {},
   "source": [
    "## aggregate_table\n",
    "The `importation_processing.aggregate_table` function is designed to be used after simplification on a table that only has one run worth of data. It allows you to aggregate by date and compartment to further customize your data for visualization. Note that many parameters carry over from the `simplify_multirun` function, but that using the same `table_name` and `destination` will cause your simplified table to be overwritten. "
   ]
  },
  {
   "cell_type": "markdown",
   "id": "768b162e-9c0b-4046-bd63-26e632f4b510",
   "metadata": {},
   "source": [
    "### Parameters\n",
    "`client` (`bigquery.Client`): BigQuery client object.\n",
    "\n",
    "`table_name` (`str`): BigQuery table name containing importation data in 'dataset.table' form. \n",
    "\n",
    "`destination` (`str`): Name of resulting aggregated table in 'dataset.table' form.\n",
    "\n",
    "`source_column` (`str`, optional): Name of column in original table containing source identifier. Defaults to 'source_basin'.\n",
    "\n",
    "`target_column` (`str`, optional): Name of column in original table containing target identifier. Defaults to 'target_basin'.\n",
    "\n",
    "`value_column` (`str`, optional): Name of column in original table containing value identifier, which is what is being tracked. Defaults to 'importations'.\n",
    "\n",
    "`run_id_column` (`str` or `None`, optional): Name of column in original table containing run ID. If None, then it is assumed all data are part of a single run. Defaults to None.\n",
    "\n",
    "`compartment_column` (`str`, optional): Name of column in original table containing compartment identifier. Defaults to 'compartment'.\n",
    "\n",
    "`compartments` (`list` or `bool`, optional): List of compartments to be combined into single compartment in aggregated table. If True, then all compartments will be aggregated. If False, then current compartments will be preserved. Defaults to False. \n",
    "\n",
    "`new_compartment` (`str`, optional): If `compartments` is not False, then `new_compartment` will be the name of the aggregated compartment that is created. Defaults to 'compartment'. \n",
    "\n",
    "`date` (`str`, optional): The unit of time that data will be aggregated to. Must be one of:\n",
    "- `'date'` *(default)*: Will preserve current dates. \n",
    "\n",
    "- `'epi'`: Will aggregate data into [CDC epiweeks](https://www.cmmcp.org/mosquito-surveillance-data/pages/epi-week-calendars-2008-2024). 'date' column of table must be of type datetime. Will create a temporary table in your BigQuery project, which is deleted upon completion. \n",
    "\n",
    "- `'iso'`: Will aggregate data into [ISO weeks](https://en.wikipedia.org/wiki/ISO_week_date). 'date' column of table must be of type datetime.\n",
    "---\n",
    "### Returns\n",
    "`True` if function executed to completion. \n",
    "\n",
    "---"
   ]
  }
 ],
 "metadata": {
  "kernelspec": {
   "display_name": "Python 3 (ipykernel)",
   "language": "python",
   "name": "python3"
  },
  "language_info": {
   "codemirror_mode": {
    "name": "ipython",
    "version": 3
   },
   "file_extension": ".py",
   "mimetype": "text/x-python",
   "name": "python",
   "nbconvert_exporter": "python",
   "pygments_lexer": "ipython3",
   "version": "3.11.9"
  }
 },
 "nbformat": 4,
 "nbformat_minor": 5
}