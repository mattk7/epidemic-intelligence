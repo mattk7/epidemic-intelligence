{
 "cells": [
  {
   "cell_type": "markdown",
   "id": "b7d470e8-ae9b-4161-b764-e8a349e75dcd",
   "metadata": {},
   "source": [
    "# Introduction to `epidemic-intelligence`\n",
    "The `epidemic-intelligence` Python library is a user-friendly module for creating publication-ready visualizations of large-scale epidemic data stored in BigQuery. It is built on top of the `plotly` and `matplotlib` graphing libraries for easy customization and image exportation. \n",
    "\n",
    "This page explains how to install `epidemic-intelligence` and its dependencies. The rest of the documentation will explain the docstrings for the user-facing functions in this library, as well as show some example applications. \n",
    "\n",
    "Please note that none of the visualizations produced as examples in this documentation are meant to be represenatative or informative, but rather to showcase the capabilities of the library. "
   ]
  },
  {
   "cell_type": "markdown",
   "id": "fee32ae4-96fc-44b1-9915-6a40ac11d5ea",
   "metadata": {},
   "source": [
    "---\n",
    "## Installation\n",
    "`epidemic-intelligence` may be installed using pip:\n",
    "\n",
    "$ pip install epidemic-intelligence\n",
    "\n",
    "It relies on several dependencies, including [bigquery](https://cloud.google.com/python/docs/reference/bigquery/latest), [plotly](https://plotly.com/python/), [matplotlib](https://matplotlib.org/), and [networkx](https://networkx.org/documentation/stable/index.html), each of which have their own dependencies. pip will automatically try to install the correct version of these libraries, which may take a while. Once it is done, you can confirm that `epidemic-intelligence` has been installed correctly by running:\n",
    "\n",
    "$ pip show epidemic-intelligence\n",
    "\n",
    "You will then be able to import `epidemic-intelligence` into your Python environment. "
   ]
  },
  {
   "cell_type": "code",
   "execution_count": 1,
   "id": "c914abc0-5c53-4c7c-aba8-eca9e1743765",
   "metadata": {},
   "outputs": [
    {
     "ename": "ModuleNotFoundError",
     "evalue": "No module named 'epidemic_intelligence'",
     "output_type": "error",
     "traceback": [
      "\u001b[1;31m---------------------------------------------------------------------------\u001b[0m",
      "\u001b[1;31mModuleNotFoundError\u001b[0m                       Traceback (most recent call last)",
      "Cell \u001b[1;32mIn[1], line 1\u001b[0m\n\u001b[1;32m----> 1\u001b[0m \u001b[38;5;28;01mimport\u001b[39;00m \u001b[38;5;21;01mepidemic_intelligence\u001b[39;00m \u001b[38;5;28;01mas\u001b[39;00m \u001b[38;5;21;01mei\u001b[39;00m\n\u001b[0;32m      2\u001b[0m \u001b[38;5;28mprint\u001b[39m(ei\u001b[38;5;241m.\u001b[39m\u001b[38;5;18m__name__\u001b[39m)\n",
      "\u001b[1;31mModuleNotFoundError\u001b[0m: No module named 'epidemic_intelligence'"
     ]
    }
   ],
   "source": [
    "import epidemic_intelligence as ei\n",
    "print(ei.__name__)"
   ]
  },
  {
   "cell_type": "markdown",
   "id": "8fb78cca-9718-4d4e-8513-2e0920095686",
   "metadata": {},
   "source": [
    "---\n",
    "## Google Cloud credentials\n",
    "The first parameter of all `epidemic-intelligence` functions is a BigQuery client object, which is used to authenticate the permissions of your account. This authentification will require you to have BigQuery API credentials. To create these credentials, follow [these instructions](https://developers.google.com/workspace/guides/create-credentials#service-account).\n",
    "\n",
    "To create the client object, pass a Credentials object and the [ID of your BigQuery project](https://support.google.com/googleapi/answer/7014113?hl=en) to the bigquery.Client function, as shown below. "
   ]
  },
  {
   "cell_type": "code",
   "execution_count": 3,
   "id": "8528b7d1-25b8-4d31-a32f-a1171717467b",
   "metadata": {
    "collapsed": true,
    "jupyter": {
     "outputs_hidden": true
    },
    "scrolled": true
   },
   "outputs": [
    {
     "ename": "FileNotFoundError",
     "evalue": "[Errno 2] No such file or directory: 'C:\\\\path\\\\to\\\\your\\\\credentials.json'",
     "output_type": "error",
     "traceback": [
      "\u001b[1;31m---------------------------------------------------------------------------\u001b[0m",
      "\u001b[1;31mFileNotFoundError\u001b[0m                         Traceback (most recent call last)",
      "Cell \u001b[1;32mIn[3], line 4\u001b[0m\n\u001b[0;32m      1\u001b[0m \u001b[38;5;28;01mfrom\u001b[39;00m \u001b[38;5;21;01mgoogle\u001b[39;00m\u001b[38;5;21;01m.\u001b[39;00m\u001b[38;5;21;01moauth2\u001b[39;00m \u001b[38;5;28;01mimport\u001b[39;00m service_account\n\u001b[0;32m      2\u001b[0m \u001b[38;5;28;01mfrom\u001b[39;00m \u001b[38;5;21;01mgoogle\u001b[39;00m\u001b[38;5;21;01m.\u001b[39;00m\u001b[38;5;21;01mcloud\u001b[39;00m \u001b[38;5;28;01mimport\u001b[39;00m bigquery\n\u001b[1;32m----> 4\u001b[0m credentials \u001b[38;5;241m=\u001b[39m \u001b[43mservice_account\u001b[49m\u001b[38;5;241;43m.\u001b[39;49m\u001b[43mCredentials\u001b[49m\u001b[38;5;241;43m.\u001b[39;49m\u001b[43mfrom_service_account_file\u001b[49m\u001b[43m(\u001b[49m\u001b[38;5;124;43m'\u001b[39;49m\u001b[38;5;124;43mC:\u001b[39;49m\u001b[38;5;130;43;01m\\\\\u001b[39;49;00m\u001b[38;5;124;43mpath\u001b[39;49m\u001b[38;5;130;43;01m\\\\\u001b[39;49;00m\u001b[38;5;124;43mto\u001b[39;49m\u001b[38;5;130;43;01m\\\\\u001b[39;49;00m\u001b[38;5;124;43myour\u001b[39;49m\u001b[38;5;130;43;01m\\\\\u001b[39;49;00m\u001b[38;5;124;43mcredentials.json\u001b[39;49m\u001b[38;5;124;43m'\u001b[39;49m\u001b[43m)\u001b[49m\n\u001b[0;32m      5\u001b[0m project \u001b[38;5;241m=\u001b[39m \u001b[38;5;124m'\u001b[39m\u001b[38;5;124mbigquery-project-id\u001b[39m\u001b[38;5;124m'\u001b[39m\n\u001b[0;32m      6\u001b[0m \u001b[38;5;66;03m# Initialize a GC client\u001b[39;00m\n",
      "File \u001b[1;32m~\\Documents\\24f-coop\\demovenv\\Lib\\site-packages\\google\\oauth2\\service_account.py:260\u001b[0m, in \u001b[0;36mCredentials.from_service_account_file\u001b[1;34m(cls, filename, **kwargs)\u001b[0m\n\u001b[0;32m    248\u001b[0m \u001b[38;5;129m@classmethod\u001b[39m\n\u001b[0;32m    249\u001b[0m \u001b[38;5;28;01mdef\u001b[39;00m \u001b[38;5;21mfrom_service_account_file\u001b[39m(\u001b[38;5;28mcls\u001b[39m, filename, \u001b[38;5;241m*\u001b[39m\u001b[38;5;241m*\u001b[39mkwargs):\n\u001b[0;32m    250\u001b[0m \u001b[38;5;250m    \u001b[39m\u001b[38;5;124;03m\"\"\"Creates a Credentials instance from a service account json file.\u001b[39;00m\n\u001b[0;32m    251\u001b[0m \n\u001b[0;32m    252\u001b[0m \u001b[38;5;124;03m    Args:\u001b[39;00m\n\u001b[1;32m   (...)\u001b[0m\n\u001b[0;32m    258\u001b[0m \u001b[38;5;124;03m            credentials.\u001b[39;00m\n\u001b[0;32m    259\u001b[0m \u001b[38;5;124;03m    \"\"\"\u001b[39;00m\n\u001b[1;32m--> 260\u001b[0m     info, signer \u001b[38;5;241m=\u001b[39m \u001b[43m_service_account_info\u001b[49m\u001b[38;5;241;43m.\u001b[39;49m\u001b[43mfrom_filename\u001b[49m\u001b[43m(\u001b[49m\n\u001b[0;32m    261\u001b[0m \u001b[43m        \u001b[49m\u001b[43mfilename\u001b[49m\u001b[43m,\u001b[49m\u001b[43m \u001b[49m\u001b[43mrequire\u001b[49m\u001b[38;5;241;43m=\u001b[39;49m\u001b[43m[\u001b[49m\u001b[38;5;124;43m\"\u001b[39;49m\u001b[38;5;124;43mclient_email\u001b[39;49m\u001b[38;5;124;43m\"\u001b[39;49m\u001b[43m,\u001b[49m\u001b[43m \u001b[49m\u001b[38;5;124;43m\"\u001b[39;49m\u001b[38;5;124;43mtoken_uri\u001b[39;49m\u001b[38;5;124;43m\"\u001b[39;49m\u001b[43m]\u001b[49m\n\u001b[0;32m    262\u001b[0m \u001b[43m    \u001b[49m\u001b[43m)\u001b[49m\n\u001b[0;32m    263\u001b[0m     \u001b[38;5;28;01mreturn\u001b[39;00m \u001b[38;5;28mcls\u001b[39m\u001b[38;5;241m.\u001b[39m_from_signer_and_info(signer, info, \u001b[38;5;241m*\u001b[39m\u001b[38;5;241m*\u001b[39mkwargs)\n",
      "File \u001b[1;32m~\\Documents\\24f-coop\\demovenv\\Lib\\site-packages\\google\\auth\\_service_account_info.py:78\u001b[0m, in \u001b[0;36mfrom_filename\u001b[1;34m(filename, require, use_rsa_signer)\u001b[0m\n\u001b[0;32m     64\u001b[0m \u001b[38;5;28;01mdef\u001b[39;00m \u001b[38;5;21mfrom_filename\u001b[39m(filename, require\u001b[38;5;241m=\u001b[39m\u001b[38;5;28;01mNone\u001b[39;00m, use_rsa_signer\u001b[38;5;241m=\u001b[39m\u001b[38;5;28;01mTrue\u001b[39;00m):\n\u001b[0;32m     65\u001b[0m \u001b[38;5;250m    \u001b[39m\u001b[38;5;124;03m\"\"\"Reads a Google service account JSON file and returns its parsed info.\u001b[39;00m\n\u001b[0;32m     66\u001b[0m \n\u001b[0;32m     67\u001b[0m \u001b[38;5;124;03m    Args:\u001b[39;00m\n\u001b[1;32m   (...)\u001b[0m\n\u001b[0;32m     76\u001b[0m \u001b[38;5;124;03m            info and a signer instance.\u001b[39;00m\n\u001b[0;32m     77\u001b[0m \u001b[38;5;124;03m    \"\"\"\u001b[39;00m\n\u001b[1;32m---> 78\u001b[0m     \u001b[38;5;28;01mwith\u001b[39;00m \u001b[43mio\u001b[49m\u001b[38;5;241;43m.\u001b[39;49m\u001b[43mopen\u001b[49m\u001b[43m(\u001b[49m\u001b[43mfilename\u001b[49m\u001b[43m,\u001b[49m\u001b[43m \u001b[49m\u001b[38;5;124;43m\"\u001b[39;49m\u001b[38;5;124;43mr\u001b[39;49m\u001b[38;5;124;43m\"\u001b[39;49m\u001b[43m,\u001b[49m\u001b[43m \u001b[49m\u001b[43mencoding\u001b[49m\u001b[38;5;241;43m=\u001b[39;49m\u001b[38;5;124;43m\"\u001b[39;49m\u001b[38;5;124;43mutf-8\u001b[39;49m\u001b[38;5;124;43m\"\u001b[39;49m\u001b[43m)\u001b[49m \u001b[38;5;28;01mas\u001b[39;00m json_file:\n\u001b[0;32m     79\u001b[0m         data \u001b[38;5;241m=\u001b[39m json\u001b[38;5;241m.\u001b[39mload(json_file)\n\u001b[0;32m     80\u001b[0m         \u001b[38;5;28;01mreturn\u001b[39;00m data, from_dict(data, require\u001b[38;5;241m=\u001b[39mrequire, use_rsa_signer\u001b[38;5;241m=\u001b[39muse_rsa_signer)\n",
      "\u001b[1;31mFileNotFoundError\u001b[0m: [Errno 2] No such file or directory: 'C:\\\\path\\\\to\\\\your\\\\credentials.json'"
     ]
    }
   ],
   "source": [
    "from google.oauth2 import service_account\n",
    "from google.cloud import bigquery\n",
    "\n",
    "credentials = service_account.Credentials.from_service_account_file('C:\\\\path\\\\to\\\\your\\\\credentials.json')\n",
    "project = 'bigquery-project-id'\n",
    "# Initialize a GC client\n",
    "client = bigquery.Client(credentials=credentials, project=project)"
   ]
  },
  {
   "cell_type": "markdown",
   "id": "92ca027b-8b1d-4235-95a9-d7963d9ed5c1",
   "metadata": {},
   "source": [
    "---\n",
    "## Reference table\n",
    "A large part of `epidemic-intelligence` is the customizable geographical aggregations that occur when you create a visualization. In order to facilitate this, many function will ask for the location of a reference table. This table should contain a set of foreign key relationships between different geographical levels. When functions request something like `output_resolution` as a parameter, they are asking for the name of a column in the reference table. This will always be indicated in the documentation. \n",
    "\n",
    "\n",
    "<img src=\"../images/sample_reference_able.png\" alt=\"Sample Reference Table\" width=\"1400\" style=\"margin:auto;\"/>\n",
    "<center>Sample Reference Table</center>\n",
    "\n",
    "### Uploading a table to BigQuery\n",
    "The recommended way to add your reference table to BigQuery is to upload a CSV, which can be done using [these steps](https://cloud.google.com/bigquery/docs/loading-data-cloud-storage-csv#console) and BigQuery's graphical user interface."
   ]
  },
  {
   "cell_type": "markdown",
   "id": "5c4c384b-b294-43e3-b4e4-aa99e721d602",
   "metadata": {},
   "source": [
    "---\n",
    "## Tips and Tricks\n",
    "- Do not rely on positional arguments. These functions have many optional parameters and they get confusing quickly. Always assign parameters directly."
   ]
  }
 ],
 "metadata": {
  "kernelspec": {
   "display_name": "Python 3 (ipykernel)",
   "language": "python",
   "name": "python3"
  },
  "language_info": {
   "codemirror_mode": {
    "name": "ipython",
    "version": 3
   },
   "file_extension": ".py",
   "mimetype": "text/x-python",
   "name": "python",
   "nbconvert_exporter": "python",
   "pygments_lexer": "ipython3",
   "version": "3.11.9"
  }
 },
 "nbformat": 4,
 "nbformat_minor": 5
}