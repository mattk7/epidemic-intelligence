{
 "cells": [
  {
   "cell_type": "markdown",
   "id": "b7fed2d6-355d-40a2-835d-615ac148ad91",
   "metadata": {},
   "source": [
    "# importation_plots\n",
    "This page contains instructions and documentation for creating Sankey diagrams, relative risk charts, and area plots using importation data. "
   ]
  },
  {
   "cell_type": "markdown",
   "id": "dd6758bf-a28e-4930-b843-592581d3002a",
   "metadata": {},
   "source": [
    "## area_plot\n",
    "Area plots are designed to show a change in comparable values over time; they compare apples to apples. In this example, we use H1N1 predictions from 2010 and show the origin countries for cases travelling from Asia to Europe.\n",
    "\n",
    "<img src=\"../images/sample_area_plot.png\" alt=\"Sample Area Plot\" width=\"1400\" style=\"margin:auto;\"/>"
   ]
  },
  {
   "cell_type": "markdown",
   "id": "065da93d-9bd9-48ca-a609-d99a867436bd",
   "metadata": {},
   "source": [
    "### Parameters\n",
    "`client` (`bigquery.Client`): BigQuery client object.\n",
    "\n",
    "`table_name` (`str`): BigQuery table name containing importation data in 'dataset.table' form. \n",
    "\n",
    "`reference_table` (`str`): BigQuery table name containing reference table in 'dataset.table' form.\n",
    "\n",
    "`source_geo_level` (`str`): The name of a column from the reference table. The geographical level used to determine what sources are included. \n",
    "\n",
    "`target_geo_level` (`str`): The name of a column from the reference table. The geographical level used to determine what targets are included. \n",
    "\n",
    "`source_values` (`str` or `listlike` or `None`, optional): The source(s) to be included. A value or subset of values from the `source_geo_level` column. If None, then all values will be included. Defaults to None. \n",
    "\n",
    "`target_values` (`str` or `listlike` or `None`, optional): The target(s) to be included. A value or subset of values from the `target_geo_level` column. If None, then all values will be included. Default to None. \n",
    "\n",
    "`source_column` (`str`, optional): Name of column in original table containing source identifier. Defaults to 'source_basin'.\n",
    "\n",
    "`target_column` (`str`, optional): Name of column in original table containing target identifier. Defaults to 'target_basin'.\n",
    "\n",
    "`reference_column` (`str`, optional): Name of column in original table containing the geography corresponding to data in `source_column` and `target_column`. Defaults to 'basin_id'. \n",
    "\n",
    "`output_resolution` (`str` or `None`, optional): The name of a column from the reference table. If None, then `target_geo_level` will be used. Desired geographical resolution for area plot. Defaults to None. \n",
    "\n",
    "`domestic` (`bool`, optional): Whether or not domestic cases will be included. Defaults to True. *Note: can produce unexpected results.*\n",
    "\n",
    "`cutoff` (`float`, optional): From 0 to 1, inclusive. All sources or targets that contribute below this percentage of cases will be grouped into an 'Other' category. Set to 0 for no 'Other' category. Defaults to 0.05. \n",
    "\n",
    "`value` (`str`, optional): Name of column in the original table containing the importation value to be analyzed. Defaults to 'importations'.\n",
    "\n",
    "`display` (`str`, optional): Whether the source or target of the importations will be visualized. Defaults to 'source'. \n",
    "\n",
    "---\n",
    "### Returns\n",
    "`fig` (`plotly.graph_objects.Figure`): Plotly Figure containing visualization. \n",
    "\n",
    "---"
   ]
  },
  {
   "cell_type": "markdown",
   "id": "492520ec-3fb2-46ab-aaa6-e8428ab4acad",
   "metadata": {},
   "source": [
    "## sankey\n",
    "Sankey diagrams are designed to show the relative volume of flow from sources to targets. In this example, we use H1N1 predictions from 2010 and show the origin and destination countries for cases travelling from Asia to Europe. \n",
    "\n",
    "<img src=\"../images/sample_sankey_plot.png\" alt=\"Sample Sankey Plot\" width=\"400\" style=\"margin:auto;\"/>"
   ]
  },
  {
   "cell_type": "markdown",
   "id": "9e2c9e2e-2dd4-47e5-a1ce-91c1bb619808",
   "metadata": {},
   "source": [
    "### Parameters\n",
    "`client` (`bigquery.Client`): BigQuery client object.\n",
    "\n",
    "`table_name` (`str`): BigQuery table name containing importation data in 'dataset.table' form. \n",
    "\n",
    "`reference_table` (`str`): BigQuery table name containing reference table in 'dataset.table' form.\n",
    "\n",
    "`date_range` (`list of str`): Start and end date, inclusive. Dates should be formatted as they are in your original table. \n",
    "\n",
    "`source_geo_level` (`str`): The name of a column from the reference table. The geographical level used to determine what sources are included. \n",
    "\n",
    "`target_geo_level` (`str`): The name of a column from the reference table. The geographical level used to determine what targets are included. \n",
    "\n",
    "`source_values` (`str` or `listlike` or `None`, optional): The source(s) to be included. A value or subset of values from the `source_geo_level` column. If None, then all values will be included. Defaults to None. \n",
    "\n",
    "`target_values` (`str` or `listlike` or `None`, optional): The target(s) to be included. A value or subset of values from the `target_geo_level` column. If None, then all values will be included. Default to None. \n",
    "\n",
    "`source_column` (`str`, optional): Name of column in original table containing source identifier. Defaults to 'source_basin'.\n",
    "\n",
    "`target_column` (`str`, optional): Name of column in original table containing target identifier. Defaults to 'target_basin'.\n",
    "\n",
    "`reference_column` (`str`, optional): Name of column in original table containing the geography corresponding to data in `source_column` and `target_column`. Defaults to 'basin_id'. \n",
    "\n",
    "`source_resolution` (`str` or `None`, optional): The name of a column from the reference table. Desired geographical resolution for source nodes. If None, then `source_geo_level` will be used. Defaults to None. \n",
    "\n",
    "`target_resolution` (`str` or `None`, optional): The name of a column from the reference table. Desired geographical resolution for target nodes. If None, then `target_geo_level` will be used. Defaults to None. \n",
    "\n",
    "`domestic` (`bool`, optional): Whether or not domestic cases will be included. Defaults to True. *Note: can produce unexpected results.*\n",
    "\n",
    "`cutoff` (`float`, optional): From 0 to 1, inclusive. All sources or targets that contribute below this percentage of cases will be grouped into an 'Other' category. Set to 0 for no 'Other' category. Defaults to 0.05. \n",
    "\n",
    "`n_sources` (`int`, optional): The maximum number of source nodes in the sankey. Only this number of sources minus one will show, the rest will be aggregated into 'Other' regardless of `cutoff`. Must be a positive integer. \n",
    "\n",
    "`n_targets` (`int`, optional): The maximum number of target nodes in the sankey. Only this number of targets minus one will show, the rest will be aggregated into 'Other' regardless of `cutoff`. Must be a positive integer. \n",
    "\n",
    "`value` (`str`, optional): Name of column in the original table containing the importation value to be analyzed. Defaults to 'importations'.\n",
    "\n",
    "---\n",
    "### Returns\n",
    "`fig` (`plotly.graph_objects.Figure`): Plotly Figure containing visualization. \n",
    "\n",
    "---"
   ]
  },
  {
   "cell_type": "markdown",
   "id": "afb6cd5a-0c07-429c-88e8-df657807fe4c",
   "metadata": {},
   "source": [
    "## relative_risk\n",
    "Sankey diagrams are designed to show a the relative volume of flow from sources to targets. \n",
    "\n",
    "<img src=\"../images/sample_rr_plot.png\" alt=\"Sample Relative Risk Plot\" width=\"600\" style=\"margin:auto;\"/>"
   ]
  },
  {
   "cell_type": "markdown",
   "id": "48345b74-f7f5-4d2e-a1e5-d3912fb429c2",
   "metadata": {},
   "source": [
    "### Parameters\n",
    "`client` (`bigquery.Client`): BigQuery client object.\n",
    "\n",
    "`table_name` (`str`): BigQuery table name containing importation data in 'dataset.table' form. \n",
    "\n",
    "`reference_table` (`str`): BigQuery table name containing reference table in 'dataset.table' form.\n",
    "\n",
    "`date_range` (`list of str`): Start and end date, inclusive. Dates should be formatted as they are in your original table. \n",
    "\n",
    "`source_geo_level` (`str`): The name of a column from the reference table. The geographical level used to determine what sources are included. \n",
    "\n",
    "`target_geo_level` (`str`): The name of a column from the reference table. The geographical level used to determine what targets are included. \n",
    "\n",
    "`source_values` (`str` or `listlike` or `None`, optional): The source(s) to be included. A value or subset of values from the `source_geo_level` column. If None, then all values will be included. Defaults to None. \n",
    "\n",
    "`target_values` (`str` or `listlike` or `None`, optional): The target(s) to be included. A value or subset of values from the `target_geo_level` column. If None, then all values will be included. Default to None. \n",
    "\n",
    "`source_column` (`str`, optional): Name of column in original table containing source identifier. Defaults to 'source_basin'.\n",
    "\n",
    "`target_column` (`str`, optional): Name of column in original table containing target identifier. Defaults to 'target_basin'.\n",
    "\n",
    "`reference_column` (`str`, optional): Name of column in original table containing the geography corresponding to data in `source_column` and `target_column`. Defaults to 'basin_id'. \n",
    "\n",
    "output resolution\n",
    "\n",
    "`domestic` (`bool`, optional): Whether or not domestic cases will be included. Defaults to True. *Note: can produce unexpected results.*\n",
    "\n",
    "`cutoff` (`float`, optional): From 0 to 1, inclusive. All sources or targets that contribute below this percentage of cases will be grouped into an 'Other' category. Set to 0 for no 'Other' category. Defaults to 0.05. \n",
    "\n",
    "`n` (`int`, optional): The maximum number of bars in the relative risk chart. Only this number of targets minus one will show, the rest will be aggregated into 'Other' regardless of `cutoff`. Must be a positive integer. \n",
    "\n",
    "`value` (`str`, optional): Name of column in the original table containing the importation value to be analyzed. Defaults to 'importations'.\n",
    "\n",
    "---\n",
    "### Returns\n",
    "`fig` (`plotly.graph_objects.Figure`): Plotly Figure containing visualization. \n",
    "\n",
    "---"
   ]
  },
  {
   "cell_type": "markdown",
   "id": "f46c6f7a-fa3e-47b5-be3f-ca7f8795d289",
   "metadata": {},
   "source": [
    "## Fetching data from importation plots\n",
    "`epidemic_intelligence.importation_plots` offers functions for extracting the data from importation plots to a pandas dataframe. These functions have one parameter `fig`, which is the plotly Figure generated by the graphing functions. "
   ]
  },
  {
   "cell_type": "markdown",
   "id": "bdf2da51-cdf5-42d9-a7de-ae3bed537f3e",
   "metadata": {},
   "source": [
    "---\n",
    "\n",
    "### fetch_area_plot_data\n",
    "\n",
    "#### Parameters\n",
    "`fig` (`plotly.graph_objects.Figure`): Figure objected returned by `area_plot`. \n",
    "\n",
    "#### Returns\n",
    "`df` (`pandas.DataFrame`): pandas dataframe containing data. \n",
    "\n",
    "---\n",
    "\n",
    "### fetch_sankey_data\n",
    "\n",
    "#### Parameters\n",
    "`fig` (`plotly.graph_objects.Figure`): Figure objected returned by `sankey`. \n",
    "\n",
    "#### Returns\n",
    "`df` (`pandas.DataFrame`): pandas dataframe containing data. \n",
    "\n",
    "---\n",
    "\n",
    "### fetch_relative_risk_data\n",
    "\n",
    "#### Parameters\n",
    "`fig` (`plotly.graph_objects.Figure`): Figure objected returned by `relative_risk`. \n",
    "\n",
    "#### Returns\n",
    "`df` (`pandas.DataFrame`): pandas dataframe containing data. "
   ]
  }
 ],
 "metadata": {
  "kernelspec": {
   "display_name": "Python 3 (ipykernel)",
   "language": "python",
   "name": "python3"
  },
  "language_info": {
   "codemirror_mode": {
    "name": "ipython",
    "version": 3
   },
   "file_extension": ".py",
   "mimetype": "text/x-python",
   "name": "python",
   "nbconvert_exporter": "python",
   "pygments_lexer": "ipython3",
   "version": "3.11.9"
  }
 },
 "nbformat": 4,
 "nbformat_minor": 5
}